{
 "cells": [
  {
   "cell_type": "code",
   "execution_count": 0,
   "metadata": {
    "application/vnd.databricks.v1+cell": {
     "cellMetadata": {
      "byteLimit": 2048000,
      "rowLimit": 10000
     },
     "inputWidgets": {},
     "nuid": "3cae2e0b-0bf1-4a41-a239-f39fc09ead78",
     "showTitle": false,
     "title": ""
    }
   },
   "outputs": [],
   "source": [
    "# Load Kafka messages (CDC data) into the Bronze layer\n",
    "bronze_df = spark.read.json(\"/FileStore/tables/kafka_messages_checking_account.json\")  # Adjust path as per your DBFS setup\n",
    "\n",
    "# Save the raw CDC data to Bronze layer\n",
    "bronze_df.write.format(\"delta\").mode(\"overwrite\").save(\"/mnt/bronze/checking_account_cdc\")\n"
   ]
  },
  {
   "cell_type": "code",
   "execution_count": 0,
   "metadata": {
    "application/vnd.databricks.v1+cell": {
     "cellMetadata": {
      "byteLimit": 2048000,
      "rowLimit": 10000
     },
     "inputWidgets": {},
     "nuid": "cf23e087-3ccc-4ef4-9a46-8124e9eb0da0",
     "showTitle": false,
     "title": ""
    }
   },
   "outputs": [],
   "source": [
    "from pyspark.sql.window import Window\n",
    "from pyspark.sql.functions import col, row_number\n",
    "\n",
    "# Load the raw CDC data from the Bronze layer\n",
    "bronze_df = spark.read.format(\"delta\").load(\"/mnt/bronze/checking_account_cdc\")\n",
    "\n",
    "# Flatten the data to extract relevant fields (handling 'after' for create/update events)\n",
    "flattened_df = bronze_df.select(\n",
    "    \"payload.after.customer_id\",\n",
    "    \"payload.after.scheduled_payment\",\n",
    "    \"payload.after.txn_amount\",\n",
    "    \"payload.after.debit_or_credit\",\n",
    "    \"payload.after.updt_ts\",\n",
    "    \"payload.after.initial_balance\"\n",
    ")\n",
    "\n",
    "# Deduplicate based on customer_id and updt_ts (retain latest records)\n",
    "window_spec = Window.partitionBy(\"customer_id\", \"updt_ts\").orderBy(col(\"updt_ts\").desc())\n",
    "deduplicated_df = flattened_df.withColumn(\"row_num\", row_number().over(window_spec)).filter(col(\"row_num\") == 1).drop(\"row_num\").dropna()\n",
    "\n",
    "# Save the deduplicated data to Silver layer\n",
    "deduplicated_df.write.format(\"delta\").mode(\"overwrite\").save(\"/mnt/silver/checking_account_consolidated\")\n"
   ]
  },
  {
   "cell_type": "code",
   "execution_count": 0,
   "metadata": {
    "application/vnd.databricks.v1+cell": {
     "cellMetadata": {
      "byteLimit": 2048000,
      "rowLimit": 10000
     },
     "inputWidgets": {},
     "nuid": "075e7d07-499c-4099-be56-5431c496016d",
     "showTitle": false,
     "title": ""
    }
   },
   "outputs": [
    {
     "output_type": "display_data",
     "data": {
      "text/html": [
       "<style scoped>\n",
       "  .table-result-container {\n",
       "    max-height: 300px;\n",
       "    overflow: auto;\n",
       "  }\n",
       "  table, th, td {\n",
       "    border: 1px solid black;\n",
       "    border-collapse: collapse;\n",
       "  }\n",
       "  th, td {\n",
       "    padding: 5px;\n",
       "  }\n",
       "  th {\n",
       "    text-align: left;\n",
       "  }\n",
       "</style><div class='table-result-container'><table class='table-result'><thead style='background-color: white'><tr><th>customer_id</th><th>scheduled_payment</th><th>txn_amount</th><th>debit_or_credit</th><th>updt_ts</th><th>initial_balance</th></tr></thead><tbody><tr><td>1</td><td>901</td><td>817</td><td>1</td><td>2021-10-31 02:37:40</td><td>33873</td></tr><tr><td>2</td><td>8836</td><td>3642</td><td>0</td><td>2021-01-20 06:50:33</td><td>41092</td></tr><tr><td>2</td><td>4242</td><td>7806</td><td>0</td><td>2021-05-06 10:46:17</td><td>21093</td></tr><tr><td>2</td><td>4068</td><td>6796</td><td>0</td><td>2022-03-17 13:15:31</td><td>18719</td></tr><tr><td>2</td><td>6766</td><td>8790</td><td>1</td><td>2022-07-07 04:11:23</td><td>7163</td></tr><tr><td>3</td><td>159</td><td>1898</td><td>1</td><td>2021-01-07 17:03:03</td><td>5189</td></tr><tr><td>5</td><td>816</td><td>659</td><td>0</td><td>2020-04-03 12:22:52</td><td>4481</td></tr><tr><td>6</td><td>1543</td><td>6141</td><td>1</td><td>2020-02-01 08:32:51</td><td>30243</td></tr><tr><td>6</td><td>8641</td><td>2968</td><td>1</td><td>2021-03-30 17:05:39</td><td>48237</td></tr><tr><td>6</td><td>2587</td><td>2981</td><td>0</td><td>2021-11-23 14:31:54</td><td>33987</td></tr><tr><td>6</td><td>5891</td><td>1241</td><td>0</td><td>2022-02-03 16:36:25</td><td>19714</td></tr><tr><td>6</td><td>2416</td><td>9332</td><td>0</td><td>2022-09-22 07:13:15</td><td>22672</td></tr><tr><td>7</td><td>2677</td><td>9968</td><td>1</td><td>2021-06-05 04:25:56</td><td>16685</td></tr><tr><td>9</td><td>4432</td><td>9283</td><td>1</td><td>2022-02-06 03:08:42</td><td>27062</td></tr><tr><td>9</td><td>9806</td><td>1343</td><td>0</td><td>2022-04-02 10:43:46</td><td>30029</td></tr><tr><td>9</td><td>4444</td><td>1840</td><td>0</td><td>2022-11-22 16:35:02</td><td>5518</td></tr><tr><td>10</td><td>4045</td><td>6601</td><td>1</td><td>2022-03-25 19:10:07</td><td>34327</td></tr><tr><td>11</td><td>2462</td><td>5995</td><td>1</td><td>2020-03-29 20:17:01</td><td>24672</td></tr><tr><td>11</td><td>5612</td><td>8693</td><td>0</td><td>2021-02-02 01:35:34</td><td>40028</td></tr><tr><td>11</td><td>1214</td><td>6734</td><td>1</td><td>2022-10-17 20:24:01</td><td>38290</td></tr><tr><td>12</td><td>4301</td><td>4850</td><td>1</td><td>2020-03-10 09:32:44</td><td>49350</td></tr><tr><td>13</td><td>3898</td><td>2309</td><td>1</td><td>2021-03-10 09:30:41</td><td>46773</td></tr><tr><td>14</td><td>9203</td><td>8588</td><td>0</td><td>2021-01-03 17:04:11</td><td>42398</td></tr><tr><td>15</td><td>6768</td><td>7845</td><td>0</td><td>2020-10-27 22:23:36</td><td>3552</td></tr><tr><td>16</td><td>7231</td><td>9314</td><td>1</td><td>2021-01-09 23:15:49</td><td>13289</td></tr><tr><td>17</td><td>2917</td><td>5740</td><td>1</td><td>2020-01-28 17:13:00</td><td>38901</td></tr><tr><td>17</td><td>8605</td><td>1989</td><td>1</td><td>2020-03-19 22:31:51</td><td>30661</td></tr><tr><td>17</td><td>844</td><td>6132</td><td>1</td><td>2021-02-03 05:00:44</td><td>28599</td></tr><tr><td>18</td><td>9670</td><td>8591</td><td>0</td><td>2020-08-22 18:06:20</td><td>46209</td></tr><tr><td>18</td><td>4150</td><td>8125</td><td>1</td><td>2022-01-28 17:25:30</td><td>48211</td></tr><tr><td>19</td><td>1924</td><td>4671</td><td>1</td><td>2020-09-03 12:02:10</td><td>40837</td></tr><tr><td>19</td><td>3255</td><td>6285</td><td>1</td><td>2021-05-08 12:00:37</td><td>2401</td></tr><tr><td>19</td><td>5055</td><td>326</td><td>1</td><td>2021-06-22 06:50:11</td><td>48539</td></tr><tr><td>19</td><td>7493</td><td>732</td><td>1</td><td>2022-04-21 07:37:29</td><td>5028</td></tr><tr><td>19</td><td>8195</td><td>184</td><td>1</td><td>2022-09-29 03:10:08</td><td>43329</td></tr><tr><td>20</td><td>3406</td><td>2401</td><td>0</td><td>2020-12-29 13:29:18</td><td>32721</td></tr><tr><td>20</td><td>2422</td><td>2844</td><td>1</td><td>2022-04-25 08:04:25</td><td>11656</td></tr><tr><td>21</td><td>86</td><td>5120</td><td>0</td><td>2021-03-06 20:48:06</td><td>36693</td></tr><tr><td>23</td><td>8449</td><td>2403</td><td>1</td><td>2022-10-27 04:38:07</td><td>5443</td></tr><tr><td>23</td><td>2107</td><td>2780</td><td>1</td><td>2022-11-01 18:49:01</td><td>48441</td></tr><tr><td>24</td><td>2384</td><td>3276</td><td>1</td><td>2020-03-29 14:58:04</td><td>45898</td></tr><tr><td>24</td><td>8328</td><td>6754</td><td>1</td><td>2021-07-21 14:33:35</td><td>37101</td></tr><tr><td>25</td><td>9060</td><td>9579</td><td>1</td><td>2020-05-25 15:40:13</td><td>37971</td></tr><tr><td>25</td><td>9083</td><td>1706</td><td>1</td><td>2020-09-12 21:30:29</td><td>12029</td></tr><tr><td>25</td><td>1036</td><td>8513</td><td>1</td><td>2021-04-17 02:26:34</td><td>27726</td></tr><tr><td>26</td><td>5568</td><td>2766</td><td>0</td><td>2021-03-31 22:20:48</td><td>37099</td></tr><tr><td>27</td><td>999</td><td>142</td><td>0</td><td>2021-12-14 06:55:00</td><td>41235</td></tr><tr><td>27</td><td>6766</td><td>7098</td><td>1</td><td>2022-02-21 20:09:15</td><td>46635</td></tr><tr><td>27</td><td>3813</td><td>8364</td><td>1</td><td>2022-05-21 11:18:46</td><td>48521</td></tr><tr><td>28</td><td>8220</td><td>1426</td><td>0</td><td>2020-09-22 00:06:21</td><td>42096</td></tr><tr><td>28</td><td>2529</td><td>5016</td><td>0</td><td>2020-09-24 03:03:26</td><td>24907</td></tr><tr><td>29</td><td>2702</td><td>2514</td><td>1</td><td>2022-04-18 20:51:05</td><td>19117</td></tr><tr><td>29</td><td>7829</td><td>6494</td><td>1</td><td>2022-11-11 00:07:03</td><td>27646</td></tr><tr><td>29</td><td>549</td><td>3495</td><td>1</td><td>2022-11-15 00:52:44</td><td>16492</td></tr><tr><td>30</td><td>6671</td><td>2859</td><td>0</td><td>2021-09-23 05:50:01</td><td>29877</td></tr><tr><td>30</td><td>7218</td><td>2109</td><td>0</td><td>2022-03-27 09:49:31</td><td>17548</td></tr><tr><td>30</td><td>7335</td><td>7048</td><td>0</td><td>2022-12-26 08:09:43</td><td>20405</td></tr><tr><td>31</td><td>9883</td><td>8246</td><td>0</td><td>2020-03-04 14:24:54</td><td>14652</td></tr><tr><td>31</td><td>5672</td><td>9880</td><td>0</td><td>2021-02-12 15:25:13</td><td>18604</td></tr><tr><td>31</td><td>8157</td><td>4950</td><td>0</td><td>2021-03-13 00:39:51</td><td>7761</td></tr><tr><td>31</td><td>6245</td><td>1467</td><td>0</td><td>2021-11-27 23:35:55</td><td>29835</td></tr><tr><td>31</td><td>4802</td><td>4817</td><td>1</td><td>2022-01-25 03:46:24</td><td>32117</td></tr><tr><td>31</td><td>1319</td><td>4894</td><td>0</td><td>2022-03-31 14:03:50</td><td>28389</td></tr><tr><td>32</td><td>3937</td><td>927</td><td>1</td><td>2020-03-19 20:25:58</td><td>2726</td></tr><tr><td>32</td><td>1444</td><td>6340</td><td>1</td><td>2021-04-30 15:58:51</td><td>9035</td></tr><tr><td>34</td><td>7932</td><td>8173</td><td>1</td><td>2022-05-21 05:10:25</td><td>29344</td></tr><tr><td>36</td><td>6058</td><td>8450</td><td>0</td><td>2020-08-10 02:44:18</td><td>26172</td></tr><tr><td>37</td><td>8308</td><td>4761</td><td>0</td><td>2020-08-13 14:35:13</td><td>38845</td></tr><tr><td>39</td><td>432</td><td>5833</td><td>0</td><td>2022-04-23 12:15:52</td><td>9266</td></tr><tr><td>41</td><td>5034</td><td>995</td><td>1</td><td>2020-03-24 21:46:40</td><td>1949</td></tr><tr><td>43</td><td>7096</td><td>9448</td><td>1</td><td>2021-11-04 10:35:28</td><td>22209</td></tr><tr><td>43</td><td>2376</td><td>2843</td><td>0</td><td>2021-11-13 12:44:55</td><td>4316</td></tr><tr><td>44</td><td>6274</td><td>4362</td><td>1</td><td>2020-02-07 01:45:12</td><td>17490</td></tr><tr><td>45</td><td>707</td><td>8155</td><td>1</td><td>2021-06-01 11:15:13</td><td>34217</td></tr><tr><td>45</td><td>3912</td><td>9627</td><td>1</td><td>2022-05-07 03:05:16</td><td>15492</td></tr><tr><td>47</td><td>9064</td><td>6738</td><td>1</td><td>2022-04-17 19:15:52</td><td>2341</td></tr><tr><td>47</td><td>7496</td><td>1315</td><td>0</td><td>2022-12-04 07:24:10</td><td>12172</td></tr><tr><td>48</td><td>2365</td><td>6865</td><td>1</td><td>2020-07-13 09:05:31</td><td>43714</td></tr><tr><td>48</td><td>6006</td><td>7189</td><td>1</td><td>2020-09-13 03:40:43</td><td>7320</td></tr><tr><td>48</td><td>8684</td><td>9933</td><td>1</td><td>2021-06-03 12:48:54</td><td>23832</td></tr><tr><td>49</td><td>5213</td><td>7708</td><td>1</td><td>2020-01-28 07:58:53</td><td>1014</td></tr><tr><td>49</td><td>5674</td><td>5811</td><td>0</td><td>2020-05-07 09:59:51</td><td>10597</td></tr><tr><td>49</td><td>6286</td><td>6506</td><td>0</td><td>2020-06-01 13:20:57</td><td>3997</td></tr><tr><td>49</td><td>3152</td><td>7720</td><td>1</td><td>2021-02-24 11:46:27</td><td>42239</td></tr><tr><td>50</td><td>6193</td><td>4771</td><td>1</td><td>2020-02-15 15:20:22</td><td>37207</td></tr><tr><td>50</td><td>4209</td><td>3030</td><td>1</td><td>2020-09-03 11:40:39</td><td>26548</td></tr><tr><td>50</td><td>2844</td><td>8289</td><td>1</td><td>2020-10-18 15:10:09</td><td>4143</td></tr><tr><td>50</td><td>6988</td><td>3994</td><td>0</td><td>2020-12-14 07:57:33</td><td>8924</td></tr><tr><td>51</td><td>6438</td><td>1694</td><td>1</td><td>2020-11-27 02:34:01</td><td>44112</td></tr><tr><td>53</td><td>6065</td><td>6170</td><td>0</td><td>2020-06-01 07:29:27</td><td>6154</td></tr><tr><td>54</td><td>8475</td><td>3833</td><td>0</td><td>2020-04-14 02:21:11</td><td>39806</td></tr><tr><td>54</td><td>5048</td><td>9890</td><td>1</td><td>2020-11-04 23:59:10</td><td>12116</td></tr><tr><td>55</td><td>7075</td><td>8519</td><td>1</td><td>2020-01-01 08:14:50</td><td>13002</td></tr><tr><td>55</td><td>600</td><td>7203</td><td>0</td><td>2022-11-19 07:27:49</td><td>33018</td></tr><tr><td>56</td><td>1761</td><td>4813</td><td>1</td><td>2020-02-27 18:48:27</td><td>34990</td></tr><tr><td>57</td><td>5960</td><td>9908</td><td>0</td><td>2020-05-10 23:57:38</td><td>1580</td></tr><tr><td>57</td><td>2744</td><td>6503</td><td>0</td><td>2021-09-09 06:05:26</td><td>41662</td></tr><tr><td>57</td><td>888</td><td>7369</td><td>0</td><td>2022-11-03 11:22:05</td><td>49306</td></tr><tr><td>58</td><td>4209</td><td>8236</td><td>0</td><td>2020-06-15 01:01:21</td><td>16512</td></tr><tr><td>58</td><td>5420</td><td>6282</td><td>1</td><td>2022-03-10 12:39:12</td><td>44266</td></tr><tr><td>59</td><td>7853</td><td>8228</td><td>1</td><td>2022-07-25 13:09:29</td><td>28109</td></tr><tr><td>59</td><td>1477</td><td>8793</td><td>0</td><td>2022-11-26 23:24:35</td><td>33203</td></tr><tr><td>60</td><td>2668</td><td>5994</td><td>0</td><td>2020-01-20 06:22:56</td><td>37496</td></tr><tr><td>60</td><td>435</td><td>5075</td><td>0</td><td>2020-09-12 18:02:21</td><td>28694</td></tr><tr><td>61</td><td>7623</td><td>5524</td><td>1</td><td>2021-08-13 02:44:57</td><td>42845</td></tr><tr><td>61</td><td>4452</td><td>2161</td><td>1</td><td>2022-02-03 21:33:22</td><td>41764</td></tr><tr><td>61</td><td>8832</td><td>7905</td><td>0</td><td>2022-03-24 21:40:00</td><td>46081</td></tr><tr><td>61</td><td>8385</td><td>2638</td><td>0</td><td>2022-11-16 01:41:44</td><td>27232</td></tr><tr><td>62</td><td>2645</td><td>5252</td><td>1</td><td>2021-01-25 09:46:09</td><td>4816</td></tr><tr><td>62</td><td>5996</td><td>3915</td><td>1</td><td>2021-01-27 12:05:52</td><td>17385</td></tr><tr><td>62</td><td>8</td><td>6482</td><td>1</td><td>2022-02-16 05:19:16</td><td>30239</td></tr><tr><td>62</td><td>1488</td><td>3955</td><td>1</td><td>2022-12-16 08:57:45</td><td>6545</td></tr><tr><td>63</td><td>564</td><td>6063</td><td>0</td><td>2020-06-07 09:12:16</td><td>29266</td></tr><tr><td>63</td><td>7564</td><td>1555</td><td>0</td><td>2022-12-30 04:02:31</td><td>44579</td></tr><tr><td>64</td><td>3612</td><td>8308</td><td>1</td><td>2020-11-18 18:18:55</td><td>43477</td></tr><tr><td>64</td><td>9582</td><td>7955</td><td>1</td><td>2021-06-15 20:35:16</td><td>36734</td></tr><tr><td>65</td><td>3037</td><td>1745</td><td>0</td><td>2022-01-25 09:26:43</td><td>45706</td></tr><tr><td>65</td><td>8385</td><td>9605</td><td>0</td><td>2022-09-30 14:23:26</td><td>28981</td></tr><tr><td>66</td><td>2021</td><td>7037</td><td>1</td><td>2021-04-11 10:14:12</td><td>31512</td></tr><tr><td>66</td><td>9863</td><td>5176</td><td>1</td><td>2021-06-22 21:21:39</td><td>7911</td></tr><tr><td>66</td><td>3156</td><td>6871</td><td>0</td><td>2021-07-06 11:25:49</td><td>20885</td></tr><tr><td>67</td><td>2444</td><td>2627</td><td>0</td><td>2021-09-15 09:26:05</td><td>47962</td></tr><tr><td>68</td><td>9400</td><td>1329</td><td>1</td><td>2020-02-25 11:54:40</td><td>18762</td></tr><tr><td>68</td><td>4995</td><td>1970</td><td>0</td><td>2021-01-22 03:09:18</td><td>10485</td></tr><tr><td>68</td><td>4398</td><td>8435</td><td>0</td><td>2022-07-02 21:45:30</td><td>27314</td></tr><tr><td>69</td><td>3197</td><td>110</td><td>1</td><td>2020-05-22 09:09:31</td><td>19505</td></tr><tr><td>69</td><td>6917</td><td>8272</td><td>0</td><td>2021-07-02 11:51:39</td><td>8144</td></tr><tr><td>70</td><td>9031</td><td>8176</td><td>1</td><td>2020-02-14 06:21:11</td><td>18273</td></tr><tr><td>70</td><td>6072</td><td>7539</td><td>0</td><td>2020-02-23 03:53:07</td><td>37112</td></tr><tr><td>70</td><td>5983</td><td>4099</td><td>0</td><td>2021-02-08 22:07:53</td><td>5117</td></tr><tr><td>71</td><td>8395</td><td>2167</td><td>1</td><td>2022-03-03 11:07:44</td><td>31557</td></tr><tr><td>72</td><td>1886</td><td>583</td><td>0</td><td>2020-12-31 09:20:04</td><td>1389</td></tr><tr><td>72</td><td>316</td><td>3487</td><td>0</td><td>2021-04-14 22:09:13</td><td>23877</td></tr><tr><td>72</td><td>8151</td><td>7584</td><td>0</td><td>2022-08-25 00:04:17</td><td>32644</td></tr><tr><td>75</td><td>7355</td><td>560</td><td>0</td><td>2021-09-28 08:47:34</td><td>7121</td></tr><tr><td>75</td><td>7138</td><td>4348</td><td>1</td><td>2021-12-01 04:38:13</td><td>41612</td></tr><tr><td>77</td><td>1285</td><td>2574</td><td>1</td><td>2020-06-30 03:15:17</td><td>15362</td></tr><tr><td>77</td><td>1475</td><td>8430</td><td>0</td><td>2021-04-19 19:39:33</td><td>20338</td></tr><tr><td>77</td><td>6933</td><td>3128</td><td>1</td><td>2022-01-25 05:01:38</td><td>3780</td></tr><tr><td>77</td><td>6200</td><td>1534</td><td>0</td><td>2022-02-16 21:03:09</td><td>22654</td></tr><tr><td>78</td><td>24</td><td>4538</td><td>1</td><td>2020-10-01 14:28:50</td><td>1214</td></tr><tr><td>78</td><td>1290</td><td>6901</td><td>0</td><td>2022-08-24 21:22:12</td><td>26619</td></tr><tr><td>79</td><td>2961</td><td>8369</td><td>0</td><td>2022-03-20 14:10:49</td><td>21744</td></tr><tr><td>80</td><td>7818</td><td>7456</td><td>1</td><td>2020-02-29 18:25:18</td><td>10367</td></tr><tr><td>81</td><td>630</td><td>5080</td><td>0</td><td>2021-08-05 13:04:25</td><td>35400</td></tr><tr><td>82</td><td>1793</td><td>3123</td><td>0</td><td>2020-04-10 03:27:53</td><td>49356</td></tr><tr><td>82</td><td>7291</td><td>4991</td><td>1</td><td>2020-06-26 14:36:51</td><td>9396</td></tr><tr><td>82</td><td>9688</td><td>376</td><td>1</td><td>2022-01-20 01:13:17</td><td>26642</td></tr><tr><td>82</td><td>6544</td><td>9613</td><td>0</td><td>2022-09-30 22:52:46</td><td>37606</td></tr><tr><td>84</td><td>9395</td><td>5244</td><td>1</td><td>2020-05-23 03:50:47</td><td>18071</td></tr><tr><td>85</td><td>1935</td><td>713</td><td>0</td><td>2020-09-15 03:10:06</td><td>29395</td></tr><tr><td>85</td><td>9634</td><td>7614</td><td>1</td><td>2020-11-01 16:43:49</td><td>27622</td></tr><tr><td>87</td><td>7480</td><td>5736</td><td>0</td><td>2020-10-02 21:53:49</td><td>22128</td></tr><tr><td>87</td><td>206</td><td>3656</td><td>1</td><td>2021-03-05 11:49:42</td><td>40691</td></tr><tr><td>87</td><td>4318</td><td>7123</td><td>1</td><td>2022-03-16 22:43:00</td><td>35922</td></tr><tr><td>88</td><td>6970</td><td>3704</td><td>0</td><td>2020-07-12 10:42:24</td><td>32721</td></tr><tr><td>88</td><td>5574</td><td>4299</td><td>1</td><td>2022-02-26 05:33:48</td><td>11089</td></tr><tr><td>88</td><td>1502</td><td>118</td><td>1</td><td>2022-10-22 12:30:13</td><td>11920</td></tr><tr><td>89</td><td>954</td><td>7667</td><td>1</td><td>2020-11-21 13:44:26</td><td>26256</td></tr><tr><td>89</td><td>6663</td><td>517</td><td>0</td><td>2021-02-19 16:04:00</td><td>34976</td></tr><tr><td>90</td><td>7352</td><td>4946</td><td>1</td><td>2022-04-20 13:25:28</td><td>47449</td></tr><tr><td>91</td><td>6669</td><td>678</td><td>1</td><td>2020-01-13 11:27:17</td><td>7316</td></tr><tr><td>91</td><td>8384</td><td>7734</td><td>1</td><td>2021-10-14 05:51:23</td><td>20255</td></tr><tr><td>91</td><td>344</td><td>7104</td><td>0</td><td>2022-04-05 16:54:48</td><td>21058</td></tr><tr><td>92</td><td>1246</td><td>9750</td><td>0</td><td>2021-07-05 19:56:12</td><td>12619</td></tr><tr><td>92</td><td>3913</td><td>6779</td><td>0</td><td>2022-03-14 14:52:06</td><td>40578</td></tr><tr><td>93</td><td>6691</td><td>3042</td><td>0</td><td>2020-05-10 17:22:27</td><td>15050</td></tr><tr><td>93</td><td>6115</td><td>1438</td><td>1</td><td>2020-12-19 17:20:05</td><td>31225</td></tr><tr><td>94</td><td>5223</td><td>3925</td><td>1</td><td>2022-08-02 04:05:49</td><td>7936</td></tr><tr><td>94</td><td>8971</td><td>4330</td><td>0</td><td>2022-09-11 14:49:34</td><td>47167</td></tr><tr><td>95</td><td>4485</td><td>5439</td><td>0</td><td>2021-10-23 19:27:09</td><td>10801</td></tr><tr><td>96</td><td>4529</td><td>6566</td><td>0</td><td>2021-01-02 04:56:31</td><td>48961</td></tr><tr><td>96</td><td>9684</td><td>9172</td><td>1</td><td>2021-03-31 23:59:34</td><td>27042</td></tr><tr><td>96</td><td>167</td><td>2008</td><td>0</td><td>2022-04-13 05:04:14</td><td>13749</td></tr><tr><td>96</td><td>1906</td><td>3912</td><td>1</td><td>2022-09-06 05:06:29</td><td>28072</td></tr><tr><td>96</td><td>2462</td><td>9143</td><td>1</td><td>2022-09-23 13:21:22</td><td>2445</td></tr><tr><td>97</td><td>5617</td><td>5353</td><td>0</td><td>2021-11-02 08:33:50</td><td>13690</td></tr><tr><td>98</td><td>5578</td><td>4724</td><td>1</td><td>2020-06-04 04:08:59</td><td>35612</td></tr><tr><td>98</td><td>3724</td><td>2880</td><td>0</td><td>2020-12-11 01:03:22</td><td>48179</td></tr><tr><td>98</td><td>5601</td><td>9994</td><td>1</td><td>2021-01-03 10:54:44</td><td>26668</td></tr><tr><td>101</td><td>5078</td><td>2071</td><td>1</td><td>2021-11-22 03:29:48</td><td>21604</td></tr><tr><td>102</td><td>670</td><td>5719</td><td>0</td><td>2020-03-11 22:20:28</td><td>19745</td></tr><tr><td>102</td><td>3321</td><td>7741</td><td>1</td><td>2021-01-26 05:01:57</td><td>23848</td></tr><tr><td>103</td><td>9134</td><td>555</td><td>0</td><td>2021-05-15 13:03:45</td><td>31488</td></tr><tr><td>104</td><td>5402</td><td>8126</td><td>0</td><td>2021-04-10 12:14:44</td><td>26298</td></tr><tr><td>104</td><td>2011</td><td>9549</td><td>0</td><td>2022-07-29 08:35:55</td><td>6810</td></tr><tr><td>105</td><td>6381</td><td>704</td><td>1</td><td>2021-09-30 19:37:53</td><td>23650</td></tr><tr><td>107</td><td>5561</td><td>1942</td><td>0</td><td>2022-03-24 10:43:04</td><td>35932</td></tr><tr><td>107</td><td>382</td><td>2410</td><td>0</td><td>2022-11-20 20:12:01</td><td>21647</td></tr><tr><td>108</td><td>5706</td><td>4324</td><td>1</td><td>2020-02-08 13:28:53</td><td>38431</td></tr><tr><td>109</td><td>5853</td><td>295</td><td>0</td><td>2020-02-13 02:56:26</td><td>39152</td></tr><tr><td>109</td><td>1542</td><td>8992</td><td>1</td><td>2021-11-05 04:31:37</td><td>36244</td></tr><tr><td>110</td><td>2618</td><td>3140</td><td>0</td><td>2021-10-18 15:46:55</td><td>9904</td></tr><tr><td>111</td><td>584</td><td>9535</td><td>1</td><td>2020-11-06 04:34:14</td><td>3135</td></tr><tr><td>111</td><td>1993</td><td>2243</td><td>0</td><td>2021-05-21 19:03:13</td><td>45601</td></tr><tr><td>111</td><td>2301</td><td>500</td><td>0</td><td>2021-11-29 17:47:22</td><td>12144</td></tr><tr><td>113</td><td>5005</td><td>9338</td><td>0</td><td>2021-08-07 22:01:41</td><td>45029</td></tr><tr><td>113</td><td>9346</td><td>5118</td><td>1</td><td>2022-04-08 06:16:31</td><td>37596</td></tr><tr><td>114</td><td>7706</td><td>9646</td><td>0</td><td>2020-02-26 11:46:29</td><td>40189</td></tr><tr><td>114</td><td>6232</td><td>4680</td><td>1</td><td>2021-03-27 07:56:43</td><td>2247</td></tr><tr><td>114</td><td>5042</td><td>9143</td><td>1</td><td>2022-09-15 17:50:56</td><td>20946</td></tr><tr><td>118</td><td>3912</td><td>942</td><td>0</td><td>2022-03-05 05:04:34</td><td>15145</td></tr><tr><td>119</td><td>3051</td><td>6557</td><td>1</td><td>2020-07-22 15:43:14</td><td>6379</td></tr><tr><td>119</td><td>9710</td><td>4101</td><td>1</td><td>2020-07-31 03:51:10</td><td>6424</td></tr><tr><td>119</td><td>346</td><td>2278</td><td>0</td><td>2020-12-03 17:47:41</td><td>20266</td></tr><tr><td>119</td><td>2757</td><td>1614</td><td>1</td><td>2022-02-14 15:22:03</td><td>16361</td></tr><tr><td>120</td><td>8123</td><td>4811</td><td>1</td><td>2020-11-10 10:17:37</td><td>20513</td></tr><tr><td>120</td><td>615</td><td>2221</td><td>1</td><td>2021-04-30 04:00:45</td><td>21048</td></tr><tr><td>121</td><td>300</td><td>5746</td><td>1</td><td>2020-11-02 08:49:13</td><td>9313</td></tr><tr><td>121</td><td>2884</td><td>6894</td><td>0</td><td>2021-01-30 13:34:58</td><td>17815</td></tr><tr><td>121</td><td>2821</td><td>562</td><td>1</td><td>2022-10-27 17:31:26</td><td>14332</td></tr><tr><td>122</td><td>2142</td><td>138</td><td>0</td><td>2021-04-21 16:38:09</td><td>6388</td></tr><tr><td>123</td><td>1955</td><td>275</td><td>1</td><td>2021-01-13 16:52:36</td><td>8643</td></tr><tr><td>123</td><td>736</td><td>7037</td><td>1</td><td>2022-05-04 07:45:14</td><td>19732</td></tr><tr><td>124</td><td>943</td><td>9383</td><td>0</td><td>2021-05-29 00:34:12</td><td>20165</td></tr><tr><td>124</td><td>3553</td><td>2299</td><td>1</td><td>2021-12-01 03:27:23</td><td>3827</td></tr><tr><td>124</td><td>1300</td><td>2959</td><td>1</td><td>2022-02-23 12:11:08</td><td>44154</td></tr><tr><td>125</td><td>1058</td><td>3487</td><td>1</td><td>2021-04-15 00:38:28</td><td>32900</td></tr><tr><td>125</td><td>928</td><td>6064</td><td>0</td><td>2021-08-11 01:23:06</td><td>31427</td></tr><tr><td>125</td><td>6114</td><td>4856</td><td>0</td><td>2022-04-18 23:36:50</td><td>12309</td></tr><tr><td>127</td><td>4230</td><td>8594</td><td>1</td><td>2020-07-30 13:49:48</td><td>29493</td></tr><tr><td>127</td><td>1702</td><td>6433</td><td>1</td><td>2020-08-11 21:00:54</td><td>39959</td></tr><tr><td>128</td><td>3030</td><td>7681</td><td>0</td><td>2020-02-06 10:58:54</td><td>34975</td></tr><tr><td>128</td><td>3349</td><td>6093</td><td>0</td><td>2020-06-17 14:22:01</td><td>27687</td></tr><tr><td>129</td><td>7662</td><td>7066</td><td>0</td><td>2021-06-04 05:18:26</td><td>23522</td></tr><tr><td>130</td><td>566</td><td>6084</td><td>0</td><td>2020-03-13 15:12:56</td><td>17291</td></tr><tr><td>130</td><td>3430</td><td>443</td><td>0</td><td>2022-04-03 08:14:29</td><td>23292</td></tr><tr><td>131</td><td>6294</td><td>9454</td><td>0</td><td>2020-08-12 20:40:56</td><td>38154</td></tr><tr><td>131</td><td>4621</td><td>3587</td><td>1</td><td>2022-12-20 22:55:05</td><td>44651</td></tr><tr><td>132</td><td>7540</td><td>811</td><td>0</td><td>2020-02-18 20:16:45</td><td>37046</td></tr><tr><td>132</td><td>101</td><td>2101</td><td>1</td><td>2020-04-03 03:18:21</td><td>1915</td></tr><tr><td>132</td><td>1078</td><td>2492</td><td>0</td><td>2020-09-16 15:45:57</td><td>7517</td></tr><tr><td>132</td><td>2507</td><td>9516</td><td>1</td><td>2020-09-23 16:34:39</td><td>31266</td></tr><tr><td>132</td><td>3606</td><td>6544</td><td>0</td><td>2021-07-06 01:16:15</td><td>41519</td></tr><tr><td>133</td><td>9103</td><td>1226</td><td>0</td><td>2020-02-17 16:11:37</td><td>36222</td></tr><tr><td>133</td><td>1775</td><td>1809</td><td>1</td><td>2021-12-06 16:53:59</td><td>23547</td></tr><tr><td>134</td><td>570</td><td>1454</td><td>0</td><td>2021-08-17 21:58:41</td><td>2169</td></tr><tr><td>134</td><td>8920</td><td>7113</td><td>1</td><td>2022-01-08 08:12:23</td><td>31854</td></tr><tr><td>134</td><td>8934</td><td>8689</td><td>1</td><td>2022-06-16 23:43:37</td><td>23136</td></tr><tr><td>135</td><td>9124</td><td>7960</td><td>1</td><td>2020-09-01 09:21:01</td><td>5872</td></tr><tr><td>135</td><td>4094</td><td>8783</td><td>0</td><td>2020-11-06 02:36:58</td><td>34676</td></tr><tr><td>135</td><td>4437</td><td>6212</td><td>0</td><td>2021-02-15 15:30:41</td><td>19877</td></tr><tr><td>135</td><td>969</td><td>7059</td><td>1</td><td>2021-11-13 12:02:37</td><td>39933</td></tr><tr><td>135</td><td>3700</td><td>4746</td><td>0</td><td>2022-09-22 10:59:02</td><td>14757</td></tr><tr><td>136</td><td>1891</td><td>3497</td><td>0</td><td>2020-05-04 01:48:18</td><td>48770</td></tr><tr><td>136</td><td>413</td><td>1876</td><td>0</td><td>2021-11-18 00:42:29</td><td>34769</td></tr><tr><td>137</td><td>9066</td><td>7404</td><td>1</td><td>2021-07-10 16:57:01</td><td>23406</td></tr><tr><td>137</td><td>5119</td><td>1403</td><td>0</td><td>2022-10-10 15:57:03</td><td>5653</td></tr><tr><td>138</td><td>2681</td><td>1866</td><td>0</td><td>2020-01-04 13:39:46</td><td>46376</td></tr><tr><td>140</td><td>4048</td><td>2286</td><td>0</td><td>2021-11-10 19:14:53</td><td>38798</td></tr><tr><td>140</td><td>6275</td><td>2694</td><td>0</td><td>2022-02-22 14:42:32</td><td>42176</td></tr><tr><td>141</td><td>6258</td><td>9529</td><td>0</td><td>2020-06-13 11:54:03</td><td>22840</td></tr><tr><td>141</td><td>3463</td><td>7510</td><td>1</td><td>2022-07-31 18:48:24</td><td>1352</td></tr><tr><td>142</td><td>1576</td><td>3028</td><td>0</td><td>2021-09-14 10:32:06</td><td>24815</td></tr><tr><td>143</td><td>8607</td><td>3406</td><td>1</td><td>2021-12-20 05:28:51</td><td>8760</td></tr><tr><td>143</td><td>4006</td><td>5660</td><td>1</td><td>2022-01-24 10:31:41</td><td>46815</td></tr><tr><td>143</td><td>2769</td><td>7953</td><td>0</td><td>2022-03-16 18:16:21</td><td>36084</td></tr><tr><td>144</td><td>1363</td><td>7151</td><td>0</td><td>2021-06-27 03:29:34</td><td>38766</td></tr><tr><td>144</td><td>1746</td><td>706</td><td>0</td><td>2022-03-08 04:47:57</td><td>30145</td></tr><tr><td>145</td><td>5563</td><td>9255</td><td>0</td><td>2020-02-15 22:56:11</td><td>32735</td></tr><tr><td>145</td><td>3813</td><td>782</td><td>0</td><td>2022-02-10 23:12:54</td><td>5774</td></tr><tr><td>146</td><td>2493</td><td>1268</td><td>0</td><td>2021-06-11 03:09:52</td><td>5247</td></tr><tr><td>147</td><td>2735</td><td>1613</td><td>1</td><td>2022-02-26 11:40:27</td><td>44597</td></tr><tr><td>148</td><td>4388</td><td>4939</td><td>1</td><td>2020-02-23 07:28:39</td><td>30238</td></tr><tr><td>148</td><td>9180</td><td>6200</td><td>1</td><td>2020-07-30 06:38:07</td><td>4194</td></tr><tr><td>148</td><td>4175</td><td>6530</td><td>1</td><td>2021-12-30 23:46:49</td><td>6672</td></tr><tr><td>148</td><td>2453</td><td>4396</td><td>1</td><td>2022-08-08 08:18:38</td><td>35743</td></tr><tr><td>149</td><td>5676</td><td>2777</td><td>1</td><td>2021-02-11 14:30:11</td><td>19733</td></tr><tr><td>149</td><td>9190</td><td>224</td><td>0</td><td>2022-09-20 10:07:05</td><td>48685</td></tr><tr><td>150</td><td>5626</td><td>4786</td><td>1</td><td>2021-02-07 06:09:52</td><td>28025</td></tr><tr><td>151</td><td>508</td><td>2219</td><td>0</td><td>2022-02-13 00:26:44</td><td>22182</td></tr><tr><td>152</td><td>1652</td><td>3212</td><td>0</td><td>2020-02-03 02:04:44</td><td>7843</td></tr><tr><td>152</td><td>2598</td><td>5236</td><td>0</td><td>2020-06-19 03:15:44</td><td>37585</td></tr><tr><td>152</td><td>3791</td><td>4291</td><td>1</td><td>2020-11-27 14:19:09</td><td>36474</td></tr><tr><td>152</td><td>1798</td><td>8377</td><td>1</td><td>2021-02-23 02:41:45</td><td>23459</td></tr><tr><td>152</td><td>4656</td><td>8303</td><td>0</td><td>2022-09-06 10:18:46</td><td>35603</td></tr><tr><td>153</td><td>7953</td><td>2075</td><td>1</td><td>2020-03-28 04:58:18</td><td>4215</td></tr><tr><td>153</td><td>6162</td><td>1575</td><td>0</td><td>2020-07-09 14:12:36</td><td>11175</td></tr><tr><td>154</td><td>8948</td><td>1024</td><td>1</td><td>2020-03-13 20:42:45</td><td>18804</td></tr><tr><td>154</td><td>5342</td><td>7785</td><td>0</td><td>2021-10-12 19:34:26</td><td>16029</td></tr><tr><td>154</td><td>8077</td><td>3550</td><td>0</td><td>2021-10-26 11:15:43</td><td>39919</td></tr><tr><td>154</td><td>5549</td><td>953</td><td>0</td><td>2022-09-27 11:51:06</td><td>5770</td></tr><tr><td>155</td><td>2976</td><td>3616</td><td>1</td><td>2020-07-06 04:57:37</td><td>2488</td></tr><tr><td>156</td><td>8377</td><td>6519</td><td>0</td><td>2021-06-26 00:33:53</td><td>31496</td></tr><tr><td>157</td><td>3917</td><td>2179</td><td>0</td><td>2020-11-12 18:58:37</td><td>48048</td></tr><tr><td>158</td><td>4780</td><td>3393</td><td>1</td><td>2022-08-06 03:06:40</td><td>30748</td></tr><tr><td>159</td><td>1106</td><td>4560</td><td>1</td><td>2020-09-08 09:05:52</td><td>16664</td></tr><tr><td>160</td><td>6109</td><td>2571</td><td>0</td><td>2021-07-04 06:25:46</td><td>24743</td></tr><tr><td>161</td><td>6641</td><td>6116</td><td>1</td><td>2020-05-04 19:51:55</td><td>35393</td></tr><tr><td>161</td><td>2912</td><td>9604</td><td>1</td><td>2020-10-10 21:02:39</td><td>15468</td></tr><tr><td>161</td><td>1754</td><td>606</td><td>0</td><td>2021-04-30 08:51:44</td><td>49845</td></tr><tr><td>161</td><td>2161</td><td>5654</td><td>0</td><td>2022-09-16 04:59:30</td><td>39724</td></tr><tr><td>164</td><td>9015</td><td>834</td><td>1</td><td>2020-11-13 22:40:51</td><td>18227</td></tr><tr><td>164</td><td>7439</td><td>8900</td><td>0</td><td>2021-03-09 22:23:47</td><td>49925</td></tr><tr><td>164</td><td>4376</td><td>5724</td><td>0</td><td>2021-07-31 12:05:47</td><td>1728</td></tr><tr><td>164</td><td>679</td><td>1836</td><td>0</td><td>2021-10-10 17:01:31</td><td>45757</td></tr><tr><td>164</td><td>1439</td><td>1176</td><td>0</td><td>2021-10-17 15:02:42</td><td>49756</td></tr><tr><td>164</td><td>9205</td><td>9596</td><td>0</td><td>2022-10-25 20:01:19</td><td>2730</td></tr><tr><td>164</td><td>5502</td><td>522</td><td>0</td><td>2022-12-05 01:01:25</td><td>49668</td></tr><tr><td>165</td><td>6315</td><td>7803</td><td>1</td><td>2020-09-02 03:17:38</td><td>27133</td></tr><tr><td>165</td><td>3453</td><td>912</td><td>1</td><td>2020-11-08 23:32:32</td><td>16092</td></tr><tr><td>166</td><td>2651</td><td>1770</td><td>1</td><td>2020-06-20 12:58:05</td><td>20036</td></tr><tr><td>166</td><td>2802</td><td>992</td><td>0</td><td>2021-02-25 15:52:30</td><td>35460</td></tr><tr><td>166</td><td>564</td><td>3957</td><td>1</td><td>2021-09-17 15:45:11</td><td>7744</td></tr><tr><td>167</td><td>8462</td><td>9603</td><td>1</td><td>2020-07-26 05:45:26</td><td>32694</td></tr><tr><td>167</td><td>8805</td><td>9729</td><td>0</td><td>2022-03-09 20:19:19</td><td>8619</td></tr><tr><td>168</td><td>6494</td><td>5892</td><td>1</td><td>2020-11-18 21:54:16</td><td>2391</td></tr><tr><td>169</td><td>7283</td><td>1207</td><td>0</td><td>2020-05-24 15:25:19</td><td>33759</td></tr><tr><td>169</td><td>560</td><td>2425</td><td>0</td><td>2020-08-09 16:34:42</td><td>26160</td></tr><tr><td>169</td><td>3094</td><td>440</td><td>0</td><td>2021-04-12 17:09:24</td><td>17459</td></tr><tr><td>169</td><td>2022</td><td>3604</td><td>1</td><td>2021-06-20 03:16:59</td><td>30535</td></tr><tr><td>169</td><td>6021</td><td>7552</td><td>0</td><td>2021-07-28 06:58:30</td><td>35161</td></tr><tr><td>169</td><td>7769</td><td>5949</td><td>0</td><td>2021-08-03 08:18:32</td><td>10159</td></tr><tr><td>169</td><td>9453</td><td>8444</td><td>1</td><td>2022-07-19 06:50:57</td><td>7533</td></tr><tr><td>170</td><td>7701</td><td>2744</td><td>1</td><td>2020-02-17 09:12:00</td><td>4467</td></tr><tr><td>170</td><td>8974</td><td>7227</td><td>1</td><td>2021-11-07 12:02:47</td><td>2236</td></tr><tr><td>171</td><td>3743</td><td>8781</td><td>0</td><td>2020-07-23 12:09:31</td><td>8062</td></tr><tr><td>171</td><td>7775</td><td>800</td><td>1</td><td>2022-05-08 09:27:35</td><td>9736</td></tr><tr><td>172</td><td>4426</td><td>9420</td><td>1</td><td>2021-06-18 01:06:03</td><td>28113</td></tr><tr><td>173</td><td>2659</td><td>4764</td><td>1</td><td>2021-09-13 19:47:02</td><td>33172</td></tr><tr><td>173</td><td>9743</td><td>9591</td><td>1</td><td>2022-03-05 13:56:36</td><td>37659</td></tr><tr><td>174</td><td>6654</td><td>8441</td><td>0</td><td>2020-05-08 18:22:22</td><td>16426</td></tr><tr><td>175</td><td>2478</td><td>5006</td><td>1</td><td>2022-08-26 17:00:58</td><td>16495</td></tr><tr><td>176</td><td>4165</td><td>509</td><td>0</td><td>2022-11-20 12:50:44</td><td>31574</td></tr><tr><td>177</td><td>8405</td><td>2559</td><td>1</td><td>2020-12-23 04:20:28</td><td>2091</td></tr><tr><td>177</td><td>3743</td><td>6271</td><td>0</td><td>2022-03-06 14:54:37</td><td>48513</td></tr><tr><td>178</td><td>2750</td><td>7747</td><td>1</td><td>2020-04-09 08:28:22</td><td>30549</td></tr><tr><td>178</td><td>9978</td><td>4722</td><td>1</td><td>2020-11-24 04:35:00</td><td>36195</td></tr><tr><td>178</td><td>9237</td><td>9066</td><td>0</td><td>2021-02-21 04:37:12</td><td>4092</td></tr><tr><td>178</td><td>4888</td><td>4949</td><td>0</td><td>2022-04-29 22:08:35</td><td>33566</td></tr><tr><td>178</td><td>2775</td><td>8129</td><td>1</td><td>2022-05-25 09:48:30</td><td>44516</td></tr><tr><td>182</td><td>3306</td><td>8431</td><td>0</td><td>2020-11-19 02:43:27</td><td>31323</td></tr><tr><td>182</td><td>3884</td><td>7767</td><td>1</td><td>2022-10-23 05:52:15</td><td>15590</td></tr><tr><td>183</td><td>6574</td><td>4087</td><td>1</td><td>2020-04-21 22:54:05</td><td>37598</td></tr><tr><td>183</td><td>4469</td><td>5439</td><td>0</td><td>2020-09-20 15:03:50</td><td>26671</td></tr><tr><td>183</td><td>8893</td><td>573</td><td>1</td><td>2021-05-24 19:36:15</td><td>43238</td></tr><tr><td>183</td><td>6977</td><td>4135</td><td>1</td><td>2021-11-16 06:27:30</td><td>34521</td></tr><tr><td>183</td><td>2015</td><td>9557</td><td>0</td><td>2022-12-21 04:01:06</td><td>38396</td></tr><tr><td>184</td><td>9467</td><td>4842</td><td>0</td><td>2021-03-21 12:34:06</td><td>20688</td></tr><tr><td>185</td><td>6598</td><td>3596</td><td>1</td><td>2020-11-05 05:17:28</td><td>43223</td></tr><tr><td>185</td><td>3445</td><td>3969</td><td>1</td><td>2022-06-18 00:54:00</td><td>32147</td></tr><tr><td>186</td><td>7690</td><td>5797</td><td>1</td><td>2021-04-17 06:22:54</td><td>33292</td></tr><tr><td>187</td><td>2758</td><td>2705</td><td>0</td><td>2020-11-15 21:52:15</td><td>33487</td></tr><tr><td>187</td><td>9133</td><td>8158</td><td>1</td><td>2021-08-07 19:57:23</td><td>1676</td></tr><tr><td>187</td><td>9083</td><td>7923</td><td>0</td><td>2021-09-14 12:10:32</td><td>23041</td></tr><tr><td>187</td><td>1879</td><td>9827</td><td>0</td><td>2021-11-16 10:02:41</td><td>7349</td></tr><tr><td>187</td><td>3002</td><td>973</td><td>1</td><td>2022-08-04 11:51:11</td><td>26377</td></tr><tr><td>188</td><td>1495</td><td>3025</td><td>0</td><td>2022-01-26 17:10:39</td><td>8555</td></tr><tr><td>189</td><td>9204</td><td>5024</td><td>1</td><td>2020-04-12 08:30:07</td><td>30298</td></tr><tr><td>189</td><td>7140</td><td>1510</td><td>0</td><td>2020-12-09 16:05:18</td><td>38556</td></tr><tr><td>190</td><td>8549</td><td>5207</td><td>0</td><td>2021-11-26 10:23:00</td><td>25716</td></tr><tr><td>190</td><td>9090</td><td>5718</td><td>1</td><td>2022-09-30 00:53:16</td><td>21830</td></tr><tr><td>190</td><td>1568</td><td>1769</td><td>1</td><td>2022-10-27 15:04:56</td><td>17819</td></tr><tr><td>191</td><td>1307</td><td>6676</td><td>0</td><td>2020-05-28 01:32:32</td><td>42927</td></tr><tr><td>191</td><td>8346</td><td>5181</td><td>0</td><td>2020-12-28 06:10:29</td><td>12047</td></tr><tr><td>191</td><td>6589</td><td>5684</td><td>1</td><td>2021-02-06 02:34:03</td><td>30411</td></tr><tr><td>191</td><td>7008</td><td>5817</td><td>0</td><td>2021-04-13 16:33:06</td><td>11173</td></tr><tr><td>192</td><td>1928</td><td>2554</td><td>0</td><td>2021-09-25 10:50:26</td><td>24439</td></tr><tr><td>192</td><td>1260</td><td>2118</td><td>0</td><td>2022-10-03 10:00:45</td><td>20788</td></tr><tr><td>193</td><td>2540</td><td>7254</td><td>1</td><td>2020-05-17 11:02:12</td><td>32617</td></tr><tr><td>193</td><td>2226</td><td>8119</td><td>1</td><td>2020-10-30 05:41:26</td><td>8622</td></tr><tr><td>193</td><td>5551</td><td>6223</td><td>0</td><td>2021-06-05 04:04:25</td><td>10537</td></tr><tr><td>193</td><td>6803</td><td>9262</td><td>1</td><td>2021-12-20 08:33:43</td><td>30882</td></tr><tr><td>193</td><td>4186</td><td>3501</td><td>1</td><td>2022-06-09 23:09:35</td><td>37355</td></tr><tr><td>194</td><td>944</td><td>5505</td><td>1</td><td>2020-04-22 08:01:39</td><td>38516</td></tr><tr><td>194</td><td>9653</td><td>361</td><td>0</td><td>2020-11-21 08:21:02</td><td>22465</td></tr><tr><td>194</td><td>9681</td><td>7020</td><td>0</td><td>2021-06-23 18:58:49</td><td>15043</td></tr><tr><td>194</td><td>4527</td><td>9339</td><td>1</td><td>2022-12-07 13:09:27</td><td>11613</td></tr><tr><td>195</td><td>9707</td><td>9910</td><td>0</td><td>2020-12-05 12:42:01</td><td>7805</td></tr><tr><td>195</td><td>2574</td><td>7294</td><td>1</td><td>2022-05-24 15:48:58</td><td>21041</td></tr><tr><td>195</td><td>7845</td><td>7654</td><td>1</td><td>2022-06-20 03:24:28</td><td>35207</td></tr><tr><td>196</td><td>3048</td><td>9572</td><td>1</td><td>2020-01-27 02:34:18</td><td>43053</td></tr><tr><td>196</td><td>2888</td><td>4212</td><td>0</td><td>2022-05-14 05:12:29</td><td>35526</td></tr><tr><td>196</td><td>8972</td><td>154</td><td>1</td><td>2022-06-28 13:31:10</td><td>10174</td></tr><tr><td>196</td><td>240</td><td>8104</td><td>0</td><td>2022-08-12 13:56:53</td><td>45048</td></tr><tr><td>197</td><td>6314</td><td>5984</td><td>0</td><td>2020-01-27 05:39:16</td><td>20916</td></tr><tr><td>197</td><td>6870</td><td>4505</td><td>1</td><td>2020-06-02 20:05:14</td><td>24619</td></tr><tr><td>198</td><td>2184</td><td>4659</td><td>1</td><td>2021-10-11 05:14:10</td><td>24876</td></tr><tr><td>198</td><td>7029</td><td>9481</td><td>0</td><td>2022-10-06 14:01:25</td><td>24417</td></tr><tr><td>199</td><td>611</td><td>6782</td><td>1</td><td>2020-01-16 01:06:20</td><td>21681</td></tr><tr><td>199</td><td>6862</td><td>3088</td><td>1</td><td>2020-11-16 22:09:21</td><td>5330</td></tr><tr><td>199</td><td>447</td><td>2515</td><td>0</td><td>2021-07-31 19:02:48</td><td>7673</td></tr><tr><td>199</td><td>4600</td><td>5034</td><td>1</td><td>2022-07-15 04:10:43</td><td>31259</td></tr><tr><td>200</td><td>5388</td><td>3524</td><td>0</td><td>2020-01-09 10:17:59</td><td>44322</td></tr><tr><td>201</td><td>4775</td><td>204</td><td>1</td><td>2020-07-24 09:21:28</td><td>43305</td></tr><tr><td>202</td><td>1008</td><td>5104</td><td>0</td><td>2020-04-03 09:49:15</td><td>20154</td></tr><tr><td>203</td><td>2120</td><td>5676</td><td>1</td><td>2020-03-14 21:28:51</td><td>12761</td></tr><tr><td>203</td><td>7508</td><td>3888</td><td>0</td><td>2022-07-19 18:07:29</td><td>35720</td></tr><tr><td>204</td><td>8819</td><td>7214</td><td>0</td><td>2021-06-21 19:39:37</td><td>45151</td></tr><tr><td>204</td><td>8165</td><td>1761</td><td>1</td><td>2021-10-08 05:57:35</td><td>6875</td></tr><tr><td>204</td><td>2240</td><td>5761</td><td>0</td><td>2022-12-13 17:49:53</td><td>13060</td></tr><tr><td>205</td><td>6124</td><td>5100</td><td>1</td><td>2020-11-10 22:04:53</td><td>25134</td></tr><tr><td>206</td><td>8847</td><td>1571</td><td>1</td><td>2020-01-12 20:20:45</td><td>29580</td></tr><tr><td>206</td><td>1481</td><td>9626</td><td>0</td><td>2020-06-11 10:57:01</td><td>10149</td></tr><tr><td>206</td><td>2135</td><td>5719</td><td>1</td><td>2020-08-11 21:23:47</td><td>30696</td></tr><tr><td>206</td><td>5167</td><td>8400</td><td>1</td><td>2022-06-01 17:48:25</td><td>4040</td></tr><tr><td>207</td><td>9757</td><td>9981</td><td>0</td><td>2020-09-02 21:51:15</td><td>37592</td></tr><tr><td>207</td><td>8697</td><td>3985</td><td>0</td><td>2021-02-10 13:15:33</td><td>36788</td></tr><tr><td>207</td><td>39</td><td>7231</td><td>1</td><td>2021-05-01 03:28:19</td><td>21244</td></tr><tr><td>207</td><td>2980</td><td>6409</td><td>0</td><td>2022-01-29 08:16:36</td><td>31213</td></tr><tr><td>208</td><td>9792</td><td>2059</td><td>0</td><td>2020-04-29 17:17:07</td><td>6585</td></tr><tr><td>208</td><td>3868</td><td>8240</td><td>1</td><td>2020-08-02 05:10:08</td><td>10853</td></tr><tr><td>208</td><td>1564</td><td>4789</td><td>0</td><td>2020-08-08 10:00:11</td><td>9052</td></tr><tr><td>208</td><td>7155</td><td>6147</td><td>0</td><td>2021-10-31 10:45:45</td><td>12680</td></tr><tr><td>209</td><td>5307</td><td>1387</td><td>0</td><td>2021-10-21 07:47:44</td><td>45319</td></tr><tr><td>209</td><td>992</td><td>7128</td><td>0</td><td>2022-04-24 02:27:59</td><td>3161</td></tr><tr><td>209</td><td>3802</td><td>4064</td><td>1</td><td>2022-05-21 21:22:39</td><td>26623</td></tr><tr><td>209</td><td>1416</td><td>9658</td><td>0</td><td>2022-06-20 04:13:25</td><td>29081</td></tr><tr><td>210</td><td>2055</td><td>7649</td><td>0</td><td>2020-03-20 15:59:30</td><td>46882</td></tr><tr><td>211</td><td>7195</td><td>3024</td><td>1</td><td>2020-01-16 16:38:21</td><td>14853</td></tr><tr><td>211</td><td>6303</td><td>5904</td><td>0</td><td>2022-10-20 14:59:53</td><td>16787</td></tr><tr><td>211</td><td>7586</td><td>2481</td><td>1</td><td>2022-10-21 05:12:47</td><td>18737</td></tr><tr><td>211</td><td>8005</td><td>1662</td><td>1</td><td>2022-11-27 10:01:26</td><td>46288</td></tr><tr><td>212</td><td>4786</td><td>6713</td><td>1</td><td>2020-03-05 22:04:59</td><td>20772</td></tr><tr><td>212</td><td>2196</td><td>5413</td><td>1</td><td>2020-06-04 10:03:25</td><td>11609</td></tr><tr><td>212</td><td>693</td><td>5380</td><td>1</td><td>2022-08-30 23:42:41</td><td>48078</td></tr><tr><td>213</td><td>7937</td><td>1161</td><td>0</td><td>2020-03-02 05:28:54</td><td>32116</td></tr><tr><td>213</td><td>6709</td><td>9236</td><td>1</td><td>2020-05-01 14:53:51</td><td>20370</td></tr><tr><td>213</td><td>8579</td><td>9372</td><td>0</td><td>2020-07-25 15:58:31</td><td>7830</td></tr><tr><td>213</td><td>4241</td><td>1345</td><td>1</td><td>2020-11-10 22:51:26</td><td>6004</td></tr><tr><td>214</td><td>2512</td><td>9644</td><td>0</td><td>2021-05-09 19:00:54</td><td>3685</td></tr><tr><td>214</td><td>3376</td><td>2599</td><td>1</td><td>2021-09-08 05:57:54</td><td>36183</td></tr><tr><td>214</td><td>2696</td><td>608</td><td>1</td><td>2021-12-08 10:07:14</td><td>4134</td></tr><tr><td>215</td><td>5075</td><td>9558</td><td>1</td><td>2020-12-17 17:01:10</td><td>17453</td></tr><tr><td>215</td><td>8166</td><td>9094</td><td>1</td><td>2021-01-29 14:51:13</td><td>12000</td></tr><tr><td>216</td><td>6907</td><td>755</td><td>0</td><td>2020-07-28 13:23:59</td><td>40796</td></tr><tr><td>218</td><td>2239</td><td>2579</td><td>1</td><td>2021-05-26 01:26:09</td><td>1103</td></tr><tr><td>219</td><td>8124</td><td>9496</td><td>1</td><td>2020-06-13 23:22:44</td><td>3193</td></tr><tr><td>220</td><td>1447</td><td>7219</td><td>1</td><td>2022-03-12 10:20:19</td><td>23870</td></tr><tr><td>221</td><td>2714</td><td>3351</td><td>1</td><td>2020-06-02 05:28:31</td><td>40251</td></tr><tr><td>221</td><td>1302</td><td>7934</td><td>1</td><td>2020-10-03 23:58:13</td><td>19356</td></tr><tr><td>222</td><td>3249</td><td>5562</td><td>1</td><td>2021-01-13 20:36:54</td><td>46077</td></tr><tr><td>222</td><td>5330</td><td>8340</td><td>1</td><td>2021-06-09 00:02:12</td><td>5516</td></tr><tr><td>222</td><td>5003</td><td>5408</td><td>0</td><td>2022-06-11 19:55:54</td><td>24950</td></tr><tr><td>223</td><td>6670</td><td>3772</td><td>1</td><td>2021-07-21 04:10:51</td><td>38880</td></tr><tr><td>223</td><td>5426</td><td>7555</td><td>0</td><td>2022-08-17 21:27:26</td><td>43706</td></tr><tr><td>224</td><td>702</td><td>8853</td><td>0</td><td>2020-06-19 16:17:18</td><td>18646</td></tr><tr><td>224</td><td>3043</td><td>5638</td><td>1</td><td>2022-04-19 07:45:53</td><td>33129</td></tr><tr><td>225</td><td>2667</td><td>3880</td><td>0</td><td>2021-01-12 15:49:52</td><td>49519</td></tr><tr><td>225</td><td>529</td><td>8954</td><td>1</td><td>2021-04-19 09:06:08</td><td>32951</td></tr><tr><td>225</td><td>7557</td><td>9826</td><td>0</td><td>2022-06-01 15:15:24</td><td>38529</td></tr><tr><td>228</td><td>1705</td><td>344</td><td>1</td><td>2021-07-04 13:27:35</td><td>36314</td></tr><tr><td>228</td><td>1008</td><td>2075</td><td>1</td><td>2021-09-16 06:42:06</td><td>13154</td></tr><tr><td>228</td><td>4489</td><td>7141</td><td>0</td><td>2022-03-22 07:18:24</td><td>36271</td></tr><tr><td>229</td><td>299</td><td>2472</td><td>1</td><td>2020-10-01 15:41:23</td><td>22038</td></tr><tr><td>229</td><td>1491</td><td>6637</td><td>1</td><td>2020-10-12 09:24:24</td><td>9388</td></tr><tr><td>229</td><td>8001</td><td>2893</td><td>0</td><td>2021-09-02 16:36:43</td><td>32679</td></tr><tr><td>229</td><td>7590</td><td>9974</td><td>1</td><td>2022-06-30 10:50:28</td><td>13703</td></tr><tr><td>229</td><td>5165</td><td>9640</td><td>1</td><td>2022-12-14 19:04:22</td><td>15712</td></tr><tr><td>230</td><td>4854</td><td>8945</td><td>1</td><td>2020-07-03 22:01:17</td><td>45808</td></tr><tr><td>230</td><td>4294</td><td>9593</td><td>1</td><td>2021-12-09 02:56:34</td><td>40971</td></tr><tr><td>232</td><td>743</td><td>7761</td><td>0</td><td>2021-12-19 13:43:48</td><td>20020</td></tr><tr><td>232</td><td>7910</td><td>4688</td><td>1</td><td>2022-07-08 00:18:56</td><td>34981</td></tr><tr><td>233</td><td>2118</td><td>3493</td><td>0</td><td>2020-10-11 21:38:04</td><td>49910</td></tr><tr><td>233</td><td>5064</td><td>1467</td><td>1</td><td>2021-07-23 19:26:52</td><td>32043</td></tr><tr><td>234</td><td>8170</td><td>6403</td><td>0</td><td>2021-07-12 11:36:21</td><td>28955</td></tr><tr><td>234</td><td>7138</td><td>1825</td><td>1</td><td>2022-10-16 13:37:44</td><td>48135</td></tr><tr><td>235</td><td>8343</td><td>5991</td><td>1</td><td>2020-04-11 14:23:07</td><td>5078</td></tr><tr><td>235</td><td>1405</td><td>7870</td><td>1</td><td>2020-07-26 05:50:06</td><td>16489</td></tr><tr><td>237</td><td>8650</td><td>4974</td><td>1</td><td>2020-05-27 22:44:40</td><td>40230</td></tr><tr><td>237</td><td>1915</td><td>6572</td><td>1</td><td>2022-11-07 23:16:52</td><td>13188</td></tr><tr><td>238</td><td>2370</td><td>1973</td><td>1</td><td>2020-10-19 09:44:55</td><td>42226</td></tr><tr><td>238</td><td>1917</td><td>6169</td><td>0</td><td>2021-05-16 09:09:51</td><td>18089</td></tr><tr><td>239</td><td>8056</td><td>2901</td><td>0</td><td>2020-05-24 00:44:26</td><td>42002</td></tr><tr><td>239</td><td>3496</td><td>5530</td><td>1</td><td>2020-11-25 12:20:33</td><td>10468</td></tr><tr><td>239</td><td>9317</td><td>1130</td><td>1</td><td>2021-03-31 07:36:18</td><td>7249</td></tr><tr><td>239</td><td>3783</td><td>5708</td><td>1</td><td>2022-02-16 12:14:02</td><td>30839</td></tr><tr><td>240</td><td>2501</td><td>9735</td><td>0</td><td>2022-05-23 13:44:11</td><td>12260</td></tr><tr><td>240</td><td>579</td><td>8934</td><td>0</td><td>2022-08-07 18:42:34</td><td>11758</td></tr><tr><td>241</td><td>7199</td><td>1865</td><td>1</td><td>2022-02-16 12:40:15</td><td>49114</td></tr><tr><td>242</td><td>9357</td><td>2576</td><td>1</td><td>2020-10-10 19:47:25</td><td>37983</td></tr><tr><td>243</td><td>9166</td><td>7941</td><td>1</td><td>2020-02-25 20:55:41</td><td>3672</td></tr><tr><td>243</td><td>4454</td><td>6094</td><td>0</td><td>2020-04-04 07:36:43</td><td>41863</td></tr><tr><td>243</td><td>5164</td><td>2761</td><td>1</td><td>2020-11-14 10:44:04</td><td>33189</td></tr><tr><td>243</td><td>5585</td><td>1138</td><td>0</td><td>2021-01-20 19:53:29</td><td>15368</td></tr><tr><td>243</td><td>5327</td><td>5249</td><td>1</td><td>2021-08-14 21:00:46</td><td>48712</td></tr><tr><td>243</td><td>2808</td><td>3216</td><td>0</td><td>2021-11-01 11:16:49</td><td>23601</td></tr><tr><td>243</td><td>7321</td><td>324</td><td>0</td><td>2022-09-27 08:03:34</td><td>18632</td></tr><tr><td>244</td><td>2123</td><td>7084</td><td>0</td><td>2020-05-24 16:19:36</td><td>44771</td></tr><tr><td>244</td><td>3019</td><td>6245</td><td>0</td><td>2021-06-14 09:22:57</td><td>9005</td></tr><tr><td>244</td><td>7690</td><td>5346</td><td>1</td><td>2022-05-12 15:22:38</td><td>40923</td></tr><tr><td>244</td><td>1423</td><td>8809</td><td>0</td><td>2022-09-29 19:48:11</td><td>16424</td></tr><tr><td>245</td><td>2177</td><td>8982</td><td>1</td><td>2021-06-20 22:36:39</td><td>26720</td></tr><tr><td>245</td><td>5941</td><td>8509</td><td>0</td><td>2022-04-14 08:10:19</td><td>27674</td></tr><tr><td>245</td><td>1993</td><td>8378</td><td>1</td><td>2022-06-29 18:53:50</td><td>27049</td></tr><tr><td>246</td><td>2894</td><td>2366</td><td>0</td><td>2020-12-21 20:56:12</td><td>40536</td></tr><tr><td>246</td><td>5463</td><td>1401</td><td>1</td><td>2022-02-01 15:19:30</td><td>2796</td></tr><tr><td>247</td><td>1772</td><td>6625</td><td>1</td><td>2020-04-10 18:35:19</td><td>20096</td></tr><tr><td>247</td><td>4945</td><td>3635</td><td>0</td><td>2020-10-10 14:07:43</td><td>14431</td></tr><tr><td>247</td><td>2765</td><td>3753</td><td>0</td><td>2022-10-01 18:14:03</td><td>12488</td></tr><tr><td>249</td><td>5756</td><td>7051</td><td>0</td><td>2021-03-08 10:20:44</td><td>41773</td></tr><tr><td>249</td><td>1601</td><td>6469</td><td>1</td><td>2021-05-09 09:14:43</td><td>38451</td></tr><tr><td>249</td><td>3875</td><td>5769</td><td>0</td><td>2021-11-17 16:52:34</td><td>4620</td></tr><tr><td>250</td><td>5513</td><td>2932</td><td>1</td><td>2020-03-23 02:21:20</td><td>41944</td></tr><tr><td>250</td><td>6574</td><td>9505</td><td>1</td><td>2020-04-27 23:05:08</td><td>7540</td></tr><tr><td>250</td><td>8160</td><td>1973</td><td>0</td><td>2021-04-26 12:15:23</td><td>36825</td></tr><tr><td>250</td><td>1486</td><td>491</td><td>0</td><td>2021-07-17 17:33:02</td><td>19738</td></tr><tr><td>251</td><td>1674</td><td>4728</td><td>0</td><td>2021-07-27 11:29:32</td><td>49283</td></tr><tr><td>253</td><td>5470</td><td>4236</td><td>0</td><td>2020-07-12 04:51:28</td><td>34042</td></tr><tr><td>253</td><td>1470</td><td>5475</td><td>1</td><td>2022-04-02 23:48:35</td><td>13667</td></tr><tr><td>254</td><td>9133</td><td>9015</td><td>0</td><td>2020-09-16 01:02:23</td><td>6425</td></tr><tr><td>254</td><td>6153</td><td>474</td><td>0</td><td>2022-01-22 09:16:36</td><td>39954</td></tr><tr><td>254</td><td>8950</td><td>3515</td><td>1</td><td>2022-04-16 18:21:34</td><td>40339</td></tr><tr><td>254</td><td>3437</td><td>3806</td><td>1</td><td>2022-08-30 07:29:05</td><td>33920</td></tr><tr><td>256</td><td>1813</td><td>3286</td><td>0</td><td>2022-08-01 20:01:56</td><td>35738</td></tr><tr><td>257</td><td>6887</td><td>2443</td><td>0</td><td>2021-11-22 22:57:48</td><td>4872</td></tr><tr><td>258</td><td>3722</td><td>3224</td><td>0</td><td>2020-11-05 22:52:24</td><td>27549</td></tr><tr><td>259</td><td>3212</td><td>1724</td><td>1</td><td>2020-09-01 15:03:49</td><td>18684</td></tr><tr><td>259</td><td>2822</td><td>4755</td><td>0</td><td>2022-04-17 12:22:04</td><td>37880</td></tr><tr><td>261</td><td>8749</td><td>5841</td><td>1</td><td>2021-12-23 22:54:28</td><td>17621</td></tr><tr><td>262</td><td>1601</td><td>3231</td><td>1</td><td>2020-02-09 09:43:48</td><td>14480</td></tr><tr><td>262</td><td>1685</td><td>6352</td><td>1</td><td>2021-07-25 12:09:00</td><td>6754</td></tr><tr><td>262</td><td>5347</td><td>1161</td><td>0</td><td>2022-07-18 07:56:12</td><td>48355</td></tr><tr><td>262</td><td>137</td><td>9216</td><td>1</td><td>2022-12-05 13:12:25</td><td>48208</td></tr><tr><td>263</td><td>7751</td><td>8268</td><td>1</td><td>2020-03-27 21:48:49</td><td>40042</td></tr><tr><td>263</td><td>4656</td><td>2201</td><td>0</td><td>2020-04-23 05:42:10</td><td>48939</td></tr><tr><td>263</td><td>3356</td><td>172</td><td>1</td><td>2021-12-23 04:08:22</td><td>26241</td></tr><tr><td>264</td><td>9825</td><td>2619</td><td>0</td><td>2020-11-17 09:46:17</td><td>22236</td></tr><tr><td>264</td><td>6832</td><td>4440</td><td>1</td><td>2020-12-03 22:29:59</td><td>18260</td></tr><tr><td>264</td><td>5436</td><td>2219</td><td>0</td><td>2022-01-16 18:02:17</td><td>12465</td></tr><tr><td>264</td><td>1808</td><td>5520</td><td>0</td><td>2022-05-24 04:32:14</td><td>19137</td></tr><tr><td>264</td><td>225</td><td>7752</td><td>0</td><td>2022-08-15 09:37:53</td><td>20730</td></tr><tr><td>265</td><td>3174</td><td>4679</td><td>0</td><td>2020-01-18 01:29:19</td><td>2293</td></tr><tr><td>265</td><td>5876</td><td>1346</td><td>0</td><td>2020-07-29 13:37:13</td><td>27281</td></tr><tr><td>265</td><td>582</td><td>2513</td><td>0</td><td>2020-12-07 20:39:45</td><td>47748</td></tr><tr><td>265</td><td>3142</td><td>7167</td><td>0</td><td>2021-09-22 17:30:33</td><td>31982</td></tr><tr><td>266</td><td>6520</td><td>887</td><td>1</td><td>2020-07-07 23:04:03</td><td>48490</td></tr><tr><td>266</td><td>3745</td><td>5066</td><td>0</td><td>2021-10-02 17:46:14</td><td>15838</td></tr><tr><td>266</td><td>5145</td><td>2831</td><td>1</td><td>2022-04-20 05:55:09</td><td>3060</td></tr><tr><td>267</td><td>9184</td><td>9142</td><td>1</td><td>2021-11-21 04:11:19</td><td>22795</td></tr><tr><td>270</td><td>9600</td><td>5734</td><td>0</td><td>2020-02-23 17:26:05</td><td>6985</td></tr><tr><td>270</td><td>1368</td><td>3906</td><td>1</td><td>2020-12-28 23:58:53</td><td>6221</td></tr><tr><td>272</td><td>7479</td><td>2545</td><td>1</td><td>2020-07-03 03:00:18</td><td>30608</td></tr><tr><td>272</td><td>9167</td><td>3418</td><td>1</td><td>2022-07-23 23:38:51</td><td>6938</td></tr><tr><td>273</td><td>1812</td><td>1843</td><td>1</td><td>2021-02-24 01:56:15</td><td>6162</td></tr><tr><td>274</td><td>443</td><td>4118</td><td>1</td><td>2020-06-01 03:08:39</td><td>3144</td></tr><tr><td>274</td><td>3808</td><td>5792</td><td>1</td><td>2020-12-13 12:22:19</td><td>21690</td></tr><tr><td>274</td><td>9263</td><td>4167</td><td>1</td><td>2022-09-23 21:11:10</td><td>19758</td></tr><tr><td>274</td><td>8134</td><td>2217</td><td>0</td><td>2022-10-31 08:27:09</td><td>4386</td></tr><tr><td>275</td><td>7721</td><td>9913</td><td>0</td><td>2022-02-27 02:53:07</td><td>26510</td></tr><tr><td>276</td><td>4116</td><td>7233</td><td>1</td><td>2020-05-23 09:37:56</td><td>11055</td></tr><tr><td>276</td><td>8278</td><td>8691</td><td>0</td><td>2021-01-03 00:46:26</td><td>22924</td></tr><tr><td>277</td><td>393</td><td>6719</td><td>0</td><td>2020-07-16 11:45:39</td><td>39514</td></tr><tr><td>277</td><td>1850</td><td>3674</td><td>0</td><td>2022-10-29 03:27:20</td><td>16068</td></tr><tr><td>278</td><td>5781</td><td>8149</td><td>0</td><td>2021-03-16 04:32:30</td><td>9972</td></tr><tr><td>278</td><td>9030</td><td>1839</td><td>1</td><td>2021-04-29 06:42:22</td><td>12970</td></tr><tr><td>280</td><td>6903</td><td>2330</td><td>1</td><td>2020-01-25 00:05:57</td><td>4007</td></tr><tr><td>280</td><td>7383</td><td>3508</td><td>1</td><td>2022-05-16 13:23:39</td><td>22540</td></tr><tr><td>280</td><td>573</td><td>9230</td><td>1</td><td>2022-07-09 09:07:01</td><td>9994</td></tr><tr><td>281</td><td>7641</td><td>4734</td><td>1</td><td>2020-08-22 00:05:39</td><td>41025</td></tr><tr><td>281</td><td>9589</td><td>1607</td><td>0</td><td>2021-05-04 04:45:37</td><td>2270</td></tr><tr><td>281</td><td>7452</td><td>8535</td><td>0</td><td>2021-07-12 19:44:18</td><td>1650</td></tr><tr><td>281</td><td>1723</td><td>7065</td><td>0</td><td>2022-01-24 08:19:39</td><td>22265</td></tr><tr><td>281</td><td>6006</td><td>1309</td><td>1</td><td>2022-09-20 19:25:08</td><td>21436</td></tr><tr><td>282</td><td>1225</td><td>4480</td><td>1</td><td>2022-03-10 08:39:24</td><td>12713</td></tr><tr><td>283</td><td>3262</td><td>3323</td><td>0</td><td>2020-05-02 15:26:52</td><td>48221</td></tr><tr><td>283</td><td>6847</td><td>275</td><td>1</td><td>2021-05-21 07:51:47</td><td>17861</td></tr><tr><td>283</td><td>9236</td><td>183</td><td>0</td><td>2022-10-03 04:00:52</td><td>19977</td></tr><tr><td>283</td><td>1533</td><td>4528</td><td>1</td><td>2022-11-26 15:57:49</td><td>41715</td></tr><tr><td>283</td><td>9336</td><td>4730</td><td>0</td><td>2022-11-29 10:17:52</td><td>28025</td></tr><tr><td>285</td><td>9623</td><td>8398</td><td>1</td><td>2020-04-11 00:00:05</td><td>27934</td></tr><tr><td>285</td><td>1836</td><td>8655</td><td>0</td><td>2021-10-09 20:50:22</td><td>46742</td></tr><tr><td>285</td><td>5710</td><td>8008</td><td>1</td><td>2022-04-21 05:57:03</td><td>15037</td></tr><tr><td>285</td><td>6068</td><td>7255</td><td>0</td><td>2022-12-16 08:28:26</td><td>44332</td></tr><tr><td>286</td><td>7644</td><td>6731</td><td>1</td><td>2020-07-13 13:28:22</td><td>32281</td></tr><tr><td>286</td><td>5805</td><td>3672</td><td>1</td><td>2020-09-09 04:15:17</td><td>23886</td></tr><tr><td>286</td><td>1061</td><td>4726</td><td>1</td><td>2021-12-14 10:14:08</td><td>25737</td></tr><tr><td>287</td><td>1974</td><td>8216</td><td>1</td><td>2020-02-21 01:25:18</td><td>49926</td></tr><tr><td>287</td><td>2053</td><td>7760</td><td>1</td><td>2022-02-20 09:49:57</td><td>17756</td></tr><tr><td>288</td><td>5791</td><td>1568</td><td>1</td><td>2020-10-06 10:05:25</td><td>22686</td></tr><tr><td>288</td><td>385</td><td>4178</td><td>1</td><td>2022-05-03 22:58:12</td><td>22241</td></tr><tr><td>288</td><td>7392</td><td>2744</td><td>0</td><td>2022-09-17 20:05:05</td><td>30990</td></tr><tr><td>289</td><td>7326</td><td>9523</td><td>0</td><td>2020-09-03 17:53:57</td><td>8808</td></tr><tr><td>289</td><td>4834</td><td>7741</td><td>0</td><td>2022-03-19 02:24:16</td><td>30253</td></tr><tr><td>290</td><td>5720</td><td>3294</td><td>0</td><td>2021-06-14 22:36:06</td><td>47773</td></tr><tr><td>290</td><td>4079</td><td>2784</td><td>1</td><td>2021-06-19 01:51:25</td><td>22554</td></tr><tr><td>290</td><td>3000</td><td>7905</td><td>0</td><td>2021-09-18 13:58:56</td><td>8942</td></tr><tr><td>291</td><td>8753</td><td>5470</td><td>1</td><td>2020-07-21 18:51:06</td><td>11311</td></tr><tr><td>291</td><td>5321</td><td>2644</td><td>1</td><td>2020-08-02 20:19:15</td><td>8458</td></tr><tr><td>291</td><td>5213</td><td>1372</td><td>1</td><td>2022-08-05 06:46:09</td><td>22743</td></tr><tr><td>292</td><td>6705</td><td>7975</td><td>1</td><td>2020-04-25 06:30:36</td><td>31880</td></tr><tr><td>292</td><td>7835</td><td>4659</td><td>0</td><td>2021-09-13 13:16:55</td><td>14515</td></tr><tr><td>292</td><td>1601</td><td>2434</td><td>1</td><td>2022-06-06 17:56:42</td><td>10911</td></tr><tr><td>293</td><td>7300</td><td>4053</td><td>1</td><td>2021-05-15 04:16:19</td><td>6788</td></tr><tr><td>293</td><td>844</td><td>5659</td><td>1</td><td>2022-12-02 18:47:55</td><td>46352</td></tr><tr><td>294</td><td>1198</td><td>2486</td><td>1</td><td>2022-08-08 11:21:44</td><td>47146</td></tr><tr><td>295</td><td>2825</td><td>4846</td><td>1</td><td>2020-08-12 18:39:30</td><td>38892</td></tr><tr><td>295</td><td>7646</td><td>7984</td><td>0</td><td>2021-02-28 23:10:07</td><td>20581</td></tr><tr><td>295</td><td>3199</td><td>5722</td><td>0</td><td>2021-11-19 03:32:06</td><td>32914</td></tr><tr><td>295</td><td>3865</td><td>5344</td><td>0</td><td>2022-07-19 17:49:13</td><td>23451</td></tr><tr><td>296</td><td>1572</td><td>6952</td><td>1</td><td>2020-05-11 03:14:02</td><td>37042</td></tr><tr><td>296</td><td>4062</td><td>8869</td><td>0</td><td>2020-11-09 08:40:29</td><td>19031</td></tr><tr><td>296</td><td>4232</td><td>1196</td><td>0</td><td>2022-07-04 04:33:31</td><td>5974</td></tr><tr><td>297</td><td>8570</td><td>4657</td><td>1</td><td>2020-03-03 23:05:42</td><td>11255</td></tr><tr><td>297</td><td>2220</td><td>7371</td><td>0</td><td>2020-11-12 01:39:42</td><td>4465</td></tr><tr><td>297</td><td>7442</td><td>6367</td><td>1</td><td>2020-11-23 03:41:14</td><td>9474</td></tr><tr><td>297</td><td>4959</td><td>8457</td><td>0</td><td>2021-05-25 02:03:56</td><td>38355</td></tr><tr><td>297</td><td>50</td><td>737</td><td>0</td><td>2021-11-28 22:43:01</td><td>27638</td></tr><tr><td>298</td><td>3989</td><td>8865</td><td>0</td><td>2020-09-18 21:52:25</td><td>18986</td></tr><tr><td>300</td><td>3287</td><td>9941</td><td>0</td><td>2022-02-26 14:55:53</td><td>40971</td></tr><tr><td>301</td><td>7092</td><td>999</td><td>0</td><td>2021-04-08 08:04:34</td><td>45707</td></tr><tr><td>301</td><td>4808</td><td>7432</td><td>0</td><td>2022-05-25 19:10:29</td><td>16201</td></tr><tr><td>302</td><td>3745</td><td>6956</td><td>1</td><td>2021-04-02 20:43:52</td><td>30715</td></tr><tr><td>303</td><td>4018</td><td>8052</td><td>1</td><td>2021-04-05 20:33:51</td><td>31615</td></tr><tr><td>304</td><td>704</td><td>307</td><td>0</td><td>2020-11-19 13:35:24</td><td>42178</td></tr><tr><td>304</td><td>9376</td><td>8931</td><td>1</td><td>2021-05-13 19:51:27</td><td>26660</td></tr><tr><td>304</td><td>7345</td><td>8377</td><td>0</td><td>2022-11-14 18:24:55</td><td>45769</td></tr><tr><td>304</td><td>6793</td><td>9439</td><td>0</td><td>2022-11-15 15:38:25</td><td>46479</td></tr><tr><td>305</td><td>3107</td><td>6842</td><td>1</td><td>2021-05-09 03:31:51</td><td>8670</td></tr><tr><td>305</td><td>2552</td><td>7804</td><td>0</td><td>2021-12-21 03:25:45</td><td>44492</td></tr><tr><td>305</td><td>7705</td><td>3624</td><td>0</td><td>2022-01-04 21:34:54</td><td>28360</td></tr><tr><td>305</td><td>6985</td><td>2076</td><td>1</td><td>2022-01-26 08:32:01</td><td>42804</td></tr><tr><td>306</td><td>1247</td><td>5030</td><td>1</td><td>2021-04-24 22:26:17</td><td>23072</td></tr><tr><td>307</td><td>6247</td><td>1124</td><td>0</td><td>2020-06-08 23:48:27</td><td>18528</td></tr><tr><td>307</td><td>3819</td><td>5993</td><td>1</td><td>2020-10-27 13:07:05</td><td>45636</td></tr><tr><td>308</td><td>4266</td><td>6298</td><td>1</td><td>2020-12-23 18:12:42</td><td>4611</td></tr><tr><td>308</td><td>9813</td><td>9971</td><td>0</td><td>2022-08-12 05:36:46</td><td>11694</td></tr><tr><td>309</td><td>7186</td><td>6889</td><td>0</td><td>2021-08-24 17:15:40</td><td>11453</td></tr><tr><td>311</td><td>1279</td><td>6528</td><td>1</td><td>2020-08-28 23:08:38</td><td>28736</td></tr><tr><td>312</td><td>4049</td><td>5779</td><td>0</td><td>2020-06-04 10:24:08</td><td>40538</td></tr><tr><td>312</td><td>7186</td><td>4448</td><td>0</td><td>2022-07-27 02:58:34</td><td>19609</td></tr><tr><td>314</td><td>8492</td><td>9420</td><td>1</td><td>2020-10-13 20:09:12</td><td>38930</td></tr><tr><td>314</td><td>2563</td><td>4492</td><td>0</td><td>2021-01-18 03:27:56</td><td>19399</td></tr><tr><td>314</td><td>8426</td><td>3020</td><td>1</td><td>2021-04-10 00:02:53</td><td>14947</td></tr><tr><td>315</td><td>9235</td><td>6764</td><td>1</td><td>2020-03-16 14:31:14</td><td>21056</td></tr><tr><td>315</td><td>4334</td><td>1068</td><td>0</td><td>2022-05-02 19:24:27</td><td>40250</td></tr><tr><td>315</td><td>7847</td><td>2525</td><td>0</td><td>2022-07-04 00:03:27</td><td>1590</td></tr><tr><td>316</td><td>1389</td><td>5074</td><td>1</td><td>2020-07-02 21:53:45</td><td>2431</td></tr><tr><td>316</td><td>8223</td><td>3026</td><td>0</td><td>2022-01-09 01:23:44</td><td>9263</td></tr><tr><td>317</td><td>7150</td><td>7106</td><td>1</td><td>2020-04-12 06:21:00</td><td>11784</td></tr><tr><td>317</td><td>99</td><td>3164</td><td>1</td><td>2022-02-23 10:49:28</td><td>38444</td></tr><tr><td>318</td><td>9396</td><td>4729</td><td>0</td><td>2020-11-07 11:48:41</td><td>13079</td></tr><tr><td>320</td><td>2430</td><td>6865</td><td>0</td><td>2020-05-29 11:02:02</td><td>18813</td></tr><tr><td>320</td><td>1875</td><td>9588</td><td>0</td><td>2020-11-08 06:57:23</td><td>41149</td></tr><tr><td>320</td><td>5026</td><td>3197</td><td>0</td><td>2021-07-10 01:49:06</td><td>12318</td></tr><tr><td>320</td><td>5391</td><td>4546</td><td>1</td><td>2022-10-14 22:53:08</td><td>6912</td></tr><tr><td>321</td><td>1467</td><td>1332</td><td>0</td><td>2021-04-21 15:14:31</td><td>42860</td></tr><tr><td>322</td><td>2317</td><td>1208</td><td>0</td><td>2020-12-14 15:01:39</td><td>48206</td></tr><tr><td>322</td><td>5929</td><td>6422</td><td>0</td><td>2022-08-22 01:35:56</td><td>23607</td></tr><tr><td>322</td><td>4175</td><td>2220</td><td>0</td><td>2022-10-21 06:34:51</td><td>40298</td></tr><tr><td>323</td><td>8819</td><td>2685</td><td>0</td><td>2021-10-13 17:30:10</td><td>45849</td></tr><tr><td>323</td><td>6849</td><td>162</td><td>1</td><td>2022-01-22 22:54:18</td><td>1745</td></tr><tr><td>323</td><td>4311</td><td>9032</td><td>0</td><td>2022-04-15 03:58:29</td><td>21555</td></tr><tr><td>324</td><td>9493</td><td>6647</td><td>0</td><td>2020-07-28 20:01:11</td><td>15730</td></tr><tr><td>324</td><td>1538</td><td>4059</td><td>1</td><td>2022-11-26 03:24:21</td><td>23823</td></tr><tr><td>325</td><td>8986</td><td>6831</td><td>0</td><td>2021-09-13 11:32:04</td><td>42371</td></tr><tr><td>326</td><td>8487</td><td>2989</td><td>1</td><td>2021-11-19 00:32:11</td><td>33883</td></tr><tr><td>328</td><td>9466</td><td>1904</td><td>0</td><td>2021-08-01 06:43:01</td><td>18144</td></tr><tr><td>328</td><td>2661</td><td>5443</td><td>1</td><td>2021-11-29 10:45:40</td><td>27920</td></tr><tr><td>328</td><td>6320</td><td>2818</td><td>0</td><td>2022-09-10 07:16:59</td><td>35972</td></tr><tr><td>329</td><td>3750</td><td>6255</td><td>0</td><td>2022-03-15 16:19:29</td><td>48261</td></tr><tr><td>329</td><td>5713</td><td>7078</td><td>0</td><td>2022-05-06 02:44:30</td><td>11629</td></tr><tr><td>330</td><td>2950</td><td>2788</td><td>1</td><td>2020-11-15 12:16:14</td><td>2774</td></tr><tr><td>331</td><td>5769</td><td>6420</td><td>1</td><td>2020-01-03 23:39:49</td><td>33956</td></tr><tr><td>331</td><td>472</td><td>3748</td><td>0</td><td>2021-07-12 01:13:54</td><td>42520</td></tr><tr><td>332</td><td>3769</td><td>3921</td><td>0</td><td>2020-06-11 02:20:50</td><td>35923</td></tr><tr><td>332</td><td>8496</td><td>1063</td><td>0</td><td>2022-08-11 02:54:38</td><td>29915</td></tr><tr><td>333</td><td>3431</td><td>1291</td><td>1</td><td>2021-01-25 00:47:24</td><td>13969</td></tr><tr><td>333</td><td>517</td><td>2652</td><td>1</td><td>2022-08-17 00:31:38</td><td>27923</td></tr><tr><td>334</td><td>8007</td><td>173</td><td>0</td><td>2020-02-07 13:04:36</td><td>2777</td></tr><tr><td>334</td><td>542</td><td>9735</td><td>0</td><td>2020-03-26 14:34:57</td><td>8273</td></tr><tr><td>334</td><td>5673</td><td>268</td><td>0</td><td>2020-05-21 18:56:50</td><td>10689</td></tr><tr><td>334</td><td>7149</td><td>1228</td><td>1</td><td>2020-11-26 15:21:41</td><td>16456</td></tr><tr><td>335</td><td>6869</td><td>6462</td><td>1</td><td>2020-02-02 07:36:13</td><td>47241</td></tr><tr><td>335</td><td>3487</td><td>6450</td><td>1</td><td>2020-10-13 10:41:36</td><td>26013</td></tr><tr><td>335</td><td>9007</td><td>1709</td><td>0</td><td>2022-10-28 23:39:06</td><td>2274</td></tr><tr><td>336</td><td>1047</td><td>5084</td><td>0</td><td>2020-01-01 05:24:41</td><td>16965</td></tr><tr><td>336</td><td>8377</td><td>650</td><td>0</td><td>2020-11-03 19:30:39</td><td>17987</td></tr><tr><td>336</td><td>388</td><td>7856</td><td>1</td><td>2021-04-04 04:06:59</td><td>15277</td></tr><tr><td>336</td><td>2999</td><td>1617</td><td>1</td><td>2022-09-17 00:45:50</td><td>40494</td></tr><tr><td>337</td><td>6532</td><td>1692</td><td>0</td><td>2020-07-29 21:34:30</td><td>5562</td></tr><tr><td>338</td><td>384</td><td>807</td><td>0</td><td>2020-03-05 23:19:30</td><td>40655</td></tr><tr><td>338</td><td>2062</td><td>7306</td><td>1</td><td>2020-10-01 11:17:43</td><td>19111</td></tr><tr><td>338</td><td>9226</td><td>7711</td><td>1</td><td>2022-03-06 01:41:38</td><td>40354</td></tr><tr><td>338</td><td>5163</td><td>3914</td><td>1</td><td>2022-04-20 13:30:50</td><td>23925</td></tr><tr><td>338</td><td>761</td><td>1392</td><td>0</td><td>2022-04-27 15:16:29</td><td>29775</td></tr><tr><td>338</td><td>57</td><td>9512</td><td>1</td><td>2022-12-05 07:08:08</td><td>42769</td></tr><tr><td>339</td><td>8618</td><td>3136</td><td>1</td><td>2022-05-19 21:49:01</td><td>31946</td></tr><tr><td>340</td><td>9498</td><td>7952</td><td>1</td><td>2020-01-30 12:09:33</td><td>40716</td></tr><tr><td>340</td><td>4812</td><td>3392</td><td>1</td><td>2021-04-10 06:36:45</td><td>42754</td></tr><tr><td>340</td><td>9940</td><td>6147</td><td>1</td><td>2022-09-06 13:55:11</td><td>38010</td></tr><tr><td>342</td><td>3722</td><td>6083</td><td>1</td><td>2022-03-31 18:43:11</td><td>26050</td></tr><tr><td>342</td><td>2865</td><td>5820</td><td>0</td><td>2022-04-20 13:51:41</td><td>27346</td></tr><tr><td>342</td><td>8298</td><td>9521</td><td>0</td><td>2022-09-06 00:12:25</td><td>21867</td></tr><tr><td>343</td><td>9405</td><td>815</td><td>0</td><td>2020-06-16 22:58:05</td><td>16464</td></tr><tr><td>343</td><td>351</td><td>6233</td><td>1</td><td>2021-05-10 05:28:01</td><td>38074</td></tr><tr><td>343</td><td>386</td><td>8469</td><td>0</td><td>2022-05-21 05:51:24</td><td>44040</td></tr><tr><td>344</td><td>4623</td><td>2903</td><td>0</td><td>2021-05-17 14:31:48</td><td>15137</td></tr><tr><td>344</td><td>3069</td><td>8377</td><td>0</td><td>2022-03-13 14:28:14</td><td>30233</td></tr><tr><td>345</td><td>7810</td><td>188</td><td>0</td><td>2021-01-12 15:03:19</td><td>28161</td></tr><tr><td>345</td><td>2929</td><td>6512</td><td>0</td><td>2022-05-15 19:47:20</td><td>3794</td></tr><tr><td>346</td><td>5176</td><td>7982</td><td>0</td><td>2020-09-18 23:39:29</td><td>24016</td></tr><tr><td>346</td><td>4353</td><td>8867</td><td>1</td><td>2020-09-28 07:24:11</td><td>35133</td></tr><tr><td>346</td><td>961</td><td>507</td><td>1</td><td>2020-12-19 07:29:36</td><td>30368</td></tr><tr><td>346</td><td>8571</td><td>398</td><td>1</td><td>2022-02-22 02:31:07</td><td>37469</td></tr><tr><td>346</td><td>5482</td><td>6872</td><td>0</td><td>2022-07-25 07:03:04</td><td>42508</td></tr><tr><td>347</td><td>32</td><td>8358</td><td>1</td><td>2022-06-04 01:07:58</td><td>5867</td></tr><tr><td>348</td><td>9967</td><td>2842</td><td>1</td><td>2020-02-02 04:14:01</td><td>4029</td></tr><tr><td>348</td><td>5500</td><td>7045</td><td>1</td><td>2022-01-03 23:37:15</td><td>28978</td></tr><tr><td>349</td><td>6517</td><td>4566</td><td>1</td><td>2020-06-27 06:49:18</td><td>17444</td></tr><tr><td>349</td><td>454</td><td>7015</td><td>1</td><td>2022-08-24 03:00:09</td><td>29455</td></tr><tr><td>350</td><td>7681</td><td>4095</td><td>0</td><td>2022-02-11 17:24:41</td><td>30743</td></tr><tr><td>351</td><td>5195</td><td>2061</td><td>1</td><td>2020-04-27 18:34:08</td><td>19200</td></tr><tr><td>352</td><td>1847</td><td>7537</td><td>1</td><td>2020-09-28 19:12:58</td><td>14899</td></tr><tr><td>352</td><td>2813</td><td>9805</td><td>0</td><td>2021-09-20 07:59:32</td><td>8694</td></tr><tr><td>352</td><td>2040</td><td>4250</td><td>1</td><td>2022-04-29 08:41:38</td><td>29376</td></tr><tr><td>353</td><td>1439</td><td>6275</td><td>1</td><td>2020-01-20 21:17:36</td><td>25354</td></tr><tr><td>354</td><td>8525</td><td>1537</td><td>1</td><td>2022-04-25 17:00:42</td><td>42364</td></tr><tr><td>355</td><td>3090</td><td>3213</td><td>1</td><td>2020-08-13 01:05:18</td><td>2243</td></tr><tr><td>356</td><td>930</td><td>3833</td><td>1</td><td>2020-12-30 11:39:37</td><td>41460</td></tr><tr><td>356</td><td>4423</td><td>1140</td><td>0</td><td>2021-01-04 13:44:45</td><td>27706</td></tr><tr><td>356</td><td>5559</td><td>8206</td><td>1</td><td>2021-02-27 18:22:12</td><td>24633</td></tr><tr><td>356</td><td>3005</td><td>453</td><td>0</td><td>2022-08-25 21:45:48</td><td>47822</td></tr><tr><td>357</td><td>1330</td><td>5233</td><td>0</td><td>2020-01-15 07:26:13</td><td>15089</td></tr><tr><td>357</td><td>2677</td><td>1659</td><td>1</td><td>2020-06-24 20:39:32</td><td>10764</td></tr><tr><td>357</td><td>4597</td><td>9451</td><td>0</td><td>2021-04-25 21:04:00</td><td>23336</td></tr><tr><td>358</td><td>8340</td><td>9873</td><td>1</td><td>2020-09-02 11:40:47</td><td>24628</td></tr><tr><td>358</td><td>259</td><td>8207</td><td>1</td><td>2022-01-28 04:46:26</td><td>5305</td></tr><tr><td>359</td><td>1693</td><td>1903</td><td>1</td><td>2020-04-09 23:36:28</td><td>42614</td></tr><tr><td>359</td><td>7284</td><td>271</td><td>0</td><td>2020-12-21 19:24:12</td><td>40077</td></tr><tr><td>359</td><td>9141</td><td>7034</td><td>0</td><td>2021-03-08 13:16:39</td><td>30708</td></tr><tr><td>359</td><td>6920</td><td>6291</td><td>1</td><td>2021-09-07 03:33:53</td><td>46932</td></tr><tr><td>359</td><td>3149</td><td>9197</td><td>1</td><td>2021-12-21 19:28:17</td><td>10251</td></tr><tr><td>359</td><td>9728</td><td>2850</td><td>1</td><td>2022-07-30 09:44:28</td><td>24333</td></tr><tr><td>359</td><td>6521</td><td>4885</td><td>0</td><td>2022-09-06 22:23:14</td><td>37130</td></tr><tr><td>360</td><td>8063</td><td>3165</td><td>1</td><td>2020-05-29 22:37:31</td><td>38443</td></tr><tr><td>360</td><td>8440</td><td>9674</td><td>1</td><td>2021-06-05 17:29:19</td><td>7651</td></tr><tr><td>360</td><td>5869</td><td>4344</td><td>0</td><td>2021-09-18 04:18:38</td><td>32715</td></tr><tr><td>362</td><td>3170</td><td>4901</td><td>1</td><td>2020-07-20 04:33:27</td><td>33327</td></tr><tr><td>362</td><td>4019</td><td>1517</td><td>0</td><td>2020-12-19 05:30:13</td><td>34387</td></tr><tr><td>362</td><td>769</td><td>5680</td><td>0</td><td>2020-12-21 14:38:04</td><td>30093</td></tr><tr><td>362</td><td>1850</td><td>3985</td><td>1</td><td>2022-11-19 20:07:15</td><td>8904</td></tr><tr><td>363</td><td>9074</td><td>4684</td><td>0</td><td>2020-08-09 08:30:00</td><td>41502</td></tr><tr><td>363</td><td>6465</td><td>9236</td><td>0</td><td>2022-12-02 15:06:59</td><td>49005</td></tr><tr><td>364</td><td>1087</td><td>535</td><td>1</td><td>2020-09-07 12:13:56</td><td>5734</td></tr><tr><td>365</td><td>1938</td><td>9256</td><td>1</td><td>2020-04-11 07:54:17</td><td>1634</td></tr><tr><td>365</td><td>6077</td><td>1983</td><td>1</td><td>2020-09-27 04:42:58</td><td>45374</td></tr><tr><td>365</td><td>2275</td><td>4476</td><td>0</td><td>2021-02-24 22:32:09</td><td>41365</td></tr><tr><td>365</td><td>9993</td><td>9351</td><td>0</td><td>2021-08-23 22:55:24</td><td>5423</td></tr><tr><td>365</td><td>4368</td><td>8679</td><td>0</td><td>2022-02-24 09:19:54</td><td>3641</td></tr><tr><td>365</td><td>2119</td><td>2563</td><td>1</td><td>2022-02-28 09:30:22</td><td>15679</td></tr><tr><td>366</td><td>9484</td><td>8487</td><td>0</td><td>2021-01-24 21:33:09</td><td>10409</td></tr><tr><td>367</td><td>8986</td><td>9515</td><td>0</td><td>2020-01-06 07:37:37</td><td>14046</td></tr><tr><td>367</td><td>9542</td><td>4115</td><td>1</td><td>2020-09-28 11:59:41</td><td>29788</td></tr><tr><td>368</td><td>2501</td><td>6521</td><td>0</td><td>2021-03-15 05:35:45</td><td>39121</td></tr><tr><td>368</td><td>4869</td><td>610</td><td>1</td><td>2021-10-14 03:45:21</td><td>9455</td></tr><tr><td>370</td><td>9337</td><td>6575</td><td>1</td><td>2021-12-05 08:44:51</td><td>37757</td></tr><tr><td>370</td><td>1297</td><td>2074</td><td>0</td><td>2022-10-05 17:11:55</td><td>22801</td></tr><tr><td>371</td><td>7990</td><td>9438</td><td>1</td><td>2021-12-02 13:06:26</td><td>25770</td></tr><tr><td>371</td><td>8059</td><td>3111</td><td>0</td><td>2021-12-09 02:32:24</td><td>31180</td></tr><tr><td>374</td><td>824</td><td>353</td><td>0</td><td>2020-08-08 23:07:39</td><td>23665</td></tr><tr><td>374</td><td>8529</td><td>2861</td><td>0</td><td>2021-09-06 10:20:12</td><td>15318</td></tr><tr><td>375</td><td>2726</td><td>2640</td><td>1</td><td>2021-06-01 11:39:46</td><td>20727</td></tr><tr><td>375</td><td>9669</td><td>6324</td><td>0</td><td>2021-12-13 12:58:53</td><td>4278</td></tr><tr><td>375</td><td>8071</td><td>400</td><td>0</td><td>2022-01-27 17:03:56</td><td>34888</td></tr><tr><td>377</td><td>5976</td><td>9660</td><td>0</td><td>2020-09-14 23:56:58</td><td>28947</td></tr><tr><td>377</td><td>3066</td><td>2404</td><td>1</td><td>2021-11-18 04:50:49</td><td>44513</td></tr><tr><td>377</td><td>733</td><td>6929</td><td>0</td><td>2022-01-28 07:26:05</td><td>34514</td></tr><tr><td>378</td><td>8868</td><td>8554</td><td>0</td><td>2020-02-07 07:48:13</td><td>32934</td></tr><tr><td>381</td><td>7716</td><td>9233</td><td>0</td><td>2020-05-04 21:15:58</td><td>23077</td></tr><tr><td>381</td><td>9722</td><td>3789</td><td>0</td><td>2021-05-23 07:33:08</td><td>36000</td></tr><tr><td>381</td><td>2638</td><td>4061</td><td>1</td><td>2022-02-06 14:25:07</td><td>19983</td></tr><tr><td>382</td><td>8351</td><td>6707</td><td>0</td><td>2022-11-06 00:08:29</td><td>2099</td></tr><tr><td>382</td><td>6282</td><td>7058</td><td>0</td><td>2022-11-13 05:29:37</td><td>43487</td></tr><tr><td>383</td><td>8478</td><td>3159</td><td>0</td><td>2020-05-08 12:04:34</td><td>18791</td></tr><tr><td>383</td><td>4264</td><td>3177</td><td>0</td><td>2021-01-14 08:49:15</td><td>34764</td></tr><tr><td>383</td><td>4720</td><td>8359</td><td>1</td><td>2022-03-03 01:46:20</td><td>2445</td></tr><tr><td>384</td><td>5773</td><td>5895</td><td>1</td><td>2020-11-17 02:02:20</td><td>48306</td></tr><tr><td>385</td><td>3324</td><td>9292</td><td>1</td><td>2020-09-19 14:47:13</td><td>12493</td></tr><tr><td>385</td><td>8999</td><td>329</td><td>0</td><td>2022-11-18 05:13:56</td><td>11775</td></tr><tr><td>386</td><td>7681</td><td>4797</td><td>1</td><td>2020-07-27 08:06:34</td><td>45965</td></tr><tr><td>386</td><td>1967</td><td>4595</td><td>1</td><td>2020-12-24 07:03:43</td><td>30037</td></tr><tr><td>386</td><td>5676</td><td>120</td><td>1</td><td>2021-06-13 15:36:08</td><td>12443</td></tr><tr><td>386</td><td>4162</td><td>1878</td><td>0</td><td>2022-02-28 10:46:57</td><td>34959</td></tr><tr><td>386</td><td>880</td><td>4793</td><td>1</td><td>2022-05-22 21:36:30</td><td>36892</td></tr><tr><td>387</td><td>4</td><td>2168</td><td>0</td><td>2022-08-25 23:04:54</td><td>24137</td></tr><tr><td>388</td><td>9750</td><td>9317</td><td>0</td><td>2020-06-24 11:15:28</td><td>38935</td></tr><tr><td>389</td><td>9272</td><td>3131</td><td>1</td><td>2022-01-02 19:39:50</td><td>16617</td></tr><tr><td>389</td><td>6573</td><td>5731</td><td>1</td><td>2022-07-10 01:54:03</td><td>4246</td></tr><tr><td>391</td><td>2594</td><td>5851</td><td>1</td><td>2020-12-21 07:36:05</td><td>26362</td></tr><tr><td>391</td><td>1533</td><td>2370</td><td>1</td><td>2020-12-27 21:04:08</td><td>9075</td></tr><tr><td>391</td><td>98</td><td>1365</td><td>0</td><td>2021-05-30 18:03:04</td><td>26466</td></tr><tr><td>392</td><td>9699</td><td>5072</td><td>0</td><td>2021-05-16 02:20:00</td><td>36167</td></tr><tr><td>392</td><td>5279</td><td>2249</td><td>1</td><td>2021-05-28 06:16:42</td><td>30140</td></tr><tr><td>392</td><td>7949</td><td>5376</td><td>1</td><td>2021-09-08 19:25:26</td><td>25037</td></tr><tr><td>392</td><td>8070</td><td>5473</td><td>1</td><td>2022-08-03 08:29:26</td><td>25093</td></tr><tr><td>393</td><td>3082</td><td>7523</td><td>0</td><td>2021-11-01 01:53:01</td><td>5181</td></tr><tr><td>394</td><td>5425</td><td>8332</td><td>1</td><td>2020-06-17 16:07:37</td><td>3147</td></tr><tr><td>396</td><td>5320</td><td>4181</td><td>0</td><td>2020-01-04 23:01:40</td><td>1131</td></tr><tr><td>396</td><td>9210</td><td>4987</td><td>1</td><td>2021-06-16 00:58:44</td><td>28354</td></tr><tr><td>397</td><td>4458</td><td>1743</td><td>0</td><td>2021-07-03 05:13:25</td><td>36976</td></tr><tr><td>397</td><td>8122</td><td>9126</td><td>0</td><td>2021-08-20 11:01:49</td><td>45937</td></tr><tr><td>398</td><td>6186</td><td>9629</td><td>1</td><td>2020-07-30 00:52:33</td><td>28349</td></tr><tr><td>398</td><td>6468</td><td>3246</td><td>1</td><td>2022-12-30 05:00:35</td><td>30491</td></tr><tr><td>399</td><td>1328</td><td>1110</td><td>0</td><td>2020-03-17 08:24:14</td><td>28192</td></tr><tr><td>400</td><td>7928</td><td>1242</td><td>0</td><td>2020-03-02 22:35:59</td><td>12068</td></tr><tr><td>400</td><td>8568</td><td>895</td><td>0</td><td>2020-05-28 18:12:43</td><td>27542</td></tr><tr><td>400</td><td>3088</td><td>5911</td><td>0</td><td>2021-08-13 12:02:03</td><td>19534</td></tr><tr><td>401</td><td>4926</td><td>4880</td><td>1</td><td>2020-09-27 16:55:57</td><td>12562</td></tr><tr><td>401</td><td>616</td><td>4873</td><td>1</td><td>2021-05-14 18:55:16</td><td>23209</td></tr><tr><td>402</td><td>2471</td><td>6900</td><td>0</td><td>2020-07-22 12:48:38</td><td>6661</td></tr><tr><td>404</td><td>8312</td><td>1825</td><td>0</td><td>2021-04-09 07:13:56</td><td>3446</td></tr><tr><td>404</td><td>7808</td><td>2520</td><td>1</td><td>2021-05-18 03:28:42</td><td>8084</td></tr><tr><td>405</td><td>9192</td><td>4884</td><td>1</td><td>2021-09-06 02:26:17</td><td>5121</td></tr><tr><td>406</td><td>7973</td><td>3025</td><td>1</td><td>2020-05-10 11:45:30</td><td>33643</td></tr><tr><td>406</td><td>5927</td><td>2846</td><td>0</td><td>2021-12-06 18:52:00</td><td>46605</td></tr><tr><td>406</td><td>4408</td><td>2694</td><td>0</td><td>2022-05-31 04:30:27</td><td>4840</td></tr><tr><td>406</td><td>7555</td><td>9051</td><td>0</td><td>2022-08-01 12:03:28</td><td>11217</td></tr><tr><td>408</td><td>2147</td><td>5234</td><td>0</td><td>2020-10-20 05:29:37</td><td>31903</td></tr><tr><td>408</td><td>8021</td><td>9187</td><td>0</td><td>2021-04-06 12:35:47</td><td>41631</td></tr><tr><td>409</td><td>9551</td><td>5745</td><td>1</td><td>2020-02-02 07:47:59</td><td>17212</td></tr><tr><td>409</td><td>6628</td><td>4869</td><td>0</td><td>2020-03-07 04:02:46</td><td>49286</td></tr><tr><td>409</td><td>2715</td><td>5816</td><td>1</td><td>2022-07-03 09:57:21</td><td>6919</td></tr><tr><td>410</td><td>4466</td><td>4246</td><td>1</td><td>2020-10-21 08:01:36</td><td>38826</td></tr><tr><td>411</td><td>6706</td><td>9722</td><td>0</td><td>2021-04-16 17:17:02</td><td>4360</td></tr><tr><td>411</td><td>832</td><td>2239</td><td>0</td><td>2021-07-02 08:29:00</td><td>22372</td></tr><tr><td>412</td><td>3543</td><td>165</td><td>1</td><td>2021-06-08 21:47:17</td><td>25837</td></tr><tr><td>412</td><td>3100</td><td>4061</td><td>0</td><td>2021-06-27 02:33:32</td><td>32180</td></tr><tr><td>413</td><td>7335</td><td>8527</td><td>1</td><td>2020-03-26 01:47:36</td><td>20663</td></tr><tr><td>416</td><td>3203</td><td>9834</td><td>0</td><td>2022-01-30 23:45:06</td><td>47384</td></tr><tr><td>417</td><td>7652</td><td>6319</td><td>0</td><td>2022-01-30 14:55:38</td><td>9509</td></tr><tr><td>418</td><td>7376</td><td>1552</td><td>0</td><td>2020-02-09 13:17:42</td><td>6648</td></tr><tr><td>418</td><td>3165</td><td>967</td><td>0</td><td>2020-07-18 15:49:18</td><td>10177</td></tr><tr><td>418</td><td>5404</td><td>6862</td><td>1</td><td>2021-05-17 04:40:57</td><td>35147</td></tr><tr><td>418</td><td>7006</td><td>7754</td><td>0</td><td>2021-06-10 07:51:07</td><td>27891</td></tr><tr><td>419</td><td>5572</td><td>4488</td><td>1</td><td>2020-03-19 08:38:43</td><td>30203</td></tr><tr><td>419</td><td>7511</td><td>5218</td><td>1</td><td>2020-07-27 21:08:11</td><td>40633</td></tr><tr><td>419</td><td>2695</td><td>6641</td><td>0</td><td>2021-08-22 15:20:34</td><td>42669</td></tr><tr><td>419</td><td>3698</td><td>1083</td><td>1</td><td>2022-01-10 00:28:28</td><td>37243</td></tr><tr><td>419</td><td>2667</td><td>989</td><td>1</td><td>2022-11-11 01:50:41</td><td>27901</td></tr><tr><td>420</td><td>1893</td><td>8856</td><td>1</td><td>2020-07-07 13:17:11</td><td>31938</td></tr><tr><td>420</td><td>6342</td><td>3734</td><td>1</td><td>2022-03-11 02:30:03</td><td>36021</td></tr><tr><td>421</td><td>5069</td><td>2562</td><td>1</td><td>2020-04-07 00:33:25</td><td>2791</td></tr><tr><td>421</td><td>8265</td><td>4945</td><td>0</td><td>2020-04-26 09:30:11</td><td>11389</td></tr><tr><td>421</td><td>3506</td><td>6492</td><td>0</td><td>2021-01-04 00:41:18</td><td>4441</td></tr><tr><td>421</td><td>7975</td><td>7536</td><td>0</td><td>2021-07-10 09:18:47</td><td>18551</td></tr><tr><td>422</td><td>5160</td><td>4795</td><td>1</td><td>2020-07-01 19:51:24</td><td>35164</td></tr><tr><td>422</td><td>2431</td><td>2700</td><td>1</td><td>2022-04-17 13:56:18</td><td>27078</td></tr><tr><td>422</td><td>1464</td><td>3980</td><td>0</td><td>2022-07-21 19:08:22</td><td>9839</td></tr><tr><td>424</td><td>3348</td><td>8872</td><td>0</td><td>2021-03-16 20:11:00</td><td>1515</td></tr><tr><td>425</td><td>6876</td><td>9415</td><td>0</td><td>2022-03-16 10:42:08</td><td>30039</td></tr><tr><td>425</td><td>6756</td><td>1835</td><td>0</td><td>2022-06-12 20:25:47</td><td>11139</td></tr><tr><td>429</td><td>6379</td><td>2645</td><td>0</td><td>2022-08-14 11:07:27</td><td>12138</td></tr><tr><td>430</td><td>7867</td><td>2222</td><td>0</td><td>2020-11-22 00:01:48</td><td>25331</td></tr><tr><td>430</td><td>9706</td><td>3500</td><td>0</td><td>2020-12-19 13:18:00</td><td>10661</td></tr><tr><td>430</td><td>4537</td><td>6428</td><td>1</td><td>2021-01-17 20:13:41</td><td>27689</td></tr><tr><td>430</td><td>4155</td><td>7587</td><td>1</td><td>2022-10-03 02:43:23</td><td>32649</td></tr><tr><td>432</td><td>2360</td><td>6666</td><td>0</td><td>2021-12-23 20:34:42</td><td>47634</td></tr><tr><td>432</td><td>2005</td><td>4255</td><td>0</td><td>2022-05-15 16:09:24</td><td>36149</td></tr><tr><td>433</td><td>548</td><td>4166</td><td>1</td><td>2020-08-31 01:47:49</td><td>18312</td></tr><tr><td>433</td><td>2672</td><td>8827</td><td>0</td><td>2021-05-02 01:32:36</td><td>15368</td></tr><tr><td>433</td><td>1901</td><td>3624</td><td>1</td><td>2022-08-31 09:20:30</td><td>12984</td></tr><tr><td>434</td><td>5433</td><td>2350</td><td>0</td><td>2020-04-01 09:32:46</td><td>45607</td></tr><tr><td>434</td><td>7376</td><td>7802</td><td>0</td><td>2021-12-09 18:02:16</td><td>37022</td></tr><tr><td>434</td><td>8791</td><td>8634</td><td>0</td><td>2022-01-29 22:50:54</td><td>35906</td></tr><tr><td>435</td><td>907</td><td>6638</td><td>0</td><td>2020-08-20 22:45:22</td><td>17978</td></tr><tr><td>436</td><td>2269</td><td>8577</td><td>1</td><td>2021-03-10 04:38:49</td><td>30247</td></tr><tr><td>436</td><td>5418</td><td>2420</td><td>0</td><td>2021-10-30 14:38:09</td><td>19995</td></tr><tr><td>436</td><td>2829</td><td>8555</td><td>0</td><td>2021-12-01 09:40:09</td><td>5110</td></tr><tr><td>436</td><td>7045</td><td>9731</td><td>1</td><td>2022-12-13 15:00:07</td><td>46283</td></tr><tr><td>437</td><td>9928</td><td>1944</td><td>1</td><td>2020-07-19 13:50:34</td><td>1783</td></tr><tr><td>437</td><td>4757</td><td>7145</td><td>1</td><td>2022-02-04 02:58:25</td><td>22873</td></tr><tr><td>437</td><td>6815</td><td>7623</td><td>0</td><td>2022-05-17 19:52:10</td><td>43110</td></tr><tr><td>439</td><td>2646</td><td>5541</td><td>1</td><td>2021-06-14 06:27:38</td><td>41747</td></tr><tr><td>440</td><td>3337</td><td>7648</td><td>0</td><td>2020-12-25 23:30:41</td><td>20445</td></tr><tr><td>440</td><td>9511</td><td>7580</td><td>1</td><td>2021-07-04 10:35:27</td><td>16368</td></tr><tr><td>440</td><td>4124</td><td>5677</td><td>0</td><td>2021-12-24 06:08:32</td><td>27452</td></tr><tr><td>441</td><td>4087</td><td>1213</td><td>1</td><td>2020-11-18 20:08:57</td><td>26863</td></tr><tr><td>443</td><td>593</td><td>4812</td><td>1</td><td>2021-02-20 06:26:58</td><td>49074</td></tr><tr><td>443</td><td>9617</td><td>9021</td><td>1</td><td>2021-10-22 20:45:03</td><td>2333</td></tr><tr><td>443</td><td>7123</td><td>4018</td><td>0</td><td>2022-03-17 17:14:21</td><td>17120</td></tr><tr><td>444</td><td>7399</td><td>6996</td><td>0</td><td>2020-10-04 22:02:20</td><td>27651</td></tr><tr><td>444</td><td>5649</td><td>5689</td><td>0</td><td>2021-07-25 03:11:00</td><td>46632</td></tr><tr><td>444</td><td>5149</td><td>5951</td><td>0</td><td>2022-06-02 10:14:46</td><td>45058</td></tr><tr><td>445</td><td>2172</td><td>5508</td><td>0</td><td>2020-12-15 00:44:02</td><td>20597</td></tr><tr><td>445</td><td>6679</td><td>4200</td><td>0</td><td>2021-03-07 21:56:40</td><td>38649</td></tr><tr><td>445</td><td>6293</td><td>8738</td><td>0</td><td>2022-07-14 21:20:24</td><td>25144</td></tr><tr><td>446</td><td>2553</td><td>9400</td><td>0</td><td>2020-03-17 05:35:39</td><td>5662</td></tr><tr><td>446</td><td>591</td><td>8078</td><td>1</td><td>2020-09-18 17:28:56</td><td>42158</td></tr><tr><td>446</td><td>2688</td><td>9652</td><td>1</td><td>2022-08-24 08:23:20</td><td>42544</td></tr><tr><td>447</td><td>306</td><td>7673</td><td>1</td><td>2020-06-17 12:46:19</td><td>2988</td></tr><tr><td>447</td><td>2571</td><td>3890</td><td>0</td><td>2020-07-16 23:57:39</td><td>44699</td></tr><tr><td>447</td><td>1518</td><td>2566</td><td>1</td><td>2021-07-17 22:46:42</td><td>2707</td></tr><tr><td>447</td><td>3548</td><td>4395</td><td>0</td><td>2021-08-15 07:49:09</td><td>2278</td></tr><tr><td>447</td><td>2934</td><td>2410</td><td>1</td><td>2022-04-09 15:36:09</td><td>39212</td></tr><tr><td>448</td><td>8524</td><td>9453</td><td>1</td><td>2021-02-28 05:58:51</td><td>47054</td></tr><tr><td>448</td><td>3811</td><td>471</td><td>1</td><td>2021-06-12 21:46:54</td><td>16561</td></tr><tr><td>448</td><td>4770</td><td>5680</td><td>1</td><td>2021-12-14 10:36:20</td><td>46763</td></tr><tr><td>448</td><td>5988</td><td>1189</td><td>0</td><td>2022-04-04 05:32:48</td><td>25836</td></tr><tr><td>449</td><td>7425</td><td>1891</td><td>1</td><td>2020-04-24 13:41:58</td><td>43780</td></tr><tr><td>449</td><td>1554</td><td>2135</td><td>1</td><td>2022-06-27 08:57:31</td><td>44667</td></tr><tr><td>450</td><td>2356</td><td>3671</td><td>1</td><td>2020-03-22 08:59:57</td><td>43862</td></tr><tr><td>451</td><td>908</td><td>1471</td><td>1</td><td>2020-04-01 07:20:28</td><td>36409</td></tr><tr><td>451</td><td>4069</td><td>262</td><td>1</td><td>2020-05-29 11:24:25</td><td>25157</td></tr><tr><td>452</td><td>8657</td><td>7567</td><td>0</td><td>2021-04-04 04:42:27</td><td>47064</td></tr><tr><td>453</td><td>9889</td><td>2876</td><td>0</td><td>2020-03-08 07:28:45</td><td>14883</td></tr><tr><td>453</td><td>6585</td><td>2268</td><td>0</td><td>2020-07-21 22:55:22</td><td>27263</td></tr><tr><td>453</td><td>754</td><td>7802</td><td>0</td><td>2021-12-24 01:48:26</td><td>30664</td></tr><tr><td>453</td><td>8523</td><td>2704</td><td>1</td><td>2022-08-19 00:46:48</td><td>16904</td></tr><tr><td>454</td><td>8929</td><td>8463</td><td>0</td><td>2021-08-05 01:51:51</td><td>16777</td></tr><tr><td>456</td><td>4768</td><td>6892</td><td>0</td><td>2020-08-26 05:31:21</td><td>30141</td></tr><tr><td>457</td><td>128</td><td>5210</td><td>0</td><td>2020-05-30 10:25:00</td><td>4513</td></tr><tr><td>457</td><td>6324</td><td>5548</td><td>1</td><td>2021-07-05 19:31:07</td><td>10894</td></tr><tr><td>458</td><td>9284</td><td>2504</td><td>1</td><td>2020-06-09 15:21:25</td><td>14083</td></tr><tr><td>458</td><td>3178</td><td>3432</td><td>0</td><td>2021-08-17 03:17:54</td><td>19946</td></tr><tr><td>458</td><td>3071</td><td>4519</td><td>1</td><td>2021-09-03 19:37:57</td><td>22568</td></tr><tr><td>458</td><td>7655</td><td>1458</td><td>0</td><td>2022-11-27 16:43:56</td><td>22330</td></tr><tr><td>459</td><td>6678</td><td>7867</td><td>0</td><td>2020-07-09 21:53:41</td><td>47807</td></tr><tr><td>460</td><td>6807</td><td>5315</td><td>1</td><td>2020-04-04 06:15:52</td><td>20264</td></tr><tr><td>460</td><td>1998</td><td>4586</td><td>0</td><td>2021-08-05 12:04:56</td><td>2163</td></tr><tr><td>460</td><td>6645</td><td>9406</td><td>0</td><td>2022-11-22 11:27:17</td><td>22176</td></tr><tr><td>460</td><td>4512</td><td>6611</td><td>1</td><td>2022-12-16 19:27:32</td><td>40908</td></tr><tr><td>461</td><td>7306</td><td>6838</td><td>1</td><td>2020-04-10 18:00:46</td><td>20075</td></tr><tr><td>461</td><td>2047</td><td>6139</td><td>1</td><td>2020-04-25 05:27:30</td><td>48362</td></tr><tr><td>461</td><td>3521</td><td>7178</td><td>1</td><td>2020-10-01 01:29:24</td><td>14288</td></tr><tr><td>461</td><td>314</td><td>8824</td><td>1</td><td>2022-04-18 12:35:30</td><td>43759</td></tr><tr><td>462</td><td>3035</td><td>2760</td><td>1</td><td>2021-03-11 19:30:21</td><td>3385</td></tr><tr><td>462</td><td>3426</td><td>6980</td><td>1</td><td>2021-11-24 23:36:12</td><td>17893</td></tr><tr><td>463</td><td>3674</td><td>8892</td><td>1</td><td>2020-05-23 08:44:26</td><td>32176</td></tr><tr><td>463</td><td>326</td><td>9668</td><td>1</td><td>2022-09-25 11:59:05</td><td>34435</td></tr><tr><td>465</td><td>4697</td><td>5241</td><td>0</td><td>2020-03-13 05:57:11</td><td>16264</td></tr><tr><td>465</td><td>5746</td><td>9146</td><td>0</td><td>2021-11-03 08:15:33</td><td>8842</td></tr><tr><td>467</td><td>4588</td><td>1890</td><td>1</td><td>2021-01-29 06:30:43</td><td>20194</td></tr><tr><td>467</td><td>7013</td><td>4092</td><td>1</td><td>2022-01-27 07:00:21</td><td>10671</td></tr><tr><td>467</td><td>9856</td><td>5477</td><td>0</td><td>2022-05-18 12:39:12</td><td>46595</td></tr><tr><td>468</td><td>3474</td><td>7182</td><td>0</td><td>2020-03-31 23:00:13</td><td>33974</td></tr><tr><td>469</td><td>8619</td><td>118</td><td>0</td><td>2022-03-02 19:50:53</td><td>25304</td></tr><tr><td>470</td><td>1429</td><td>9779</td><td>0</td><td>2021-03-06 01:48:51</td><td>29618</td></tr><tr><td>470</td><td>576</td><td>974</td><td>0</td><td>2022-10-15 21:28:30</td><td>15129</td></tr><tr><td>471</td><td>8601</td><td>3762</td><td>0</td><td>2020-08-18 00:08:42</td><td>9374</td></tr><tr><td>471</td><td>7412</td><td>9614</td><td>0</td><td>2020-09-13 21:28:41</td><td>30832</td></tr><tr><td>471</td><td>1010</td><td>3774</td><td>1</td><td>2020-09-14 15:55:35</td><td>48228</td></tr><tr><td>471</td><td>2255</td><td>4947</td><td>0</td><td>2021-05-16 12:17:37</td><td>16219</td></tr><tr><td>472</td><td>1434</td><td>1845</td><td>1</td><td>2020-02-15 23:08:06</td><td>10609</td></tr><tr><td>472</td><td>2502</td><td>7797</td><td>0</td><td>2021-07-02 06:22:29</td><td>25255</td></tr><tr><td>472</td><td>5831</td><td>9418</td><td>0</td><td>2022-01-14 16:59:33</td><td>37354</td></tr><tr><td>472</td><td>6949</td><td>3444</td><td>1</td><td>2022-03-23 06:52:10</td><td>48121</td></tr><tr><td>473</td><td>8739</td><td>2157</td><td>0</td><td>2022-06-18 13:26:24</td><td>47036</td></tr><tr><td>474</td><td>2518</td><td>8304</td><td>0</td><td>2021-07-25 06:03:16</td><td>19320</td></tr><tr><td>474</td><td>4910</td><td>1565</td><td>1</td><td>2021-11-03 02:46:57</td><td>32907</td></tr><tr><td>474</td><td>750</td><td>2701</td><td>1</td><td>2022-10-04 03:45:51</td><td>18833</td></tr><tr><td>475</td><td>6645</td><td>2174</td><td>0</td><td>2020-01-04 12:54:02</td><td>39103</td></tr><tr><td>475</td><td>4403</td><td>8765</td><td>1</td><td>2020-02-08 01:35:09</td><td>27090</td></tr><tr><td>475</td><td>5720</td><td>1764</td><td>1</td><td>2021-06-13 01:42:28</td><td>46236</td></tr><tr><td>475</td><td>8510</td><td>9108</td><td>1</td><td>2021-08-09 08:34:18</td><td>20089</td></tr><tr><td>476</td><td>1908</td><td>2382</td><td>1</td><td>2022-03-14 09:03:43</td><td>35699</td></tr><tr><td>477</td><td>3821</td><td>5327</td><td>1</td><td>2020-01-04 21:55:23</td><td>35119</td></tr><tr><td>477</td><td>2224</td><td>2850</td><td>1</td><td>2020-10-29 07:57:26</td><td>35787</td></tr><tr><td>478</td><td>7273</td><td>1447</td><td>0</td><td>2020-09-14 08:54:28</td><td>27489</td></tr><tr><td>478</td><td>9724</td><td>2476</td><td>0</td><td>2021-12-05 02:20:31</td><td>43102</td></tr><tr><td>478</td><td>381</td><td>6970</td><td>1</td><td>2022-03-26 22:14:01</td><td>10776</td></tr><tr><td>479</td><td>4127</td><td>186</td><td>1</td><td>2020-02-08 13:40:20</td><td>4157</td></tr><tr><td>480</td><td>3396</td><td>6495</td><td>0</td><td>2020-04-05 02:00:45</td><td>28396</td></tr><tr><td>481</td><td>4721</td><td>843</td><td>0</td><td>2020-02-10 19:32:17</td><td>47524</td></tr><tr><td>481</td><td>8861</td><td>5884</td><td>0</td><td>2022-01-28 16:10:12</td><td>13433</td></tr><tr><td>482</td><td>6896</td><td>9389</td><td>1</td><td>2021-08-12 05:07:12</td><td>30849</td></tr><tr><td>482</td><td>3862</td><td>3123</td><td>0</td><td>2021-08-12 06:35:12</td><td>16326</td></tr><tr><td>483</td><td>8411</td><td>1870</td><td>1</td><td>2021-01-05 13:05:35</td><td>42875</td></tr><tr><td>483</td><td>8214</td><td>1588</td><td>0</td><td>2022-03-22 07:42:03</td><td>20242</td></tr><tr><td>483</td><td>2786</td><td>1617</td><td>0</td><td>2022-06-29 04:11:24</td><td>18347</td></tr><tr><td>484</td><td>1729</td><td>3957</td><td>0</td><td>2020-04-28 07:09:39</td><td>37231</td></tr><tr><td>484</td><td>8579</td><td>5556</td><td>1</td><td>2020-12-08 06:14:43</td><td>41873</td></tr><tr><td>484</td><td>4903</td><td>5347</td><td>0</td><td>2021-03-02 05:44:40</td><td>11320</td></tr><tr><td>484</td><td>6646</td><td>6636</td><td>0</td><td>2021-08-25 19:08:20</td><td>42486</td></tr><tr><td>485</td><td>782</td><td>5194</td><td>0</td><td>2021-04-04 02:10:49</td><td>43671</td></tr><tr><td>485</td><td>2569</td><td>8694</td><td>1</td><td>2022-04-05 18:21:15</td><td>39123</td></tr><tr><td>487</td><td>8794</td><td>4844</td><td>0</td><td>2020-03-13 03:00:19</td><td>6495</td></tr><tr><td>487</td><td>5481</td><td>4394</td><td>1</td><td>2022-06-05 08:41:37</td><td>33984</td></tr><tr><td>487</td><td>2156</td><td>2809</td><td>0</td><td>2022-10-10 12:26:44</td><td>31018</td></tr><tr><td>487</td><td>5836</td><td>8580</td><td>0</td><td>2022-10-31 21:07:17</td><td>21827</td></tr><tr><td>487</td><td>7474</td><td>8842</td><td>1</td><td>2022-12-29 12:18:37</td><td>46297</td></tr><tr><td>488</td><td>2761</td><td>9466</td><td>0</td><td>2020-05-25 16:40:31</td><td>46427</td></tr><tr><td>491</td><td>8570</td><td>2755</td><td>0</td><td>2021-08-28 18:19:31</td><td>5454</td></tr><tr><td>491</td><td>3260</td><td>4442</td><td>0</td><td>2022-07-23 19:20:40</td><td>35301</td></tr><tr><td>492</td><td>8883</td><td>3854</td><td>0</td><td>2020-01-31 22:21:24</td><td>32748</td></tr><tr><td>492</td><td>9526</td><td>6616</td><td>0</td><td>2021-08-02 17:23:40</td><td>19146</td></tr><tr><td>492</td><td>4872</td><td>9647</td><td>1</td><td>2022-03-27 19:32:54</td><td>35159</td></tr><tr><td>493</td><td>2683</td><td>1916</td><td>1</td><td>2020-05-25 11:34:59</td><td>41695</td></tr><tr><td>493</td><td>6761</td><td>8758</td><td>0</td><td>2021-06-13 12:40:45</td><td>43397</td></tr><tr><td>493</td><td>2694</td><td>4124</td><td>1</td><td>2022-04-30 09:02:56</td><td>14342</td></tr><tr><td>493</td><td>1806</td><td>4372</td><td>0</td><td>2022-06-10 06:30:46</td><td>15941</td></tr><tr><td>493</td><td>2147</td><td>6663</td><td>0</td><td>2022-07-27 13:31:31</td><td>17317</td></tr><tr><td>494</td><td>4528</td><td>2016</td><td>1</td><td>2020-10-30 23:29:25</td><td>8393</td></tr><tr><td>494</td><td>2307</td><td>2374</td><td>0</td><td>2021-03-14 21:58:26</td><td>46963</td></tr><tr><td>494</td><td>2440</td><td>5404</td><td>0</td><td>2021-09-02 05:54:03</td><td>25531</td></tr><tr><td>494</td><td>9425</td><td>7191</td><td>0</td><td>2022-10-29 19:38:26</td><td>20864</td></tr><tr><td>495</td><td>7950</td><td>6813</td><td>1</td><td>2020-09-28 09:34:33</td><td>22572</td></tr><tr><td>495</td><td>8578</td><td>8196</td><td>0</td><td>2022-03-11 03:55:26</td><td>28331</td></tr><tr><td>495</td><td>8180</td><td>8292</td><td>0</td><td>2022-11-12 17:34:33</td><td>31038</td></tr><tr><td>496</td><td>6684</td><td>2471</td><td>1</td><td>2020-11-22 20:00:53</td><td>47462</td></tr><tr><td>496</td><td>8961</td><td>6932</td><td>1</td><td>2021-02-06 07:05:24</td><td>3831</td></tr><tr><td>496</td><td>2831</td><td>8166</td><td>1</td><td>2021-03-08 20:34:35</td><td>7988</td></tr><tr><td>496</td><td>862</td><td>408</td><td>1</td><td>2022-10-18 23:58:59</td><td>10579</td></tr><tr><td>498</td><td>4155</td><td>2849</td><td>1</td><td>2020-05-06 00:38:29</td><td>26515</td></tr><tr><td>498</td><td>9664</td><td>6031</td><td>1</td><td>2021-05-20 04:43:58</td><td>4432</td></tr><tr><td>498</td><td>9710</td><td>9242</td><td>1</td><td>2022-10-12 11:28:38</td><td>4057</td></tr><tr><td>500</td><td>8212</td><td>728</td><td>0</td><td>2021-05-28 18:42:27</td><td>3663</td></tr></tbody></table></div>"
      ]
     },
     "metadata": {
      "application/vnd.databricks.v1+output": {
       "addedWidgets": {},
       "aggData": [],
       "aggError": "",
       "aggOverflow": false,
       "aggSchema": [],
       "aggSeriesLimitReached": false,
       "aggType": "",
       "arguments": {},
       "columnCustomDisplayInfos": {},
       "data": [
        [
         1,
         901,
         817,
         1,
         "2021-10-31 02:37:40",
         33873
        ],
        [
         2,
         8836,
         3642,
         0,
         "2021-01-20 06:50:33",
         41092
        ],
        [
         2,
         4242,
         7806,
         0,
         "2021-05-06 10:46:17",
         21093
        ],
        [
         2,
         4068,
         6796,
         0,
         "2022-03-17 13:15:31",
         18719
        ],
        [
         2,
         6766,
         8790,
         1,
         "2022-07-07 04:11:23",
         7163
        ],
        [
         3,
         159,
         1898,
         1,
         "2021-01-07 17:03:03",
         5189
        ],
        [
         5,
         816,
         659,
         0,
         "2020-04-03 12:22:52",
         4481
        ],
        [
         6,
         1543,
         6141,
         1,
         "2020-02-01 08:32:51",
         30243
        ],
        [
         6,
         8641,
         2968,
         1,
         "2021-03-30 17:05:39",
         48237
        ],
        [
         6,
         2587,
         2981,
         0,
         "2021-11-23 14:31:54",
         33987
        ],
        [
         6,
         5891,
         1241,
         0,
         "2022-02-03 16:36:25",
         19714
        ],
        [
         6,
         2416,
         9332,
         0,
         "2022-09-22 07:13:15",
         22672
        ],
        [
         7,
         2677,
         9968,
         1,
         "2021-06-05 04:25:56",
         16685
        ],
        [
         9,
         4432,
         9283,
         1,
         "2022-02-06 03:08:42",
         27062
        ],
        [
         9,
         9806,
         1343,
         0,
         "2022-04-02 10:43:46",
         30029
        ],
        [
         9,
         4444,
         1840,
         0,
         "2022-11-22 16:35:02",
         5518
        ],
        [
         10,
         4045,
         6601,
         1,
         "2022-03-25 19:10:07",
         34327
        ],
        [
         11,
         2462,
         5995,
         1,
         "2020-03-29 20:17:01",
         24672
        ],
        [
         11,
         5612,
         8693,
         0,
         "2021-02-02 01:35:34",
         40028
        ],
        [
         11,
         1214,
         6734,
         1,
         "2022-10-17 20:24:01",
         38290
        ],
        [
         12,
         4301,
         4850,
         1,
         "2020-03-10 09:32:44",
         49350
        ],
        [
         13,
         3898,
         2309,
         1,
         "2021-03-10 09:30:41",
         46773
        ],
        [
         14,
         9203,
         8588,
         0,
         "2021-01-03 17:04:11",
         42398
        ],
        [
         15,
         6768,
         7845,
         0,
         "2020-10-27 22:23:36",
         3552
        ],
        [
         16,
         7231,
         9314,
         1,
         "2021-01-09 23:15:49",
         13289
        ],
        [
         17,
         2917,
         5740,
         1,
         "2020-01-28 17:13:00",
         38901
        ],
        [
         17,
         8605,
         1989,
         1,
         "2020-03-19 22:31:51",
         30661
        ],
        [
         17,
         844,
         6132,
         1,
         "2021-02-03 05:00:44",
         28599
        ],
        [
         18,
         9670,
         8591,
         0,
         "2020-08-22 18:06:20",
         46209
        ],
        [
         18,
         4150,
         8125,
         1,
         "2022-01-28 17:25:30",
         48211
        ],
        [
         19,
         1924,
         4671,
         1,
         "2020-09-03 12:02:10",
         40837
        ],
        [
         19,
         3255,
         6285,
         1,
         "2021-05-08 12:00:37",
         2401
        ],
        [
         19,
         5055,
         326,
         1,
         "2021-06-22 06:50:11",
         48539
        ],
        [
         19,
         7493,
         732,
         1,
         "2022-04-21 07:37:29",
         5028
        ],
        [
         19,
         8195,
         184,
         1,
         "2022-09-29 03:10:08",
         43329
        ],
        [
         20,
         3406,
         2401,
         0,
         "2020-12-29 13:29:18",
         32721
        ],
        [
         20,
         2422,
         2844,
         1,
         "2022-04-25 08:04:25",
         11656
        ],
        [
         21,
         86,
         5120,
         0,
         "2021-03-06 20:48:06",
         36693
        ],
        [
         23,
         8449,
         2403,
         1,
         "2022-10-27 04:38:07",
         5443
        ],
        [
         23,
         2107,
         2780,
         1,
         "2022-11-01 18:49:01",
         48441
        ],
        [
         24,
         2384,
         3276,
         1,
         "2020-03-29 14:58:04",
         45898
        ],
        [
         24,
         8328,
         6754,
         1,
         "2021-07-21 14:33:35",
         37101
        ],
        [
         25,
         9060,
         9579,
         1,
         "2020-05-25 15:40:13",
         37971
        ],
        [
         25,
         9083,
         1706,
         1,
         "2020-09-12 21:30:29",
         12029
        ],
        [
         25,
         1036,
         8513,
         1,
         "2021-04-17 02:26:34",
         27726
        ],
        [
         26,
         5568,
         2766,
         0,
         "2021-03-31 22:20:48",
         37099
        ],
        [
         27,
         999,
         142,
         0,
         "2021-12-14 06:55:00",
         41235
        ],
        [
         27,
         6766,
         7098,
         1,
         "2022-02-21 20:09:15",
         46635
        ],
        [
         27,
         3813,
         8364,
         1,
         "2022-05-21 11:18:46",
         48521
        ],
        [
         28,
         8220,
         1426,
         0,
         "2020-09-22 00:06:21",
         42096
        ],
        [
         28,
         2529,
         5016,
         0,
         "2020-09-24 03:03:26",
         24907
        ],
        [
         29,
         2702,
         2514,
         1,
         "2022-04-18 20:51:05",
         19117
        ],
        [
         29,
         7829,
         6494,
         1,
         "2022-11-11 00:07:03",
         27646
        ],
        [
         29,
         549,
         3495,
         1,
         "2022-11-15 00:52:44",
         16492
        ],
        [
         30,
         6671,
         2859,
         0,
         "2021-09-23 05:50:01",
         29877
        ],
        [
         30,
         7218,
         2109,
         0,
         "2022-03-27 09:49:31",
         17548
        ],
        [
         30,
         7335,
         7048,
         0,
         "2022-12-26 08:09:43",
         20405
        ],
        [
         31,
         9883,
         8246,
         0,
         "2020-03-04 14:24:54",
         14652
        ],
        [
         31,
         5672,
         9880,
         0,
         "2021-02-12 15:25:13",
         18604
        ],
        [
         31,
         8157,
         4950,
         0,
         "2021-03-13 00:39:51",
         7761
        ],
        [
         31,
         6245,
         1467,
         0,
         "2021-11-27 23:35:55",
         29835
        ],
        [
         31,
         4802,
         4817,
         1,
         "2022-01-25 03:46:24",
         32117
        ],
        [
         31,
         1319,
         4894,
         0,
         "2022-03-31 14:03:50",
         28389
        ],
        [
         32,
         3937,
         927,
         1,
         "2020-03-19 20:25:58",
         2726
        ],
        [
         32,
         1444,
         6340,
         1,
         "2021-04-30 15:58:51",
         9035
        ],
        [
         34,
         7932,
         8173,
         1,
         "2022-05-21 05:10:25",
         29344
        ],
        [
         36,
         6058,
         8450,
         0,
         "2020-08-10 02:44:18",
         26172
        ],
        [
         37,
         8308,
         4761,
         0,
         "2020-08-13 14:35:13",
         38845
        ],
        [
         39,
         432,
         5833,
         0,
         "2022-04-23 12:15:52",
         9266
        ],
        [
         41,
         5034,
         995,
         1,
         "2020-03-24 21:46:40",
         1949
        ],
        [
         43,
         7096,
         9448,
         1,
         "2021-11-04 10:35:28",
         22209
        ],
        [
         43,
         2376,
         2843,
         0,
         "2021-11-13 12:44:55",
         4316
        ],
        [
         44,
         6274,
         4362,
         1,
         "2020-02-07 01:45:12",
         17490
        ],
        [
         45,
         707,
         8155,
         1,
         "2021-06-01 11:15:13",
         34217
        ],
        [
         45,
         3912,
         9627,
         1,
         "2022-05-07 03:05:16",
         15492
        ],
        [
         47,
         9064,
         6738,
         1,
         "2022-04-17 19:15:52",
         2341
        ],
        [
         47,
         7496,
         1315,
         0,
         "2022-12-04 07:24:10",
         12172
        ],
        [
         48,
         2365,
         6865,
         1,
         "2020-07-13 09:05:31",
         43714
        ],
        [
         48,
         6006,
         7189,
         1,
         "2020-09-13 03:40:43",
         7320
        ],
        [
         48,
         8684,
         9933,
         1,
         "2021-06-03 12:48:54",
         23832
        ],
        [
         49,
         5213,
         7708,
         1,
         "2020-01-28 07:58:53",
         1014
        ],
        [
         49,
         5674,
         5811,
         0,
         "2020-05-07 09:59:51",
         10597
        ],
        [
         49,
         6286,
         6506,
         0,
         "2020-06-01 13:20:57",
         3997
        ],
        [
         49,
         3152,
         7720,
         1,
         "2021-02-24 11:46:27",
         42239
        ],
        [
         50,
         6193,
         4771,
         1,
         "2020-02-15 15:20:22",
         37207
        ],
        [
         50,
         4209,
         3030,
         1,
         "2020-09-03 11:40:39",
         26548
        ],
        [
         50,
         2844,
         8289,
         1,
         "2020-10-18 15:10:09",
         4143
        ],
        [
         50,
         6988,
         3994,
         0,
         "2020-12-14 07:57:33",
         8924
        ],
        [
         51,
         6438,
         1694,
         1,
         "2020-11-27 02:34:01",
         44112
        ],
        [
         53,
         6065,
         6170,
         0,
         "2020-06-01 07:29:27",
         6154
        ],
        [
         54,
         8475,
         3833,
         0,
         "2020-04-14 02:21:11",
         39806
        ],
        [
         54,
         5048,
         9890,
         1,
         "2020-11-04 23:59:10",
         12116
        ],
        [
         55,
         7075,
         8519,
         1,
         "2020-01-01 08:14:50",
         13002
        ],
        [
         55,
         600,
         7203,
         0,
         "2022-11-19 07:27:49",
         33018
        ],
        [
         56,
         1761,
         4813,
         1,
         "2020-02-27 18:48:27",
         34990
        ],
        [
         57,
         5960,
         9908,
         0,
         "2020-05-10 23:57:38",
         1580
        ],
        [
         57,
         2744,
         6503,
         0,
         "2021-09-09 06:05:26",
         41662
        ],
        [
         57,
         888,
         7369,
         0,
         "2022-11-03 11:22:05",
         49306
        ],
        [
         58,
         4209,
         8236,
         0,
         "2020-06-15 01:01:21",
         16512
        ],
        [
         58,
         5420,
         6282,
         1,
         "2022-03-10 12:39:12",
         44266
        ],
        [
         59,
         7853,
         8228,
         1,
         "2022-07-25 13:09:29",
         28109
        ],
        [
         59,
         1477,
         8793,
         0,
         "2022-11-26 23:24:35",
         33203
        ],
        [
         60,
         2668,
         5994,
         0,
         "2020-01-20 06:22:56",
         37496
        ],
        [
         60,
         435,
         5075,
         0,
         "2020-09-12 18:02:21",
         28694
        ],
        [
         61,
         7623,
         5524,
         1,
         "2021-08-13 02:44:57",
         42845
        ],
        [
         61,
         4452,
         2161,
         1,
         "2022-02-03 21:33:22",
         41764
        ],
        [
         61,
         8832,
         7905,
         0,
         "2022-03-24 21:40:00",
         46081
        ],
        [
         61,
         8385,
         2638,
         0,
         "2022-11-16 01:41:44",
         27232
        ],
        [
         62,
         2645,
         5252,
         1,
         "2021-01-25 09:46:09",
         4816
        ],
        [
         62,
         5996,
         3915,
         1,
         "2021-01-27 12:05:52",
         17385
        ],
        [
         62,
         8,
         6482,
         1,
         "2022-02-16 05:19:16",
         30239
        ],
        [
         62,
         1488,
         3955,
         1,
         "2022-12-16 08:57:45",
         6545
        ],
        [
         63,
         564,
         6063,
         0,
         "2020-06-07 09:12:16",
         29266
        ],
        [
         63,
         7564,
         1555,
         0,
         "2022-12-30 04:02:31",
         44579
        ],
        [
         64,
         3612,
         8308,
         1,
         "2020-11-18 18:18:55",
         43477
        ],
        [
         64,
         9582,
         7955,
         1,
         "2021-06-15 20:35:16",
         36734
        ],
        [
         65,
         3037,
         1745,
         0,
         "2022-01-25 09:26:43",
         45706
        ],
        [
         65,
         8385,
         9605,
         0,
         "2022-09-30 14:23:26",
         28981
        ],
        [
         66,
         2021,
         7037,
         1,
         "2021-04-11 10:14:12",
         31512
        ],
        [
         66,
         9863,
         5176,
         1,
         "2021-06-22 21:21:39",
         7911
        ],
        [
         66,
         3156,
         6871,
         0,
         "2021-07-06 11:25:49",
         20885
        ],
        [
         67,
         2444,
         2627,
         0,
         "2021-09-15 09:26:05",
         47962
        ],
        [
         68,
         9400,
         1329,
         1,
         "2020-02-25 11:54:40",
         18762
        ],
        [
         68,
         4995,
         1970,
         0,
         "2021-01-22 03:09:18",
         10485
        ],
        [
         68,
         4398,
         8435,
         0,
         "2022-07-02 21:45:30",
         27314
        ],
        [
         69,
         3197,
         110,
         1,
         "2020-05-22 09:09:31",
         19505
        ],
        [
         69,
         6917,
         8272,
         0,
         "2021-07-02 11:51:39",
         8144
        ],
        [
         70,
         9031,
         8176,
         1,
         "2020-02-14 06:21:11",
         18273
        ],
        [
         70,
         6072,
         7539,
         0,
         "2020-02-23 03:53:07",
         37112
        ],
        [
         70,
         5983,
         4099,
         0,
         "2021-02-08 22:07:53",
         5117
        ],
        [
         71,
         8395,
         2167,
         1,
         "2022-03-03 11:07:44",
         31557
        ],
        [
         72,
         1886,
         583,
         0,
         "2020-12-31 09:20:04",
         1389
        ],
        [
         72,
         316,
         3487,
         0,
         "2021-04-14 22:09:13",
         23877
        ],
        [
         72,
         8151,
         7584,
         0,
         "2022-08-25 00:04:17",
         32644
        ],
        [
         75,
         7355,
         560,
         0,
         "2021-09-28 08:47:34",
         7121
        ],
        [
         75,
         7138,
         4348,
         1,
         "2021-12-01 04:38:13",
         41612
        ],
        [
         77,
         1285,
         2574,
         1,
         "2020-06-30 03:15:17",
         15362
        ],
        [
         77,
         1475,
         8430,
         0,
         "2021-04-19 19:39:33",
         20338
        ],
        [
         77,
         6933,
         3128,
         1,
         "2022-01-25 05:01:38",
         3780
        ],
        [
         77,
         6200,
         1534,
         0,
         "2022-02-16 21:03:09",
         22654
        ],
        [
         78,
         24,
         4538,
         1,
         "2020-10-01 14:28:50",
         1214
        ],
        [
         78,
         1290,
         6901,
         0,
         "2022-08-24 21:22:12",
         26619
        ],
        [
         79,
         2961,
         8369,
         0,
         "2022-03-20 14:10:49",
         21744
        ],
        [
         80,
         7818,
         7456,
         1,
         "2020-02-29 18:25:18",
         10367
        ],
        [
         81,
         630,
         5080,
         0,
         "2021-08-05 13:04:25",
         35400
        ],
        [
         82,
         1793,
         3123,
         0,
         "2020-04-10 03:27:53",
         49356
        ],
        [
         82,
         7291,
         4991,
         1,
         "2020-06-26 14:36:51",
         9396
        ],
        [
         82,
         9688,
         376,
         1,
         "2022-01-20 01:13:17",
         26642
        ],
        [
         82,
         6544,
         9613,
         0,
         "2022-09-30 22:52:46",
         37606
        ],
        [
         84,
         9395,
         5244,
         1,
         "2020-05-23 03:50:47",
         18071
        ],
        [
         85,
         1935,
         713,
         0,
         "2020-09-15 03:10:06",
         29395
        ],
        [
         85,
         9634,
         7614,
         1,
         "2020-11-01 16:43:49",
         27622
        ],
        [
         87,
         7480,
         5736,
         0,
         "2020-10-02 21:53:49",
         22128
        ],
        [
         87,
         206,
         3656,
         1,
         "2021-03-05 11:49:42",
         40691
        ],
        [
         87,
         4318,
         7123,
         1,
         "2022-03-16 22:43:00",
         35922
        ],
        [
         88,
         6970,
         3704,
         0,
         "2020-07-12 10:42:24",
         32721
        ],
        [
         88,
         5574,
         4299,
         1,
         "2022-02-26 05:33:48",
         11089
        ],
        [
         88,
         1502,
         118,
         1,
         "2022-10-22 12:30:13",
         11920
        ],
        [
         89,
         954,
         7667,
         1,
         "2020-11-21 13:44:26",
         26256
        ],
        [
         89,
         6663,
         517,
         0,
         "2021-02-19 16:04:00",
         34976
        ],
        [
         90,
         7352,
         4946,
         1,
         "2022-04-20 13:25:28",
         47449
        ],
        [
         91,
         6669,
         678,
         1,
         "2020-01-13 11:27:17",
         7316
        ],
        [
         91,
         8384,
         7734,
         1,
         "2021-10-14 05:51:23",
         20255
        ],
        [
         91,
         344,
         7104,
         0,
         "2022-04-05 16:54:48",
         21058
        ],
        [
         92,
         1246,
         9750,
         0,
         "2021-07-05 19:56:12",
         12619
        ],
        [
         92,
         3913,
         6779,
         0,
         "2022-03-14 14:52:06",
         40578
        ],
        [
         93,
         6691,
         3042,
         0,
         "2020-05-10 17:22:27",
         15050
        ],
        [
         93,
         6115,
         1438,
         1,
         "2020-12-19 17:20:05",
         31225
        ],
        [
         94,
         5223,
         3925,
         1,
         "2022-08-02 04:05:49",
         7936
        ],
        [
         94,
         8971,
         4330,
         0,
         "2022-09-11 14:49:34",
         47167
        ],
        [
         95,
         4485,
         5439,
         0,
         "2021-10-23 19:27:09",
         10801
        ],
        [
         96,
         4529,
         6566,
         0,
         "2021-01-02 04:56:31",
         48961
        ],
        [
         96,
         9684,
         9172,
         1,
         "2021-03-31 23:59:34",
         27042
        ],
        [
         96,
         167,
         2008,
         0,
         "2022-04-13 05:04:14",
         13749
        ],
        [
         96,
         1906,
         3912,
         1,
         "2022-09-06 05:06:29",
         28072
        ],
        [
         96,
         2462,
         9143,
         1,
         "2022-09-23 13:21:22",
         2445
        ],
        [
         97,
         5617,
         5353,
         0,
         "2021-11-02 08:33:50",
         13690
        ],
        [
         98,
         5578,
         4724,
         1,
         "2020-06-04 04:08:59",
         35612
        ],
        [
         98,
         3724,
         2880,
         0,
         "2020-12-11 01:03:22",
         48179
        ],
        [
         98,
         5601,
         9994,
         1,
         "2021-01-03 10:54:44",
         26668
        ],
        [
         101,
         5078,
         2071,
         1,
         "2021-11-22 03:29:48",
         21604
        ],
        [
         102,
         670,
         5719,
         0,
         "2020-03-11 22:20:28",
         19745
        ],
        [
         102,
         3321,
         7741,
         1,
         "2021-01-26 05:01:57",
         23848
        ],
        [
         103,
         9134,
         555,
         0,
         "2021-05-15 13:03:45",
         31488
        ],
        [
         104,
         5402,
         8126,
         0,
         "2021-04-10 12:14:44",
         26298
        ],
        [
         104,
         2011,
         9549,
         0,
         "2022-07-29 08:35:55",
         6810
        ],
        [
         105,
         6381,
         704,
         1,
         "2021-09-30 19:37:53",
         23650
        ],
        [
         107,
         5561,
         1942,
         0,
         "2022-03-24 10:43:04",
         35932
        ],
        [
         107,
         382,
         2410,
         0,
         "2022-11-20 20:12:01",
         21647
        ],
        [
         108,
         5706,
         4324,
         1,
         "2020-02-08 13:28:53",
         38431
        ],
        [
         109,
         5853,
         295,
         0,
         "2020-02-13 02:56:26",
         39152
        ],
        [
         109,
         1542,
         8992,
         1,
         "2021-11-05 04:31:37",
         36244
        ],
        [
         110,
         2618,
         3140,
         0,
         "2021-10-18 15:46:55",
         9904
        ],
        [
         111,
         584,
         9535,
         1,
         "2020-11-06 04:34:14",
         3135
        ],
        [
         111,
         1993,
         2243,
         0,
         "2021-05-21 19:03:13",
         45601
        ],
        [
         111,
         2301,
         500,
         0,
         "2021-11-29 17:47:22",
         12144
        ],
        [
         113,
         5005,
         9338,
         0,
         "2021-08-07 22:01:41",
         45029
        ],
        [
         113,
         9346,
         5118,
         1,
         "2022-04-08 06:16:31",
         37596
        ],
        [
         114,
         7706,
         9646,
         0,
         "2020-02-26 11:46:29",
         40189
        ],
        [
         114,
         6232,
         4680,
         1,
         "2021-03-27 07:56:43",
         2247
        ],
        [
         114,
         5042,
         9143,
         1,
         "2022-09-15 17:50:56",
         20946
        ],
        [
         118,
         3912,
         942,
         0,
         "2022-03-05 05:04:34",
         15145
        ],
        [
         119,
         3051,
         6557,
         1,
         "2020-07-22 15:43:14",
         6379
        ],
        [
         119,
         9710,
         4101,
         1,
         "2020-07-31 03:51:10",
         6424
        ],
        [
         119,
         346,
         2278,
         0,
         "2020-12-03 17:47:41",
         20266
        ],
        [
         119,
         2757,
         1614,
         1,
         "2022-02-14 15:22:03",
         16361
        ],
        [
         120,
         8123,
         4811,
         1,
         "2020-11-10 10:17:37",
         20513
        ],
        [
         120,
         615,
         2221,
         1,
         "2021-04-30 04:00:45",
         21048
        ],
        [
         121,
         300,
         5746,
         1,
         "2020-11-02 08:49:13",
         9313
        ],
        [
         121,
         2884,
         6894,
         0,
         "2021-01-30 13:34:58",
         17815
        ],
        [
         121,
         2821,
         562,
         1,
         "2022-10-27 17:31:26",
         14332
        ],
        [
         122,
         2142,
         138,
         0,
         "2021-04-21 16:38:09",
         6388
        ],
        [
         123,
         1955,
         275,
         1,
         "2021-01-13 16:52:36",
         8643
        ],
        [
         123,
         736,
         7037,
         1,
         "2022-05-04 07:45:14",
         19732
        ],
        [
         124,
         943,
         9383,
         0,
         "2021-05-29 00:34:12",
         20165
        ],
        [
         124,
         3553,
         2299,
         1,
         "2021-12-01 03:27:23",
         3827
        ],
        [
         124,
         1300,
         2959,
         1,
         "2022-02-23 12:11:08",
         44154
        ],
        [
         125,
         1058,
         3487,
         1,
         "2021-04-15 00:38:28",
         32900
        ],
        [
         125,
         928,
         6064,
         0,
         "2021-08-11 01:23:06",
         31427
        ],
        [
         125,
         6114,
         4856,
         0,
         "2022-04-18 23:36:50",
         12309
        ],
        [
         127,
         4230,
         8594,
         1,
         "2020-07-30 13:49:48",
         29493
        ],
        [
         127,
         1702,
         6433,
         1,
         "2020-08-11 21:00:54",
         39959
        ],
        [
         128,
         3030,
         7681,
         0,
         "2020-02-06 10:58:54",
         34975
        ],
        [
         128,
         3349,
         6093,
         0,
         "2020-06-17 14:22:01",
         27687
        ],
        [
         129,
         7662,
         7066,
         0,
         "2021-06-04 05:18:26",
         23522
        ],
        [
         130,
         566,
         6084,
         0,
         "2020-03-13 15:12:56",
         17291
        ],
        [
         130,
         3430,
         443,
         0,
         "2022-04-03 08:14:29",
         23292
        ],
        [
         131,
         6294,
         9454,
         0,
         "2020-08-12 20:40:56",
         38154
        ],
        [
         131,
         4621,
         3587,
         1,
         "2022-12-20 22:55:05",
         44651
        ],
        [
         132,
         7540,
         811,
         0,
         "2020-02-18 20:16:45",
         37046
        ],
        [
         132,
         101,
         2101,
         1,
         "2020-04-03 03:18:21",
         1915
        ],
        [
         132,
         1078,
         2492,
         0,
         "2020-09-16 15:45:57",
         7517
        ],
        [
         132,
         2507,
         9516,
         1,
         "2020-09-23 16:34:39",
         31266
        ],
        [
         132,
         3606,
         6544,
         0,
         "2021-07-06 01:16:15",
         41519
        ],
        [
         133,
         9103,
         1226,
         0,
         "2020-02-17 16:11:37",
         36222
        ],
        [
         133,
         1775,
         1809,
         1,
         "2021-12-06 16:53:59",
         23547
        ],
        [
         134,
         570,
         1454,
         0,
         "2021-08-17 21:58:41",
         2169
        ],
        [
         134,
         8920,
         7113,
         1,
         "2022-01-08 08:12:23",
         31854
        ],
        [
         134,
         8934,
         8689,
         1,
         "2022-06-16 23:43:37",
         23136
        ],
        [
         135,
         9124,
         7960,
         1,
         "2020-09-01 09:21:01",
         5872
        ],
        [
         135,
         4094,
         8783,
         0,
         "2020-11-06 02:36:58",
         34676
        ],
        [
         135,
         4437,
         6212,
         0,
         "2021-02-15 15:30:41",
         19877
        ],
        [
         135,
         969,
         7059,
         1,
         "2021-11-13 12:02:37",
         39933
        ],
        [
         135,
         3700,
         4746,
         0,
         "2022-09-22 10:59:02",
         14757
        ],
        [
         136,
         1891,
         3497,
         0,
         "2020-05-04 01:48:18",
         48770
        ],
        [
         136,
         413,
         1876,
         0,
         "2021-11-18 00:42:29",
         34769
        ],
        [
         137,
         9066,
         7404,
         1,
         "2021-07-10 16:57:01",
         23406
        ],
        [
         137,
         5119,
         1403,
         0,
         "2022-10-10 15:57:03",
         5653
        ],
        [
         138,
         2681,
         1866,
         0,
         "2020-01-04 13:39:46",
         46376
        ],
        [
         140,
         4048,
         2286,
         0,
         "2021-11-10 19:14:53",
         38798
        ],
        [
         140,
         6275,
         2694,
         0,
         "2022-02-22 14:42:32",
         42176
        ],
        [
         141,
         6258,
         9529,
         0,
         "2020-06-13 11:54:03",
         22840
        ],
        [
         141,
         3463,
         7510,
         1,
         "2022-07-31 18:48:24",
         1352
        ],
        [
         142,
         1576,
         3028,
         0,
         "2021-09-14 10:32:06",
         24815
        ],
        [
         143,
         8607,
         3406,
         1,
         "2021-12-20 05:28:51",
         8760
        ],
        [
         143,
         4006,
         5660,
         1,
         "2022-01-24 10:31:41",
         46815
        ],
        [
         143,
         2769,
         7953,
         0,
         "2022-03-16 18:16:21",
         36084
        ],
        [
         144,
         1363,
         7151,
         0,
         "2021-06-27 03:29:34",
         38766
        ],
        [
         144,
         1746,
         706,
         0,
         "2022-03-08 04:47:57",
         30145
        ],
        [
         145,
         5563,
         9255,
         0,
         "2020-02-15 22:56:11",
         32735
        ],
        [
         145,
         3813,
         782,
         0,
         "2022-02-10 23:12:54",
         5774
        ],
        [
         146,
         2493,
         1268,
         0,
         "2021-06-11 03:09:52",
         5247
        ],
        [
         147,
         2735,
         1613,
         1,
         "2022-02-26 11:40:27",
         44597
        ],
        [
         148,
         4388,
         4939,
         1,
         "2020-02-23 07:28:39",
         30238
        ],
        [
         148,
         9180,
         6200,
         1,
         "2020-07-30 06:38:07",
         4194
        ],
        [
         148,
         4175,
         6530,
         1,
         "2021-12-30 23:46:49",
         6672
        ],
        [
         148,
         2453,
         4396,
         1,
         "2022-08-08 08:18:38",
         35743
        ],
        [
         149,
         5676,
         2777,
         1,
         "2021-02-11 14:30:11",
         19733
        ],
        [
         149,
         9190,
         224,
         0,
         "2022-09-20 10:07:05",
         48685
        ],
        [
         150,
         5626,
         4786,
         1,
         "2021-02-07 06:09:52",
         28025
        ],
        [
         151,
         508,
         2219,
         0,
         "2022-02-13 00:26:44",
         22182
        ],
        [
         152,
         1652,
         3212,
         0,
         "2020-02-03 02:04:44",
         7843
        ],
        [
         152,
         2598,
         5236,
         0,
         "2020-06-19 03:15:44",
         37585
        ],
        [
         152,
         3791,
         4291,
         1,
         "2020-11-27 14:19:09",
         36474
        ],
        [
         152,
         1798,
         8377,
         1,
         "2021-02-23 02:41:45",
         23459
        ],
        [
         152,
         4656,
         8303,
         0,
         "2022-09-06 10:18:46",
         35603
        ],
        [
         153,
         7953,
         2075,
         1,
         "2020-03-28 04:58:18",
         4215
        ],
        [
         153,
         6162,
         1575,
         0,
         "2020-07-09 14:12:36",
         11175
        ],
        [
         154,
         8948,
         1024,
         1,
         "2020-03-13 20:42:45",
         18804
        ],
        [
         154,
         5342,
         7785,
         0,
         "2021-10-12 19:34:26",
         16029
        ],
        [
         154,
         8077,
         3550,
         0,
         "2021-10-26 11:15:43",
         39919
        ],
        [
         154,
         5549,
         953,
         0,
         "2022-09-27 11:51:06",
         5770
        ],
        [
         155,
         2976,
         3616,
         1,
         "2020-07-06 04:57:37",
         2488
        ],
        [
         156,
         8377,
         6519,
         0,
         "2021-06-26 00:33:53",
         31496
        ],
        [
         157,
         3917,
         2179,
         0,
         "2020-11-12 18:58:37",
         48048
        ],
        [
         158,
         4780,
         3393,
         1,
         "2022-08-06 03:06:40",
         30748
        ],
        [
         159,
         1106,
         4560,
         1,
         "2020-09-08 09:05:52",
         16664
        ],
        [
         160,
         6109,
         2571,
         0,
         "2021-07-04 06:25:46",
         24743
        ],
        [
         161,
         6641,
         6116,
         1,
         "2020-05-04 19:51:55",
         35393
        ],
        [
         161,
         2912,
         9604,
         1,
         "2020-10-10 21:02:39",
         15468
        ],
        [
         161,
         1754,
         606,
         0,
         "2021-04-30 08:51:44",
         49845
        ],
        [
         161,
         2161,
         5654,
         0,
         "2022-09-16 04:59:30",
         39724
        ],
        [
         164,
         9015,
         834,
         1,
         "2020-11-13 22:40:51",
         18227
        ],
        [
         164,
         7439,
         8900,
         0,
         "2021-03-09 22:23:47",
         49925
        ],
        [
         164,
         4376,
         5724,
         0,
         "2021-07-31 12:05:47",
         1728
        ],
        [
         164,
         679,
         1836,
         0,
         "2021-10-10 17:01:31",
         45757
        ],
        [
         164,
         1439,
         1176,
         0,
         "2021-10-17 15:02:42",
         49756
        ],
        [
         164,
         9205,
         9596,
         0,
         "2022-10-25 20:01:19",
         2730
        ],
        [
         164,
         5502,
         522,
         0,
         "2022-12-05 01:01:25",
         49668
        ],
        [
         165,
         6315,
         7803,
         1,
         "2020-09-02 03:17:38",
         27133
        ],
        [
         165,
         3453,
         912,
         1,
         "2020-11-08 23:32:32",
         16092
        ],
        [
         166,
         2651,
         1770,
         1,
         "2020-06-20 12:58:05",
         20036
        ],
        [
         166,
         2802,
         992,
         0,
         "2021-02-25 15:52:30",
         35460
        ],
        [
         166,
         564,
         3957,
         1,
         "2021-09-17 15:45:11",
         7744
        ],
        [
         167,
         8462,
         9603,
         1,
         "2020-07-26 05:45:26",
         32694
        ],
        [
         167,
         8805,
         9729,
         0,
         "2022-03-09 20:19:19",
         8619
        ],
        [
         168,
         6494,
         5892,
         1,
         "2020-11-18 21:54:16",
         2391
        ],
        [
         169,
         7283,
         1207,
         0,
         "2020-05-24 15:25:19",
         33759
        ],
        [
         169,
         560,
         2425,
         0,
         "2020-08-09 16:34:42",
         26160
        ],
        [
         169,
         3094,
         440,
         0,
         "2021-04-12 17:09:24",
         17459
        ],
        [
         169,
         2022,
         3604,
         1,
         "2021-06-20 03:16:59",
         30535
        ],
        [
         169,
         6021,
         7552,
         0,
         "2021-07-28 06:58:30",
         35161
        ],
        [
         169,
         7769,
         5949,
         0,
         "2021-08-03 08:18:32",
         10159
        ],
        [
         169,
         9453,
         8444,
         1,
         "2022-07-19 06:50:57",
         7533
        ],
        [
         170,
         7701,
         2744,
         1,
         "2020-02-17 09:12:00",
         4467
        ],
        [
         170,
         8974,
         7227,
         1,
         "2021-11-07 12:02:47",
         2236
        ],
        [
         171,
         3743,
         8781,
         0,
         "2020-07-23 12:09:31",
         8062
        ],
        [
         171,
         7775,
         800,
         1,
         "2022-05-08 09:27:35",
         9736
        ],
        [
         172,
         4426,
         9420,
         1,
         "2021-06-18 01:06:03",
         28113
        ],
        [
         173,
         2659,
         4764,
         1,
         "2021-09-13 19:47:02",
         33172
        ],
        [
         173,
         9743,
         9591,
         1,
         "2022-03-05 13:56:36",
         37659
        ],
        [
         174,
         6654,
         8441,
         0,
         "2020-05-08 18:22:22",
         16426
        ],
        [
         175,
         2478,
         5006,
         1,
         "2022-08-26 17:00:58",
         16495
        ],
        [
         176,
         4165,
         509,
         0,
         "2022-11-20 12:50:44",
         31574
        ],
        [
         177,
         8405,
         2559,
         1,
         "2020-12-23 04:20:28",
         2091
        ],
        [
         177,
         3743,
         6271,
         0,
         "2022-03-06 14:54:37",
         48513
        ],
        [
         178,
         2750,
         7747,
         1,
         "2020-04-09 08:28:22",
         30549
        ],
        [
         178,
         9978,
         4722,
         1,
         "2020-11-24 04:35:00",
         36195
        ],
        [
         178,
         9237,
         9066,
         0,
         "2021-02-21 04:37:12",
         4092
        ],
        [
         178,
         4888,
         4949,
         0,
         "2022-04-29 22:08:35",
         33566
        ],
        [
         178,
         2775,
         8129,
         1,
         "2022-05-25 09:48:30",
         44516
        ],
        [
         182,
         3306,
         8431,
         0,
         "2020-11-19 02:43:27",
         31323
        ],
        [
         182,
         3884,
         7767,
         1,
         "2022-10-23 05:52:15",
         15590
        ],
        [
         183,
         6574,
         4087,
         1,
         "2020-04-21 22:54:05",
         37598
        ],
        [
         183,
         4469,
         5439,
         0,
         "2020-09-20 15:03:50",
         26671
        ],
        [
         183,
         8893,
         573,
         1,
         "2021-05-24 19:36:15",
         43238
        ],
        [
         183,
         6977,
         4135,
         1,
         "2021-11-16 06:27:30",
         34521
        ],
        [
         183,
         2015,
         9557,
         0,
         "2022-12-21 04:01:06",
         38396
        ],
        [
         184,
         9467,
         4842,
         0,
         "2021-03-21 12:34:06",
         20688
        ],
        [
         185,
         6598,
         3596,
         1,
         "2020-11-05 05:17:28",
         43223
        ],
        [
         185,
         3445,
         3969,
         1,
         "2022-06-18 00:54:00",
         32147
        ],
        [
         186,
         7690,
         5797,
         1,
         "2021-04-17 06:22:54",
         33292
        ],
        [
         187,
         2758,
         2705,
         0,
         "2020-11-15 21:52:15",
         33487
        ],
        [
         187,
         9133,
         8158,
         1,
         "2021-08-07 19:57:23",
         1676
        ],
        [
         187,
         9083,
         7923,
         0,
         "2021-09-14 12:10:32",
         23041
        ],
        [
         187,
         1879,
         9827,
         0,
         "2021-11-16 10:02:41",
         7349
        ],
        [
         187,
         3002,
         973,
         1,
         "2022-08-04 11:51:11",
         26377
        ],
        [
         188,
         1495,
         3025,
         0,
         "2022-01-26 17:10:39",
         8555
        ],
        [
         189,
         9204,
         5024,
         1,
         "2020-04-12 08:30:07",
         30298
        ],
        [
         189,
         7140,
         1510,
         0,
         "2020-12-09 16:05:18",
         38556
        ],
        [
         190,
         8549,
         5207,
         0,
         "2021-11-26 10:23:00",
         25716
        ],
        [
         190,
         9090,
         5718,
         1,
         "2022-09-30 00:53:16",
         21830
        ],
        [
         190,
         1568,
         1769,
         1,
         "2022-10-27 15:04:56",
         17819
        ],
        [
         191,
         1307,
         6676,
         0,
         "2020-05-28 01:32:32",
         42927
        ],
        [
         191,
         8346,
         5181,
         0,
         "2020-12-28 06:10:29",
         12047
        ],
        [
         191,
         6589,
         5684,
         1,
         "2021-02-06 02:34:03",
         30411
        ],
        [
         191,
         7008,
         5817,
         0,
         "2021-04-13 16:33:06",
         11173
        ],
        [
         192,
         1928,
         2554,
         0,
         "2021-09-25 10:50:26",
         24439
        ],
        [
         192,
         1260,
         2118,
         0,
         "2022-10-03 10:00:45",
         20788
        ],
        [
         193,
         2540,
         7254,
         1,
         "2020-05-17 11:02:12",
         32617
        ],
        [
         193,
         2226,
         8119,
         1,
         "2020-10-30 05:41:26",
         8622
        ],
        [
         193,
         5551,
         6223,
         0,
         "2021-06-05 04:04:25",
         10537
        ],
        [
         193,
         6803,
         9262,
         1,
         "2021-12-20 08:33:43",
         30882
        ],
        [
         193,
         4186,
         3501,
         1,
         "2022-06-09 23:09:35",
         37355
        ],
        [
         194,
         944,
         5505,
         1,
         "2020-04-22 08:01:39",
         38516
        ],
        [
         194,
         9653,
         361,
         0,
         "2020-11-21 08:21:02",
         22465
        ],
        [
         194,
         9681,
         7020,
         0,
         "2021-06-23 18:58:49",
         15043
        ],
        [
         194,
         4527,
         9339,
         1,
         "2022-12-07 13:09:27",
         11613
        ],
        [
         195,
         9707,
         9910,
         0,
         "2020-12-05 12:42:01",
         7805
        ],
        [
         195,
         2574,
         7294,
         1,
         "2022-05-24 15:48:58",
         21041
        ],
        [
         195,
         7845,
         7654,
         1,
         "2022-06-20 03:24:28",
         35207
        ],
        [
         196,
         3048,
         9572,
         1,
         "2020-01-27 02:34:18",
         43053
        ],
        [
         196,
         2888,
         4212,
         0,
         "2022-05-14 05:12:29",
         35526
        ],
        [
         196,
         8972,
         154,
         1,
         "2022-06-28 13:31:10",
         10174
        ],
        [
         196,
         240,
         8104,
         0,
         "2022-08-12 13:56:53",
         45048
        ],
        [
         197,
         6314,
         5984,
         0,
         "2020-01-27 05:39:16",
         20916
        ],
        [
         197,
         6870,
         4505,
         1,
         "2020-06-02 20:05:14",
         24619
        ],
        [
         198,
         2184,
         4659,
         1,
         "2021-10-11 05:14:10",
         24876
        ],
        [
         198,
         7029,
         9481,
         0,
         "2022-10-06 14:01:25",
         24417
        ],
        [
         199,
         611,
         6782,
         1,
         "2020-01-16 01:06:20",
         21681
        ],
        [
         199,
         6862,
         3088,
         1,
         "2020-11-16 22:09:21",
         5330
        ],
        [
         199,
         447,
         2515,
         0,
         "2021-07-31 19:02:48",
         7673
        ],
        [
         199,
         4600,
         5034,
         1,
         "2022-07-15 04:10:43",
         31259
        ],
        [
         200,
         5388,
         3524,
         0,
         "2020-01-09 10:17:59",
         44322
        ],
        [
         201,
         4775,
         204,
         1,
         "2020-07-24 09:21:28",
         43305
        ],
        [
         202,
         1008,
         5104,
         0,
         "2020-04-03 09:49:15",
         20154
        ],
        [
         203,
         2120,
         5676,
         1,
         "2020-03-14 21:28:51",
         12761
        ],
        [
         203,
         7508,
         3888,
         0,
         "2022-07-19 18:07:29",
         35720
        ],
        [
         204,
         8819,
         7214,
         0,
         "2021-06-21 19:39:37",
         45151
        ],
        [
         204,
         8165,
         1761,
         1,
         "2021-10-08 05:57:35",
         6875
        ],
        [
         204,
         2240,
         5761,
         0,
         "2022-12-13 17:49:53",
         13060
        ],
        [
         205,
         6124,
         5100,
         1,
         "2020-11-10 22:04:53",
         25134
        ],
        [
         206,
         8847,
         1571,
         1,
         "2020-01-12 20:20:45",
         29580
        ],
        [
         206,
         1481,
         9626,
         0,
         "2020-06-11 10:57:01",
         10149
        ],
        [
         206,
         2135,
         5719,
         1,
         "2020-08-11 21:23:47",
         30696
        ],
        [
         206,
         5167,
         8400,
         1,
         "2022-06-01 17:48:25",
         4040
        ],
        [
         207,
         9757,
         9981,
         0,
         "2020-09-02 21:51:15",
         37592
        ],
        [
         207,
         8697,
         3985,
         0,
         "2021-02-10 13:15:33",
         36788
        ],
        [
         207,
         39,
         7231,
         1,
         "2021-05-01 03:28:19",
         21244
        ],
        [
         207,
         2980,
         6409,
         0,
         "2022-01-29 08:16:36",
         31213
        ],
        [
         208,
         9792,
         2059,
         0,
         "2020-04-29 17:17:07",
         6585
        ],
        [
         208,
         3868,
         8240,
         1,
         "2020-08-02 05:10:08",
         10853
        ],
        [
         208,
         1564,
         4789,
         0,
         "2020-08-08 10:00:11",
         9052
        ],
        [
         208,
         7155,
         6147,
         0,
         "2021-10-31 10:45:45",
         12680
        ],
        [
         209,
         5307,
         1387,
         0,
         "2021-10-21 07:47:44",
         45319
        ],
        [
         209,
         992,
         7128,
         0,
         "2022-04-24 02:27:59",
         3161
        ],
        [
         209,
         3802,
         4064,
         1,
         "2022-05-21 21:22:39",
         26623
        ],
        [
         209,
         1416,
         9658,
         0,
         "2022-06-20 04:13:25",
         29081
        ],
        [
         210,
         2055,
         7649,
         0,
         "2020-03-20 15:59:30",
         46882
        ],
        [
         211,
         7195,
         3024,
         1,
         "2020-01-16 16:38:21",
         14853
        ],
        [
         211,
         6303,
         5904,
         0,
         "2022-10-20 14:59:53",
         16787
        ],
        [
         211,
         7586,
         2481,
         1,
         "2022-10-21 05:12:47",
         18737
        ],
        [
         211,
         8005,
         1662,
         1,
         "2022-11-27 10:01:26",
         46288
        ],
        [
         212,
         4786,
         6713,
         1,
         "2020-03-05 22:04:59",
         20772
        ],
        [
         212,
         2196,
         5413,
         1,
         "2020-06-04 10:03:25",
         11609
        ],
        [
         212,
         693,
         5380,
         1,
         "2022-08-30 23:42:41",
         48078
        ],
        [
         213,
         7937,
         1161,
         0,
         "2020-03-02 05:28:54",
         32116
        ],
        [
         213,
         6709,
         9236,
         1,
         "2020-05-01 14:53:51",
         20370
        ],
        [
         213,
         8579,
         9372,
         0,
         "2020-07-25 15:58:31",
         7830
        ],
        [
         213,
         4241,
         1345,
         1,
         "2020-11-10 22:51:26",
         6004
        ],
        [
         214,
         2512,
         9644,
         0,
         "2021-05-09 19:00:54",
         3685
        ],
        [
         214,
         3376,
         2599,
         1,
         "2021-09-08 05:57:54",
         36183
        ],
        [
         214,
         2696,
         608,
         1,
         "2021-12-08 10:07:14",
         4134
        ],
        [
         215,
         5075,
         9558,
         1,
         "2020-12-17 17:01:10",
         17453
        ],
        [
         215,
         8166,
         9094,
         1,
         "2021-01-29 14:51:13",
         12000
        ],
        [
         216,
         6907,
         755,
         0,
         "2020-07-28 13:23:59",
         40796
        ],
        [
         218,
         2239,
         2579,
         1,
         "2021-05-26 01:26:09",
         1103
        ],
        [
         219,
         8124,
         9496,
         1,
         "2020-06-13 23:22:44",
         3193
        ],
        [
         220,
         1447,
         7219,
         1,
         "2022-03-12 10:20:19",
         23870
        ],
        [
         221,
         2714,
         3351,
         1,
         "2020-06-02 05:28:31",
         40251
        ],
        [
         221,
         1302,
         7934,
         1,
         "2020-10-03 23:58:13",
         19356
        ],
        [
         222,
         3249,
         5562,
         1,
         "2021-01-13 20:36:54",
         46077
        ],
        [
         222,
         5330,
         8340,
         1,
         "2021-06-09 00:02:12",
         5516
        ],
        [
         222,
         5003,
         5408,
         0,
         "2022-06-11 19:55:54",
         24950
        ],
        [
         223,
         6670,
         3772,
         1,
         "2021-07-21 04:10:51",
         38880
        ],
        [
         223,
         5426,
         7555,
         0,
         "2022-08-17 21:27:26",
         43706
        ],
        [
         224,
         702,
         8853,
         0,
         "2020-06-19 16:17:18",
         18646
        ],
        [
         224,
         3043,
         5638,
         1,
         "2022-04-19 07:45:53",
         33129
        ],
        [
         225,
         2667,
         3880,
         0,
         "2021-01-12 15:49:52",
         49519
        ],
        [
         225,
         529,
         8954,
         1,
         "2021-04-19 09:06:08",
         32951
        ],
        [
         225,
         7557,
         9826,
         0,
         "2022-06-01 15:15:24",
         38529
        ],
        [
         228,
         1705,
         344,
         1,
         "2021-07-04 13:27:35",
         36314
        ],
        [
         228,
         1008,
         2075,
         1,
         "2021-09-16 06:42:06",
         13154
        ],
        [
         228,
         4489,
         7141,
         0,
         "2022-03-22 07:18:24",
         36271
        ],
        [
         229,
         299,
         2472,
         1,
         "2020-10-01 15:41:23",
         22038
        ],
        [
         229,
         1491,
         6637,
         1,
         "2020-10-12 09:24:24",
         9388
        ],
        [
         229,
         8001,
         2893,
         0,
         "2021-09-02 16:36:43",
         32679
        ],
        [
         229,
         7590,
         9974,
         1,
         "2022-06-30 10:50:28",
         13703
        ],
        [
         229,
         5165,
         9640,
         1,
         "2022-12-14 19:04:22",
         15712
        ],
        [
         230,
         4854,
         8945,
         1,
         "2020-07-03 22:01:17",
         45808
        ],
        [
         230,
         4294,
         9593,
         1,
         "2021-12-09 02:56:34",
         40971
        ],
        [
         232,
         743,
         7761,
         0,
         "2021-12-19 13:43:48",
         20020
        ],
        [
         232,
         7910,
         4688,
         1,
         "2022-07-08 00:18:56",
         34981
        ],
        [
         233,
         2118,
         3493,
         0,
         "2020-10-11 21:38:04",
         49910
        ],
        [
         233,
         5064,
         1467,
         1,
         "2021-07-23 19:26:52",
         32043
        ],
        [
         234,
         8170,
         6403,
         0,
         "2021-07-12 11:36:21",
         28955
        ],
        [
         234,
         7138,
         1825,
         1,
         "2022-10-16 13:37:44",
         48135
        ],
        [
         235,
         8343,
         5991,
         1,
         "2020-04-11 14:23:07",
         5078
        ],
        [
         235,
         1405,
         7870,
         1,
         "2020-07-26 05:50:06",
         16489
        ],
        [
         237,
         8650,
         4974,
         1,
         "2020-05-27 22:44:40",
         40230
        ],
        [
         237,
         1915,
         6572,
         1,
         "2022-11-07 23:16:52",
         13188
        ],
        [
         238,
         2370,
         1973,
         1,
         "2020-10-19 09:44:55",
         42226
        ],
        [
         238,
         1917,
         6169,
         0,
         "2021-05-16 09:09:51",
         18089
        ],
        [
         239,
         8056,
         2901,
         0,
         "2020-05-24 00:44:26",
         42002
        ],
        [
         239,
         3496,
         5530,
         1,
         "2020-11-25 12:20:33",
         10468
        ],
        [
         239,
         9317,
         1130,
         1,
         "2021-03-31 07:36:18",
         7249
        ],
        [
         239,
         3783,
         5708,
         1,
         "2022-02-16 12:14:02",
         30839
        ],
        [
         240,
         2501,
         9735,
         0,
         "2022-05-23 13:44:11",
         12260
        ],
        [
         240,
         579,
         8934,
         0,
         "2022-08-07 18:42:34",
         11758
        ],
        [
         241,
         7199,
         1865,
         1,
         "2022-02-16 12:40:15",
         49114
        ],
        [
         242,
         9357,
         2576,
         1,
         "2020-10-10 19:47:25",
         37983
        ],
        [
         243,
         9166,
         7941,
         1,
         "2020-02-25 20:55:41",
         3672
        ],
        [
         243,
         4454,
         6094,
         0,
         "2020-04-04 07:36:43",
         41863
        ],
        [
         243,
         5164,
         2761,
         1,
         "2020-11-14 10:44:04",
         33189
        ],
        [
         243,
         5585,
         1138,
         0,
         "2021-01-20 19:53:29",
         15368
        ],
        [
         243,
         5327,
         5249,
         1,
         "2021-08-14 21:00:46",
         48712
        ],
        [
         243,
         2808,
         3216,
         0,
         "2021-11-01 11:16:49",
         23601
        ],
        [
         243,
         7321,
         324,
         0,
         "2022-09-27 08:03:34",
         18632
        ],
        [
         244,
         2123,
         7084,
         0,
         "2020-05-24 16:19:36",
         44771
        ],
        [
         244,
         3019,
         6245,
         0,
         "2021-06-14 09:22:57",
         9005
        ],
        [
         244,
         7690,
         5346,
         1,
         "2022-05-12 15:22:38",
         40923
        ],
        [
         244,
         1423,
         8809,
         0,
         "2022-09-29 19:48:11",
         16424
        ],
        [
         245,
         2177,
         8982,
         1,
         "2021-06-20 22:36:39",
         26720
        ],
        [
         245,
         5941,
         8509,
         0,
         "2022-04-14 08:10:19",
         27674
        ],
        [
         245,
         1993,
         8378,
         1,
         "2022-06-29 18:53:50",
         27049
        ],
        [
         246,
         2894,
         2366,
         0,
         "2020-12-21 20:56:12",
         40536
        ],
        [
         246,
         5463,
         1401,
         1,
         "2022-02-01 15:19:30",
         2796
        ],
        [
         247,
         1772,
         6625,
         1,
         "2020-04-10 18:35:19",
         20096
        ],
        [
         247,
         4945,
         3635,
         0,
         "2020-10-10 14:07:43",
         14431
        ],
        [
         247,
         2765,
         3753,
         0,
         "2022-10-01 18:14:03",
         12488
        ],
        [
         249,
         5756,
         7051,
         0,
         "2021-03-08 10:20:44",
         41773
        ],
        [
         249,
         1601,
         6469,
         1,
         "2021-05-09 09:14:43",
         38451
        ],
        [
         249,
         3875,
         5769,
         0,
         "2021-11-17 16:52:34",
         4620
        ],
        [
         250,
         5513,
         2932,
         1,
         "2020-03-23 02:21:20",
         41944
        ],
        [
         250,
         6574,
         9505,
         1,
         "2020-04-27 23:05:08",
         7540
        ],
        [
         250,
         8160,
         1973,
         0,
         "2021-04-26 12:15:23",
         36825
        ],
        [
         250,
         1486,
         491,
         0,
         "2021-07-17 17:33:02",
         19738
        ],
        [
         251,
         1674,
         4728,
         0,
         "2021-07-27 11:29:32",
         49283
        ],
        [
         253,
         5470,
         4236,
         0,
         "2020-07-12 04:51:28",
         34042
        ],
        [
         253,
         1470,
         5475,
         1,
         "2022-04-02 23:48:35",
         13667
        ],
        [
         254,
         9133,
         9015,
         0,
         "2020-09-16 01:02:23",
         6425
        ],
        [
         254,
         6153,
         474,
         0,
         "2022-01-22 09:16:36",
         39954
        ],
        [
         254,
         8950,
         3515,
         1,
         "2022-04-16 18:21:34",
         40339
        ],
        [
         254,
         3437,
         3806,
         1,
         "2022-08-30 07:29:05",
         33920
        ],
        [
         256,
         1813,
         3286,
         0,
         "2022-08-01 20:01:56",
         35738
        ],
        [
         257,
         6887,
         2443,
         0,
         "2021-11-22 22:57:48",
         4872
        ],
        [
         258,
         3722,
         3224,
         0,
         "2020-11-05 22:52:24",
         27549
        ],
        [
         259,
         3212,
         1724,
         1,
         "2020-09-01 15:03:49",
         18684
        ],
        [
         259,
         2822,
         4755,
         0,
         "2022-04-17 12:22:04",
         37880
        ],
        [
         261,
         8749,
         5841,
         1,
         "2021-12-23 22:54:28",
         17621
        ],
        [
         262,
         1601,
         3231,
         1,
         "2020-02-09 09:43:48",
         14480
        ],
        [
         262,
         1685,
         6352,
         1,
         "2021-07-25 12:09:00",
         6754
        ],
        [
         262,
         5347,
         1161,
         0,
         "2022-07-18 07:56:12",
         48355
        ],
        [
         262,
         137,
         9216,
         1,
         "2022-12-05 13:12:25",
         48208
        ],
        [
         263,
         7751,
         8268,
         1,
         "2020-03-27 21:48:49",
         40042
        ],
        [
         263,
         4656,
         2201,
         0,
         "2020-04-23 05:42:10",
         48939
        ],
        [
         263,
         3356,
         172,
         1,
         "2021-12-23 04:08:22",
         26241
        ],
        [
         264,
         9825,
         2619,
         0,
         "2020-11-17 09:46:17",
         22236
        ],
        [
         264,
         6832,
         4440,
         1,
         "2020-12-03 22:29:59",
         18260
        ],
        [
         264,
         5436,
         2219,
         0,
         "2022-01-16 18:02:17",
         12465
        ],
        [
         264,
         1808,
         5520,
         0,
         "2022-05-24 04:32:14",
         19137
        ],
        [
         264,
         225,
         7752,
         0,
         "2022-08-15 09:37:53",
         20730
        ],
        [
         265,
         3174,
         4679,
         0,
         "2020-01-18 01:29:19",
         2293
        ],
        [
         265,
         5876,
         1346,
         0,
         "2020-07-29 13:37:13",
         27281
        ],
        [
         265,
         582,
         2513,
         0,
         "2020-12-07 20:39:45",
         47748
        ],
        [
         265,
         3142,
         7167,
         0,
         "2021-09-22 17:30:33",
         31982
        ],
        [
         266,
         6520,
         887,
         1,
         "2020-07-07 23:04:03",
         48490
        ],
        [
         266,
         3745,
         5066,
         0,
         "2021-10-02 17:46:14",
         15838
        ],
        [
         266,
         5145,
         2831,
         1,
         "2022-04-20 05:55:09",
         3060
        ],
        [
         267,
         9184,
         9142,
         1,
         "2021-11-21 04:11:19",
         22795
        ],
        [
         270,
         9600,
         5734,
         0,
         "2020-02-23 17:26:05",
         6985
        ],
        [
         270,
         1368,
         3906,
         1,
         "2020-12-28 23:58:53",
         6221
        ],
        [
         272,
         7479,
         2545,
         1,
         "2020-07-03 03:00:18",
         30608
        ],
        [
         272,
         9167,
         3418,
         1,
         "2022-07-23 23:38:51",
         6938
        ],
        [
         273,
         1812,
         1843,
         1,
         "2021-02-24 01:56:15",
         6162
        ],
        [
         274,
         443,
         4118,
         1,
         "2020-06-01 03:08:39",
         3144
        ],
        [
         274,
         3808,
         5792,
         1,
         "2020-12-13 12:22:19",
         21690
        ],
        [
         274,
         9263,
         4167,
         1,
         "2022-09-23 21:11:10",
         19758
        ],
        [
         274,
         8134,
         2217,
         0,
         "2022-10-31 08:27:09",
         4386
        ],
        [
         275,
         7721,
         9913,
         0,
         "2022-02-27 02:53:07",
         26510
        ],
        [
         276,
         4116,
         7233,
         1,
         "2020-05-23 09:37:56",
         11055
        ],
        [
         276,
         8278,
         8691,
         0,
         "2021-01-03 00:46:26",
         22924
        ],
        [
         277,
         393,
         6719,
         0,
         "2020-07-16 11:45:39",
         39514
        ],
        [
         277,
         1850,
         3674,
         0,
         "2022-10-29 03:27:20",
         16068
        ],
        [
         278,
         5781,
         8149,
         0,
         "2021-03-16 04:32:30",
         9972
        ],
        [
         278,
         9030,
         1839,
         1,
         "2021-04-29 06:42:22",
         12970
        ],
        [
         280,
         6903,
         2330,
         1,
         "2020-01-25 00:05:57",
         4007
        ],
        [
         280,
         7383,
         3508,
         1,
         "2022-05-16 13:23:39",
         22540
        ],
        [
         280,
         573,
         9230,
         1,
         "2022-07-09 09:07:01",
         9994
        ],
        [
         281,
         7641,
         4734,
         1,
         "2020-08-22 00:05:39",
         41025
        ],
        [
         281,
         9589,
         1607,
         0,
         "2021-05-04 04:45:37",
         2270
        ],
        [
         281,
         7452,
         8535,
         0,
         "2021-07-12 19:44:18",
         1650
        ],
        [
         281,
         1723,
         7065,
         0,
         "2022-01-24 08:19:39",
         22265
        ],
        [
         281,
         6006,
         1309,
         1,
         "2022-09-20 19:25:08",
         21436
        ],
        [
         282,
         1225,
         4480,
         1,
         "2022-03-10 08:39:24",
         12713
        ],
        [
         283,
         3262,
         3323,
         0,
         "2020-05-02 15:26:52",
         48221
        ],
        [
         283,
         6847,
         275,
         1,
         "2021-05-21 07:51:47",
         17861
        ],
        [
         283,
         9236,
         183,
         0,
         "2022-10-03 04:00:52",
         19977
        ],
        [
         283,
         1533,
         4528,
         1,
         "2022-11-26 15:57:49",
         41715
        ],
        [
         283,
         9336,
         4730,
         0,
         "2022-11-29 10:17:52",
         28025
        ],
        [
         285,
         9623,
         8398,
         1,
         "2020-04-11 00:00:05",
         27934
        ],
        [
         285,
         1836,
         8655,
         0,
         "2021-10-09 20:50:22",
         46742
        ],
        [
         285,
         5710,
         8008,
         1,
         "2022-04-21 05:57:03",
         15037
        ],
        [
         285,
         6068,
         7255,
         0,
         "2022-12-16 08:28:26",
         44332
        ],
        [
         286,
         7644,
         6731,
         1,
         "2020-07-13 13:28:22",
         32281
        ],
        [
         286,
         5805,
         3672,
         1,
         "2020-09-09 04:15:17",
         23886
        ],
        [
         286,
         1061,
         4726,
         1,
         "2021-12-14 10:14:08",
         25737
        ],
        [
         287,
         1974,
         8216,
         1,
         "2020-02-21 01:25:18",
         49926
        ],
        [
         287,
         2053,
         7760,
         1,
         "2022-02-20 09:49:57",
         17756
        ],
        [
         288,
         5791,
         1568,
         1,
         "2020-10-06 10:05:25",
         22686
        ],
        [
         288,
         385,
         4178,
         1,
         "2022-05-03 22:58:12",
         22241
        ],
        [
         288,
         7392,
         2744,
         0,
         "2022-09-17 20:05:05",
         30990
        ],
        [
         289,
         7326,
         9523,
         0,
         "2020-09-03 17:53:57",
         8808
        ],
        [
         289,
         4834,
         7741,
         0,
         "2022-03-19 02:24:16",
         30253
        ],
        [
         290,
         5720,
         3294,
         0,
         "2021-06-14 22:36:06",
         47773
        ],
        [
         290,
         4079,
         2784,
         1,
         "2021-06-19 01:51:25",
         22554
        ],
        [
         290,
         3000,
         7905,
         0,
         "2021-09-18 13:58:56",
         8942
        ],
        [
         291,
         8753,
         5470,
         1,
         "2020-07-21 18:51:06",
         11311
        ],
        [
         291,
         5321,
         2644,
         1,
         "2020-08-02 20:19:15",
         8458
        ],
        [
         291,
         5213,
         1372,
         1,
         "2022-08-05 06:46:09",
         22743
        ],
        [
         292,
         6705,
         7975,
         1,
         "2020-04-25 06:30:36",
         31880
        ],
        [
         292,
         7835,
         4659,
         0,
         "2021-09-13 13:16:55",
         14515
        ],
        [
         292,
         1601,
         2434,
         1,
         "2022-06-06 17:56:42",
         10911
        ],
        [
         293,
         7300,
         4053,
         1,
         "2021-05-15 04:16:19",
         6788
        ],
        [
         293,
         844,
         5659,
         1,
         "2022-12-02 18:47:55",
         46352
        ],
        [
         294,
         1198,
         2486,
         1,
         "2022-08-08 11:21:44",
         47146
        ],
        [
         295,
         2825,
         4846,
         1,
         "2020-08-12 18:39:30",
         38892
        ],
        [
         295,
         7646,
         7984,
         0,
         "2021-02-28 23:10:07",
         20581
        ],
        [
         295,
         3199,
         5722,
         0,
         "2021-11-19 03:32:06",
         32914
        ],
        [
         295,
         3865,
         5344,
         0,
         "2022-07-19 17:49:13",
         23451
        ],
        [
         296,
         1572,
         6952,
         1,
         "2020-05-11 03:14:02",
         37042
        ],
        [
         296,
         4062,
         8869,
         0,
         "2020-11-09 08:40:29",
         19031
        ],
        [
         296,
         4232,
         1196,
         0,
         "2022-07-04 04:33:31",
         5974
        ],
        [
         297,
         8570,
         4657,
         1,
         "2020-03-03 23:05:42",
         11255
        ],
        [
         297,
         2220,
         7371,
         0,
         "2020-11-12 01:39:42",
         4465
        ],
        [
         297,
         7442,
         6367,
         1,
         "2020-11-23 03:41:14",
         9474
        ],
        [
         297,
         4959,
         8457,
         0,
         "2021-05-25 02:03:56",
         38355
        ],
        [
         297,
         50,
         737,
         0,
         "2021-11-28 22:43:01",
         27638
        ],
        [
         298,
         3989,
         8865,
         0,
         "2020-09-18 21:52:25",
         18986
        ],
        [
         300,
         3287,
         9941,
         0,
         "2022-02-26 14:55:53",
         40971
        ],
        [
         301,
         7092,
         999,
         0,
         "2021-04-08 08:04:34",
         45707
        ],
        [
         301,
         4808,
         7432,
         0,
         "2022-05-25 19:10:29",
         16201
        ],
        [
         302,
         3745,
         6956,
         1,
         "2021-04-02 20:43:52",
         30715
        ],
        [
         303,
         4018,
         8052,
         1,
         "2021-04-05 20:33:51",
         31615
        ],
        [
         304,
         704,
         307,
         0,
         "2020-11-19 13:35:24",
         42178
        ],
        [
         304,
         9376,
         8931,
         1,
         "2021-05-13 19:51:27",
         26660
        ],
        [
         304,
         7345,
         8377,
         0,
         "2022-11-14 18:24:55",
         45769
        ],
        [
         304,
         6793,
         9439,
         0,
         "2022-11-15 15:38:25",
         46479
        ],
        [
         305,
         3107,
         6842,
         1,
         "2021-05-09 03:31:51",
         8670
        ],
        [
         305,
         2552,
         7804,
         0,
         "2021-12-21 03:25:45",
         44492
        ],
        [
         305,
         7705,
         3624,
         0,
         "2022-01-04 21:34:54",
         28360
        ],
        [
         305,
         6985,
         2076,
         1,
         "2022-01-26 08:32:01",
         42804
        ],
        [
         306,
         1247,
         5030,
         1,
         "2021-04-24 22:26:17",
         23072
        ],
        [
         307,
         6247,
         1124,
         0,
         "2020-06-08 23:48:27",
         18528
        ],
        [
         307,
         3819,
         5993,
         1,
         "2020-10-27 13:07:05",
         45636
        ],
        [
         308,
         4266,
         6298,
         1,
         "2020-12-23 18:12:42",
         4611
        ],
        [
         308,
         9813,
         9971,
         0,
         "2022-08-12 05:36:46",
         11694
        ],
        [
         309,
         7186,
         6889,
         0,
         "2021-08-24 17:15:40",
         11453
        ],
        [
         311,
         1279,
         6528,
         1,
         "2020-08-28 23:08:38",
         28736
        ],
        [
         312,
         4049,
         5779,
         0,
         "2020-06-04 10:24:08",
         40538
        ],
        [
         312,
         7186,
         4448,
         0,
         "2022-07-27 02:58:34",
         19609
        ],
        [
         314,
         8492,
         9420,
         1,
         "2020-10-13 20:09:12",
         38930
        ],
        [
         314,
         2563,
         4492,
         0,
         "2021-01-18 03:27:56",
         19399
        ],
        [
         314,
         8426,
         3020,
         1,
         "2021-04-10 00:02:53",
         14947
        ],
        [
         315,
         9235,
         6764,
         1,
         "2020-03-16 14:31:14",
         21056
        ],
        [
         315,
         4334,
         1068,
         0,
         "2022-05-02 19:24:27",
         40250
        ],
        [
         315,
         7847,
         2525,
         0,
         "2022-07-04 00:03:27",
         1590
        ],
        [
         316,
         1389,
         5074,
         1,
         "2020-07-02 21:53:45",
         2431
        ],
        [
         316,
         8223,
         3026,
         0,
         "2022-01-09 01:23:44",
         9263
        ],
        [
         317,
         7150,
         7106,
         1,
         "2020-04-12 06:21:00",
         11784
        ],
        [
         317,
         99,
         3164,
         1,
         "2022-02-23 10:49:28",
         38444
        ],
        [
         318,
         9396,
         4729,
         0,
         "2020-11-07 11:48:41",
         13079
        ],
        [
         320,
         2430,
         6865,
         0,
         "2020-05-29 11:02:02",
         18813
        ],
        [
         320,
         1875,
         9588,
         0,
         "2020-11-08 06:57:23",
         41149
        ],
        [
         320,
         5026,
         3197,
         0,
         "2021-07-10 01:49:06",
         12318
        ],
        [
         320,
         5391,
         4546,
         1,
         "2022-10-14 22:53:08",
         6912
        ],
        [
         321,
         1467,
         1332,
         0,
         "2021-04-21 15:14:31",
         42860
        ],
        [
         322,
         2317,
         1208,
         0,
         "2020-12-14 15:01:39",
         48206
        ],
        [
         322,
         5929,
         6422,
         0,
         "2022-08-22 01:35:56",
         23607
        ],
        [
         322,
         4175,
         2220,
         0,
         "2022-10-21 06:34:51",
         40298
        ],
        [
         323,
         8819,
         2685,
         0,
         "2021-10-13 17:30:10",
         45849
        ],
        [
         323,
         6849,
         162,
         1,
         "2022-01-22 22:54:18",
         1745
        ],
        [
         323,
         4311,
         9032,
         0,
         "2022-04-15 03:58:29",
         21555
        ],
        [
         324,
         9493,
         6647,
         0,
         "2020-07-28 20:01:11",
         15730
        ],
        [
         324,
         1538,
         4059,
         1,
         "2022-11-26 03:24:21",
         23823
        ],
        [
         325,
         8986,
         6831,
         0,
         "2021-09-13 11:32:04",
         42371
        ],
        [
         326,
         8487,
         2989,
         1,
         "2021-11-19 00:32:11",
         33883
        ],
        [
         328,
         9466,
         1904,
         0,
         "2021-08-01 06:43:01",
         18144
        ],
        [
         328,
         2661,
         5443,
         1,
         "2021-11-29 10:45:40",
         27920
        ],
        [
         328,
         6320,
         2818,
         0,
         "2022-09-10 07:16:59",
         35972
        ],
        [
         329,
         3750,
         6255,
         0,
         "2022-03-15 16:19:29",
         48261
        ],
        [
         329,
         5713,
         7078,
         0,
         "2022-05-06 02:44:30",
         11629
        ],
        [
         330,
         2950,
         2788,
         1,
         "2020-11-15 12:16:14",
         2774
        ],
        [
         331,
         5769,
         6420,
         1,
         "2020-01-03 23:39:49",
         33956
        ],
        [
         331,
         472,
         3748,
         0,
         "2021-07-12 01:13:54",
         42520
        ],
        [
         332,
         3769,
         3921,
         0,
         "2020-06-11 02:20:50",
         35923
        ],
        [
         332,
         8496,
         1063,
         0,
         "2022-08-11 02:54:38",
         29915
        ],
        [
         333,
         3431,
         1291,
         1,
         "2021-01-25 00:47:24",
         13969
        ],
        [
         333,
         517,
         2652,
         1,
         "2022-08-17 00:31:38",
         27923
        ],
        [
         334,
         8007,
         173,
         0,
         "2020-02-07 13:04:36",
         2777
        ],
        [
         334,
         542,
         9735,
         0,
         "2020-03-26 14:34:57",
         8273
        ],
        [
         334,
         5673,
         268,
         0,
         "2020-05-21 18:56:50",
         10689
        ],
        [
         334,
         7149,
         1228,
         1,
         "2020-11-26 15:21:41",
         16456
        ],
        [
         335,
         6869,
         6462,
         1,
         "2020-02-02 07:36:13",
         47241
        ],
        [
         335,
         3487,
         6450,
         1,
         "2020-10-13 10:41:36",
         26013
        ],
        [
         335,
         9007,
         1709,
         0,
         "2022-10-28 23:39:06",
         2274
        ],
        [
         336,
         1047,
         5084,
         0,
         "2020-01-01 05:24:41",
         16965
        ],
        [
         336,
         8377,
         650,
         0,
         "2020-11-03 19:30:39",
         17987
        ],
        [
         336,
         388,
         7856,
         1,
         "2021-04-04 04:06:59",
         15277
        ],
        [
         336,
         2999,
         1617,
         1,
         "2022-09-17 00:45:50",
         40494
        ],
        [
         337,
         6532,
         1692,
         0,
         "2020-07-29 21:34:30",
         5562
        ],
        [
         338,
         384,
         807,
         0,
         "2020-03-05 23:19:30",
         40655
        ],
        [
         338,
         2062,
         7306,
         1,
         "2020-10-01 11:17:43",
         19111
        ],
        [
         338,
         9226,
         7711,
         1,
         "2022-03-06 01:41:38",
         40354
        ],
        [
         338,
         5163,
         3914,
         1,
         "2022-04-20 13:30:50",
         23925
        ],
        [
         338,
         761,
         1392,
         0,
         "2022-04-27 15:16:29",
         29775
        ],
        [
         338,
         57,
         9512,
         1,
         "2022-12-05 07:08:08",
         42769
        ],
        [
         339,
         8618,
         3136,
         1,
         "2022-05-19 21:49:01",
         31946
        ],
        [
         340,
         9498,
         7952,
         1,
         "2020-01-30 12:09:33",
         40716
        ],
        [
         340,
         4812,
         3392,
         1,
         "2021-04-10 06:36:45",
         42754
        ],
        [
         340,
         9940,
         6147,
         1,
         "2022-09-06 13:55:11",
         38010
        ],
        [
         342,
         3722,
         6083,
         1,
         "2022-03-31 18:43:11",
         26050
        ],
        [
         342,
         2865,
         5820,
         0,
         "2022-04-20 13:51:41",
         27346
        ],
        [
         342,
         8298,
         9521,
         0,
         "2022-09-06 00:12:25",
         21867
        ],
        [
         343,
         9405,
         815,
         0,
         "2020-06-16 22:58:05",
         16464
        ],
        [
         343,
         351,
         6233,
         1,
         "2021-05-10 05:28:01",
         38074
        ],
        [
         343,
         386,
         8469,
         0,
         "2022-05-21 05:51:24",
         44040
        ],
        [
         344,
         4623,
         2903,
         0,
         "2021-05-17 14:31:48",
         15137
        ],
        [
         344,
         3069,
         8377,
         0,
         "2022-03-13 14:28:14",
         30233
        ],
        [
         345,
         7810,
         188,
         0,
         "2021-01-12 15:03:19",
         28161
        ],
        [
         345,
         2929,
         6512,
         0,
         "2022-05-15 19:47:20",
         3794
        ],
        [
         346,
         5176,
         7982,
         0,
         "2020-09-18 23:39:29",
         24016
        ],
        [
         346,
         4353,
         8867,
         1,
         "2020-09-28 07:24:11",
         35133
        ],
        [
         346,
         961,
         507,
         1,
         "2020-12-19 07:29:36",
         30368
        ],
        [
         346,
         8571,
         398,
         1,
         "2022-02-22 02:31:07",
         37469
        ],
        [
         346,
         5482,
         6872,
         0,
         "2022-07-25 07:03:04",
         42508
        ],
        [
         347,
         32,
         8358,
         1,
         "2022-06-04 01:07:58",
         5867
        ],
        [
         348,
         9967,
         2842,
         1,
         "2020-02-02 04:14:01",
         4029
        ],
        [
         348,
         5500,
         7045,
         1,
         "2022-01-03 23:37:15",
         28978
        ],
        [
         349,
         6517,
         4566,
         1,
         "2020-06-27 06:49:18",
         17444
        ],
        [
         349,
         454,
         7015,
         1,
         "2022-08-24 03:00:09",
         29455
        ],
        [
         350,
         7681,
         4095,
         0,
         "2022-02-11 17:24:41",
         30743
        ],
        [
         351,
         5195,
         2061,
         1,
         "2020-04-27 18:34:08",
         19200
        ],
        [
         352,
         1847,
         7537,
         1,
         "2020-09-28 19:12:58",
         14899
        ],
        [
         352,
         2813,
         9805,
         0,
         "2021-09-20 07:59:32",
         8694
        ],
        [
         352,
         2040,
         4250,
         1,
         "2022-04-29 08:41:38",
         29376
        ],
        [
         353,
         1439,
         6275,
         1,
         "2020-01-20 21:17:36",
         25354
        ],
        [
         354,
         8525,
         1537,
         1,
         "2022-04-25 17:00:42",
         42364
        ],
        [
         355,
         3090,
         3213,
         1,
         "2020-08-13 01:05:18",
         2243
        ],
        [
         356,
         930,
         3833,
         1,
         "2020-12-30 11:39:37",
         41460
        ],
        [
         356,
         4423,
         1140,
         0,
         "2021-01-04 13:44:45",
         27706
        ],
        [
         356,
         5559,
         8206,
         1,
         "2021-02-27 18:22:12",
         24633
        ],
        [
         356,
         3005,
         453,
         0,
         "2022-08-25 21:45:48",
         47822
        ],
        [
         357,
         1330,
         5233,
         0,
         "2020-01-15 07:26:13",
         15089
        ],
        [
         357,
         2677,
         1659,
         1,
         "2020-06-24 20:39:32",
         10764
        ],
        [
         357,
         4597,
         9451,
         0,
         "2021-04-25 21:04:00",
         23336
        ],
        [
         358,
         8340,
         9873,
         1,
         "2020-09-02 11:40:47",
         24628
        ],
        [
         358,
         259,
         8207,
         1,
         "2022-01-28 04:46:26",
         5305
        ],
        [
         359,
         1693,
         1903,
         1,
         "2020-04-09 23:36:28",
         42614
        ],
        [
         359,
         7284,
         271,
         0,
         "2020-12-21 19:24:12",
         40077
        ],
        [
         359,
         9141,
         7034,
         0,
         "2021-03-08 13:16:39",
         30708
        ],
        [
         359,
         6920,
         6291,
         1,
         "2021-09-07 03:33:53",
         46932
        ],
        [
         359,
         3149,
         9197,
         1,
         "2021-12-21 19:28:17",
         10251
        ],
        [
         359,
         9728,
         2850,
         1,
         "2022-07-30 09:44:28",
         24333
        ],
        [
         359,
         6521,
         4885,
         0,
         "2022-09-06 22:23:14",
         37130
        ],
        [
         360,
         8063,
         3165,
         1,
         "2020-05-29 22:37:31",
         38443
        ],
        [
         360,
         8440,
         9674,
         1,
         "2021-06-05 17:29:19",
         7651
        ],
        [
         360,
         5869,
         4344,
         0,
         "2021-09-18 04:18:38",
         32715
        ],
        [
         362,
         3170,
         4901,
         1,
         "2020-07-20 04:33:27",
         33327
        ],
        [
         362,
         4019,
         1517,
         0,
         "2020-12-19 05:30:13",
         34387
        ],
        [
         362,
         769,
         5680,
         0,
         "2020-12-21 14:38:04",
         30093
        ],
        [
         362,
         1850,
         3985,
         1,
         "2022-11-19 20:07:15",
         8904
        ],
        [
         363,
         9074,
         4684,
         0,
         "2020-08-09 08:30:00",
         41502
        ],
        [
         363,
         6465,
         9236,
         0,
         "2022-12-02 15:06:59",
         49005
        ],
        [
         364,
         1087,
         535,
         1,
         "2020-09-07 12:13:56",
         5734
        ],
        [
         365,
         1938,
         9256,
         1,
         "2020-04-11 07:54:17",
         1634
        ],
        [
         365,
         6077,
         1983,
         1,
         "2020-09-27 04:42:58",
         45374
        ],
        [
         365,
         2275,
         4476,
         0,
         "2021-02-24 22:32:09",
         41365
        ],
        [
         365,
         9993,
         9351,
         0,
         "2021-08-23 22:55:24",
         5423
        ],
        [
         365,
         4368,
         8679,
         0,
         "2022-02-24 09:19:54",
         3641
        ],
        [
         365,
         2119,
         2563,
         1,
         "2022-02-28 09:30:22",
         15679
        ],
        [
         366,
         9484,
         8487,
         0,
         "2021-01-24 21:33:09",
         10409
        ],
        [
         367,
         8986,
         9515,
         0,
         "2020-01-06 07:37:37",
         14046
        ],
        [
         367,
         9542,
         4115,
         1,
         "2020-09-28 11:59:41",
         29788
        ],
        [
         368,
         2501,
         6521,
         0,
         "2021-03-15 05:35:45",
         39121
        ],
        [
         368,
         4869,
         610,
         1,
         "2021-10-14 03:45:21",
         9455
        ],
        [
         370,
         9337,
         6575,
         1,
         "2021-12-05 08:44:51",
         37757
        ],
        [
         370,
         1297,
         2074,
         0,
         "2022-10-05 17:11:55",
         22801
        ],
        [
         371,
         7990,
         9438,
         1,
         "2021-12-02 13:06:26",
         25770
        ],
        [
         371,
         8059,
         3111,
         0,
         "2021-12-09 02:32:24",
         31180
        ],
        [
         374,
         824,
         353,
         0,
         "2020-08-08 23:07:39",
         23665
        ],
        [
         374,
         8529,
         2861,
         0,
         "2021-09-06 10:20:12",
         15318
        ],
        [
         375,
         2726,
         2640,
         1,
         "2021-06-01 11:39:46",
         20727
        ],
        [
         375,
         9669,
         6324,
         0,
         "2021-12-13 12:58:53",
         4278
        ],
        [
         375,
         8071,
         400,
         0,
         "2022-01-27 17:03:56",
         34888
        ],
        [
         377,
         5976,
         9660,
         0,
         "2020-09-14 23:56:58",
         28947
        ],
        [
         377,
         3066,
         2404,
         1,
         "2021-11-18 04:50:49",
         44513
        ],
        [
         377,
         733,
         6929,
         0,
         "2022-01-28 07:26:05",
         34514
        ],
        [
         378,
         8868,
         8554,
         0,
         "2020-02-07 07:48:13",
         32934
        ],
        [
         381,
         7716,
         9233,
         0,
         "2020-05-04 21:15:58",
         23077
        ],
        [
         381,
         9722,
         3789,
         0,
         "2021-05-23 07:33:08",
         36000
        ],
        [
         381,
         2638,
         4061,
         1,
         "2022-02-06 14:25:07",
         19983
        ],
        [
         382,
         8351,
         6707,
         0,
         "2022-11-06 00:08:29",
         2099
        ],
        [
         382,
         6282,
         7058,
         0,
         "2022-11-13 05:29:37",
         43487
        ],
        [
         383,
         8478,
         3159,
         0,
         "2020-05-08 12:04:34",
         18791
        ],
        [
         383,
         4264,
         3177,
         0,
         "2021-01-14 08:49:15",
         34764
        ],
        [
         383,
         4720,
         8359,
         1,
         "2022-03-03 01:46:20",
         2445
        ],
        [
         384,
         5773,
         5895,
         1,
         "2020-11-17 02:02:20",
         48306
        ],
        [
         385,
         3324,
         9292,
         1,
         "2020-09-19 14:47:13",
         12493
        ],
        [
         385,
         8999,
         329,
         0,
         "2022-11-18 05:13:56",
         11775
        ],
        [
         386,
         7681,
         4797,
         1,
         "2020-07-27 08:06:34",
         45965
        ],
        [
         386,
         1967,
         4595,
         1,
         "2020-12-24 07:03:43",
         30037
        ],
        [
         386,
         5676,
         120,
         1,
         "2021-06-13 15:36:08",
         12443
        ],
        [
         386,
         4162,
         1878,
         0,
         "2022-02-28 10:46:57",
         34959
        ],
        [
         386,
         880,
         4793,
         1,
         "2022-05-22 21:36:30",
         36892
        ],
        [
         387,
         4,
         2168,
         0,
         "2022-08-25 23:04:54",
         24137
        ],
        [
         388,
         9750,
         9317,
         0,
         "2020-06-24 11:15:28",
         38935
        ],
        [
         389,
         9272,
         3131,
         1,
         "2022-01-02 19:39:50",
         16617
        ],
        [
         389,
         6573,
         5731,
         1,
         "2022-07-10 01:54:03",
         4246
        ],
        [
         391,
         2594,
         5851,
         1,
         "2020-12-21 07:36:05",
         26362
        ],
        [
         391,
         1533,
         2370,
         1,
         "2020-12-27 21:04:08",
         9075
        ],
        [
         391,
         98,
         1365,
         0,
         "2021-05-30 18:03:04",
         26466
        ],
        [
         392,
         9699,
         5072,
         0,
         "2021-05-16 02:20:00",
         36167
        ],
        [
         392,
         5279,
         2249,
         1,
         "2021-05-28 06:16:42",
         30140
        ],
        [
         392,
         7949,
         5376,
         1,
         "2021-09-08 19:25:26",
         25037
        ],
        [
         392,
         8070,
         5473,
         1,
         "2022-08-03 08:29:26",
         25093
        ],
        [
         393,
         3082,
         7523,
         0,
         "2021-11-01 01:53:01",
         5181
        ],
        [
         394,
         5425,
         8332,
         1,
         "2020-06-17 16:07:37",
         3147
        ],
        [
         396,
         5320,
         4181,
         0,
         "2020-01-04 23:01:40",
         1131
        ],
        [
         396,
         9210,
         4987,
         1,
         "2021-06-16 00:58:44",
         28354
        ],
        [
         397,
         4458,
         1743,
         0,
         "2021-07-03 05:13:25",
         36976
        ],
        [
         397,
         8122,
         9126,
         0,
         "2021-08-20 11:01:49",
         45937
        ],
        [
         398,
         6186,
         9629,
         1,
         "2020-07-30 00:52:33",
         28349
        ],
        [
         398,
         6468,
         3246,
         1,
         "2022-12-30 05:00:35",
         30491
        ],
        [
         399,
         1328,
         1110,
         0,
         "2020-03-17 08:24:14",
         28192
        ],
        [
         400,
         7928,
         1242,
         0,
         "2020-03-02 22:35:59",
         12068
        ],
        [
         400,
         8568,
         895,
         0,
         "2020-05-28 18:12:43",
         27542
        ],
        [
         400,
         3088,
         5911,
         0,
         "2021-08-13 12:02:03",
         19534
        ],
        [
         401,
         4926,
         4880,
         1,
         "2020-09-27 16:55:57",
         12562
        ],
        [
         401,
         616,
         4873,
         1,
         "2021-05-14 18:55:16",
         23209
        ],
        [
         402,
         2471,
         6900,
         0,
         "2020-07-22 12:48:38",
         6661
        ],
        [
         404,
         8312,
         1825,
         0,
         "2021-04-09 07:13:56",
         3446
        ],
        [
         404,
         7808,
         2520,
         1,
         "2021-05-18 03:28:42",
         8084
        ],
        [
         405,
         9192,
         4884,
         1,
         "2021-09-06 02:26:17",
         5121
        ],
        [
         406,
         7973,
         3025,
         1,
         "2020-05-10 11:45:30",
         33643
        ],
        [
         406,
         5927,
         2846,
         0,
         "2021-12-06 18:52:00",
         46605
        ],
        [
         406,
         4408,
         2694,
         0,
         "2022-05-31 04:30:27",
         4840
        ],
        [
         406,
         7555,
         9051,
         0,
         "2022-08-01 12:03:28",
         11217
        ],
        [
         408,
         2147,
         5234,
         0,
         "2020-10-20 05:29:37",
         31903
        ],
        [
         408,
         8021,
         9187,
         0,
         "2021-04-06 12:35:47",
         41631
        ],
        [
         409,
         9551,
         5745,
         1,
         "2020-02-02 07:47:59",
         17212
        ],
        [
         409,
         6628,
         4869,
         0,
         "2020-03-07 04:02:46",
         49286
        ],
        [
         409,
         2715,
         5816,
         1,
         "2022-07-03 09:57:21",
         6919
        ],
        [
         410,
         4466,
         4246,
         1,
         "2020-10-21 08:01:36",
         38826
        ],
        [
         411,
         6706,
         9722,
         0,
         "2021-04-16 17:17:02",
         4360
        ],
        [
         411,
         832,
         2239,
         0,
         "2021-07-02 08:29:00",
         22372
        ],
        [
         412,
         3543,
         165,
         1,
         "2021-06-08 21:47:17",
         25837
        ],
        [
         412,
         3100,
         4061,
         0,
         "2021-06-27 02:33:32",
         32180
        ],
        [
         413,
         7335,
         8527,
         1,
         "2020-03-26 01:47:36",
         20663
        ],
        [
         416,
         3203,
         9834,
         0,
         "2022-01-30 23:45:06",
         47384
        ],
        [
         417,
         7652,
         6319,
         0,
         "2022-01-30 14:55:38",
         9509
        ],
        [
         418,
         7376,
         1552,
         0,
         "2020-02-09 13:17:42",
         6648
        ],
        [
         418,
         3165,
         967,
         0,
         "2020-07-18 15:49:18",
         10177
        ],
        [
         418,
         5404,
         6862,
         1,
         "2021-05-17 04:40:57",
         35147
        ],
        [
         418,
         7006,
         7754,
         0,
         "2021-06-10 07:51:07",
         27891
        ],
        [
         419,
         5572,
         4488,
         1,
         "2020-03-19 08:38:43",
         30203
        ],
        [
         419,
         7511,
         5218,
         1,
         "2020-07-27 21:08:11",
         40633
        ],
        [
         419,
         2695,
         6641,
         0,
         "2021-08-22 15:20:34",
         42669
        ],
        [
         419,
         3698,
         1083,
         1,
         "2022-01-10 00:28:28",
         37243
        ],
        [
         419,
         2667,
         989,
         1,
         "2022-11-11 01:50:41",
         27901
        ],
        [
         420,
         1893,
         8856,
         1,
         "2020-07-07 13:17:11",
         31938
        ],
        [
         420,
         6342,
         3734,
         1,
         "2022-03-11 02:30:03",
         36021
        ],
        [
         421,
         5069,
         2562,
         1,
         "2020-04-07 00:33:25",
         2791
        ],
        [
         421,
         8265,
         4945,
         0,
         "2020-04-26 09:30:11",
         11389
        ],
        [
         421,
         3506,
         6492,
         0,
         "2021-01-04 00:41:18",
         4441
        ],
        [
         421,
         7975,
         7536,
         0,
         "2021-07-10 09:18:47",
         18551
        ],
        [
         422,
         5160,
         4795,
         1,
         "2020-07-01 19:51:24",
         35164
        ],
        [
         422,
         2431,
         2700,
         1,
         "2022-04-17 13:56:18",
         27078
        ],
        [
         422,
         1464,
         3980,
         0,
         "2022-07-21 19:08:22",
         9839
        ],
        [
         424,
         3348,
         8872,
         0,
         "2021-03-16 20:11:00",
         1515
        ],
        [
         425,
         6876,
         9415,
         0,
         "2022-03-16 10:42:08",
         30039
        ],
        [
         425,
         6756,
         1835,
         0,
         "2022-06-12 20:25:47",
         11139
        ],
        [
         429,
         6379,
         2645,
         0,
         "2022-08-14 11:07:27",
         12138
        ],
        [
         430,
         7867,
         2222,
         0,
         "2020-11-22 00:01:48",
         25331
        ],
        [
         430,
         9706,
         3500,
         0,
         "2020-12-19 13:18:00",
         10661
        ],
        [
         430,
         4537,
         6428,
         1,
         "2021-01-17 20:13:41",
         27689
        ],
        [
         430,
         4155,
         7587,
         1,
         "2022-10-03 02:43:23",
         32649
        ],
        [
         432,
         2360,
         6666,
         0,
         "2021-12-23 20:34:42",
         47634
        ],
        [
         432,
         2005,
         4255,
         0,
         "2022-05-15 16:09:24",
         36149
        ],
        [
         433,
         548,
         4166,
         1,
         "2020-08-31 01:47:49",
         18312
        ],
        [
         433,
         2672,
         8827,
         0,
         "2021-05-02 01:32:36",
         15368
        ],
        [
         433,
         1901,
         3624,
         1,
         "2022-08-31 09:20:30",
         12984
        ],
        [
         434,
         5433,
         2350,
         0,
         "2020-04-01 09:32:46",
         45607
        ],
        [
         434,
         7376,
         7802,
         0,
         "2021-12-09 18:02:16",
         37022
        ],
        [
         434,
         8791,
         8634,
         0,
         "2022-01-29 22:50:54",
         35906
        ],
        [
         435,
         907,
         6638,
         0,
         "2020-08-20 22:45:22",
         17978
        ],
        [
         436,
         2269,
         8577,
         1,
         "2021-03-10 04:38:49",
         30247
        ],
        [
         436,
         5418,
         2420,
         0,
         "2021-10-30 14:38:09",
         19995
        ],
        [
         436,
         2829,
         8555,
         0,
         "2021-12-01 09:40:09",
         5110
        ],
        [
         436,
         7045,
         9731,
         1,
         "2022-12-13 15:00:07",
         46283
        ],
        [
         437,
         9928,
         1944,
         1,
         "2020-07-19 13:50:34",
         1783
        ],
        [
         437,
         4757,
         7145,
         1,
         "2022-02-04 02:58:25",
         22873
        ],
        [
         437,
         6815,
         7623,
         0,
         "2022-05-17 19:52:10",
         43110
        ],
        [
         439,
         2646,
         5541,
         1,
         "2021-06-14 06:27:38",
         41747
        ],
        [
         440,
         3337,
         7648,
         0,
         "2020-12-25 23:30:41",
         20445
        ],
        [
         440,
         9511,
         7580,
         1,
         "2021-07-04 10:35:27",
         16368
        ],
        [
         440,
         4124,
         5677,
         0,
         "2021-12-24 06:08:32",
         27452
        ],
        [
         441,
         4087,
         1213,
         1,
         "2020-11-18 20:08:57",
         26863
        ],
        [
         443,
         593,
         4812,
         1,
         "2021-02-20 06:26:58",
         49074
        ],
        [
         443,
         9617,
         9021,
         1,
         "2021-10-22 20:45:03",
         2333
        ],
        [
         443,
         7123,
         4018,
         0,
         "2022-03-17 17:14:21",
         17120
        ],
        [
         444,
         7399,
         6996,
         0,
         "2020-10-04 22:02:20",
         27651
        ],
        [
         444,
         5649,
         5689,
         0,
         "2021-07-25 03:11:00",
         46632
        ],
        [
         444,
         5149,
         5951,
         0,
         "2022-06-02 10:14:46",
         45058
        ],
        [
         445,
         2172,
         5508,
         0,
         "2020-12-15 00:44:02",
         20597
        ],
        [
         445,
         6679,
         4200,
         0,
         "2021-03-07 21:56:40",
         38649
        ],
        [
         445,
         6293,
         8738,
         0,
         "2022-07-14 21:20:24",
         25144
        ],
        [
         446,
         2553,
         9400,
         0,
         "2020-03-17 05:35:39",
         5662
        ],
        [
         446,
         591,
         8078,
         1,
         "2020-09-18 17:28:56",
         42158
        ],
        [
         446,
         2688,
         9652,
         1,
         "2022-08-24 08:23:20",
         42544
        ],
        [
         447,
         306,
         7673,
         1,
         "2020-06-17 12:46:19",
         2988
        ],
        [
         447,
         2571,
         3890,
         0,
         "2020-07-16 23:57:39",
         44699
        ],
        [
         447,
         1518,
         2566,
         1,
         "2021-07-17 22:46:42",
         2707
        ],
        [
         447,
         3548,
         4395,
         0,
         "2021-08-15 07:49:09",
         2278
        ],
        [
         447,
         2934,
         2410,
         1,
         "2022-04-09 15:36:09",
         39212
        ],
        [
         448,
         8524,
         9453,
         1,
         "2021-02-28 05:58:51",
         47054
        ],
        [
         448,
         3811,
         471,
         1,
         "2021-06-12 21:46:54",
         16561
        ],
        [
         448,
         4770,
         5680,
         1,
         "2021-12-14 10:36:20",
         46763
        ],
        [
         448,
         5988,
         1189,
         0,
         "2022-04-04 05:32:48",
         25836
        ],
        [
         449,
         7425,
         1891,
         1,
         "2020-04-24 13:41:58",
         43780
        ],
        [
         449,
         1554,
         2135,
         1,
         "2022-06-27 08:57:31",
         44667
        ],
        [
         450,
         2356,
         3671,
         1,
         "2020-03-22 08:59:57",
         43862
        ],
        [
         451,
         908,
         1471,
         1,
         "2020-04-01 07:20:28",
         36409
        ],
        [
         451,
         4069,
         262,
         1,
         "2020-05-29 11:24:25",
         25157
        ],
        [
         452,
         8657,
         7567,
         0,
         "2021-04-04 04:42:27",
         47064
        ],
        [
         453,
         9889,
         2876,
         0,
         "2020-03-08 07:28:45",
         14883
        ],
        [
         453,
         6585,
         2268,
         0,
         "2020-07-21 22:55:22",
         27263
        ],
        [
         453,
         754,
         7802,
         0,
         "2021-12-24 01:48:26",
         30664
        ],
        [
         453,
         8523,
         2704,
         1,
         "2022-08-19 00:46:48",
         16904
        ],
        [
         454,
         8929,
         8463,
         0,
         "2021-08-05 01:51:51",
         16777
        ],
        [
         456,
         4768,
         6892,
         0,
         "2020-08-26 05:31:21",
         30141
        ],
        [
         457,
         128,
         5210,
         0,
         "2020-05-30 10:25:00",
         4513
        ],
        [
         457,
         6324,
         5548,
         1,
         "2021-07-05 19:31:07",
         10894
        ],
        [
         458,
         9284,
         2504,
         1,
         "2020-06-09 15:21:25",
         14083
        ],
        [
         458,
         3178,
         3432,
         0,
         "2021-08-17 03:17:54",
         19946
        ],
        [
         458,
         3071,
         4519,
         1,
         "2021-09-03 19:37:57",
         22568
        ],
        [
         458,
         7655,
         1458,
         0,
         "2022-11-27 16:43:56",
         22330
        ],
        [
         459,
         6678,
         7867,
         0,
         "2020-07-09 21:53:41",
         47807
        ],
        [
         460,
         6807,
         5315,
         1,
         "2020-04-04 06:15:52",
         20264
        ],
        [
         460,
         1998,
         4586,
         0,
         "2021-08-05 12:04:56",
         2163
        ],
        [
         460,
         6645,
         9406,
         0,
         "2022-11-22 11:27:17",
         22176
        ],
        [
         460,
         4512,
         6611,
         1,
         "2022-12-16 19:27:32",
         40908
        ],
        [
         461,
         7306,
         6838,
         1,
         "2020-04-10 18:00:46",
         20075
        ],
        [
         461,
         2047,
         6139,
         1,
         "2020-04-25 05:27:30",
         48362
        ],
        [
         461,
         3521,
         7178,
         1,
         "2020-10-01 01:29:24",
         14288
        ],
        [
         461,
         314,
         8824,
         1,
         "2022-04-18 12:35:30",
         43759
        ],
        [
         462,
         3035,
         2760,
         1,
         "2021-03-11 19:30:21",
         3385
        ],
        [
         462,
         3426,
         6980,
         1,
         "2021-11-24 23:36:12",
         17893
        ],
        [
         463,
         3674,
         8892,
         1,
         "2020-05-23 08:44:26",
         32176
        ],
        [
         463,
         326,
         9668,
         1,
         "2022-09-25 11:59:05",
         34435
        ],
        [
         465,
         4697,
         5241,
         0,
         "2020-03-13 05:57:11",
         16264
        ],
        [
         465,
         5746,
         9146,
         0,
         "2021-11-03 08:15:33",
         8842
        ],
        [
         467,
         4588,
         1890,
         1,
         "2021-01-29 06:30:43",
         20194
        ],
        [
         467,
         7013,
         4092,
         1,
         "2022-01-27 07:00:21",
         10671
        ],
        [
         467,
         9856,
         5477,
         0,
         "2022-05-18 12:39:12",
         46595
        ],
        [
         468,
         3474,
         7182,
         0,
         "2020-03-31 23:00:13",
         33974
        ],
        [
         469,
         8619,
         118,
         0,
         "2022-03-02 19:50:53",
         25304
        ],
        [
         470,
         1429,
         9779,
         0,
         "2021-03-06 01:48:51",
         29618
        ],
        [
         470,
         576,
         974,
         0,
         "2022-10-15 21:28:30",
         15129
        ],
        [
         471,
         8601,
         3762,
         0,
         "2020-08-18 00:08:42",
         9374
        ],
        [
         471,
         7412,
         9614,
         0,
         "2020-09-13 21:28:41",
         30832
        ],
        [
         471,
         1010,
         3774,
         1,
         "2020-09-14 15:55:35",
         48228
        ],
        [
         471,
         2255,
         4947,
         0,
         "2021-05-16 12:17:37",
         16219
        ],
        [
         472,
         1434,
         1845,
         1,
         "2020-02-15 23:08:06",
         10609
        ],
        [
         472,
         2502,
         7797,
         0,
         "2021-07-02 06:22:29",
         25255
        ],
        [
         472,
         5831,
         9418,
         0,
         "2022-01-14 16:59:33",
         37354
        ],
        [
         472,
         6949,
         3444,
         1,
         "2022-03-23 06:52:10",
         48121
        ],
        [
         473,
         8739,
         2157,
         0,
         "2022-06-18 13:26:24",
         47036
        ],
        [
         474,
         2518,
         8304,
         0,
         "2021-07-25 06:03:16",
         19320
        ],
        [
         474,
         4910,
         1565,
         1,
         "2021-11-03 02:46:57",
         32907
        ],
        [
         474,
         750,
         2701,
         1,
         "2022-10-04 03:45:51",
         18833
        ],
        [
         475,
         6645,
         2174,
         0,
         "2020-01-04 12:54:02",
         39103
        ],
        [
         475,
         4403,
         8765,
         1,
         "2020-02-08 01:35:09",
         27090
        ],
        [
         475,
         5720,
         1764,
         1,
         "2021-06-13 01:42:28",
         46236
        ],
        [
         475,
         8510,
         9108,
         1,
         "2021-08-09 08:34:18",
         20089
        ],
        [
         476,
         1908,
         2382,
         1,
         "2022-03-14 09:03:43",
         35699
        ],
        [
         477,
         3821,
         5327,
         1,
         "2020-01-04 21:55:23",
         35119
        ],
        [
         477,
         2224,
         2850,
         1,
         "2020-10-29 07:57:26",
         35787
        ],
        [
         478,
         7273,
         1447,
         0,
         "2020-09-14 08:54:28",
         27489
        ],
        [
         478,
         9724,
         2476,
         0,
         "2021-12-05 02:20:31",
         43102
        ],
        [
         478,
         381,
         6970,
         1,
         "2022-03-26 22:14:01",
         10776
        ],
        [
         479,
         4127,
         186,
         1,
         "2020-02-08 13:40:20",
         4157
        ],
        [
         480,
         3396,
         6495,
         0,
         "2020-04-05 02:00:45",
         28396
        ],
        [
         481,
         4721,
         843,
         0,
         "2020-02-10 19:32:17",
         47524
        ],
        [
         481,
         8861,
         5884,
         0,
         "2022-01-28 16:10:12",
         13433
        ],
        [
         482,
         6896,
         9389,
         1,
         "2021-08-12 05:07:12",
         30849
        ],
        [
         482,
         3862,
         3123,
         0,
         "2021-08-12 06:35:12",
         16326
        ],
        [
         483,
         8411,
         1870,
         1,
         "2021-01-05 13:05:35",
         42875
        ],
        [
         483,
         8214,
         1588,
         0,
         "2022-03-22 07:42:03",
         20242
        ],
        [
         483,
         2786,
         1617,
         0,
         "2022-06-29 04:11:24",
         18347
        ],
        [
         484,
         1729,
         3957,
         0,
         "2020-04-28 07:09:39",
         37231
        ],
        [
         484,
         8579,
         5556,
         1,
         "2020-12-08 06:14:43",
         41873
        ],
        [
         484,
         4903,
         5347,
         0,
         "2021-03-02 05:44:40",
         11320
        ],
        [
         484,
         6646,
         6636,
         0,
         "2021-08-25 19:08:20",
         42486
        ],
        [
         485,
         782,
         5194,
         0,
         "2021-04-04 02:10:49",
         43671
        ],
        [
         485,
         2569,
         8694,
         1,
         "2022-04-05 18:21:15",
         39123
        ],
        [
         487,
         8794,
         4844,
         0,
         "2020-03-13 03:00:19",
         6495
        ],
        [
         487,
         5481,
         4394,
         1,
         "2022-06-05 08:41:37",
         33984
        ],
        [
         487,
         2156,
         2809,
         0,
         "2022-10-10 12:26:44",
         31018
        ],
        [
         487,
         5836,
         8580,
         0,
         "2022-10-31 21:07:17",
         21827
        ],
        [
         487,
         7474,
         8842,
         1,
         "2022-12-29 12:18:37",
         46297
        ],
        [
         488,
         2761,
         9466,
         0,
         "2020-05-25 16:40:31",
         46427
        ],
        [
         491,
         8570,
         2755,
         0,
         "2021-08-28 18:19:31",
         5454
        ],
        [
         491,
         3260,
         4442,
         0,
         "2022-07-23 19:20:40",
         35301
        ],
        [
         492,
         8883,
         3854,
         0,
         "2020-01-31 22:21:24",
         32748
        ],
        [
         492,
         9526,
         6616,
         0,
         "2021-08-02 17:23:40",
         19146
        ],
        [
         492,
         4872,
         9647,
         1,
         "2022-03-27 19:32:54",
         35159
        ],
        [
         493,
         2683,
         1916,
         1,
         "2020-05-25 11:34:59",
         41695
        ],
        [
         493,
         6761,
         8758,
         0,
         "2021-06-13 12:40:45",
         43397
        ],
        [
         493,
         2694,
         4124,
         1,
         "2022-04-30 09:02:56",
         14342
        ],
        [
         493,
         1806,
         4372,
         0,
         "2022-06-10 06:30:46",
         15941
        ],
        [
         493,
         2147,
         6663,
         0,
         "2022-07-27 13:31:31",
         17317
        ],
        [
         494,
         4528,
         2016,
         1,
         "2020-10-30 23:29:25",
         8393
        ],
        [
         494,
         2307,
         2374,
         0,
         "2021-03-14 21:58:26",
         46963
        ],
        [
         494,
         2440,
         5404,
         0,
         "2021-09-02 05:54:03",
         25531
        ],
        [
         494,
         9425,
         7191,
         0,
         "2022-10-29 19:38:26",
         20864
        ],
        [
         495,
         7950,
         6813,
         1,
         "2020-09-28 09:34:33",
         22572
        ],
        [
         495,
         8578,
         8196,
         0,
         "2022-03-11 03:55:26",
         28331
        ],
        [
         495,
         8180,
         8292,
         0,
         "2022-11-12 17:34:33",
         31038
        ],
        [
         496,
         6684,
         2471,
         1,
         "2020-11-22 20:00:53",
         47462
        ],
        [
         496,
         8961,
         6932,
         1,
         "2021-02-06 07:05:24",
         3831
        ],
        [
         496,
         2831,
         8166,
         1,
         "2021-03-08 20:34:35",
         7988
        ],
        [
         496,
         862,
         408,
         1,
         "2022-10-18 23:58:59",
         10579
        ],
        [
         498,
         4155,
         2849,
         1,
         "2020-05-06 00:38:29",
         26515
        ],
        [
         498,
         9664,
         6031,
         1,
         "2021-05-20 04:43:58",
         4432
        ],
        [
         498,
         9710,
         9242,
         1,
         "2022-10-12 11:28:38",
         4057
        ],
        [
         500,
         8212,
         728,
         0,
         "2021-05-28 18:42:27",
         3663
        ]
       ],
       "datasetInfos": [],
       "dbfsResultPath": null,
       "isJsonSchema": true,
       "metadata": {},
       "overflow": false,
       "plotOptions": {
        "customPlotOptions": {},
        "displayType": "table",
        "pivotAggregation": null,
        "pivotColumns": null,
        "xColumns": null,
        "yColumns": null
       },
       "removedWidgets": [],
       "schema": [
        {
         "metadata": "{}",
         "name": "customer_id",
         "type": "\"long\""
        },
        {
         "metadata": "{}",
         "name": "scheduled_payment",
         "type": "\"long\""
        },
        {
         "metadata": "{}",
         "name": "txn_amount",
         "type": "\"long\""
        },
        {
         "metadata": "{}",
         "name": "debit_or_credit",
         "type": "\"long\""
        },
        {
         "metadata": "{}",
         "name": "updt_ts",
         "type": "\"string\""
        },
        {
         "metadata": "{}",
         "name": "initial_balance",
         "type": "\"long\""
        }
       ],
       "type": "table"
      }
     },
     "output_type": "display_data"
    }
   ],
   "source": [
    "display(deduplicated_df)"
   ]
  },
  {
   "cell_type": "code",
   "execution_count": 0,
   "metadata": {
    "application/vnd.databricks.v1+cell": {
     "cellMetadata": {
      "byteLimit": 2048000,
      "rowLimit": 10000
     },
     "inputWidgets": {},
     "nuid": "6a02f290-9d4d-4853-a0ea-f911e43db014",
     "showTitle": false,
     "title": ""
    }
   },
   "outputs": [],
   "source": [
    "from pyspark.sql.functions import col, sum, avg, when\n",
    "\n",
    "# Load the consolidated data from Silver layer\n",
    "silver_df = spark.read.format(\"delta\").load(\"/mnt/silver/checking_account_consolidated\")\n",
    "\n",
    "# Create transaction summary per customer\n",
    "transaction_summary = silver_df.groupBy(\"customer_id\").agg(\n",
    "    sum(\"txn_amount\").alias(\"total_transactions\"),\n",
    "    avg(\"txn_amount\").alias(\"average_transaction\"),\n",
    "    sum(when(col(\"debit_or_credit\") == 0, col(\"txn_amount\")).otherwise(0)).alias(\"total_debits\"),\n",
    "    sum(when(col(\"debit_or_credit\") == 1, col(\"txn_amount\")).otherwise(0)).alias(\"total_credits\")\n",
    ")\n",
    "\n",
    "# Save the transaction summary to Gold layer with overwriteSchema option\n",
    "transaction_summary.write.format(\"delta\").mode(\"overwrite\").option(\"overwriteSchema\", \"true\").save(\"/mnt/gold/transaction_summary\")\n"
   ]
  },
  {
   "cell_type": "code",
   "execution_count": 0,
   "metadata": {
    "application/vnd.databricks.v1+cell": {
     "cellMetadata": {
      "byteLimit": 2048000,
      "rowLimit": 10000
     },
     "inputWidgets": {},
     "nuid": "d57fad9a-5871-449b-8f32-e2e69b83af08",
     "showTitle": false,
     "title": ""
    }
   },
   "outputs": [
    {
     "output_type": "display_data",
     "data": {
      "text/html": [
       "<style scoped>\n",
       "  .table-result-container {\n",
       "    max-height: 300px;\n",
       "    overflow: auto;\n",
       "  }\n",
       "  table, th, td {\n",
       "    border: 1px solid black;\n",
       "    border-collapse: collapse;\n",
       "  }\n",
       "  th, td {\n",
       "    padding: 5px;\n",
       "  }\n",
       "  th {\n",
       "    text-align: left;\n",
       "  }\n",
       "</style><div class='table-result-container'><table class='table-result'><thead style='background-color: white'><tr><th>customer_id</th><th>total_transactions</th><th>average_transaction</th><th>total_debits</th><th>total_credits</th></tr></thead><tbody><tr><td>26</td><td>2766</td><td>2766.0</td><td>2766</td><td>0</td></tr><tr><td>29</td><td>12503</td><td>4167.666666666667</td><td>0</td><td>12503</td></tr><tr><td>474</td><td>12570</td><td>4190.0</td><td>8304</td><td>4266</td></tr><tr><td>65</td><td>11350</td><td>5675.0</td><td>11350</td><td>0</td></tr><tr><td>191</td><td>23358</td><td>5839.5</td><td>17674</td><td>5684</td></tr><tr><td>418</td><td>17135</td><td>4283.75</td><td>10273</td><td>6862</td></tr><tr><td>222</td><td>19310</td><td>6436.666666666667</td><td>5408</td><td>13902</td></tr><tr><td>270</td><td>9640</td><td>4820.0</td><td>5734</td><td>3906</td></tr><tr><td>293</td><td>9712</td><td>4856.0</td><td>0</td><td>9712</td></tr><tr><td>243</td><td>26723</td><td>3817.5714285714284</td><td>10772</td><td>15951</td></tr><tr><td>278</td><td>9988</td><td>4994.0</td><td>8149</td><td>1839</td></tr><tr><td>367</td><td>13630</td><td>6815.0</td><td>9515</td><td>4115</td></tr><tr><td>19</td><td>12198</td><td>2439.6</td><td>0</td><td>12198</td></tr><tr><td>54</td><td>13723</td><td>6861.5</td><td>3833</td><td>9890</td></tr><tr><td>296</td><td>17017</td><td>5672.333333333333</td><td>10065</td><td>6952</td></tr><tr><td>277</td><td>10393</td><td>5196.5</td><td>10393</td><td>0</td></tr><tr><td>287</td><td>15976</td><td>7988.0</td><td>0</td><td>15976</td></tr><tr><td>348</td><td>9887</td><td>4943.5</td><td>0</td><td>9887</td></tr><tr><td>113</td><td>14456</td><td>7228.0</td><td>9338</td><td>5118</td></tr><tr><td>155</td><td>3616</td><td>3616.0</td><td>0</td><td>3616</td></tr><tr><td>167</td><td>19332</td><td>9666.0</td><td>9729</td><td>9603</td></tr><tr><td>385</td><td>9621</td><td>4810.5</td><td>329</td><td>9292</td></tr><tr><td>237</td><td>11546</td><td>5773.0</td><td>0</td><td>11546</td></tr><tr><td>241</td><td>1865</td><td>1865.0</td><td>0</td><td>1865</td></tr><tr><td>347</td><td>8358</td><td>8358.0</td><td>0</td><td>8358</td></tr><tr><td>198</td><td>14140</td><td>7070.0</td><td>9481</td><td>4659</td></tr><tr><td>330</td><td>2788</td><td>2788.0</td><td>0</td><td>2788</td></tr><tr><td>130</td><td>6527</td><td>3263.5</td><td>6527</td><td>0</td></tr><tr><td>196</td><td>22042</td><td>5510.5</td><td>12316</td><td>9726</td></tr><tr><td>487</td><td>29469</td><td>5893.8</td><td>16233</td><td>13236</td></tr><tr><td>7</td><td>9968</td><td>9968.0</td><td>0</td><td>9968</td></tr><tr><td>77</td><td>15666</td><td>3916.5</td><td>9964</td><td>5702</td></tr><tr><td>34</td><td>8173</td><td>8173.0</td><td>0</td><td>8173</td></tr><tr><td>184</td><td>4842</td><td>4842.0</td><td>4842</td><td>0</td></tr><tr><td>463</td><td>18560</td><td>9280.0</td><td>0</td><td>18560</td></tr><tr><td>188</td><td>3025</td><td>3025.0</td><td>3025</td><td>0</td></tr><tr><td>399</td><td>1110</td><td>1110.0</td><td>1110</td><td>0</td></tr><tr><td>202</td><td>5104</td><td>5104.0</td><td>5104</td><td>0</td></tr><tr><td>228</td><td>9560</td><td>3186.6666666666665</td><td>7141</td><td>2419</td></tr><tr><td>274</td><td>16294</td><td>4073.5</td><td>2217</td><td>14077</td></tr><tr><td>262</td><td>19960</td><td>4990.0</td><td>1161</td><td>18799</td></tr><tr><td>325</td><td>6831</td><td>6831.0</td><td>6831</td><td>0</td></tr><tr><td>406</td><td>17616</td><td>4404.0</td><td>14591</td><td>3025</td></tr><tr><td>50</td><td>20084</td><td>5021.0</td><td>3994</td><td>16090</td></tr><tr><td>94</td><td>8255</td><td>4127.5</td><td>4330</td><td>3925</td></tr><tr><td>149</td><td>3001</td><td>1500.5</td><td>224</td><td>2777</td></tr><tr><td>421</td><td>21535</td><td>5383.75</td><td>18973</td><td>2562</td></tr><tr><td>264</td><td>22550</td><td>4510.0</td><td>18110</td><td>4440</td></tr><tr><td>229</td><td>31616</td><td>6323.2</td><td>2893</td><td>28723</td></tr><tr><td>110</td><td>3140</td><td>3140.0</td><td>3140</td><td>0</td></tr><tr><td>190</td><td>12694</td><td>4231.333333333333</td><td>5207</td><td>7487</td></tr><tr><td>275</td><td>9913</td><td>9913.0</td><td>9913</td><td>0</td></tr><tr><td>343</td><td>15517</td><td>5172.333333333333</td><td>9284</td><td>6233</td></tr><tr><td>439</td><td>5541</td><td>5541.0</td><td>0</td><td>5541</td></tr><tr><td>57</td><td>23780</td><td>7926.666666666667</td><td>23780</td><td>0</td></tr><tr><td>136</td><td>5373</td><td>2686.5</td><td>5373</td><td>0</td></tr><tr><td>144</td><td>7857</td><td>3928.5</td><td>7857</td><td>0</td></tr><tr><td>388</td><td>9317</td><td>9317.0</td><td>9317</td><td>0</td></tr><tr><td>412</td><td>4226</td><td>2113.0</td><td>4061</td><td>165</td></tr><tr><td>417</td><td>6319</td><td>6319.0</td><td>6319</td><td>0</td></tr><tr><td>32</td><td>7267</td><td>3633.5</td><td>0</td><td>7267</td></tr><tr><td>43</td><td>12291</td><td>6145.5</td><td>2843</td><td>9448</td></tr><tr><td>420</td><td>12590</td><td>6295.0</td><td>0</td><td>12590</td></tr><tr><td>84</td><td>5244</td><td>5244.0</td><td>0</td><td>5244</td></tr><tr><td>378</td><td>8554</td><td>8554.0</td><td>8554</td><td>0</td></tr><tr><td>212</td><td>17506</td><td>5835.333333333333</td><td>0</td><td>17506</td></tr><tr><td>31</td><td>34254</td><td>5709.0</td><td>29437</td><td>4817</td></tr><tr><td>119</td><td>14550</td><td>3637.5</td><td>2278</td><td>12272</td></tr><tr><td>326</td><td>2989</td><td>2989.0</td><td>0</td><td>2989</td></tr><tr><td>386</td><td>16183</td><td>3236.6</td><td>1878</td><td>14305</td></tr><tr><td>450</td><td>3671</td><td>3671.0</td><td>0</td><td>3671</td></tr><tr><td>39</td><td>5833</td><td>5833.0</td><td>5833</td><td>0</td></tr><tr><td>98</td><td>17598</td><td>5866.0</td><td>2880</td><td>14718</td></tr><tr><td>187</td><td>29586</td><td>5917.2</td><td>20455</td><td>9131</td></tr><tr><td>496</td><td>17977</td><td>4494.25</td><td>0</td><td>17977</td></tr><tr><td>201</td><td>204</td><td>204.0</td><td>0</td><td>204</td></tr><tr><td>232</td><td>12449</td><td>6224.5</td><td>7761</td><td>4688</td></tr><tr><td>402</td><td>6900</td><td>6900.0</td><td>6900</td><td>0</td></tr><tr><td>203</td><td>9564</td><td>4782.0</td><td>3888</td><td>5676</td></tr><tr><td>145</td><td>10037</td><td>5018.5</td><td>10037</td><td>0</td></tr><tr><td>488</td><td>9466</td><td>9466.0</td><td>9466</td><td>0</td></tr><tr><td>25</td><td>19798</td><td>6599.333333333333</td><td>0</td><td>19798</td></tr><tr><td>157</td><td>2179</td><td>2179.0</td><td>2179</td><td>0</td></tr><tr><td>124</td><td>14641</td><td>4880.333333333333</td><td>9383</td><td>5258</td></tr><tr><td>363</td><td>13920</td><td>6960.0</td><td>13920</td><td>0</td></tr><tr><td>95</td><td>5439</td><td>5439.0</td><td>5439</td><td>0</td></tr><tr><td>413</td><td>8527</td><td>8527.0</td><td>0</td><td>8527</td></tr><tr><td>71</td><td>2167</td><td>2167.0</td><td>0</td><td>2167</td></tr><tr><td>143</td><td>17019</td><td>5673.0</td><td>7953</td><td>9066</td></tr><tr><td>370</td><td>8649</td><td>4324.5</td><td>2074</td><td>6575</td></tr><tr><td>161</td><td>21980</td><td>5495.0</td><td>6260</td><td>15720</td></tr><tr><td>193</td><td>34359</td><td>6871.8</td><td>6223</td><td>28136</td></tr><tr><td>365</td><td>36308</td><td>6051.333333333333</td><td>22506</td><td>13802</td></tr><tr><td>443</td><td>17851</td><td>5950.333333333333</td><td>4018</td><td>13833</td></tr><tr><td>6</td><td>22663</td><td>4532.6</td><td>13554</td><td>9109</td></tr><tr><td>68</td><td>11734</td><td>3911.3333333333335</td><td>10405</td><td>1329</td></tr><tr><td>342</td><td>21424</td><td>7141.333333333333</td><td>15341</td><td>6083</td></tr><tr><td>72</td><td>11654</td><td>3884.6666666666665</td><td>11654</td><td>0</td></tr><tr><td>87</td><td>16515</td><td>5505.0</td><td>5736</td><td>10779</td></tr><tr><td>215</td><td>18652</td><td>9326.0</td><td>0</td><td>18652</td></tr><tr><td>58</td><td>14518</td><td>7259.0</td><td>8236</td><td>6282</td></tr><tr><td>258</td><td>3224</td><td>3224.0</td><td>3224</td><td>0</td></tr><tr><td>320</td><td>24196</td><td>6049.0</td><td>19650</td><td>4546</td></tr><tr><td>107</td><td>4352</td><td>2176.0</td><td>4352</td><td>0</td></tr><tr><td>221</td><td>11285</td><td>5642.5</td><td>0</td><td>11285</td></tr><tr><td>266</td><td>8784</td><td>2928.0</td><td>5066</td><td>3718</td></tr><tr><td>424</td><td>8872</td><td>8872.0</td><td>8872</td><td>0</td></tr><tr><td>9</td><td>12466</td><td>4155.333333333333</td><td>3183</td><td>9283</td></tr><tr><td>316</td><td>8100</td><td>4050.0</td><td>3026</td><td>5074</td></tr><tr><td>27</td><td>15604</td><td>5201.333333333333</td><td>142</td><td>15462</td></tr><tr><td>63</td><td>7618</td><td>3809.0</td><td>7618</td><td>0</td></tr><tr><td>158</td><td>3393</td><td>3393.0</td><td>0</td><td>3393</td></tr><tr><td>389</td><td>8862</td><td>4431.0</td><td>0</td><td>8862</td></tr><tr><td>397</td><td>10869</td><td>5434.5</td><td>10869</td><td>0</td></tr><tr><td>447</td><td>20934</td><td>4186.8</td><td>8285</td><td>12649</td></tr><tr><td>51</td><td>1694</td><td>1694.0</td><td>0</td><td>1694</td></tr><tr><td>56</td><td>4813</td><td>4813.0</td><td>0</td><td>4813</td></tr><tr><td>178</td><td>34613</td><td>6922.6</td><td>14015</td><td>20598</td></tr><tr><td>353</td><td>6275</td><td>6275.0</td><td>0</td><td>6275</td></tr><tr><td>234</td><td>8228</td><td>4114.0</td><td>6403</td><td>1825</td></tr><tr><td>239</td><td>15269</td><td>3817.25</td><td>2901</td><td>12368</td></tr><tr><td>150</td><td>4786</td><td>4786.0</td><td>0</td><td>4786</td></tr><tr><td>146</td><td>1268</td><td>1268.0</td><td>1268</td><td>0</td></tr><tr><td>346</td><td>24626</td><td>4925.2</td><td>14854</td><td>9772</td></tr><tr><td>446</td><td>27130</td><td>9043.333333333334</td><td>9400</td><td>17730</td></tr><tr><td>459</td><td>7867</td><td>7867.0</td><td>7867</td><td>0</td></tr><tr><td>174</td><td>8441</td><td>8441.0</td><td>8441</td><td>0</td></tr><tr><td>17</td><td>13861</td><td>4620.333333333333</td><td>0</td><td>13861</td></tr><tr><td>79</td><td>8369</td><td>8369.0</td><td>8369</td><td>0</td></tr><tr><td>170</td><td>9971</td><td>4985.5</td><td>0</td><td>9971</td></tr><tr><td>209</td><td>22237</td><td>5559.25</td><td>18173</td><td>4064</td></tr><tr><td>103</td><td>555</td><td>555.0</td><td>555</td><td>0</td></tr><tr><td>253</td><td>9711</td><td>4855.5</td><td>4236</td><td>5475</td></tr><tr><td>276</td><td>15924</td><td>7962.0</td><td>8691</td><td>7233</td></tr><tr><td>246</td><td>3767</td><td>1883.5</td><td>2366</td><td>1401</td></tr><tr><td>242</td><td>2576</td><td>2576.0</td><td>0</td><td>2576</td></tr><tr><td>430</td><td>19737</td><td>4934.25</td><td>5722</td><td>14015</td></tr><tr><td>453</td><td>15650</td><td>3912.5</td><td>12946</td><td>2704</td></tr><tr><td>41</td><td>995</td><td>995.0</td><td>0</td><td>995</td></tr><tr><td>28</td><td>6442</td><td>3221.0</td><td>6442</td><td>0</td></tr><tr><td>88</td><td>8121</td><td>2707.0</td><td>3704</td><td>4417</td></tr><tr><td>208</td><td>21235</td><td>5308.75</td><td>12995</td><td>8240</td></tr><tr><td>257</td><td>2443</td><td>2443.0</td><td>2443</td><td>0</td></tr><tr><td>384</td><td>5895</td><td>5895.0</td><td>0</td><td>5895</td></tr><tr><td>405</td><td>4884</td><td>4884.0</td><td>0</td><td>4884</td></tr><tr><td>138</td><td>1866</td><td>1866.0</td><td>1866</td><td>0</td></tr><tr><td>207</td><td>27606</td><td>6901.5</td><td>20375</td><td>7231</td></tr><tr><td>498</td><td>18122</td><td>6040.666666666667</td><td>0</td><td>18122</td></tr><tr><td>235</td><td>13861</td><td>6930.5</td><td>0</td><td>13861</td></tr><tr><td>304</td><td>27054</td><td>6763.5</td><td>18123</td><td>8931</td></tr><tr><td>307</td><td>7117</td><td>3558.5</td><td>1124</td><td>5993</td></tr><tr><td>462</td><td>9740</td><td>4870.0</td><td>0</td><td>9740</td></tr><tr><td>114</td><td>23469</td><td>7823.0</td><td>9646</td><td>13823</td></tr><tr><td>434</td><td>18786</td><td>6262.0</td><td>18786</td><td>0</td></tr><tr><td>5</td><td>659</td><td>659.0</td><td>659</td><td>0</td></tr><tr><td>1</td><td>817</td><td>817.0</td><td>0</td><td>817</td></tr><tr><td>404</td><td>4345</td><td>2172.5</td><td>1825</td><td>2520</td></tr><tr><td>153</td><td>3650</td><td>1825.0</td><td>1575</td><td>2075</td></tr><tr><td>96</td><td>30801</td><td>6160.2</td><td>8574</td><td>22227</td></tr><tr><td>250</td><td>14901</td><td>3725.25</td><td>2464</td><td>12437</td></tr><tr><td>377</td><td>18993</td><td>6331.0</td><td>16589</td><td>2404</td></tr><tr><td>328</td><td>10165</td><td>3388.3333333333335</td><td>4722</td><td>5443</td></tr><tr><td>185</td><td>7565</td><td>3782.5</td><td>0</td><td>7565</td></tr><tr><td>349</td><td>11581</td><td>5790.5</td><td>0</td><td>11581</td></tr><tr><td>375</td><td>9364</td><td>3121.3333333333335</td><td>6724</td><td>2640</td></tr><tr><td>104</td><td>17675</td><td>8837.5</td><td>17675</td><td>0</td></tr><tr><td>219</td><td>9496</td><td>9496.0</td><td>0</td><td>9496</td></tr><tr><td>368</td><td>7131</td><td>3565.5</td><td>6521</td><td>610</td></tr><tr><td>214</td><td>12851</td><td>4283.666666666667</td><td>9644</td><td>3207</td></tr><tr><td>449</td><td>4026</td><td>2013.0</td><td>0</td><td>4026</td></tr><tr><td>461</td><td>28979</td><td>7244.75</td><td>0</td><td>28979</td></tr><tr><td>419</td><td>18419</td><td>3683.8</td><td>6641</td><td>11778</td></tr><tr><td>10</td><td>6601</td><td>6601.0</td><td>0</td><td>6601</td></tr><tr><td>120</td><td>7032</td><td>3516.0</td><td>0</td><td>7032</td></tr><tr><td>485</td><td>13888</td><td>6944.0</td><td>5194</td><td>8694</td></tr><tr><td>500</td><td>728</td><td>728.0</td><td>728</td><td>0</td></tr><tr><td>89</td><td>8184</td><td>4092.0</td><td>517</td><td>7667</td></tr><tr><td>364</td><td>535</td><td>535.0</td><td>0</td><td>535</td></tr><tr><td>452</td><td>7567</td><td>7567.0</td><td>7567</td><td>0</td></tr><tr><td>356</td><td>13632</td><td>3408.0</td><td>1593</td><td>12039</td></tr><tr><td>128</td><td>13774</td><td>6887.0</td><td>13774</td><td>0</td></tr><tr><td>197</td><td>10489</td><td>5244.5</td><td>5984</td><td>4505</td></tr><tr><td>85</td><td>8327</td><td>4163.5</td><td>713</td><td>7614</td></tr><tr><td>111</td><td>12278</td><td>4092.6666666666665</td><td>2743</td><td>9535</td></tr><tr><td>332</td><td>4984</td><td>2492.0</td><td>4984</td><td>0</td></tr><tr><td>301</td><td>8431</td><td>4215.5</td><td>8431</td><td>0</td></tr><tr><td>411</td><td>11961</td><td>5980.5</td><td>11961</td><td>0</td></tr><tr><td>177</td><td>8830</td><td>4415.0</td><td>6271</td><td>2559</td></tr><tr><td>460</td><td>25918</td><td>6479.5</td><td>13992</td><td>11926</td></tr><tr><td>306</td><td>5030</td><td>5030.0</td><td>0</td><td>5030</td></tr><tr><td>441</td><td>1213</td><td>1213.0</td><td>0</td><td>1213</td></tr><tr><td>448</td><td>16793</td><td>4198.25</td><td>1189</td><td>15604</td></tr><tr><td>48</td><td>23987</td><td>7995.666666666667</td><td>0</td><td>23987</td></tr><tr><td>67</td><td>2627</td><td>2627.0</td><td>2627</td><td>0</td></tr><tr><td>224</td><td>14491</td><td>7245.5</td><td>8853</td><td>5638</td></tr><tr><td>142</td><td>3028</td><td>3028.0</td><td>3028</td><td>0</td></tr><tr><td>168</td><td>5892</td><td>5892.0</td><td>0</td><td>5892</td></tr><tr><td>254</td><td>16810</td><td>4202.5</td><td>9489</td><td>7321</td></tr><tr><td>324</td><td>10706</td><td>5353.0</td><td>6647</td><td>4059</td></tr><tr><td>481</td><td>6727</td><td>3363.5</td><td>6727</td><td>0</td></tr><tr><td>247</td><td>14013</td><td>4671.0</td><td>7388</td><td>6625</td></tr><tr><td>467</td><td>11459</td><td>3819.6666666666665</td><td>5477</td><td>5982</td></tr><tr><td>105</td><td>704</td><td>704.0</td><td>0</td><td>704</td></tr><tr><td>131</td><td>13041</td><td>6520.5</td><td>9454</td><td>3587</td></tr><tr><td>318</td><td>4729</td><td>4729.0</td><td>4729</td><td>0</td></tr><tr><td>294</td><td>2486</td><td>2486.0</td><td>0</td><td>2486</td></tr><tr><td>451</td><td>1733</td><td>866.5</td><td>0</td><td>1733</td></tr><tr><td>108</td><td>4324</td><td>4324.0</td><td>0</td><td>4324</td></tr><tr><td>218</td><td>2579</td><td>2579.0</td><td>0</td><td>2579</td></tr><tr><td>333</td><td>3943</td><td>1971.5</td><td>0</td><td>3943</td></tr><tr><td>339</td><td>3136</td><td>3136.0</td><td>0</td><td>3136</td></tr><tr><td>44</td><td>4362</td><td>4362.0</td><td>0</td><td>4362</td></tr><tr><td>132</td><td>21464</td><td>4292.8</td><td>9847</td><td>11617</td></tr><tr><td>309</td><td>6889</td><td>6889.0</td><td>6889</td><td>0</td></tr><tr><td>392</td><td>18170</td><td>4542.5</td><td>5072</td><td>13098</td></tr><tr><td>471</td><td>22097</td><td>5524.25</td><td>18323</td><td>3774</td></tr><tr><td>123</td><td>7312</td><td>3656.0</td><td>0</td><td>7312</td></tr><tr><td>127</td><td>15027</td><td>7513.5</td><td>0</td><td>15027</td></tr><tr><td>345</td><td>6700</td><td>3350.0</td><td>6700</td><td>0</td></tr><tr><td>210</td><td>7649</td><td>7649.0</td><td>7649</td><td>0</td></tr><tr><td>205</td><td>5100</td><td>5100.0</td><td>0</td><td>5100</td></tr><tr><td>225</td><td>22660</td><td>7553.333333333333</td><td>13706</td><td>8954</td></tr><tr><td>323</td><td>11879</td><td>3959.6666666666665</td><td>11717</td><td>162</td></tr><tr><td>352</td><td>21592</td><td>7197.333333333333</td><td>9805</td><td>11787</td></tr><tr><td>220</td><td>7219</td><td>7219.0</td><td>0</td><td>7219</td></tr><tr><td>249</td><td>19289</td><td>6429.666666666667</td><td>12820</td><td>6469</td></tr><tr><td>381</td><td>17083</td><td>5694.333333333333</td><td>13022</td><td>4061</td></tr><tr><td>383</td><td>14695</td><td>4898.333333333333</td><td>6336</td><td>8359</td></tr><tr><td>61</td><td>18228</td><td>4557.0</td><td>10543</td><td>7685</td></tr><tr><td>303</td><td>8052</td><td>8052.0</td><td>0</td><td>8052</td></tr><tr><td>192</td><td>4672</td><td>2336.0</td><td>4672</td><td>0</td></tr><tr><td>213</td><td>21114</td><td>5278.5</td><td>10533</td><td>10581</td></tr><tr><td>337</td><td>1692</td><td>1692.0</td><td>1692</td><td>0</td></tr><tr><td>440</td><td>20905</td><td>6968.333333333333</td><td>13325</td><td>7580</td></tr><tr><td>454</td><td>8463</td><td>8463.0</td><td>8463</td><td>0</td></tr><tr><td>473</td><td>2157</td><td>2157.0</td><td>2157</td><td>0</td></tr><tr><td>156</td><td>6519</td><td>6519.0</td><td>6519</td><td>0</td></tr><tr><td>429</td><td>2645</td><td>2645.0</td><td>2645</td><td>0</td></tr><tr><td>160</td><td>2571</td><td>2571.0</td><td>2571</td><td>0</td></tr><tr><td>283</td><td>13039</td><td>2607.8</td><td>8236</td><td>4803</td></tr><tr><td>3</td><td>1898</td><td>1898.0</td><td>0</td><td>1898</td></tr><tr><td>435</td><td>6638</td><td>6638.0</td><td>6638</td><td>0</td></tr><tr><td>206</td><td>25316</td><td>6329.0</td><td>9626</td><td>15690</td></tr><tr><td>382</td><td>13765</td><td>6882.5</td><td>13765</td><td>0</td></tr><tr><td>478</td><td>10893</td><td>3631.0</td><td>3923</td><td>6970</td></tr><tr><td>482</td><td>12512</td><td>6256.0</td><td>3123</td><td>9389</td></tr><tr><td>37</td><td>4761</td><td>4761.0</td><td>4761</td><td>0</td></tr><tr><td>101</td><td>2071</td><td>2071.0</td><td>0</td><td>2071</td></tr><tr><td>292</td><td>15068</td><td>5022.666666666667</td><td>4659</td><td>10409</td></tr><tr><td>362</td><td>16083</td><td>4020.75</td><td>7197</td><td>8886</td></tr><tr><td>491</td><td>7197</td><td>3598.5</td><td>7197</td><td>0</td></tr><tr><td>12</td><td>4850</td><td>4850.0</td><td>0</td><td>4850</td></tr><tr><td>200</td><td>3524</td><td>3524.0</td><td>3524</td><td>0</td></tr><tr><td>295</td><td>23896</td><td>5974.0</td><td>19050</td><td>4846</td></tr><tr><td>355</td><td>3213</td><td>3213.0</td><td>0</td><td>3213</td></tr><tr><td>141</td><td>17039</td><td>8519.5</td><td>9529</td><td>7510</td></tr><tr><td>288</td><td>8490</td><td>2830.0</td><td>2744</td><td>5746</td></tr><tr><td>55</td><td>15722</td><td>7861.0</td><td>7203</td><td>8519</td></tr><tr><td>280</td><td>15068</td><td>5022.666666666667</td><td>0</td><td>15068</td></tr><tr><td>322</td><td>9850</td><td>3283.3333333333335</td><td>9850</td><td>0</td></tr><tr><td>492</td><td>20117</td><td>6705.666666666667</td><td>10470</td><td>9647</td></tr><tr><td>62</td><td>19604</td><td>4901.0</td><td>0</td><td>19604</td></tr><tr><td>182</td><td>16198</td><td>8099.0</td><td>8431</td><td>7767</td></tr><tr><td>334</td><td>11404</td><td>2851.0</td><td>10176</td><td>1228</td></tr><tr><td>186</td><td>5797</td><td>5797.0</td><td>0</td><td>5797</td></tr><tr><td>331</td><td>10168</td><td>5084.0</td><td>3748</td><td>6420</td></tr><tr><td>171</td><td>9581</td><td>4790.5</td><td>8781</td><td>800</td></tr><tr><td>480</td><td>6495</td><td>6495.0</td><td>6495</td><td>0</td></tr><tr><td>11</td><td>21422</td><td>7140.666666666667</td><td>8693</td><td>12729</td></tr><tr><td>49</td><td>27745</td><td>6936.25</td><td>12317</td><td>15428</td></tr><tr><td>290</td><td>13983</td><td>4661.0</td><td>11199</td><td>2784</td></tr><tr><td>437</td><td>16712</td><td>5570.666666666667</td><td>7623</td><td>9089</td></tr><tr><td>371</td><td>12549</td><td>6274.5</td><td>3111</td><td>9438</td></tr><tr><td>166</td><td>6719</td><td>2239.6666666666665</td><td>992</td><td>5727</td></tr><tr><td>468</td><td>7182</td><td>7182.0</td><td>7182</td><td>0</td></tr><tr><td>80</td><td>7456</td><td>7456.0</td><td>0</td><td>7456</td></tr><tr><td>321</td><td>1332</td><td>1332.0</td><td>1332</td><td>0</td></tr><tr><td>400</td><td>8048</td><td>2682.6666666666665</td><td>8048</td><td>0</td></tr><tr><td>199</td><td>17419</td><td>4354.75</td><td>2515</td><td>14904</td></tr><tr><td>477</td><td>8177</td><td>4088.5</td><td>0</td><td>8177</td></tr><tr><td>2</td><td>27034</td><td>6758.5</td><td>18244</td><td>8790</td></tr><tr><td>465</td><td>14387</td><td>7193.5</td><td>14387</td><td>0</td></tr><tr><td>66</td><td>19084</td><td>6361.333333333333</td><td>6871</td><td>12213</td></tr><tr><td>154</td><td>13312</td><td>3328.0</td><td>12288</td><td>1024</td></tr><tr><td>265</td><td>15705</td><td>3926.25</td><td>15705</td><td>0</td></tr><tr><td>432</td><td>10921</td><td>5460.5</td><td>10921</td><td>0</td></tr><tr><td>244</td><td>27484</td><td>6871.0</td><td>22138</td><td>5346</td></tr><tr><td>344</td><td>11280</td><td>5640.0</td><td>11280</td><td>0</td></tr><tr><td>433</td><td>16617</td><td>5539.0</td><td>8827</td><td>7790</td></tr><tr><td>164</td><td>28588</td><td>4084.0</td><td>27754</td><td>834</td></tr><tr><td>176</td><td>509</td><td>509.0</td><td>509</td><td>0</td></tr><tr><td>360</td><td>17183</td><td>5727.666666666667</td><td>4344</td><td>12839</td></tr><tr><td>495</td><td>23301</td><td>7767.0</td><td>16488</td><td>6813</td></tr><tr><td>134</td><td>17256</td><td>5752.0</td><td>1454</td><td>15802</td></tr><tr><td>245</td><td>25869</td><td>8623.0</td><td>8509</td><td>17360</td></tr><tr><td>329</td><td>13333</td><td>6666.5</td><td>13333</td><td>0</td></tr><tr><td>359</td><td>32431</td><td>4633.0</td><td>12190</td><td>20241</td></tr><tr><td>422</td><td>11475</td><td>3825.0</td><td>3980</td><td>7495</td></tr><tr><td>102</td><td>13460</td><td>6730.0</td><td>5719</td><td>7741</td></tr><tr><td>175</td><td>5006</td><td>5006.0</td><td>0</td><td>5006</td></tr><tr><td>233</td><td>4960</td><td>2480.0</td><td>3493</td><td>1467</td></tr><tr><td>92</td><td>16529</td><td>8264.5</td><td>16529</td><td>0</td></tr><tr><td>230</td><td>18538</td><td>9269.0</td><td>0</td><td>18538</td></tr><tr><td>391</td><td>9586</td><td>3195.3333333333335</td><td>1365</td><td>8221</td></tr><tr><td>308</td><td>16269</td><td>8134.5</td><td>9971</td><td>6298</td></tr><tr><td>118</td><td>942</td><td>942.0</td><td>942</td><td>0</td></tr><tr><td>13</td><td>2309</td><td>2309.0</td><td>0</td><td>2309</td></tr><tr><td>272</td><td>5963</td><td>2981.5</td><td>0</td><td>5963</td></tr><tr><td>305</td><td>20346</td><td>5086.5</td><td>11428</td><td>8918</td></tr><tr><td>36</td><td>8450</td><td>8450.0</td><td>8450</td><td>0</td></tr><tr><td>75</td><td>4908</td><td>2454.0</td><td>560</td><td>4348</td></tr><tr><td>302</td><td>6956</td><td>6956.0</td><td>0</td><td>6956</td></tr><tr><td>172</td><td>9420</td><td>9420.0</td><td>0</td><td>9420</td></tr><tr><td>78</td><td>11439</td><td>5719.5</td><td>6901</td><td>4538</td></tr><tr><td>314</td><td>16932</td><td>5644.0</td><td>4492</td><td>12440</td></tr><tr><td>408</td><td>14421</td><td>7210.5</td><td>14421</td><td>0</td></tr><tr><td>18</td><td>16716</td><td>8358.0</td><td>8591</td><td>8125</td></tr><tr><td>125</td><td>14407</td><td>4802.333333333333</td><td>10920</td><td>3487</td></tr><tr><td>140</td><td>4980</td><td>2490.0</td><td>4980</td><td>0</td></tr><tr><td>298</td><td>8865</td><td>8865.0</td><td>8865</td><td>0</td></tr><tr><td>410</td><td>4246</td><td>4246.0</td><td>0</td><td>4246</td></tr><tr><td>289</td><td>17264</td><td>8632.0</td><td>17264</td><td>0</td></tr><tr><td>69</td><td>8382</td><td>4191.0</td><td>8272</td><td>110</td></tr><tr><td>475</td><td>21811</td><td>5452.75</td><td>2174</td><td>19637</td></tr><tr><td>14</td><td>8588</td><td>8588.0</td><td>8588</td><td>0</td></tr><tr><td>374</td><td>3214</td><td>1607.0</td><td>3214</td><td>0</td></tr><tr><td>216</td><td>755</td><td>755.0</td><td>755</td><td>0</td></tr><tr><td>286</td><td>15129</td><td>5043.0</td><td>0</td><td>15129</td></tr><tr><td>137</td><td>8807</td><td>4403.5</td><td>1403</td><td>7404</td></tr><tr><td>173</td><td>14355</td><td>7177.5</td><td>0</td><td>14355</td></tr><tr><td>194</td><td>22225</td><td>5556.25</td><td>7381</td><td>14844</td></tr><tr><td>21</td><td>5120</td><td>5120.0</td><td>5120</td><td>0</td></tr><tr><td>135</td><td>34760</td><td>6952.0</td><td>19741</td><td>15019</td></tr><tr><td>238</td><td>8142</td><td>4071.0</td><td>6169</td><td>1973</td></tr><tr><td>59</td><td>17021</td><td>8510.5</td><td>8793</td><td>8228</td></tr><tr><td>122</td><td>138</td><td>138.0</td><td>138</td><td>0</td></tr><tr><td>129</td><td>7066</td><td>7066.0</td><td>7066</td><td>0</td></tr><tr><td>335</td><td>14621</td><td>4873.666666666667</td><td>1709</td><td>12912</td></tr><tr><td>393</td><td>7523</td><td>7523.0</td><td>7523</td><td>0</td></tr><tr><td>493</td><td>25833</td><td>5166.6</td><td>19793</td><td>6040</td></tr><tr><td>15</td><td>7845</td><td>7845.0</td><td>7845</td><td>0</td></tr><tr><td>81</td><td>5080</td><td>5080.0</td><td>5080</td><td>0</td></tr><tr><td>165</td><td>8715</td><td>4357.5</td><td>0</td><td>8715</td></tr><tr><td>223</td><td>11327</td><td>5663.5</td><td>7555</td><td>3772</td></tr><tr><td>315</td><td>10357</td><td>3452.3333333333335</td><td>3593</td><td>6764</td></tr><tr><td>195</td><td>24858</td><td>8286.0</td><td>9910</td><td>14948</td></tr><tr><td>436</td><td>29283</td><td>7320.75</td><td>10975</td><td>18308</td></tr><tr><td>82</td><td>18103</td><td>4525.75</td><td>12736</td><td>5367</td></tr><tr><td>350</td><td>4095</td><td>4095.0</td><td>4095</td><td>0</td></tr><tr><td>472</td><td>22504</td><td>5626.0</td><td>17215</td><td>5289</td></tr><tr><td>97</td><td>5353</td><td>5353.0</td><td>5353</td><td>0</td></tr><tr><td>133</td><td>3035</td><td>1517.5</td><td>1226</td><td>1809</td></tr><tr><td>351</td><td>2061</td><td>2061.0</td><td>0</td><td>2061</td></tr><tr><td>470</td><td>10753</td><td>5376.5</td><td>10753</td><td>0</td></tr><tr><td>30</td><td>12016</td><td>4005.3333333333335</td><td>12016</td><td>0</td></tr><tr><td>151</td><td>2219</td><td>2219.0</td><td>2219</td><td>0</td></tr><tr><td>401</td><td>9753</td><td>4876.5</td><td>0</td><td>9753</td></tr><tr><td>90</td><td>4946</td><td>4946.0</td><td>0</td><td>4946</td></tr><tr><td>159</td><td>4560</td><td>4560.0</td><td>0</td><td>4560</td></tr><tr><td>256</td><td>3286</td><td>3286.0</td><td>3286</td><td>0</td></tr><tr><td>457</td><td>10758</td><td>5379.0</td><td>5210</td><td>5548</td></tr><tr><td>312</td><td>10227</td><td>5113.5</td><td>10227</td><td>0</td></tr><tr><td>338</td><td>30642</td><td>5107.0</td><td>2199</td><td>28443</td></tr><tr><td>425</td><td>11250</td><td>5625.0</td><td>11250</td><td>0</td></tr><tr><td>445</td><td>18446</td><td>6148.666666666667</td><td>18446</td><td>0</td></tr><tr><td>297</td><td>27589</td><td>5517.8</td><td>16565</td><td>11024</td></tr><tr><td>23</td><td>5183</td><td>2591.5</td><td>0</td><td>5183</td></tr><tr><td>291</td><td>9486</td><td>3162.0</td><td>0</td><td>9486</td></tr><tr><td>121</td><td>13202</td><td>4400.666666666667</td><td>6894</td><td>6308</td></tr><tr><td>358</td><td>18080</td><td>9040.0</td><td>0</td><td>18080</td></tr><tr><td>409</td><td>16430</td><td>5476.666666666667</td><td>4869</td><td>11561</td></tr><tr><td>494</td><td>16985</td><td>4246.25</td><td>14969</td><td>2016</td></tr><tr><td>20</td><td>5245</td><td>2622.5</td><td>2401</td><td>2844</td></tr><tr><td>70</td><td>19814</td><td>6604.666666666667</td><td>11638</td><td>8176</td></tr><tr><td>479</td><td>186</td><td>186.0</td><td>0</td><td>186</td></tr><tr><td>300</td><td>9941</td><td>9941.0</td><td>9941</td><td>0</td></tr><tr><td>444</td><td>18636</td><td>6212.0</td><td>18636</td><td>0</td></tr><tr><td>387</td><td>2168</td><td>2168.0</td><td>2168</td><td>0</td></tr><tr><td>109</td><td>9287</td><td>4643.5</td><td>295</td><td>8992</td></tr><tr><td>354</td><td>1537</td><td>1537.0</td><td>0</td><td>1537</td></tr><tr><td>483</td><td>5075</td><td>1691.6666666666667</td><td>3205</td><td>1870</td></tr><tr><td>476</td><td>2382</td><td>2382.0</td><td>0</td><td>2382</td></tr><tr><td>60</td><td>11069</td><td>5534.5</td><td>11069</td><td>0</td></tr><tr><td>189</td><td>6534</td><td>3267.0</td><td>1510</td><td>5024</td></tr><tr><td>311</td><td>6528</td><td>6528.0</td><td>0</td><td>6528</td></tr><tr><td>93</td><td>4480</td><td>2240.0</td><td>3042</td><td>1438</td></tr><tr><td>204</td><td>14736</td><td>4912.0</td><td>12975</td><td>1761</td></tr><tr><td>251</td><td>4728</td><td>4728.0</td><td>4728</td><td>0</td></tr><tr><td>259</td><td>6479</td><td>3239.5</td><td>4755</td><td>1724</td></tr><tr><td>366</td><td>8487</td><td>8487.0</td><td>8487</td><td>0</td></tr><tr><td>282</td><td>4480</td><td>4480.0</td><td>0</td><td>4480</td></tr><tr><td>285</td><td>32316</td><td>8079.0</td><td>15910</td><td>16406</td></tr><tr><td>147</td><td>1613</td><td>1613.0</td><td>0</td><td>1613</td></tr><tr><td>183</td><td>23791</td><td>4758.2</td><td>14996</td><td>8795</td></tr><tr><td>240</td><td>18669</td><td>9334.5</td><td>18669</td><td>0</td></tr><tr><td>263</td><td>10641</td><td>3547.0</td><td>2201</td><td>8440</td></tr><tr><td>396</td><td>9168</td><td>4584.0</td><td>4181</td><td>4987</td></tr><tr><td>16</td><td>9314</td><td>9314.0</td><td>0</td><td>9314</td></tr><tr><td>64</td><td>16263</td><td>8131.5</td><td>0</td><td>16263</td></tr><tr><td>281</td><td>23250</td><td>4650.0</td><td>17207</td><td>6043</td></tr><tr><td>336</td><td>15207</td><td>3801.75</td><td>5734</td><td>9473</td></tr><tr><td>91</td><td>15516</td><td>5172.0</td><td>7104</td><td>8412</td></tr><tr><td>152</td><td>29419</td><td>5883.8</td><td>16751</td><td>12668</td></tr><tr><td>267</td><td>9142</td><td>9142.0</td><td>0</td><td>9142</td></tr><tr><td>317</td><td>10270</td><td>5135.0</td><td>0</td><td>10270</td></tr><tr><td>357</td><td>16343</td><td>5447.666666666667</td><td>14684</td><td>1659</td></tr><tr><td>416</td><td>9834</td><td>9834.0</td><td>9834</td><td>0</td></tr><tr><td>261</td><td>5841</td><td>5841.0</td><td>0</td><td>5841</td></tr><tr><td>398</td><td>12875</td><td>6437.5</td><td>0</td><td>12875</td></tr><tr><td>45</td><td>17782</td><td>8891.0</td><td>0</td><td>17782</td></tr><tr><td>47</td><td>8053</td><td>4026.5</td><td>1315</td><td>6738</td></tr><tr><td>53</td><td>6170</td><td>6170.0</td><td>6170</td><td>0</td></tr><tr><td>148</td><td>22065</td><td>5516.25</td><td>0</td><td>22065</td></tr><tr><td>394</td><td>8332</td><td>8332.0</td><td>0</td><td>8332</td></tr><tr><td>484</td><td>21496</td><td>5374.0</td><td>15940</td><td>5556</td></tr><tr><td>169</td><td>29621</td><td>4231.571428571428</td><td>17573</td><td>12048</td></tr><tr><td>273</td><td>1843</td><td>1843.0</td><td>0</td><td>1843</td></tr><tr><td>24</td><td>10030</td><td>5015.0</td><td>0</td><td>10030</td></tr><tr><td>340</td><td>17491</td><td>5830.333333333333</td><td>0</td><td>17491</td></tr><tr><td>456</td><td>6892</td><td>6892.0</td><td>6892</td><td>0</td></tr><tr><td>458</td><td>11913</td><td>2978.25</td><td>4890</td><td>7023</td></tr><tr><td>211</td><td>13071</td><td>3267.75</td><td>5904</td><td>7167</td></tr><tr><td>469</td><td>118</td><td>118.0</td><td>118</td><td>0</td></tr></tbody></table></div>"
      ]
     },
     "metadata": {
      "application/vnd.databricks.v1+output": {
       "addedWidgets": {},
       "aggData": [],
       "aggError": "",
       "aggOverflow": false,
       "aggSchema": [],
       "aggSeriesLimitReached": false,
       "aggType": "",
       "arguments": {},
       "columnCustomDisplayInfos": {},
       "data": [
        [
         26,
         2766,
         2766.0,
         2766,
         0
        ],
        [
         29,
         12503,
         4167.666666666667,
         0,
         12503
        ],
        [
         474,
         12570,
         4190.0,
         8304,
         4266
        ],
        [
         65,
         11350,
         5675.0,
         11350,
         0
        ],
        [
         191,
         23358,
         5839.5,
         17674,
         5684
        ],
        [
         418,
         17135,
         4283.75,
         10273,
         6862
        ],
        [
         222,
         19310,
         6436.666666666667,
         5408,
         13902
        ],
        [
         270,
         9640,
         4820.0,
         5734,
         3906
        ],
        [
         293,
         9712,
         4856.0,
         0,
         9712
        ],
        [
         243,
         26723,
         3817.5714285714284,
         10772,
         15951
        ],
        [
         278,
         9988,
         4994.0,
         8149,
         1839
        ],
        [
         367,
         13630,
         6815.0,
         9515,
         4115
        ],
        [
         19,
         12198,
         2439.6,
         0,
         12198
        ],
        [
         54,
         13723,
         6861.5,
         3833,
         9890
        ],
        [
         296,
         17017,
         5672.333333333333,
         10065,
         6952
        ],
        [
         277,
         10393,
         5196.5,
         10393,
         0
        ],
        [
         287,
         15976,
         7988.0,
         0,
         15976
        ],
        [
         348,
         9887,
         4943.5,
         0,
         9887
        ],
        [
         113,
         14456,
         7228.0,
         9338,
         5118
        ],
        [
         155,
         3616,
         3616.0,
         0,
         3616
        ],
        [
         167,
         19332,
         9666.0,
         9729,
         9603
        ],
        [
         385,
         9621,
         4810.5,
         329,
         9292
        ],
        [
         237,
         11546,
         5773.0,
         0,
         11546
        ],
        [
         241,
         1865,
         1865.0,
         0,
         1865
        ],
        [
         347,
         8358,
         8358.0,
         0,
         8358
        ],
        [
         198,
         14140,
         7070.0,
         9481,
         4659
        ],
        [
         330,
         2788,
         2788.0,
         0,
         2788
        ],
        [
         130,
         6527,
         3263.5,
         6527,
         0
        ],
        [
         196,
         22042,
         5510.5,
         12316,
         9726
        ],
        [
         487,
         29469,
         5893.8,
         16233,
         13236
        ],
        [
         7,
         9968,
         9968.0,
         0,
         9968
        ],
        [
         77,
         15666,
         3916.5,
         9964,
         5702
        ],
        [
         34,
         8173,
         8173.0,
         0,
         8173
        ],
        [
         184,
         4842,
         4842.0,
         4842,
         0
        ],
        [
         463,
         18560,
         9280.0,
         0,
         18560
        ],
        [
         188,
         3025,
         3025.0,
         3025,
         0
        ],
        [
         399,
         1110,
         1110.0,
         1110,
         0
        ],
        [
         202,
         5104,
         5104.0,
         5104,
         0
        ],
        [
         228,
         9560,
         3186.6666666666665,
         7141,
         2419
        ],
        [
         274,
         16294,
         4073.5,
         2217,
         14077
        ],
        [
         262,
         19960,
         4990.0,
         1161,
         18799
        ],
        [
         325,
         6831,
         6831.0,
         6831,
         0
        ],
        [
         406,
         17616,
         4404.0,
         14591,
         3025
        ],
        [
         50,
         20084,
         5021.0,
         3994,
         16090
        ],
        [
         94,
         8255,
         4127.5,
         4330,
         3925
        ],
        [
         149,
         3001,
         1500.5,
         224,
         2777
        ],
        [
         421,
         21535,
         5383.75,
         18973,
         2562
        ],
        [
         264,
         22550,
         4510.0,
         18110,
         4440
        ],
        [
         229,
         31616,
         6323.2,
         2893,
         28723
        ],
        [
         110,
         3140,
         3140.0,
         3140,
         0
        ],
        [
         190,
         12694,
         4231.333333333333,
         5207,
         7487
        ],
        [
         275,
         9913,
         9913.0,
         9913,
         0
        ],
        [
         343,
         15517,
         5172.333333333333,
         9284,
         6233
        ],
        [
         439,
         5541,
         5541.0,
         0,
         5541
        ],
        [
         57,
         23780,
         7926.666666666667,
         23780,
         0
        ],
        [
         136,
         5373,
         2686.5,
         5373,
         0
        ],
        [
         144,
         7857,
         3928.5,
         7857,
         0
        ],
        [
         388,
         9317,
         9317.0,
         9317,
         0
        ],
        [
         412,
         4226,
         2113.0,
         4061,
         165
        ],
        [
         417,
         6319,
         6319.0,
         6319,
         0
        ],
        [
         32,
         7267,
         3633.5,
         0,
         7267
        ],
        [
         43,
         12291,
         6145.5,
         2843,
         9448
        ],
        [
         420,
         12590,
         6295.0,
         0,
         12590
        ],
        [
         84,
         5244,
         5244.0,
         0,
         5244
        ],
        [
         378,
         8554,
         8554.0,
         8554,
         0
        ],
        [
         212,
         17506,
         5835.333333333333,
         0,
         17506
        ],
        [
         31,
         34254,
         5709.0,
         29437,
         4817
        ],
        [
         119,
         14550,
         3637.5,
         2278,
         12272
        ],
        [
         326,
         2989,
         2989.0,
         0,
         2989
        ],
        [
         386,
         16183,
         3236.6,
         1878,
         14305
        ],
        [
         450,
         3671,
         3671.0,
         0,
         3671
        ],
        [
         39,
         5833,
         5833.0,
         5833,
         0
        ],
        [
         98,
         17598,
         5866.0,
         2880,
         14718
        ],
        [
         187,
         29586,
         5917.2,
         20455,
         9131
        ],
        [
         496,
         17977,
         4494.25,
         0,
         17977
        ],
        [
         201,
         204,
         204.0,
         0,
         204
        ],
        [
         232,
         12449,
         6224.5,
         7761,
         4688
        ],
        [
         402,
         6900,
         6900.0,
         6900,
         0
        ],
        [
         203,
         9564,
         4782.0,
         3888,
         5676
        ],
        [
         145,
         10037,
         5018.5,
         10037,
         0
        ],
        [
         488,
         9466,
         9466.0,
         9466,
         0
        ],
        [
         25,
         19798,
         6599.333333333333,
         0,
         19798
        ],
        [
         157,
         2179,
         2179.0,
         2179,
         0
        ],
        [
         124,
         14641,
         4880.333333333333,
         9383,
         5258
        ],
        [
         363,
         13920,
         6960.0,
         13920,
         0
        ],
        [
         95,
         5439,
         5439.0,
         5439,
         0
        ],
        [
         413,
         8527,
         8527.0,
         0,
         8527
        ],
        [
         71,
         2167,
         2167.0,
         0,
         2167
        ],
        [
         143,
         17019,
         5673.0,
         7953,
         9066
        ],
        [
         370,
         8649,
         4324.5,
         2074,
         6575
        ],
        [
         161,
         21980,
         5495.0,
         6260,
         15720
        ],
        [
         193,
         34359,
         6871.8,
         6223,
         28136
        ],
        [
         365,
         36308,
         6051.333333333333,
         22506,
         13802
        ],
        [
         443,
         17851,
         5950.333333333333,
         4018,
         13833
        ],
        [
         6,
         22663,
         4532.6,
         13554,
         9109
        ],
        [
         68,
         11734,
         3911.3333333333335,
         10405,
         1329
        ],
        [
         342,
         21424,
         7141.333333333333,
         15341,
         6083
        ],
        [
         72,
         11654,
         3884.6666666666665,
         11654,
         0
        ],
        [
         87,
         16515,
         5505.0,
         5736,
         10779
        ],
        [
         215,
         18652,
         9326.0,
         0,
         18652
        ],
        [
         58,
         14518,
         7259.0,
         8236,
         6282
        ],
        [
         258,
         3224,
         3224.0,
         3224,
         0
        ],
        [
         320,
         24196,
         6049.0,
         19650,
         4546
        ],
        [
         107,
         4352,
         2176.0,
         4352,
         0
        ],
        [
         221,
         11285,
         5642.5,
         0,
         11285
        ],
        [
         266,
         8784,
         2928.0,
         5066,
         3718
        ],
        [
         424,
         8872,
         8872.0,
         8872,
         0
        ],
        [
         9,
         12466,
         4155.333333333333,
         3183,
         9283
        ],
        [
         316,
         8100,
         4050.0,
         3026,
         5074
        ],
        [
         27,
         15604,
         5201.333333333333,
         142,
         15462
        ],
        [
         63,
         7618,
         3809.0,
         7618,
         0
        ],
        [
         158,
         3393,
         3393.0,
         0,
         3393
        ],
        [
         389,
         8862,
         4431.0,
         0,
         8862
        ],
        [
         397,
         10869,
         5434.5,
         10869,
         0
        ],
        [
         447,
         20934,
         4186.8,
         8285,
         12649
        ],
        [
         51,
         1694,
         1694.0,
         0,
         1694
        ],
        [
         56,
         4813,
         4813.0,
         0,
         4813
        ],
        [
         178,
         34613,
         6922.6,
         14015,
         20598
        ],
        [
         353,
         6275,
         6275.0,
         0,
         6275
        ],
        [
         234,
         8228,
         4114.0,
         6403,
         1825
        ],
        [
         239,
         15269,
         3817.25,
         2901,
         12368
        ],
        [
         150,
         4786,
         4786.0,
         0,
         4786
        ],
        [
         146,
         1268,
         1268.0,
         1268,
         0
        ],
        [
         346,
         24626,
         4925.2,
         14854,
         9772
        ],
        [
         446,
         27130,
         9043.333333333334,
         9400,
         17730
        ],
        [
         459,
         7867,
         7867.0,
         7867,
         0
        ],
        [
         174,
         8441,
         8441.0,
         8441,
         0
        ],
        [
         17,
         13861,
         4620.333333333333,
         0,
         13861
        ],
        [
         79,
         8369,
         8369.0,
         8369,
         0
        ],
        [
         170,
         9971,
         4985.5,
         0,
         9971
        ],
        [
         209,
         22237,
         5559.25,
         18173,
         4064
        ],
        [
         103,
         555,
         555.0,
         555,
         0
        ],
        [
         253,
         9711,
         4855.5,
         4236,
         5475
        ],
        [
         276,
         15924,
         7962.0,
         8691,
         7233
        ],
        [
         246,
         3767,
         1883.5,
         2366,
         1401
        ],
        [
         242,
         2576,
         2576.0,
         0,
         2576
        ],
        [
         430,
         19737,
         4934.25,
         5722,
         14015
        ],
        [
         453,
         15650,
         3912.5,
         12946,
         2704
        ],
        [
         41,
         995,
         995.0,
         0,
         995
        ],
        [
         28,
         6442,
         3221.0,
         6442,
         0
        ],
        [
         88,
         8121,
         2707.0,
         3704,
         4417
        ],
        [
         208,
         21235,
         5308.75,
         12995,
         8240
        ],
        [
         257,
         2443,
         2443.0,
         2443,
         0
        ],
        [
         384,
         5895,
         5895.0,
         0,
         5895
        ],
        [
         405,
         4884,
         4884.0,
         0,
         4884
        ],
        [
         138,
         1866,
         1866.0,
         1866,
         0
        ],
        [
         207,
         27606,
         6901.5,
         20375,
         7231
        ],
        [
         498,
         18122,
         6040.666666666667,
         0,
         18122
        ],
        [
         235,
         13861,
         6930.5,
         0,
         13861
        ],
        [
         304,
         27054,
         6763.5,
         18123,
         8931
        ],
        [
         307,
         7117,
         3558.5,
         1124,
         5993
        ],
        [
         462,
         9740,
         4870.0,
         0,
         9740
        ],
        [
         114,
         23469,
         7823.0,
         9646,
         13823
        ],
        [
         434,
         18786,
         6262.0,
         18786,
         0
        ],
        [
         5,
         659,
         659.0,
         659,
         0
        ],
        [
         1,
         817,
         817.0,
         0,
         817
        ],
        [
         404,
         4345,
         2172.5,
         1825,
         2520
        ],
        [
         153,
         3650,
         1825.0,
         1575,
         2075
        ],
        [
         96,
         30801,
         6160.2,
         8574,
         22227
        ],
        [
         250,
         14901,
         3725.25,
         2464,
         12437
        ],
        [
         377,
         18993,
         6331.0,
         16589,
         2404
        ],
        [
         328,
         10165,
         3388.3333333333335,
         4722,
         5443
        ],
        [
         185,
         7565,
         3782.5,
         0,
         7565
        ],
        [
         349,
         11581,
         5790.5,
         0,
         11581
        ],
        [
         375,
         9364,
         3121.3333333333335,
         6724,
         2640
        ],
        [
         104,
         17675,
         8837.5,
         17675,
         0
        ],
        [
         219,
         9496,
         9496.0,
         0,
         9496
        ],
        [
         368,
         7131,
         3565.5,
         6521,
         610
        ],
        [
         214,
         12851,
         4283.666666666667,
         9644,
         3207
        ],
        [
         449,
         4026,
         2013.0,
         0,
         4026
        ],
        [
         461,
         28979,
         7244.75,
         0,
         28979
        ],
        [
         419,
         18419,
         3683.8,
         6641,
         11778
        ],
        [
         10,
         6601,
         6601.0,
         0,
         6601
        ],
        [
         120,
         7032,
         3516.0,
         0,
         7032
        ],
        [
         485,
         13888,
         6944.0,
         5194,
         8694
        ],
        [
         500,
         728,
         728.0,
         728,
         0
        ],
        [
         89,
         8184,
         4092.0,
         517,
         7667
        ],
        [
         364,
         535,
         535.0,
         0,
         535
        ],
        [
         452,
         7567,
         7567.0,
         7567,
         0
        ],
        [
         356,
         13632,
         3408.0,
         1593,
         12039
        ],
        [
         128,
         13774,
         6887.0,
         13774,
         0
        ],
        [
         197,
         10489,
         5244.5,
         5984,
         4505
        ],
        [
         85,
         8327,
         4163.5,
         713,
         7614
        ],
        [
         111,
         12278,
         4092.6666666666665,
         2743,
         9535
        ],
        [
         332,
         4984,
         2492.0,
         4984,
         0
        ],
        [
         301,
         8431,
         4215.5,
         8431,
         0
        ],
        [
         411,
         11961,
         5980.5,
         11961,
         0
        ],
        [
         177,
         8830,
         4415.0,
         6271,
         2559
        ],
        [
         460,
         25918,
         6479.5,
         13992,
         11926
        ],
        [
         306,
         5030,
         5030.0,
         0,
         5030
        ],
        [
         441,
         1213,
         1213.0,
         0,
         1213
        ],
        [
         448,
         16793,
         4198.25,
         1189,
         15604
        ],
        [
         48,
         23987,
         7995.666666666667,
         0,
         23987
        ],
        [
         67,
         2627,
         2627.0,
         2627,
         0
        ],
        [
         224,
         14491,
         7245.5,
         8853,
         5638
        ],
        [
         142,
         3028,
         3028.0,
         3028,
         0
        ],
        [
         168,
         5892,
         5892.0,
         0,
         5892
        ],
        [
         254,
         16810,
         4202.5,
         9489,
         7321
        ],
        [
         324,
         10706,
         5353.0,
         6647,
         4059
        ],
        [
         481,
         6727,
         3363.5,
         6727,
         0
        ],
        [
         247,
         14013,
         4671.0,
         7388,
         6625
        ],
        [
         467,
         11459,
         3819.6666666666665,
         5477,
         5982
        ],
        [
         105,
         704,
         704.0,
         0,
         704
        ],
        [
         131,
         13041,
         6520.5,
         9454,
         3587
        ],
        [
         318,
         4729,
         4729.0,
         4729,
         0
        ],
        [
         294,
         2486,
         2486.0,
         0,
         2486
        ],
        [
         451,
         1733,
         866.5,
         0,
         1733
        ],
        [
         108,
         4324,
         4324.0,
         0,
         4324
        ],
        [
         218,
         2579,
         2579.0,
         0,
         2579
        ],
        [
         333,
         3943,
         1971.5,
         0,
         3943
        ],
        [
         339,
         3136,
         3136.0,
         0,
         3136
        ],
        [
         44,
         4362,
         4362.0,
         0,
         4362
        ],
        [
         132,
         21464,
         4292.8,
         9847,
         11617
        ],
        [
         309,
         6889,
         6889.0,
         6889,
         0
        ],
        [
         392,
         18170,
         4542.5,
         5072,
         13098
        ],
        [
         471,
         22097,
         5524.25,
         18323,
         3774
        ],
        [
         123,
         7312,
         3656.0,
         0,
         7312
        ],
        [
         127,
         15027,
         7513.5,
         0,
         15027
        ],
        [
         345,
         6700,
         3350.0,
         6700,
         0
        ],
        [
         210,
         7649,
         7649.0,
         7649,
         0
        ],
        [
         205,
         5100,
         5100.0,
         0,
         5100
        ],
        [
         225,
         22660,
         7553.333333333333,
         13706,
         8954
        ],
        [
         323,
         11879,
         3959.6666666666665,
         11717,
         162
        ],
        [
         352,
         21592,
         7197.333333333333,
         9805,
         11787
        ],
        [
         220,
         7219,
         7219.0,
         0,
         7219
        ],
        [
         249,
         19289,
         6429.666666666667,
         12820,
         6469
        ],
        [
         381,
         17083,
         5694.333333333333,
         13022,
         4061
        ],
        [
         383,
         14695,
         4898.333333333333,
         6336,
         8359
        ],
        [
         61,
         18228,
         4557.0,
         10543,
         7685
        ],
        [
         303,
         8052,
         8052.0,
         0,
         8052
        ],
        [
         192,
         4672,
         2336.0,
         4672,
         0
        ],
        [
         213,
         21114,
         5278.5,
         10533,
         10581
        ],
        [
         337,
         1692,
         1692.0,
         1692,
         0
        ],
        [
         440,
         20905,
         6968.333333333333,
         13325,
         7580
        ],
        [
         454,
         8463,
         8463.0,
         8463,
         0
        ],
        [
         473,
         2157,
         2157.0,
         2157,
         0
        ],
        [
         156,
         6519,
         6519.0,
         6519,
         0
        ],
        [
         429,
         2645,
         2645.0,
         2645,
         0
        ],
        [
         160,
         2571,
         2571.0,
         2571,
         0
        ],
        [
         283,
         13039,
         2607.8,
         8236,
         4803
        ],
        [
         3,
         1898,
         1898.0,
         0,
         1898
        ],
        [
         435,
         6638,
         6638.0,
         6638,
         0
        ],
        [
         206,
         25316,
         6329.0,
         9626,
         15690
        ],
        [
         382,
         13765,
         6882.5,
         13765,
         0
        ],
        [
         478,
         10893,
         3631.0,
         3923,
         6970
        ],
        [
         482,
         12512,
         6256.0,
         3123,
         9389
        ],
        [
         37,
         4761,
         4761.0,
         4761,
         0
        ],
        [
         101,
         2071,
         2071.0,
         0,
         2071
        ],
        [
         292,
         15068,
         5022.666666666667,
         4659,
         10409
        ],
        [
         362,
         16083,
         4020.75,
         7197,
         8886
        ],
        [
         491,
         7197,
         3598.5,
         7197,
         0
        ],
        [
         12,
         4850,
         4850.0,
         0,
         4850
        ],
        [
         200,
         3524,
         3524.0,
         3524,
         0
        ],
        [
         295,
         23896,
         5974.0,
         19050,
         4846
        ],
        [
         355,
         3213,
         3213.0,
         0,
         3213
        ],
        [
         141,
         17039,
         8519.5,
         9529,
         7510
        ],
        [
         288,
         8490,
         2830.0,
         2744,
         5746
        ],
        [
         55,
         15722,
         7861.0,
         7203,
         8519
        ],
        [
         280,
         15068,
         5022.666666666667,
         0,
         15068
        ],
        [
         322,
         9850,
         3283.3333333333335,
         9850,
         0
        ],
        [
         492,
         20117,
         6705.666666666667,
         10470,
         9647
        ],
        [
         62,
         19604,
         4901.0,
         0,
         19604
        ],
        [
         182,
         16198,
         8099.0,
         8431,
         7767
        ],
        [
         334,
         11404,
         2851.0,
         10176,
         1228
        ],
        [
         186,
         5797,
         5797.0,
         0,
         5797
        ],
        [
         331,
         10168,
         5084.0,
         3748,
         6420
        ],
        [
         171,
         9581,
         4790.5,
         8781,
         800
        ],
        [
         480,
         6495,
         6495.0,
         6495,
         0
        ],
        [
         11,
         21422,
         7140.666666666667,
         8693,
         12729
        ],
        [
         49,
         27745,
         6936.25,
         12317,
         15428
        ],
        [
         290,
         13983,
         4661.0,
         11199,
         2784
        ],
        [
         437,
         16712,
         5570.666666666667,
         7623,
         9089
        ],
        [
         371,
         12549,
         6274.5,
         3111,
         9438
        ],
        [
         166,
         6719,
         2239.6666666666665,
         992,
         5727
        ],
        [
         468,
         7182,
         7182.0,
         7182,
         0
        ],
        [
         80,
         7456,
         7456.0,
         0,
         7456
        ],
        [
         321,
         1332,
         1332.0,
         1332,
         0
        ],
        [
         400,
         8048,
         2682.6666666666665,
         8048,
         0
        ],
        [
         199,
         17419,
         4354.75,
         2515,
         14904
        ],
        [
         477,
         8177,
         4088.5,
         0,
         8177
        ],
        [
         2,
         27034,
         6758.5,
         18244,
         8790
        ],
        [
         465,
         14387,
         7193.5,
         14387,
         0
        ],
        [
         66,
         19084,
         6361.333333333333,
         6871,
         12213
        ],
        [
         154,
         13312,
         3328.0,
         12288,
         1024
        ],
        [
         265,
         15705,
         3926.25,
         15705,
         0
        ],
        [
         432,
         10921,
         5460.5,
         10921,
         0
        ],
        [
         244,
         27484,
         6871.0,
         22138,
         5346
        ],
        [
         344,
         11280,
         5640.0,
         11280,
         0
        ],
        [
         433,
         16617,
         5539.0,
         8827,
         7790
        ],
        [
         164,
         28588,
         4084.0,
         27754,
         834
        ],
        [
         176,
         509,
         509.0,
         509,
         0
        ],
        [
         360,
         17183,
         5727.666666666667,
         4344,
         12839
        ],
        [
         495,
         23301,
         7767.0,
         16488,
         6813
        ],
        [
         134,
         17256,
         5752.0,
         1454,
         15802
        ],
        [
         245,
         25869,
         8623.0,
         8509,
         17360
        ],
        [
         329,
         13333,
         6666.5,
         13333,
         0
        ],
        [
         359,
         32431,
         4633.0,
         12190,
         20241
        ],
        [
         422,
         11475,
         3825.0,
         3980,
         7495
        ],
        [
         102,
         13460,
         6730.0,
         5719,
         7741
        ],
        [
         175,
         5006,
         5006.0,
         0,
         5006
        ],
        [
         233,
         4960,
         2480.0,
         3493,
         1467
        ],
        [
         92,
         16529,
         8264.5,
         16529,
         0
        ],
        [
         230,
         18538,
         9269.0,
         0,
         18538
        ],
        [
         391,
         9586,
         3195.3333333333335,
         1365,
         8221
        ],
        [
         308,
         16269,
         8134.5,
         9971,
         6298
        ],
        [
         118,
         942,
         942.0,
         942,
         0
        ],
        [
         13,
         2309,
         2309.0,
         0,
         2309
        ],
        [
         272,
         5963,
         2981.5,
         0,
         5963
        ],
        [
         305,
         20346,
         5086.5,
         11428,
         8918
        ],
        [
         36,
         8450,
         8450.0,
         8450,
         0
        ],
        [
         75,
         4908,
         2454.0,
         560,
         4348
        ],
        [
         302,
         6956,
         6956.0,
         0,
         6956
        ],
        [
         172,
         9420,
         9420.0,
         0,
         9420
        ],
        [
         78,
         11439,
         5719.5,
         6901,
         4538
        ],
        [
         314,
         16932,
         5644.0,
         4492,
         12440
        ],
        [
         408,
         14421,
         7210.5,
         14421,
         0
        ],
        [
         18,
         16716,
         8358.0,
         8591,
         8125
        ],
        [
         125,
         14407,
         4802.333333333333,
         10920,
         3487
        ],
        [
         140,
         4980,
         2490.0,
         4980,
         0
        ],
        [
         298,
         8865,
         8865.0,
         8865,
         0
        ],
        [
         410,
         4246,
         4246.0,
         0,
         4246
        ],
        [
         289,
         17264,
         8632.0,
         17264,
         0
        ],
        [
         69,
         8382,
         4191.0,
         8272,
         110
        ],
        [
         475,
         21811,
         5452.75,
         2174,
         19637
        ],
        [
         14,
         8588,
         8588.0,
         8588,
         0
        ],
        [
         374,
         3214,
         1607.0,
         3214,
         0
        ],
        [
         216,
         755,
         755.0,
         755,
         0
        ],
        [
         286,
         15129,
         5043.0,
         0,
         15129
        ],
        [
         137,
         8807,
         4403.5,
         1403,
         7404
        ],
        [
         173,
         14355,
         7177.5,
         0,
         14355
        ],
        [
         194,
         22225,
         5556.25,
         7381,
         14844
        ],
        [
         21,
         5120,
         5120.0,
         5120,
         0
        ],
        [
         135,
         34760,
         6952.0,
         19741,
         15019
        ],
        [
         238,
         8142,
         4071.0,
         6169,
         1973
        ],
        [
         59,
         17021,
         8510.5,
         8793,
         8228
        ],
        [
         122,
         138,
         138.0,
         138,
         0
        ],
        [
         129,
         7066,
         7066.0,
         7066,
         0
        ],
        [
         335,
         14621,
         4873.666666666667,
         1709,
         12912
        ],
        [
         393,
         7523,
         7523.0,
         7523,
         0
        ],
        [
         493,
         25833,
         5166.6,
         19793,
         6040
        ],
        [
         15,
         7845,
         7845.0,
         7845,
         0
        ],
        [
         81,
         5080,
         5080.0,
         5080,
         0
        ],
        [
         165,
         8715,
         4357.5,
         0,
         8715
        ],
        [
         223,
         11327,
         5663.5,
         7555,
         3772
        ],
        [
         315,
         10357,
         3452.3333333333335,
         3593,
         6764
        ],
        [
         195,
         24858,
         8286.0,
         9910,
         14948
        ],
        [
         436,
         29283,
         7320.75,
         10975,
         18308
        ],
        [
         82,
         18103,
         4525.75,
         12736,
         5367
        ],
        [
         350,
         4095,
         4095.0,
         4095,
         0
        ],
        [
         472,
         22504,
         5626.0,
         17215,
         5289
        ],
        [
         97,
         5353,
         5353.0,
         5353,
         0
        ],
        [
         133,
         3035,
         1517.5,
         1226,
         1809
        ],
        [
         351,
         2061,
         2061.0,
         0,
         2061
        ],
        [
         470,
         10753,
         5376.5,
         10753,
         0
        ],
        [
         30,
         12016,
         4005.3333333333335,
         12016,
         0
        ],
        [
         151,
         2219,
         2219.0,
         2219,
         0
        ],
        [
         401,
         9753,
         4876.5,
         0,
         9753
        ],
        [
         90,
         4946,
         4946.0,
         0,
         4946
        ],
        [
         159,
         4560,
         4560.0,
         0,
         4560
        ],
        [
         256,
         3286,
         3286.0,
         3286,
         0
        ],
        [
         457,
         10758,
         5379.0,
         5210,
         5548
        ],
        [
         312,
         10227,
         5113.5,
         10227,
         0
        ],
        [
         338,
         30642,
         5107.0,
         2199,
         28443
        ],
        [
         425,
         11250,
         5625.0,
         11250,
         0
        ],
        [
         445,
         18446,
         6148.666666666667,
         18446,
         0
        ],
        [
         297,
         27589,
         5517.8,
         16565,
         11024
        ],
        [
         23,
         5183,
         2591.5,
         0,
         5183
        ],
        [
         291,
         9486,
         3162.0,
         0,
         9486
        ],
        [
         121,
         13202,
         4400.666666666667,
         6894,
         6308
        ],
        [
         358,
         18080,
         9040.0,
         0,
         18080
        ],
        [
         409,
         16430,
         5476.666666666667,
         4869,
         11561
        ],
        [
         494,
         16985,
         4246.25,
         14969,
         2016
        ],
        [
         20,
         5245,
         2622.5,
         2401,
         2844
        ],
        [
         70,
         19814,
         6604.666666666667,
         11638,
         8176
        ],
        [
         479,
         186,
         186.0,
         0,
         186
        ],
        [
         300,
         9941,
         9941.0,
         9941,
         0
        ],
        [
         444,
         18636,
         6212.0,
         18636,
         0
        ],
        [
         387,
         2168,
         2168.0,
         2168,
         0
        ],
        [
         109,
         9287,
         4643.5,
         295,
         8992
        ],
        [
         354,
         1537,
         1537.0,
         0,
         1537
        ],
        [
         483,
         5075,
         1691.6666666666667,
         3205,
         1870
        ],
        [
         476,
         2382,
         2382.0,
         0,
         2382
        ],
        [
         60,
         11069,
         5534.5,
         11069,
         0
        ],
        [
         189,
         6534,
         3267.0,
         1510,
         5024
        ],
        [
         311,
         6528,
         6528.0,
         0,
         6528
        ],
        [
         93,
         4480,
         2240.0,
         3042,
         1438
        ],
        [
         204,
         14736,
         4912.0,
         12975,
         1761
        ],
        [
         251,
         4728,
         4728.0,
         4728,
         0
        ],
        [
         259,
         6479,
         3239.5,
         4755,
         1724
        ],
        [
         366,
         8487,
         8487.0,
         8487,
         0
        ],
        [
         282,
         4480,
         4480.0,
         0,
         4480
        ],
        [
         285,
         32316,
         8079.0,
         15910,
         16406
        ],
        [
         147,
         1613,
         1613.0,
         0,
         1613
        ],
        [
         183,
         23791,
         4758.2,
         14996,
         8795
        ],
        [
         240,
         18669,
         9334.5,
         18669,
         0
        ],
        [
         263,
         10641,
         3547.0,
         2201,
         8440
        ],
        [
         396,
         9168,
         4584.0,
         4181,
         4987
        ],
        [
         16,
         9314,
         9314.0,
         0,
         9314
        ],
        [
         64,
         16263,
         8131.5,
         0,
         16263
        ],
        [
         281,
         23250,
         4650.0,
         17207,
         6043
        ],
        [
         336,
         15207,
         3801.75,
         5734,
         9473
        ],
        [
         91,
         15516,
         5172.0,
         7104,
         8412
        ],
        [
         152,
         29419,
         5883.8,
         16751,
         12668
        ],
        [
         267,
         9142,
         9142.0,
         0,
         9142
        ],
        [
         317,
         10270,
         5135.0,
         0,
         10270
        ],
        [
         357,
         16343,
         5447.666666666667,
         14684,
         1659
        ],
        [
         416,
         9834,
         9834.0,
         9834,
         0
        ],
        [
         261,
         5841,
         5841.0,
         0,
         5841
        ],
        [
         398,
         12875,
         6437.5,
         0,
         12875
        ],
        [
         45,
         17782,
         8891.0,
         0,
         17782
        ],
        [
         47,
         8053,
         4026.5,
         1315,
         6738
        ],
        [
         53,
         6170,
         6170.0,
         6170,
         0
        ],
        [
         148,
         22065,
         5516.25,
         0,
         22065
        ],
        [
         394,
         8332,
         8332.0,
         0,
         8332
        ],
        [
         484,
         21496,
         5374.0,
         15940,
         5556
        ],
        [
         169,
         29621,
         4231.571428571428,
         17573,
         12048
        ],
        [
         273,
         1843,
         1843.0,
         0,
         1843
        ],
        [
         24,
         10030,
         5015.0,
         0,
         10030
        ],
        [
         340,
         17491,
         5830.333333333333,
         0,
         17491
        ],
        [
         456,
         6892,
         6892.0,
         6892,
         0
        ],
        [
         458,
         11913,
         2978.25,
         4890,
         7023
        ],
        [
         211,
         13071,
         3267.75,
         5904,
         7167
        ],
        [
         469,
         118,
         118.0,
         118,
         0
        ]
       ],
       "datasetInfos": [],
       "dbfsResultPath": null,
       "isJsonSchema": true,
       "metadata": {},
       "overflow": false,
       "plotOptions": {
        "customPlotOptions": {},
        "displayType": "table",
        "pivotAggregation": null,
        "pivotColumns": null,
        "xColumns": null,
        "yColumns": null
       },
       "removedWidgets": [],
       "schema": [
        {
         "metadata": "{}",
         "name": "customer_id",
         "type": "\"long\""
        },
        {
         "metadata": "{}",
         "name": "total_transactions",
         "type": "\"long\""
        },
        {
         "metadata": "{}",
         "name": "average_transaction",
         "type": "\"double\""
        },
        {
         "metadata": "{}",
         "name": "total_debits",
         "type": "\"long\""
        },
        {
         "metadata": "{}",
         "name": "total_credits",
         "type": "\"long\""
        }
       ],
       "type": "table"
      }
     },
     "output_type": "display_data"
    }
   ],
   "source": [
    "display(transaction_summary)"
   ]
  },
  {
   "cell_type": "code",
   "execution_count": 0,
   "metadata": {
    "application/vnd.databricks.v1+cell": {
     "cellMetadata": {
      "byteLimit": 2048000,
      "rowLimit": 10000
     },
     "inputWidgets": {},
     "nuid": "4c9095a2-2730-4ce7-bb38-64a6740c90c9",
     "showTitle": false,
     "title": ""
    }
   },
   "outputs": [
    {
     "output_type": "display_data",
     "data": {
      "text/html": [
       "<style scoped>\n",
       "  .table-result-container {\n",
       "    max-height: 300px;\n",
       "    overflow: auto;\n",
       "  }\n",
       "  table, th, td {\n",
       "    border: 1px solid black;\n",
       "    border-collapse: collapse;\n",
       "  }\n",
       "  th, td {\n",
       "    padding: 5px;\n",
       "  }\n",
       "  th {\n",
       "    text-align: left;\n",
       "  }\n",
       "</style><div class='table-result-container'><table class='table-result'><thead style='background-color: white'><tr><th>customer_id</th><th>updt_ts</th><th>latest_balance</th></tr></thead><tbody><tr><td>24</td><td>2020-03-29 14:58:04</td><td>45898</td></tr><tr><td>118</td><td>2022-03-05 05:04:34</td><td>15145</td></tr><tr><td>131</td><td>2020-08-12 20:40:56</td><td>38154</td></tr><tr><td>150</td><td>2021-02-07 06:09:52</td><td>28025</td></tr><tr><td>152</td><td>2020-02-03 02:04:44</td><td>7843</td></tr><tr><td>164</td><td>2021-10-17 15:02:42</td><td>49756</td></tr><tr><td>166</td><td>2021-02-25 15:52:30</td><td>35460</td></tr><tr><td>472</td><td>2020-02-15 23:08:06</td><td>10609</td></tr><tr><td>485</td><td>2022-04-05 18:21:15</td><td>39123</td></tr><tr><td>66</td><td>2021-04-11 10:14:12</td><td>31512</td></tr><tr><td>68</td><td>2021-01-22 03:09:18</td><td>10485</td></tr><tr><td>141</td><td>2020-06-13 11:54:03</td><td>22840</td></tr><tr><td>170</td><td>2020-02-17 09:12:00</td><td>4467</td></tr><tr><td>195</td><td>2022-05-24 15:48:58</td><td>21041</td></tr><tr><td>363</td><td>2020-08-09 08:30:00</td><td>41502</td></tr><tr><td>419</td><td>2020-07-27 21:08:11</td><td>40633</td></tr><tr><td>460</td><td>2022-11-22 11:27:17</td><td>22176</td></tr><tr><td>96</td><td>2022-04-13 05:04:14</td><td>13749</td></tr><tr><td>104</td><td>2021-04-10 12:14:44</td><td>26298</td></tr><tr><td>273</td><td>2021-02-24 01:56:15</td><td>6162</td></tr><tr><td>304</td><td>2022-11-15 15:38:25</td><td>46479</td></tr><tr><td>342</td><td>2022-03-31 18:43:11</td><td>26050</td></tr><tr><td>430</td><td>2020-12-19 13:18:00</td><td>10661</td></tr><tr><td>57</td><td>2020-05-10 23:57:38</td><td>1580</td></tr><tr><td>66</td><td>2021-07-06 11:25:49</td><td>20885</td></tr><tr><td>127</td><td>2020-07-30 13:49:48</td><td>29493</td></tr><tr><td>270</td><td>2020-02-23 17:26:05</td><td>6985</td></tr><tr><td>328</td><td>2022-09-10 07:16:59</td><td>35972</td></tr><tr><td>346</td><td>2020-09-28 07:24:11</td><td>35133</td></tr><tr><td>365</td><td>2022-02-24 09:19:54</td><td>3641</td></tr><tr><td>421</td><td>2021-01-04 00:41:18</td><td>4441</td></tr><tr><td>68</td><td>2022-07-02 21:45:30</td><td>27314</td></tr><tr><td>143</td><td>2021-12-20 05:28:51</td><td>8760</td></tr><tr><td>158</td><td>2022-08-06 03:06:40</td><td>30748</td></tr><tr><td>169</td><td>2022-07-19 06:50:57</td><td>7533</td></tr><tr><td>173</td><td>2022-03-05 13:56:36</td><td>37659</td></tr><tr><td>257</td><td>2021-11-22 22:57:48</td><td>4872</td></tr><tr><td>365</td><td>2022-02-28 09:30:22</td><td>15679</td></tr><tr><td>443</td><td>2022-03-17 17:14:21</td><td>17120</td></tr><tr><td>445</td><td>2020-12-15 00:44:02</td><td>20597</td></tr><tr><td>495</td><td>2022-11-12 17:34:33</td><td>31038</td></tr><tr><td>63</td><td>2020-06-07 09:12:16</td><td>29266</td></tr><tr><td>114</td><td>2022-09-15 17:50:56</td><td>20946</td></tr><tr><td>143</td><td>2022-01-24 10:31:41</td><td>46815</td></tr><tr><td>245</td><td>2021-06-20 22:36:39</td><td>26720</td></tr><tr><td>384</td><td>2020-11-17 02:02:20</td><td>48306</td></tr><tr><td>406</td><td>2020-05-10 11:45:30</td><td>33643</td></tr><tr><td>121</td><td>2020-11-02 08:49:13</td><td>9313</td></tr><tr><td>201</td><td>2020-07-24 09:21:28</td><td>43305</td></tr><tr><td>297</td><td>2020-03-03 23:05:42</td><td>11255</td></tr><tr><td>339</td><td>2022-05-19 21:49:01</td><td>31946</td></tr><tr><td>493</td><td>2022-07-27 13:31:31</td><td>17317</td></tr><tr><td>98</td><td>2020-12-11 01:03:22</td><td>48179</td></tr><tr><td>152</td><td>2020-06-19 03:15:44</td><td>37585</td></tr><tr><td>191</td><td>2021-02-06 02:34:03</td><td>30411</td></tr><tr><td>234</td><td>2021-07-12 11:36:21</td><td>28955</td></tr><tr><td>283</td><td>2022-11-26 15:57:49</td><td>41715</td></tr><tr><td>292</td><td>2021-09-13 13:16:55</td><td>14515</td></tr><tr><td>87</td><td>2020-10-02 21:53:49</td><td>22128</td></tr><tr><td>88</td><td>2020-07-12 10:42:24</td><td>32721</td></tr><tr><td>144</td><td>2022-03-08 04:47:57</td><td>30145</td></tr><tr><td>203</td><td>2022-07-19 18:07:29</td><td>35720</td></tr><tr><td>296</td><td>2020-05-11 03:14:02</td><td>37042</td></tr><tr><td>286</td><td>2021-12-14 10:14:08</td><td>25737</td></tr><tr><td>460</td><td>2020-04-04 06:15:52</td><td>20264</td></tr><tr><td>482</td><td>2021-08-12 06:35:12</td><td>16326</td></tr><tr><td>169</td><td>2021-04-12 17:09:24</td><td>17459</td></tr><tr><td>477</td><td>2020-10-29 07:57:26</td><td>35787</td></tr><tr><td>199</td><td>2022-07-15 04:10:43</td><td>31259</td></tr><tr><td>229</td><td>2021-09-02 16:36:43</td><td>32679</td></tr><tr><td>285</td><td>2022-12-16 08:28:26</td><td>44332</td></tr><tr><td>316</td><td>2020-07-02 21:53:45</td><td>2431</td></tr><tr><td>348</td><td>2022-01-03 23:37:15</td><td>28978</td></tr><tr><td>374</td><td>2020-08-08 23:07:39</td><td>23665</td></tr><tr><td>476</td><td>2022-03-14 09:03:43</td><td>35699</td></tr><tr><td>481</td><td>2020-02-10 19:32:17</td><td>47524</td></tr><tr><td>54</td><td>2020-11-04 23:59:10</td><td>12116</td></tr><tr><td>146</td><td>2021-06-11 03:09:52</td><td>5247</td></tr><tr><td>183</td><td>2021-05-24 19:36:15</td><td>43238</td></tr><tr><td>196</td><td>2022-05-14 05:12:29</td><td>35526</td></tr><tr><td>265</td><td>2020-01-18 01:29:19</td><td>2293</td></tr><tr><td>409</td><td>2020-03-07 04:02:46</td><td>49286</td></tr><tr><td>450</td><td>2020-03-22 08:59:57</td><td>43862</td></tr><tr><td>122</td><td>2021-04-21 16:38:09</td><td>6388</td></tr><tr><td>169</td><td>2021-06-20 03:16:59</td><td>30535</td></tr><tr><td>190</td><td>2021-11-26 10:23:00</td><td>25716</td></tr><tr><td>336</td><td>2020-11-03 19:30:39</td><td>17987</td></tr><tr><td>375</td><td>2021-06-01 11:39:46</td><td>20727</td></tr><tr><td>465</td><td>2021-11-03 08:15:33</td><td>8842</td></tr><tr><td>483</td><td>2022-06-29 04:11:24</td><td>18347</td></tr><tr><td>87</td><td>2021-03-05 11:49:42</td><td>40691</td></tr><tr><td>127</td><td>2020-08-11 21:00:54</td><td>39959</td></tr><tr><td>199</td><td>2020-01-16 01:06:20</td><td>21681</td></tr><tr><td>203</td><td>2020-03-14 21:28:51</td><td>12761</td></tr><tr><td>3</td><td>2021-01-07 17:03:03</td><td>5189</td></tr><tr><td>222</td><td>2021-01-13 20:36:54</td><td>46077</td></tr><tr><td>398</td><td>2022-12-30 05:00:35</td><td>30491</td></tr><tr><td>45</td><td>2021-06-01 11:15:13</td><td>34217</td></tr><tr><td>187</td><td>2022-08-04 11:51:11</td><td>26377</td></tr><tr><td>233</td><td>2020-10-11 21:38:04</td><td>49910</td></tr><tr><td>243</td><td>2021-08-14 21:00:46</td><td>48712</td></tr><tr><td>259</td><td>2020-09-01 15:03:49</td><td>18684</td></tr><tr><td>349</td><td>2022-08-24 03:00:09</td><td>29455</td></tr><tr><td>420</td><td>2022-03-11 02:30:03</td><td>36021</td></tr><tr><td>467</td><td>2022-05-18 12:39:12</td><td>46595</td></tr><tr><td>143</td><td>2022-03-16 18:16:21</td><td>36084</td></tr><tr><td>206</td><td>2020-08-11 21:23:47</td><td>30696</td></tr><tr><td>493</td><td>2022-06-10 06:30:46</td><td>15941</td></tr><tr><td>18</td><td>2022-01-28 17:25:30</td><td>48211</td></tr><tr><td>32</td><td>2020-03-19 20:25:58</td><td>2726</td></tr><tr><td>128</td><td>2020-02-06 10:58:54</td><td>34975</td></tr><tr><td>178</td><td>2020-04-09 08:28:22</td><td>30549</td></tr><tr><td>208</td><td>2020-08-08 10:00:11</td><td>9052</td></tr><tr><td>487</td><td>2022-06-05 08:41:37</td><td>33984</td></tr><tr><td>49</td><td>2020-01-28 07:58:53</td><td>1014</td></tr><tr><td>62</td><td>2021-01-25 09:46:09</td><td>4816</td></tr><tr><td>359</td><td>2020-04-09 23:36:28</td><td>42614</td></tr><tr><td>437</td><td>2022-05-17 19:52:10</td><td>43110</td></tr><tr><td>9</td><td>2022-04-02 10:43:46</td><td>30029</td></tr><tr><td>19</td><td>2021-06-22 06:50:11</td><td>48539</td></tr><tr><td>224</td><td>2022-04-19 07:45:53</td><td>33129</td></tr><tr><td>144</td><td>2021-06-27 03:29:34</td><td>38766</td></tr><tr><td>156</td><td>2021-06-26 00:33:53</td><td>31496</td></tr><tr><td>315</td><td>2020-03-16 14:31:14</td><td>21056</td></tr><tr><td>440</td><td>2021-12-24 06:08:32</td><td>27452</td></tr><tr><td>19</td><td>2022-04-21 07:37:29</td><td>5028</td></tr><tr><td>171</td><td>2020-07-23 12:09:31</td><td>8062</td></tr><tr><td>223</td><td>2022-08-17 21:27:26</td><td>43706</td></tr><tr><td>292</td><td>2022-06-06 17:56:42</td><td>10911</td></tr><tr><td>58</td><td>2022-03-10 12:39:12</td><td>44266</td></tr><tr><td>340</td><td>2020-01-30 12:09:33</td><td>40716</td></tr><tr><td>474</td><td>2021-11-03 02:46:57</td><td>32907</td></tr><tr><td>475</td><td>2021-08-09 08:34:18</td><td>20089</td></tr><tr><td>19</td><td>2022-09-29 03:10:08</td><td>43329</td></tr><tr><td>61</td><td>2022-11-16 01:41:44</td><td>27232</td></tr><tr><td>206</td><td>2020-01-12 20:20:45</td><td>29580</td></tr><tr><td>249</td><td>2021-03-08 10:20:44</td><td>41773</td></tr><tr><td>342</td><td>2022-09-06 00:12:25</td><td>21867</td></tr><tr><td>396</td><td>2020-01-04 23:01:40</td><td>1131</td></tr><tr><td>458</td><td>2021-08-17 03:17:54</td><td>19946</td></tr><tr><td>479</td><td>2020-02-08 13:40:20</td><td>4157</td></tr><tr><td>251</td><td>2021-07-27 11:29:32</td><td>49283</td></tr><tr><td>337</td><td>2020-07-29 21:34:30</td><td>5562</td></tr><tr><td>51</td><td>2020-11-27 02:34:01</td><td>44112</td></tr><tr><td>65</td><td>2022-09-30 14:23:26</td><td>28981</td></tr><tr><td>135</td><td>2020-09-01 09:21:01</td><td>5872</td></tr><tr><td>206</td><td>2022-06-01 17:48:25</td><td>4040</td></tr><tr><td>296</td><td>2022-07-04 04:33:31</td><td>5974</td></tr><tr><td>334</td><td>2020-02-07 13:04:36</td><td>2777</td></tr><tr><td>2</td><td>2022-07-07 04:11:23</td><td>7163</td></tr><tr><td>80</td><td>2020-02-29 18:25:18</td><td>10367</td></tr><tr><td>114</td><td>2020-02-26 11:46:29</td><td>40189</td></tr><tr><td>171</td><td>2022-05-08 09:27:35</td><td>9736</td></tr><tr><td>193</td><td>2021-06-05 04:04:25</td><td>10537</td></tr><tr><td>288</td><td>2020-10-06 10:05:25</td><td>22686</td></tr><tr><td>304</td><td>2020-11-19 13:35:24</td><td>42178</td></tr><tr><td>448</td><td>2021-06-12 21:46:54</td><td>16561</td></tr><tr><td>225</td><td>2022-06-01 15:15:24</td><td>38529</td></tr><tr><td>274</td><td>2022-10-31 08:27:09</td><td>4386</td></tr><tr><td>493</td><td>2022-04-30 09:02:56</td><td>14342</td></tr><tr><td>45</td><td>2022-05-07 03:05:16</td><td>15492</td></tr><tr><td>60</td><td>2020-01-20 06:22:56</td><td>37496</td></tr><tr><td>78</td><td>2020-10-01 14:28:50</td><td>1214</td></tr><tr><td>121</td><td>2022-10-27 17:31:26</td><td>14332</td></tr><tr><td>183</td><td>2021-11-16 06:27:30</td><td>34521</td></tr><tr><td>288</td><td>2022-05-03 22:58:12</td><td>22241</td></tr><tr><td>440</td><td>2020-12-25 23:30:41</td><td>20445</td></tr><tr><td>30</td><td>2021-09-23 05:50:01</td><td>29877</td></tr><tr><td>31</td><td>2021-02-12 15:25:13</td><td>18604</td></tr><tr><td>44</td><td>2020-02-07 01:45:12</td><td>17490</td></tr><tr><td>332</td><td>2022-08-11 02:54:38</td><td>29915</td></tr><tr><td>409</td><td>2022-07-03 09:57:21</td><td>6919</td></tr><tr><td>109</td><td>2021-11-05 04:31:37</td><td>36244</td></tr><tr><td>233</td><td>2021-07-23 19:26:52</td><td>32043</td></tr><tr><td>247</td><td>2022-10-01 18:14:03</td><td>12488</td></tr><tr><td>393</td><td>2021-11-01 01:53:01</td><td>5181</td></tr><tr><td>132</td><td>2020-02-18 20:16:45</td><td>37046</td></tr><tr><td>244</td><td>2022-09-29 19:48:11</td><td>16424</td></tr><tr><td>280</td><td>2022-07-09 09:07:01</td><td>9994</td></tr><tr><td>17</td><td>2021-02-03 05:00:44</td><td>28599</td></tr><tr><td>178</td><td>2021-02-21 04:37:12</td><td>4092</td></tr><tr><td>213</td><td>2020-03-02 05:28:54</td><td>32116</td></tr><tr><td>481</td><td>2022-01-28 16:10:12</td><td>13433</td></tr><tr><td>125</td><td>2022-04-18 23:36:50</td><td>12309</td></tr><tr><td>148</td><td>2022-08-08 08:18:38</td><td>35743</td></tr><tr><td>185</td><td>2022-06-18 00:54:00</td><td>32147</td></tr><tr><td>449</td><td>2020-04-24 13:41:58</td><td>43780</td></tr><tr><td>103</td><td>2021-05-15 13:03:45</td><td>31488</td></tr><tr><td>131</td><td>2022-12-20 22:55:05</td><td>44651</td></tr><tr><td>209</td><td>2021-10-21 07:47:44</td><td>45319</td></tr><tr><td>211</td><td>2022-11-27 10:01:26</td><td>46288</td></tr><tr><td>305</td><td>2021-12-21 03:25:45</td><td>44492</td></tr><tr><td>418</td><td>2021-06-10 07:51:07</td><td>27891</td></tr><tr><td>461</td><td>2020-04-10 18:00:46</td><td>20075</td></tr><tr><td>472</td><td>2022-01-14 16:59:33</td><td>37354</td></tr><tr><td>6</td><td>2020-02-01 08:32:51</td><td>30243</td></tr><tr><td>133</td><td>2020-02-17 16:11:37</td><td>36222</td></tr><tr><td>305</td><td>2021-05-09 03:31:51</td><td>8670</td></tr><tr><td>396</td><td>2021-06-16 00:58:44</td><td>28354</td></tr><tr><td>448</td><td>2022-04-04 05:32:48</td><td>25836</td></tr><tr><td>50</td><td>2020-09-03 11:40:39</td><td>26548</td></tr><tr><td>56</td><td>2020-02-27 18:48:27</td><td>34990</td></tr><tr><td>120</td><td>2021-04-30 04:00:45</td><td>21048</td></tr><tr><td>306</td><td>2021-04-24 22:26:17</td><td>23072</td></tr><tr><td>362</td><td>2020-12-21 14:38:04</td><td>30093</td></tr><tr><td>386</td><td>2020-12-24 07:03:43</td><td>30037</td></tr><tr><td>449</td><td>2022-06-27 08:57:31</td><td>44667</td></tr><tr><td>34</td><td>2022-05-21 05:10:25</td><td>29344</td></tr><tr><td>197</td><td>2020-01-27 05:39:16</td><td>20916</td></tr><tr><td>412</td><td>2021-06-08 21:47:17</td><td>25837</td></tr><tr><td>453</td><td>2021-12-24 01:48:26</td><td>30664</td></tr><tr><td>6</td><td>2022-09-22 07:13:15</td><td>22672</td></tr><tr><td>119</td><td>2020-07-22 15:43:14</td><td>6379</td></tr><tr><td>381</td><td>2021-05-23 07:33:08</td><td>36000</td></tr><tr><td>96</td><td>2022-09-06 05:06:29</td><td>28072</td></tr><tr><td>145</td><td>2020-02-15 22:56:11</td><td>32735</td></tr><tr><td>160</td><td>2021-07-04 06:25:46</td><td>24743</td></tr><tr><td>276</td><td>2021-01-03 00:46:26</td><td>22924</td></tr><tr><td>382</td><td>2022-11-06 00:08:29</td><td>2099</td></tr><tr><td>402</td><td>2020-07-22 12:48:38</td><td>6661</td></tr><tr><td>31</td><td>2022-01-25 03:46:24</td><td>32117</td></tr><tr><td>101</td><td>2021-11-22 03:29:48</td><td>21604</td></tr><tr><td>48</td><td>2020-07-13 09:05:31</td><td>43714</td></tr><tr><td>120</td><td>2020-11-10 10:17:37</td><td>20513</td></tr><tr><td>229</td><td>2022-06-30 10:50:28</td><td>13703</td></tr><tr><td>417</td><td>2022-01-30 14:55:38</td><td>9509</td></tr><tr><td>432</td><td>2022-05-15 16:09:24</td><td>36149</td></tr><tr><td>472</td><td>2022-03-23 06:52:10</td><td>48121</td></tr><tr><td>178</td><td>2020-11-24 04:35:00</td><td>36195</td></tr><tr><td>307</td><td>2020-06-08 23:48:27</td><td>18528</td></tr><tr><td>308</td><td>2020-12-23 18:12:42</td><td>4611</td></tr><tr><td>448</td><td>2021-12-14 10:36:20</td><td>46763</td></tr><tr><td>166</td><td>2021-09-17 15:45:11</td><td>7744</td></tr><tr><td>295</td><td>2020-08-12 18:39:30</td><td>38892</td></tr><tr><td>333</td><td>2021-01-25 00:47:24</td><td>13969</td></tr><tr><td>250</td><td>2020-03-23 02:21:20</td><td>41944</td></tr><tr><td>338</td><td>2020-10-01 11:17:43</td><td>19111</td></tr><tr><td>400</td><td>2020-03-02 22:35:59</td><td>12068</td></tr><tr><td>13</td><td>2021-03-10 09:30:41</td><td>46773</td></tr><tr><td>85</td><td>2020-09-15 03:10:06</td><td>29395</td></tr><tr><td>89</td><td>2021-02-19 16:04:00</td><td>34976</td></tr><tr><td>147</td><td>2022-02-26 11:40:27</td><td>44597</td></tr><tr><td>148</td><td>2021-12-30 23:46:49</td><td>6672</td></tr><tr><td>189</td><td>2020-04-12 08:30:07</td><td>30298</td></tr><tr><td>265</td><td>2021-09-22 17:30:33</td><td>31982</td></tr><tr><td>291</td><td>2022-08-05 06:46:09</td><td>22743</td></tr><tr><td>346</td><td>2020-09-18 23:39:29</td><td>24016</td></tr><tr><td>358</td><td>2020-09-02 11:40:47</td><td>24628</td></tr><tr><td>406</td><td>2022-08-01 12:03:28</td><td>11217</td></tr><tr><td>1</td><td>2021-10-31 02:37:40</td><td>33873</td></tr><tr><td>6</td><td>2021-11-23 14:31:54</td><td>33987</td></tr><tr><td>96</td><td>2021-01-02 04:56:31</td><td>48961</td></tr><tr><td>267</td><td>2021-11-21 04:11:19</td><td>22795</td></tr><tr><td>285</td><td>2021-10-09 20:50:22</td><td>46742</td></tr><tr><td>317</td><td>2020-04-12 06:21:00</td><td>11784</td></tr><tr><td>496</td><td>2020-11-22 20:00:53</td><td>47462</td></tr><tr><td>170</td><td>2021-11-07 12:02:47</td><td>2236</td></tr><tr><td>206</td><td>2020-06-11 10:57:01</td><td>10149</td></tr><tr><td>242</td><td>2020-10-10 19:47:25</td><td>37983</td></tr><tr><td>244</td><td>2020-05-24 16:19:36</td><td>44771</td></tr><tr><td>283</td><td>2022-10-03 04:00:52</td><td>19977</td></tr><tr><td>421</td><td>2020-04-26 09:30:11</td><td>11389</td></tr><tr><td>29</td><td>2022-04-18 20:51:05</td><td>19117</td></tr><tr><td>97</td><td>2021-11-02 08:33:50</td><td>13690</td></tr><tr><td>107</td><td>2022-11-20 20:12:01</td><td>21647</td></tr><tr><td>244</td><td>2022-05-12 15:22:38</td><td>40923</td></tr><tr><td>263</td><td>2020-04-23 05:42:10</td><td>48939</td></tr><tr><td>322</td><td>2020-12-14 15:01:39</td><td>48206</td></tr><tr><td>391</td><td>2020-12-27 21:04:08</td><td>9075</td></tr><tr><td>223</td><td>2021-07-21 04:10:51</td><td>38880</td></tr><tr><td>228</td><td>2022-03-22 07:18:24</td><td>36271</td></tr><tr><td>229</td><td>2020-10-01 15:41:23</td><td>22038</td></tr><tr><td>280</td><td>2022-05-16 13:23:39</td><td>22540</td></tr><tr><td>290</td><td>2021-06-14 22:36:06</td><td>47773</td></tr><tr><td>363</td><td>2022-12-02 15:06:59</td><td>49005</td></tr><tr><td>6</td><td>2022-02-03 16:36:25</td><td>19714</td></tr><tr><td>220</td><td>2022-03-12 10:20:19</td><td>23870</td></tr><tr><td>300</td><td>2022-02-26 14:55:53</td><td>40971</td></tr><tr><td>336</td><td>2022-09-17 00:45:50</td><td>40494</td></tr><tr><td>471</td><td>2020-08-18 00:08:42</td><td>9374</td></tr><tr><td>82</td><td>2022-01-20 01:13:17</td><td>26642</td></tr><tr><td>204</td><td>2021-06-21 19:39:37</td><td>45151</td></tr><tr><td>241</td><td>2022-02-16 12:40:15</td><td>49114</td></tr><tr><td>250</td><td>2020-04-27 23:05:08</td><td>7540</td></tr><tr><td>453</td><td>2020-03-08 07:28:45</td><td>14883</td></tr><tr><td>43</td><td>2021-11-13 12:44:55</td><td>4316</td></tr><tr><td>130</td><td>2022-04-03 08:14:29</td><td>23292</td></tr><tr><td>194</td><td>2022-12-07 13:09:27</td><td>11613</td></tr><tr><td>296</td><td>2020-11-09 08:40:29</td><td>19031</td></tr><tr><td>304</td><td>2022-11-14 18:24:55</td><td>45769</td></tr><tr><td>308</td><td>2022-08-12 05:36:46</td><td>11694</td></tr><tr><td>230</td><td>2021-12-09 02:56:34</td><td>40971</td></tr><tr><td>238</td><td>2021-05-16 09:09:51</td><td>18089</td></tr><tr><td>259</td><td>2022-04-17 12:22:04</td><td>37880</td></tr><tr><td>436</td><td>2021-03-10 04:38:49</td><td>30247</td></tr><tr><td>478</td><td>2020-09-14 08:54:28</td><td>27489</td></tr><tr><td>30</td><td>2022-03-27 09:49:31</td><td>17548</td></tr><tr><td>98</td><td>2020-06-04 04:08:59</td><td>35612</td></tr><tr><td>185</td><td>2020-11-05 05:17:28</td><td>43223</td></tr><tr><td>188</td><td>2022-01-26 17:10:39</td><td>8555</td></tr><tr><td>211</td><td>2020-01-16 16:38:21</td><td>14853</td></tr><tr><td>359</td><td>2022-07-30 09:44:28</td><td>24333</td></tr><tr><td>391</td><td>2020-12-21 07:36:05</td><td>26362</td></tr><tr><td>467</td><td>2022-01-27 07:00:21</td><td>10671</td></tr><tr><td>222</td><td>2021-06-09 00:02:12</td><td>5516</td></tr><tr><td>243</td><td>2020-04-04 07:36:43</td><td>41863</td></tr><tr><td>262</td><td>2022-07-18 07:56:12</td><td>48355</td></tr><tr><td>262</td><td>2022-12-05 13:12:25</td><td>48208</td></tr><tr><td>323</td><td>2021-10-13 17:30:10</td><td>45849</td></tr><tr><td>418</td><td>2020-02-09 13:17:42</td><td>6648</td></tr><tr><td>460</td><td>2022-12-16 19:27:32</td><td>40908</td></tr><tr><td>124</td><td>2022-02-23 12:11:08</td><td>44154</td></tr><tr><td>258</td><td>2020-11-05 22:52:24</td><td>27549</td></tr><tr><td>362</td><td>2020-12-19 05:30:13</td><td>34387</td></tr><tr><td>401</td><td>2020-09-27 16:55:57</td><td>12562</td></tr><tr><td>433</td><td>2020-08-31 01:47:49</td><td>18312</td></tr><tr><td>66</td><td>2021-06-22 21:21:39</td><td>7911</td></tr><tr><td>119</td><td>2020-07-31 03:51:10</td><td>6424</td></tr><tr><td>237</td><td>2020-05-27 22:44:40</td><td>40230</td></tr><tr><td>254</td><td>2020-09-16 01:02:23</td><td>6425</td></tr><tr><td>381</td><td>2022-02-06 14:25:07</td><td>19983</td></tr><tr><td>430</td><td>2020-11-22 00:01:48</td><td>25331</td></tr><tr><td>12</td><td>2020-03-10 09:32:44</td><td>49350</td></tr><tr><td>55</td><td>2020-01-01 08:14:50</td><td>13002</td></tr><tr><td>63</td><td>2022-12-30 04:02:31</td><td>44579</td></tr><tr><td>91</td><td>2022-04-05 16:54:48</td><td>21058</td></tr><tr><td>290</td><td>2021-09-18 13:58:56</td><td>8942</td></tr><tr><td>328</td><td>2021-11-29 10:45:40</td><td>27920</td></tr><tr><td>360</td><td>2020-05-29 22:37:31</td><td>38443</td></tr><tr><td>167</td><td>2022-03-09 20:19:19</td><td>8619</td></tr><tr><td>209</td><td>2022-06-20 04:13:25</td><td>29081</td></tr><tr><td>249</td><td>2021-11-17 16:52:34</td><td>4620</td></tr><tr><td>356</td><td>2021-01-04 13:44:45</td><td>27706</td></tr><tr><td>359</td><td>2022-09-06 22:23:14</td><td>37130</td></tr><tr><td>25</td><td>2020-05-25 15:40:13</td><td>37971</td></tr><tr><td>302</td><td>2021-04-02 20:43:52</td><td>30715</td></tr><tr><td>335</td><td>2022-10-28 23:39:06</td><td>2274</td></tr><tr><td>368</td><td>2021-03-15 05:35:45</td><td>39121</td></tr><tr><td>31</td><td>2021-11-27 23:35:55</td><td>29835</td></tr><tr><td>54</td><td>2020-04-14 02:21:11</td><td>39806</td></tr><tr><td>199</td><td>2021-07-31 19:02:48</td><td>7673</td></tr><tr><td>315</td><td>2022-05-02 19:24:27</td><td>40250</td></tr><tr><td>338</td><td>2022-04-27 15:16:29</td><td>29775</td></tr><tr><td>345</td><td>2022-05-15 19:47:20</td><td>3794</td></tr><tr><td>346</td><td>2022-07-25 07:03:04</td><td>42508</td></tr><tr><td>494</td><td>2021-03-14 21:58:26</td><td>46963</td></tr><tr><td>72</td><td>2021-04-14 22:09:13</td><td>23877</td></tr><tr><td>92</td><td>2021-07-05 19:56:12</td><td>12619</td></tr><tr><td>235</td><td>2020-04-11 14:23:07</td><td>5078</td></tr><tr><td>245</td><td>2022-04-14 08:10:19</td><td>27674</td></tr><tr><td>50</td><td>2020-12-14 07:57:33</td><td>8924</td></tr><tr><td>194</td><td>2020-04-22 08:01:39</td><td>38516</td></tr><tr><td>389</td><td>2022-01-02 19:39:50</td><td>16617</td></tr><tr><td>400</td><td>2020-05-28 18:12:43</td><td>27542</td></tr><tr><td>471</td><td>2020-09-14 15:55:35</td><td>48228</td></tr><tr><td>145</td><td>2022-02-10 23:12:54</td><td>5774</td></tr><tr><td>216</td><td>2020-07-28 13:23:59</td><td>40796</td></tr><tr><td>340</td><td>2021-04-10 06:36:45</td><td>42754</td></tr><tr><td>465</td><td>2020-03-13 05:57:11</td><td>16264</td></tr><tr><td>480</td><td>2020-04-05 02:00:45</td><td>28396</td></tr><tr><td>196</td><td>2022-06-28 13:31:10</td><td>10174</td></tr><tr><td>263</td><td>2020-03-27 21:48:49</td><td>40042</td></tr><tr><td>429</td><td>2022-08-14 11:07:27</td><td>12138</td></tr><tr><td>432</td><td>2021-12-23 20:34:42</td><td>47634</td></tr><tr><td>264</td><td>2022-01-16 18:02:17</td><td>12465</td></tr><tr><td>264</td><td>2022-05-24 04:32:14</td><td>19137</td></tr><tr><td>371</td><td>2021-12-02 13:06:26</td><td>25770</td></tr><tr><td>133</td><td>2021-12-06 16:53:59</td><td>23547</td></tr><tr><td>392</td><td>2021-05-16 02:20:00</td><td>36167</td></tr><tr><td>446</td><td>2020-03-17 05:35:39</td><td>5662</td></tr><tr><td>492</td><td>2021-08-02 17:23:40</td><td>19146</td></tr><tr><td>19</td><td>2020-09-03 12:02:10</td><td>40837</td></tr><tr><td>154</td><td>2021-10-12 19:34:26</td><td>16029</td></tr><tr><td>305</td><td>2022-01-04 21:34:54</td><td>28360</td></tr><tr><td>397</td><td>2021-08-20 11:01:49</td><td>45937</td></tr><tr><td>70</td><td>2021-02-08 22:07:53</td><td>5117</td></tr><tr><td>75</td><td>2021-12-01 04:38:13</td><td>41612</td></tr><tr><td>151</td><td>2022-02-13 00:26:44</td><td>22182</td></tr><tr><td>169</td><td>2020-08-09 16:34:42</td><td>26160</td></tr><tr><td>243</td><td>2022-09-27 08:03:34</td><td>18632</td></tr><tr><td>320</td><td>2020-11-08 06:57:23</td><td>41149</td></tr><tr><td>405</td><td>2021-09-06 02:26:17</td><td>5121</td></tr><tr><td>14</td><td>2021-01-03 17:04:11</td><td>42398</td></tr><tr><td>16</td><td>2021-01-09 23:15:49</td><td>13289</td></tr><tr><td>23</td><td>2022-10-27 04:38:07</td><td>5443</td></tr><tr><td>23</td><td>2022-11-01 18:49:01</td><td>48441</td></tr><tr><td>25</td><td>2020-09-12 21:30:29</td><td>12029</td></tr><tr><td>69</td><td>2020-05-22 09:09:31</td><td>19505</td></tr><tr><td>107</td><td>2022-03-24 10:43:04</td><td>35932</td></tr><tr><td>132</td><td>2020-09-23 16:34:39</td><td>31266</td></tr><tr><td>265</td><td>2020-07-29 13:37:13</td><td>27281</td></tr><tr><td>359</td><td>2020-12-21 19:24:12</td><td>40077</td></tr><tr><td>492</td><td>2020-01-31 22:21:24</td><td>32748</td></tr><tr><td>48</td><td>2020-09-13 03:40:43</td><td>7320</td></tr><tr><td>91</td><td>2021-10-14 05:51:23</td><td>20255</td></tr><tr><td>215</td><td>2021-01-29 14:51:13</td><td>12000</td></tr><tr><td>221</td><td>2020-10-03 23:58:13</td><td>19356</td></tr><tr><td>272</td><td>2020-07-03 03:00:18</td><td>30608</td></tr><tr><td>277</td><td>2020-07-16 11:45:39</td><td>39514</td></tr><tr><td>287</td><td>2022-02-20 09:49:57</td><td>17756</td></tr><tr><td>434</td><td>2022-01-29 22:50:54</td><td>35906</td></tr><tr><td>444</td><td>2022-06-02 10:14:46</td><td>45058</td></tr><tr><td>447</td><td>2021-08-15 07:49:09</td><td>2278</td></tr><tr><td>49</td><td>2020-06-01 13:20:57</td><td>3997</td></tr><tr><td>457</td><td>2021-07-05 19:31:07</td><td>10894</td></tr><tr><td>469</td><td>2022-03-02 19:50:53</td><td>25304</td></tr><tr><td>473</td><td>2022-06-18 13:26:24</td><td>47036</td></tr><tr><td>484</td><td>2021-03-02 05:44:40</td><td>11320</td></tr><tr><td>62</td><td>2021-01-27 12:05:52</td><td>17385</td></tr><tr><td>132</td><td>2020-04-03 03:18:21</td><td>1915</td></tr><tr><td>262</td><td>2020-02-09 09:43:48</td><td>14480</td></tr><tr><td>174</td><td>2020-05-08 18:22:22</td><td>16426</td></tr><tr><td>288</td><td>2022-09-17 20:05:05</td><td>30990</td></tr><tr><td>344</td><td>2021-05-17 14:31:48</td><td>15137</td></tr><tr><td>344</td><td>2022-03-13 14:28:14</td><td>30233</td></tr><tr><td>421</td><td>2020-04-07 00:33:25</td><td>2791</td></tr><tr><td>19</td><td>2021-05-08 12:00:37</td><td>2401</td></tr><tr><td>109</td><td>2020-02-13 02:56:26</td><td>39152</td></tr><tr><td>124</td><td>2021-05-29 00:34:12</td><td>20165</td></tr><tr><td>247</td><td>2020-10-10 14:07:43</td><td>14431</td></tr><tr><td>250</td><td>2021-04-26 12:15:23</td><td>36825</td></tr><tr><td>412</td><td>2021-06-27 02:33:32</td><td>32180</td></tr><tr><td>96</td><td>2021-03-31 23:59:34</td><td>27042</td></tr><tr><td>102</td><td>2020-03-11 22:20:28</td><td>19745</td></tr><tr><td>321</td><td>2021-04-21 15:14:31</td><td>42860</td></tr><tr><td>323</td><td>2022-01-22 22:54:18</td><td>1745</td></tr><tr><td>400</td><td>2021-08-13 12:02:03</td><td>19534</td></tr><tr><td>452</td><td>2021-04-04 04:42:27</td><td>47064</td></tr><tr><td>458</td><td>2022-11-27 16:43:56</td><td>22330</td></tr><tr><td>32</td><td>2021-04-30 15:58:51</td><td>9035</td></tr><tr><td>250</td><td>2021-07-17 17:33:02</td><td>19738</td></tr><tr><td>282</td><td>2022-03-10 08:39:24</td><td>12713</td></tr><tr><td>287</td><td>2020-02-21 01:25:18</td><td>49926</td></tr><tr><td>343</td><td>2021-05-10 05:28:01</td><td>38074</td></tr><tr><td>419</td><td>2021-08-22 15:20:34</td><td>42669</td></tr><tr><td>495</td><td>2020-09-28 09:34:33</td><td>22572</td></tr><tr><td>278</td><td>2021-03-16 04:32:30</td><td>9972</td></tr><tr><td>433</td><td>2021-05-02 01:32:36</td><td>15368</td></tr><tr><td>187</td><td>2021-11-16 10:02:41</td><td>7349</td></tr><tr><td>274</td><td>2020-12-13 12:22:19</td><td>21690</td></tr><tr><td>436</td><td>2022-12-13 15:00:07</td><td>46283</td></tr><tr><td>454</td><td>2021-08-05 01:51:51</td><td>16777</td></tr><tr><td>458</td><td>2021-09-03 19:37:57</td><td>22568</td></tr><tr><td>64</td><td>2021-06-15 20:35:16</td><td>36734</td></tr><tr><td>95</td><td>2021-10-23 19:27:09</td><td>10801</td></tr><tr><td>165</td><td>2020-11-08 23:32:32</td><td>16092</td></tr><tr><td>487</td><td>2022-10-31 21:07:17</td><td>21827</td></tr><tr><td>178</td><td>2022-04-29 22:08:35</td><td>33566</td></tr><tr><td>315</td><td>2022-07-04 00:03:27</td><td>1590</td></tr><tr><td>316</td><td>2022-01-09 01:23:44</td><td>9263</td></tr><tr><td>386</td><td>2022-05-22 21:36:30</td><td>36892</td></tr><tr><td>475</td><td>2020-02-08 01:35:09</td><td>27090</td></tr><tr><td>494</td><td>2020-10-30 23:29:25</td><td>8393</td></tr><tr><td>20</td><td>2020-12-29 13:29:18</td><td>32721</td></tr><tr><td>89</td><td>2020-11-21 13:44:26</td><td>26256</td></tr><tr><td>91</td><td>2020-01-13 11:27:17</td><td>7316</td></tr><tr><td>81</td><td>2021-08-05 13:04:25</td><td>35400</td></tr><tr><td>193</td><td>2022-06-09 23:09:35</td><td>37355</td></tr><tr><td>253</td><td>2022-04-02 23:48:35</td><td>13667</td></tr><tr><td>305</td><td>2022-01-26 08:32:01</td><td>42804</td></tr><tr><td>307</td><td>2020-10-27 13:07:05</td><td>45636</td></tr><tr><td>312</td><td>2020-06-04 10:24:08</td><td>40538</td></tr><tr><td>484</td><td>2020-04-28 07:09:39</td><td>37231</td></tr><tr><td>17</td><td>2020-01-28 17:13:00</td><td>38901</td></tr><tr><td>48</td><td>2021-06-03 12:48:54</td><td>23832</td></tr><tr><td>137</td><td>2022-10-10 15:57:03</td><td>5653</td></tr><tr><td>164</td><td>2022-12-05 01:01:25</td><td>49668</td></tr><tr><td>365</td><td>2021-08-23 22:55:24</td><td>5423</td></tr><tr><td>458</td><td>2020-06-09 15:21:25</td><td>14083</td></tr><tr><td>169</td><td>2020-05-24 15:25:19</td><td>33759</td></tr><tr><td>196</td><td>2020-01-27 02:34:18</td><td>43053</td></tr><tr><td>207</td><td>2020-09-02 21:51:15</td><td>37592</td></tr><tr><td>342</td><td>2022-04-20 13:51:41</td><td>27346</td></tr><tr><td>436</td><td>2021-12-01 09:40:09</td><td>5110</td></tr><tr><td>495</td><td>2022-03-11 03:55:26</td><td>28331</td></tr><tr><td>62</td><td>2022-02-16 05:19:16</td><td>30239</td></tr><tr><td>240</td><td>2022-08-07 18:42:34</td><td>11758</td></tr><tr><td>280</td><td>2020-01-25 00:05:57</td><td>4007</td></tr><tr><td>312</td><td>2022-07-27 02:58:34</td><td>19609</td></tr><tr><td>254</td><td>2022-04-16 18:21:34</td><td>40339</td></tr><tr><td>322</td><td>2022-08-22 01:35:56</td><td>23607</td></tr><tr><td>331</td><td>2021-07-12 01:13:54</td><td>42520</td></tr><tr><td>334</td><td>2020-05-21 18:56:50</td><td>10689</td></tr><tr><td>82</td><td>2020-06-26 14:36:51</td><td>9396</td></tr><tr><td>193</td><td>2021-12-20 08:33:43</td><td>30882</td></tr><tr><td>230</td><td>2020-07-03 22:01:17</td><td>45808</td></tr><tr><td>254</td><td>2022-08-30 07:29:05</td><td>33920</td></tr><tr><td>323</td><td>2022-04-15 03:58:29</td><td>21555</td></tr><tr><td>352</td><td>2022-04-29 08:41:38</td><td>29376</td></tr><tr><td>443</td><td>2021-10-22 20:45:03</td><td>2333</td></tr><tr><td>27</td><td>2022-02-21 20:09:15</td><td>46635</td></tr><tr><td>111</td><td>2021-11-29 17:47:22</td><td>12144</td></tr><tr><td>140</td><td>2022-02-22 14:42:32</td><td>42176</td></tr><tr><td>183</td><td>2022-12-21 04:01:06</td><td>38396</td></tr><tr><td>289</td><td>2020-09-03 17:53:57</td><td>8808</td></tr><tr><td>470</td><td>2021-03-06 01:48:51</td><td>29618</td></tr><tr><td>49</td><td>2020-05-07 09:59:51</td><td>10597</td></tr><tr><td>293</td><td>2021-05-15 04:16:19</td><td>6788</td></tr><tr><td>332</td><td>2020-06-11 02:20:50</td><td>35923</td></tr><tr><td>483</td><td>2021-01-05 13:05:35</td><td>42875</td></tr><tr><td>498</td><td>2021-05-20 04:43:58</td><td>4432</td></tr><tr><td>182</td><td>2022-10-23 05:52:15</td><td>15590</td></tr><tr><td>360</td><td>2021-06-05 17:29:19</td><td>7651</td></tr><tr><td>430</td><td>2022-10-03 02:43:23</td><td>32649</td></tr><tr><td>207</td><td>2022-01-29 08:16:36</td><td>31213</td></tr><tr><td>192</td><td>2022-10-03 10:00:45</td><td>20788</td></tr><tr><td>274</td><td>2020-06-01 03:08:39</td><td>3144</td></tr><tr><td>404</td><td>2021-04-09 07:13:56</td><td>3446</td></tr><tr><td>477</td><td>2020-01-04 21:55:23</td><td>35119</td></tr><tr><td>204</td><td>2022-12-13 17:49:53</td><td>13060</td></tr><tr><td>240</td><td>2022-05-23 13:44:11</td><td>12260</td></tr><tr><td>290</td><td>2021-06-19 01:51:25</td><td>22554</td></tr><tr><td>335</td><td>2020-10-13 10:41:36</td><td>26013</td></tr><tr><td>347</td><td>2022-06-04 01:07:58</td><td>5867</td></tr><tr><td>451</td><td>2020-05-29 11:24:25</td><td>25157</td></tr><tr><td>462</td><td>2021-11-24 23:36:12</td><td>17893</td></tr><tr><td>27</td><td>2022-05-21 11:18:46</td><td>48521</td></tr><tr><td>136</td><td>2021-11-18 00:42:29</td><td>34769</td></tr><tr><td>338</td><td>2022-03-06 01:41:38</td><td>40354</td></tr><tr><td>353</td><td>2020-01-20 21:17:36</td><td>25354</td></tr><tr><td>439</td><td>2021-06-14 06:27:38</td><td>41747</td></tr><tr><td>468</td><td>2020-03-31 23:00:13</td><td>33974</td></tr><tr><td>119</td><td>2022-02-14 15:22:03</td><td>16361</td></tr><tr><td>301</td><td>2021-04-08 08:04:34</td><td>45707</td></tr><tr><td>357</td><td>2021-04-25 21:04:00</td><td>23336</td></tr><tr><td>453</td><td>2020-07-21 22:55:22</td><td>27263</td></tr><tr><td>64</td><td>2020-11-18 18:18:55</td><td>43477</td></tr><tr><td>77</td><td>2022-02-16 21:03:09</td><td>22654</td></tr><tr><td>212</td><td>2020-06-04 10:03:25</td><td>11609</td></tr><tr><td>281</td><td>2022-09-20 19:25:08</td><td>21436</td></tr><tr><td>324</td><td>2022-11-26 03:24:21</td><td>23823</td></tr><tr><td>338</td><td>2022-04-20 13:30:50</td><td>23925</td></tr><tr><td>360</td><td>2021-09-18 04:18:38</td><td>32715</td></tr><tr><td>419</td><td>2022-01-10 00:28:28</td><td>37243</td></tr><tr><td>79</td><td>2022-03-20 14:10:49</td><td>21744</td></tr><tr><td>202</td><td>2020-04-03 09:49:15</td><td>20154</td></tr><tr><td>294</td><td>2022-08-08 11:21:44</td><td>47146</td></tr><tr><td>366</td><td>2021-01-24 21:33:09</td><td>10409</td></tr><tr><td>214</td><td>2021-09-08 05:57:54</td><td>36183</td></tr><tr><td>374</td><td>2021-09-06 10:20:12</td><td>15318</td></tr><tr><td>419</td><td>2020-03-19 08:38:43</td><td>30203</td></tr><tr><td>422</td><td>2022-04-17 13:56:18</td><td>27078</td></tr><tr><td>453</td><td>2022-08-19 00:46:48</td><td>16904</td></tr><tr><td>491</td><td>2022-07-23 19:20:40</td><td>35301</td></tr><tr><td>123</td><td>2021-01-13 16:52:36</td><td>8643</td></tr><tr><td>243</td><td>2021-11-01 11:16:49</td><td>23601</td></tr><tr><td>421</td><td>2021-07-10 09:18:47</td><td>18551</td></tr><tr><td>491</td><td>2021-08-28 18:19:31</td><td>5454</td></tr><tr><td>5</td><td>2020-04-03 12:22:52</td><td>4481</td></tr><tr><td>6</td><td>2021-03-30 17:05:39</td><td>48237</td></tr><tr><td>21</td><td>2021-03-06 20:48:06</td><td>36693</td></tr><tr><td>69</td><td>2021-07-02 11:51:39</td><td>8144</td></tr><tr><td>266</td><td>2022-04-20 05:55:09</td><td>3060</td></tr><tr><td>70</td><td>2020-02-23 03:53:07</td><td>37112</td></tr><tr><td>110</td><td>2021-10-18 15:46:55</td><td>9904</td></tr><tr><td>134</td><td>2021-08-17 21:58:41</td><td>2169</td></tr><tr><td>500</td><td>2021-05-28 18:42:27</td><td>3663</td></tr><tr><td>237</td><td>2022-11-07 23:16:52</td><td>13188</td></tr><tr><td>249</td><td>2021-05-09 09:14:43</td><td>38451</td></tr><tr><td>274</td><td>2022-09-23 21:11:10</td><td>19758</td></tr><tr><td>295</td><td>2022-07-19 17:49:13</td><td>23451</td></tr><tr><td>345</td><td>2021-01-12 15:03:19</td><td>28161</td></tr><tr><td>357</td><td>2020-01-15 07:26:13</td><td>15089</td></tr><tr><td>434</td><td>2020-04-01 09:32:46</td><td>45607</td></tr><tr><td>2</td><td>2021-05-06 10:46:17</td><td>21093</td></tr><tr><td>148</td><td>2020-07-30 06:38:07</td><td>4194</td></tr><tr><td>211</td><td>2022-10-21 05:12:47</td><td>18737</td></tr><tr><td>212</td><td>2022-08-30 23:42:41</td><td>48078</td></tr><tr><td>232</td><td>2022-07-08 00:18:56</td><td>34981</td></tr><tr><td>350</td><td>2022-02-11 17:24:41</td><td>30743</td></tr><tr><td>392</td><td>2021-09-08 19:25:26</td><td>25037</td></tr><tr><td>392</td><td>2022-08-03 08:29:26</td><td>25093</td></tr><tr><td>419</td><td>2022-11-11 01:50:41</td><td>27901</td></tr><tr><td>433</td><td>2022-08-31 09:20:30</td><td>12984</td></tr><tr><td>78</td><td>2022-08-24 21:22:12</td><td>26619</td></tr><tr><td>82</td><td>2022-09-30 22:52:46</td><td>37606</td></tr><tr><td>154</td><td>2020-03-13 20:42:45</td><td>18804</td></tr><tr><td>177</td><td>2020-12-23 04:20:28</td><td>2091</td></tr><tr><td>295</td><td>2021-02-28 23:10:07</td><td>20581</td></tr><tr><td>401</td><td>2021-05-14 18:55:16</td><td>23209</td></tr><tr><td>182</td><td>2020-11-19 02:43:27</td><td>31323</td></tr><tr><td>253</td><td>2020-07-12 04:51:28</td><td>34042</td></tr><tr><td>297</td><td>2021-11-28 22:43:01</td><td>27638</td></tr><tr><td>340</td><td>2022-09-06 13:55:11</td><td>38010</td></tr><tr><td>367</td><td>2020-09-28 11:59:41</td><td>29788</td></tr><tr><td>440</td><td>2021-07-04 10:35:27</td><td>16368</td></tr><tr><td>460</td><td>2021-08-05 12:04:56</td><td>2163</td></tr><tr><td>92</td><td>2022-03-14 14:52:06</td><td>40578</td></tr><tr><td>194</td><td>2020-11-21 08:21:02</td><td>22465</td></tr><tr><td>264</td><td>2020-11-17 09:46:17</td><td>22236</td></tr><tr><td>474</td><td>2022-10-04 03:45:51</td><td>18833</td></tr><tr><td>238</td><td>2020-10-19 09:44:55</td><td>42226</td></tr><tr><td>318</td><td>2020-11-07 11:48:41</td><td>13079</td></tr><tr><td>377</td><td>2022-01-28 07:26:05</td><td>34514</td></tr><tr><td>382</td><td>2022-11-13 05:29:37</td><td>43487</td></tr><tr><td>58</td><td>2020-06-15 01:01:21</td><td>16512</td></tr><tr><td>221</td><td>2020-06-02 05:28:31</td><td>40251</td></tr><tr><td>256</td><td>2022-08-01 20:01:56</td><td>35738</td></tr><tr><td>264</td><td>2020-12-03 22:29:59</td><td>18260</td></tr><tr><td>297</td><td>2021-05-25 02:03:56</td><td>38355</td></tr><tr><td>370</td><td>2022-10-05 17:11:55</td><td>22801</td></tr><tr><td>11</td><td>2021-02-02 01:35:34</td><td>40028</td></tr><tr><td>30</td><td>2022-12-26 08:09:43</td><td>20405</td></tr><tr><td>31</td><td>2022-03-31 14:03:50</td><td>28389</td></tr><tr><td>467</td><td>2021-01-29 06:30:43</td><td>20194</td></tr><tr><td>487</td><td>2020-03-13 03:00:19</td><td>6495</td></tr><tr><td>235</td><td>2020-07-26 05:50:06</td><td>16489</td></tr><tr><td>377</td><td>2020-09-14 23:56:58</td><td>28947</td></tr><tr><td>383</td><td>2021-01-14 08:49:15</td><td>34764</td></tr><tr><td>385</td><td>2020-09-19 14:47:13</td><td>12493</td></tr><tr><td>49</td><td>2021-02-24 11:46:27</td><td>42239</td></tr><tr><td>75</td><td>2021-09-28 08:47:34</td><td>7121</td></tr><tr><td>183</td><td>2020-04-21 22:54:05</td><td>37598</td></tr><tr><td>408</td><td>2020-10-20 05:29:37</td><td>31903</td></tr><tr><td>493</td><td>2020-05-25 11:34:59</td><td>41695</td></tr><tr><td>11</td><td>2022-10-17 20:24:01</td><td>38290</td></tr><tr><td>61</td><td>2022-03-24 21:40:00</td><td>46081</td></tr><tr><td>164</td><td>2020-11-13 22:40:51</td><td>18227</td></tr><tr><td>281</td><td>2021-07-12 19:44:18</td><td>1650</td></tr><tr><td>303</td><td>2021-04-05 20:33:51</td><td>31615</td></tr><tr><td>326</td><td>2021-11-19 00:32:11</td><td>33883</td></tr><tr><td>161</td><td>2020-05-04 19:51:55</td><td>35393</td></tr><tr><td>229</td><td>2020-10-12 09:24:24</td><td>9388</td></tr><tr><td>285</td><td>2020-04-11 00:00:05</td><td>27934</td></tr><tr><td>436</td><td>2021-10-30 14:38:09</td><td>19995</td></tr><tr><td>135</td><td>2022-09-22 10:59:02</td><td>14757</td></tr><tr><td>189</td><td>2020-12-09 16:05:18</td><td>38556</td></tr><tr><td>365</td><td>2021-02-24 22:32:09</td><td>41365</td></tr><tr><td>399</td><td>2020-03-17 08:24:14</td><td>28192</td></tr><tr><td>447</td><td>2022-04-09 15:36:09</td><td>39212</td></tr><tr><td>461</td><td>2020-10-01 01:29:24</td><td>14288</td></tr><tr><td>172</td><td>2021-06-18 01:06:03</td><td>28113</td></tr><tr><td>277</td><td>2022-10-29 03:27:20</td><td>16068</td></tr><tr><td>444</td><td>2021-07-25 03:11:00</td><td>46632</td></tr><tr><td>446</td><td>2020-09-18 17:28:56</td><td>42158</td></tr><tr><td>447</td><td>2021-07-17 22:46:42</td><td>2707</td></tr><tr><td>173</td><td>2021-09-13 19:47:02</td><td>33172</td></tr><tr><td>204</td><td>2021-10-08 05:57:35</td><td>6875</td></tr><tr><td>261</td><td>2021-12-23 22:54:28</td><td>17621</td></tr><tr><td>398</td><td>2020-07-30 00:52:33</td><td>28349</td></tr><tr><td>420</td><td>2020-07-07 13:17:11</td><td>31938</td></tr><tr><td>24</td><td>2021-07-21 14:33:35</td><td>37101</td></tr><tr><td>57</td><td>2021-09-09 06:05:26</td><td>41662</td></tr><tr><td>82</td><td>2020-04-10 03:27:53</td><td>49356</td></tr><tr><td>85</td><td>2020-11-01 16:43:49</td><td>27622</td></tr><tr><td>169</td><td>2021-08-03 08:18:32</td><td>10159</td></tr><tr><td>213</td><td>2020-11-10 22:51:26</td><td>6004</td></tr><tr><td>488</td><td>2020-05-25 16:40:31</td><td>46427</td></tr><tr><td>285</td><td>2022-04-21 05:57:03</td><td>15037</td></tr><tr><td>425</td><td>2022-03-16 10:42:08</td><td>30039</td></tr><tr><td>2</td><td>2021-01-20 06:50:33</td><td>41092</td></tr><tr><td>2</td><td>2022-03-17 13:15:31</td><td>18719</td></tr><tr><td>148</td><td>2020-02-23 07:28:39</td><td>30238</td></tr><tr><td>152</td><td>2020-11-27 14:19:09</td><td>36474</td></tr><tr><td>293</td><td>2022-12-02 18:47:55</td><td>46352</td></tr><tr><td>352</td><td>2020-09-28 19:12:58</td><td>14899</td></tr><tr><td>96</td><td>2022-09-23 13:21:22</td><td>2445</td></tr><tr><td>132</td><td>2021-07-06 01:16:15</td><td>41519</td></tr><tr><td>165</td><td>2020-09-02 03:17:38</td><td>27133</td></tr><tr><td>239</td><td>2021-03-31 07:36:18</td><td>7249</td></tr><tr><td>281</td><td>2020-08-22 00:05:39</td><td>41025</td></tr><tr><td>320</td><td>2020-05-29 11:02:02</td><td>18813</td></tr><tr><td>494</td><td>2021-09-02 05:54:03</td><td>25531</td></tr><tr><td>498</td><td>2020-05-06 00:38:29</td><td>26515</td></tr><tr><td>196</td><td>2022-08-12 13:56:53</td><td>45048</td></tr><tr><td>270</td><td>2020-12-28 23:58:53</td><td>6221</td></tr><tr><td>283</td><td>2022-11-29 10:17:52</td><td>28025</td></tr><tr><td>343</td><td>2020-06-16 22:58:05</td><td>16464</td></tr><tr><td>222</td><td>2022-06-11 19:55:54</td><td>24950</td></tr><tr><td>441</td><td>2020-11-18 20:08:57</td><td>26863</td></tr><tr><td>10</td><td>2022-03-25 19:10:07</td><td>34327</td></tr><tr><td>36</td><td>2020-08-10 02:44:18</td><td>26172</td></tr><tr><td>121</td><td>2021-01-30 13:34:58</td><td>17815</td></tr><tr><td>134</td><td>2022-01-08 08:12:23</td><td>31854</td></tr><tr><td>154</td><td>2022-09-27 11:51:06</td><td>5770</td></tr><tr><td>177</td><td>2022-03-06 14:54:37</td><td>48513</td></tr><tr><td>190</td><td>2022-09-30 00:53:16</td><td>21830</td></tr><tr><td>214</td><td>2021-05-09 19:00:54</td><td>3685</td></tr><tr><td>244</td><td>2021-06-14 09:22:57</td><td>9005</td></tr><tr><td>31</td><td>2020-03-04 14:24:54</td><td>14652</td></tr><tr><td>94</td><td>2022-09-11 14:49:34</td><td>47167</td></tr><tr><td>113</td><td>2022-04-08 06:16:31</td><td>37596</td></tr><tr><td>141</td><td>2022-07-31 18:48:24</td><td>1352</td></tr><tr><td>278</td><td>2021-04-29 06:42:22</td><td>12970</td></tr><tr><td>291</td><td>2020-07-21 18:51:06</td><td>11311</td></tr><tr><td>333</td><td>2022-08-17 00:31:38</td><td>27923</td></tr><tr><td>334</td><td>2020-03-26 14:34:57</td><td>8273</td></tr><tr><td>447</td><td>2020-07-16 23:57:39</td><td>44699</td></tr><tr><td>461</td><td>2020-04-25 05:27:30</td><td>48362</td></tr><tr><td>391</td><td>2021-05-30 18:03:04</td><td>26466</td></tr><tr><td>409</td><td>2020-02-02 07:47:59</td><td>17212</td></tr><tr><td>47</td><td>2022-12-04 07:24:10</td><td>12172</td></tr><tr><td>119</td><td>2020-12-03 17:47:41</td><td>20266</td></tr><tr><td>357</td><td>2020-06-24 20:39:32</td><td>10764</td></tr><tr><td>365</td><td>2020-09-27 04:42:58</td><td>45374</td></tr><tr><td>406</td><td>2021-12-06 18:52:00</td><td>46605</td></tr><tr><td>18</td><td>2020-08-22 18:06:20</td><td>46209</td></tr><tr><td>50</td><td>2020-10-18 15:10:09</td><td>4143</td></tr><tr><td>135</td><td>2020-11-06 02:36:58</td><td>34676</td></tr><tr><td>187</td><td>2021-09-14 12:10:32</td><td>23041</td></tr><tr><td>435</td><td>2020-08-20 22:45:22</td><td>17978</td></tr><tr><td>444</td><td>2020-10-04 22:02:20</td><td>27651</td></tr><tr><td>28</td><td>2020-09-24 03:03:26</td><td>24907</td></tr><tr><td>234</td><td>2022-10-16 13:37:44</td><td>48135</td></tr><tr><td>272</td><td>2022-07-23 23:38:51</td><td>6938</td></tr><tr><td>336</td><td>2020-01-01 05:24:41</td><td>16965</td></tr><tr><td>492</td><td>2022-03-27 19:32:54</td><td>35159</td></tr><tr><td>111</td><td>2020-11-06 04:34:14</td><td>3135</td></tr><tr><td>129</td><td>2021-06-04 05:18:26</td><td>23522</td></tr><tr><td>149</td><td>2022-09-20 10:07:05</td><td>48685</td></tr><tr><td>317</td><td>2022-02-23 10:49:28</td><td>38444</td></tr><tr><td>445</td><td>2022-07-14 21:20:24</td><td>25144</td></tr><tr><td>461</td><td>2022-04-18 12:35:30</td><td>43759</td></tr><tr><td>484</td><td>2021-08-25 19:08:20</td><td>42486</td></tr><tr><td>87</td><td>2022-03-16 22:43:00</td><td>35922</td></tr><tr><td>243</td><td>2020-02-25 20:55:41</td><td>3672</td></tr><tr><td>7</td><td>2021-06-05 04:25:56</td><td>16685</td></tr><tr><td>47</td><td>2022-04-17 19:15:52</td><td>2341</td></tr><tr><td>153</td><td>2020-03-28 04:58:18</td><td>4215</td></tr><tr><td>355</td><td>2020-08-13 01:05:18</td><td>2243</td></tr><tr><td>404</td><td>2021-05-18 03:28:42</td><td>8084</td></tr><tr><td>264</td><td>2022-08-15 09:37:53</td><td>20730</td></tr><tr><td>281</td><td>2022-01-24 08:19:39</td><td>22265</td></tr><tr><td>413</td><td>2020-03-26 01:47:36</td><td>20663</td></tr><tr><td>266</td><td>2021-10-02 17:46:14</td><td>15838</td></tr><tr><td>330</td><td>2020-11-15 12:16:14</td><td>2774</td></tr><tr><td>31</td><td>2021-03-13 00:39:51</td><td>7761</td></tr><tr><td>72</td><td>2020-12-31 09:20:04</td><td>1389</td></tr><tr><td>362</td><td>2020-07-20 04:33:27</td><td>33327</td></tr><tr><td>377</td><td>2021-11-18 04:50:49</td><td>44513</td></tr><tr><td>59</td><td>2022-07-25 13:09:29</td><td>28109</td></tr><tr><td>175</td><td>2022-08-26 17:00:58</td><td>16495</td></tr><tr><td>262</td><td>2021-07-25 12:09:00</td><td>6754</td></tr><tr><td>297</td><td>2020-11-12 01:39:42</td><td>4465</td></tr><tr><td>446</td><td>2022-08-24 08:23:20</td><td>42544</td></tr><tr><td>29</td><td>2022-11-11 00:07:03</td><td>27646</td></tr><tr><td>212</td><td>2020-03-05 22:04:59</td><td>20772</td></tr><tr><td>309</td><td>2021-08-24 17:15:40</td><td>11453</td></tr><tr><td>437</td><td>2020-07-19 13:50:34</td><td>1783</td></tr><tr><td>43</td><td>2021-11-04 10:35:28</td><td>22209</td></tr><tr><td>55</td><td>2022-11-19 07:27:49</td><td>33018</td></tr><tr><td>130</td><td>2020-03-13 15:12:56</td><td>17291</td></tr><tr><td>286</td><td>2020-09-09 04:15:17</td><td>23886</td></tr><tr><td>447</td><td>2020-06-17 12:46:19</td><td>2988</td></tr><tr><td>214</td><td>2021-12-08 10:07:14</td><td>4134</td></tr><tr><td>365</td><td>2020-04-11 07:54:17</td><td>1634</td></tr><tr><td>418</td><td>2020-07-18 15:49:18</td><td>10177</td></tr><tr><td>191</td><td>2021-04-13 16:33:06</td><td>11173</td></tr><tr><td>356</td><td>2021-02-27 18:22:12</td><td>24633</td></tr><tr><td>362</td><td>2022-11-19 20:07:15</td><td>8904</td></tr><tr><td>478</td><td>2022-03-26 22:14:01</td><td>10776</td></tr><tr><td>487</td><td>2022-12-29 12:18:37</td><td>46297</td></tr><tr><td>65</td><td>2022-01-25 09:26:43</td><td>45706</td></tr><tr><td>123</td><td>2022-05-04 07:45:14</td><td>19732</td></tr><tr><td>159</td><td>2020-09-08 09:05:52</td><td>16664</td></tr><tr><td>191</td><td>2020-05-28 01:32:32</td><td>42927</td></tr><tr><td>193</td><td>2020-05-17 11:02:12</td><td>32617</td></tr><tr><td>329</td><td>2022-05-06 02:44:30</td><td>11629</td></tr><tr><td>351</td><td>2020-04-27 18:34:08</td><td>19200</td></tr><tr><td>484</td><td>2020-12-08 06:14:43</td><td>41873</td></tr><tr><td>67</td><td>2021-09-15 09:26:05</td><td>47962</td></tr><tr><td>349</td><td>2020-06-27 06:49:18</td><td>17444</td></tr><tr><td>408</td><td>2021-04-06 12:35:47</td><td>41631</td></tr><tr><td>93</td><td>2020-12-19 17:20:05</td><td>31225</td></tr><tr><td>153</td><td>2020-07-09 14:12:36</td><td>11175</td></tr><tr><td>232</td><td>2021-12-19 13:43:48</td><td>20020</td></tr><tr><td>265</td><td>2020-12-07 20:39:45</td><td>47748</td></tr><tr><td>359</td><td>2021-03-08 13:16:39</td><td>30708</td></tr><tr><td>370</td><td>2021-12-05 08:44:51</td><td>37757</td></tr><tr><td>470</td><td>2022-10-15 21:28:30</td><td>15129</td></tr><tr><td>367</td><td>2020-01-06 07:37:37</td><td>14046</td></tr><tr><td>142</td><td>2021-09-14 10:32:06</td><td>24815</td></tr><tr><td>239</td><td>2020-11-25 12:20:33</td><td>10468</td></tr><tr><td>311</td><td>2020-08-28 23:08:38</td><td>28736</td></tr><tr><td>381</td><td>2020-05-04 21:15:58</td><td>23077</td></tr><tr><td>70</td><td>2020-02-14 06:21:11</td><td>18273</td></tr><tr><td>98</td><td>2021-01-03 10:54:44</td><td>26668</td></tr><tr><td>286</td><td>2020-07-13 13:28:22</td><td>32281</td></tr><tr><td>437</td><td>2022-02-04 02:58:25</td><td>22873</td></tr><tr><td>71</td><td>2022-03-03 11:07:44</td><td>31557</td></tr><tr><td>134</td><td>2022-06-16 23:43:37</td><td>23136</td></tr><tr><td>137</td><td>2021-07-10 16:57:01</td><td>23406</td></tr><tr><td>152</td><td>2022-09-06 10:18:46</td><td>35603</td></tr><tr><td>298</td><td>2020-09-18 21:52:25</td><td>18986</td></tr><tr><td>343</td><td>2022-05-21 05:51:24</td><td>44040</td></tr><tr><td>445</td><td>2021-03-07 21:56:40</td><td>38649</td></tr><tr><td>448</td><td>2021-02-28 05:58:51</td><td>47054</td></tr><tr><td>289</td><td>2022-03-19 02:24:16</td><td>30253</td></tr><tr><td>485</td><td>2021-04-04 02:10:49</td><td>43671</td></tr><tr><td>190</td><td>2022-10-27 15:04:56</td><td>17819</td></tr><tr><td>225</td><td>2021-04-19 09:06:08</td><td>32951</td></tr><tr><td>392</td><td>2021-05-28 06:16:42</td><td>30140</td></tr><tr><td>320</td><td>2022-10-14 22:53:08</td><td>6912</td></tr><tr><td>463</td><td>2020-05-23 08:44:26</td><td>32176</td></tr><tr><td>475</td><td>2021-06-13 01:42:28</td><td>46236</td></tr><tr><td>62</td><td>2022-12-16 08:57:45</td><td>6545</td></tr><tr><td>77</td><td>2021-04-19 19:39:33</td><td>20338</td></tr><tr><td>140</td><td>2021-11-10 19:14:53</td><td>38798</td></tr><tr><td>169</td><td>2021-07-28 06:58:30</td><td>35161</td></tr><tr><td>197</td><td>2020-06-02 20:05:14</td><td>24619</td></tr><tr><td>324</td><td>2020-07-28 20:01:11</td><td>15730</td></tr><tr><td>462</td><td>2021-03-11 19:30:21</td><td>3385</td></tr><tr><td>29</td><td>2022-11-15 00:52:44</td><td>16492</td></tr><tr><td>125</td><td>2021-08-11 01:23:06</td><td>31427</td></tr><tr><td>135</td><td>2021-11-13 12:02:37</td><td>39933</td></tr><tr><td>164</td><td>2021-10-10 17:01:31</td><td>45757</td></tr><tr><td>209</td><td>2022-05-21 21:22:39</td><td>26623</td></tr><tr><td>304</td><td>2021-05-13 19:51:27</td><td>26660</td></tr><tr><td>383</td><td>2022-03-03 01:46:20</td><td>2445</td></tr><tr><td>161</td><td>2020-10-10 21:02:39</td><td>15468</td></tr><tr><td>328</td><td>2021-08-01 06:43:01</td><td>18144</td></tr><tr><td>20</td><td>2022-04-25 08:04:25</td><td>11656</td></tr><tr><td>57</td><td>2022-11-03 11:22:05</td><td>49306</td></tr><tr><td>111</td><td>2021-05-21 19:03:13</td><td>45601</td></tr><tr><td>187</td><td>2020-11-15 21:52:15</td><td>33487</td></tr><tr><td>199</td><td>2020-11-16 22:09:21</td><td>5330</td></tr><tr><td>208</td><td>2020-08-02 05:10:08</td><td>10853</td></tr><tr><td>346</td><td>2022-02-22 02:31:07</td><td>37469</td></tr><tr><td>434</td><td>2021-12-09 18:02:16</td><td>37022</td></tr><tr><td>459</td><td>2020-07-09 21:53:41</td><td>47807</td></tr><tr><td>474</td><td>2021-07-25 06:03:16</td><td>19320</td></tr><tr><td>37</td><td>2020-08-13 14:35:13</td><td>38845</td></tr><tr><td>108</td><td>2020-02-08 13:28:53</td><td>38431</td></tr><tr><td>128</td><td>2020-06-17 14:22:01</td><td>27687</td></tr><tr><td>164</td><td>2022-10-25 20:01:19</td><td>2730</td></tr><tr><td>247</td><td>2020-04-10 18:35:19</td><td>20096</td></tr><tr><td>275</td><td>2022-02-27 02:53:07</td><td>26510</td></tr><tr><td>456</td><td>2020-08-26 05:31:21</td><td>30141</td></tr><tr><td>41</td><td>2020-03-24 21:46:40</td><td>1949</td></tr><tr><td>68</td><td>2020-02-25 11:54:40</td><td>18762</td></tr><tr><td>125</td><td>2021-04-15 00:38:28</td><td>32900</td></tr><tr><td>164</td><td>2021-07-31 12:05:47</td><td>1728</td></tr><tr><td>183</td><td>2020-09-20 15:03:50</td><td>26671</td></tr><tr><td>195</td><td>2022-06-20 03:24:28</td><td>35207</td></tr><tr><td>246</td><td>2022-02-01 15:19:30</td><td>2796</td></tr><tr><td>60</td><td>2020-09-12 18:02:21</td><td>28694</td></tr><tr><td>105</td><td>2021-09-30 19:37:53</td><td>23650</td></tr><tr><td>208</td><td>2020-04-29 17:17:07</td><td>6585</td></tr><tr><td>358</td><td>2022-01-28 04:46:26</td><td>5305</td></tr><tr><td>411</td><td>2021-04-16 17:17:02</td><td>4360</td></tr><tr><td>59</td><td>2022-11-26 23:24:35</td><td>33203</td></tr><tr><td>161</td><td>2022-09-16 04:59:30</td><td>39724</td></tr><tr><td>213</td><td>2020-07-25 15:58:31</td><td>7830</td></tr><tr><td>292</td><td>2020-04-25 06:30:36</td><td>31880</td></tr><tr><td>335</td><td>2020-02-02 07:36:13</td><td>47241</td></tr><tr><td>346</td><td>2020-12-19 07:29:36</td><td>30368</td></tr><tr><td>386</td><td>2020-07-27 08:06:34</td><td>45965</td></tr><tr><td>386</td><td>2021-06-13 15:36:08</td><td>12443</td></tr><tr><td>205</td><td>2020-11-10 22:04:53</td><td>25134</td></tr><tr><td>211</td><td>2022-10-20 14:59:53</td><td>16787</td></tr><tr><td>314</td><td>2021-01-18 03:27:56</td><td>19399</td></tr><tr><td>482</td><td>2021-08-12 05:07:12</td><td>30849</td></tr><tr><td>496</td><td>2021-02-06 07:05:24</td><td>3831</td></tr><tr><td>84</td><td>2020-05-23 03:50:47</td><td>18071</td></tr><tr><td>167</td><td>2020-07-26 05:45:26</td><td>32694</td></tr><tr><td>219</td><td>2020-06-13 23:22:44</td><td>3193</td></tr><tr><td>354</td><td>2022-04-25 17:00:42</td><td>42364</td></tr><tr><td>406</td><td>2022-05-31 04:30:27</td><td>4840</td></tr><tr><td>496</td><td>2021-03-08 20:34:35</td><td>7988</td></tr><tr><td>11</td><td>2020-03-29 20:17:01</td><td>24672</td></tr><tr><td>113</td><td>2021-08-07 22:01:41</td><td>45029</td></tr><tr><td>207</td><td>2021-02-10 13:15:33</td><td>36788</td></tr><tr><td>283</td><td>2020-05-02 15:26:52</td><td>48221</td></tr><tr><td>27</td><td>2021-12-14 06:55:00</td><td>41235</td></tr><tr><td>186</td><td>2021-04-17 06:22:54</td><td>33292</td></tr><tr><td>228</td><td>2021-07-04 13:27:35</td><td>36314</td></tr><tr><td>228</td><td>2021-09-16 06:42:06</td><td>13154</td></tr><tr><td>383</td><td>2020-05-08 12:04:34</td><td>18791</td></tr><tr><td>478</td><td>2021-12-05 02:20:31</td><td>43102</td></tr><tr><td>9</td><td>2022-11-22 16:35:02</td><td>5518</td></tr><tr><td>243</td><td>2020-11-14 10:44:04</td><td>33189</td></tr><tr><td>314</td><td>2020-10-13 20:09:12</td><td>38930</td></tr><tr><td>17</td><td>2020-03-19 22:31:51</td><td>30661</td></tr><tr><td>291</td><td>2020-08-02 20:19:15</td><td>8458</td></tr><tr><td>368</td><td>2021-10-14 03:45:21</td><td>9455</td></tr><tr><td>371</td><td>2021-12-09 02:32:24</td><td>31180</td></tr><tr><td>50</td><td>2020-02-15 15:20:22</td><td>37207</td></tr><tr><td>245</td><td>2022-06-29 18:53:50</td><td>27049</td></tr><tr><td>320</td><td>2021-07-10 01:49:06</td><td>12318</td></tr><tr><td>386</td><td>2022-02-28 10:46:57</td><td>34959</td></tr><tr><td>388</td><td>2020-06-24 11:15:28</td><td>38935</td></tr><tr><td>77</td><td>2022-01-25 05:01:38</td><td>3780</td></tr><tr><td>322</td><td>2022-10-21 06:34:51</td><td>40298</td></tr><tr><td>348</td><td>2020-02-02 04:14:01</td><td>4029</td></tr><tr><td>72</td><td>2022-08-25 00:04:17</td><td>32644</td></tr><tr><td>88</td><td>2022-10-22 12:30:13</td><td>11920</td></tr><tr><td>149</td><td>2021-02-11 14:30:11</td><td>19733</td></tr><tr><td>198</td><td>2021-10-11 05:14:10</td><td>24876</td></tr><tr><td>224</td><td>2020-06-19 16:17:18</td><td>18646</td></tr><tr><td>254</td><td>2022-01-22 09:16:36</td><td>39954</td></tr><tr><td>276</td><td>2020-05-23 09:37:56</td><td>11055</td></tr><tr><td>451</td><td>2020-04-01 07:20:28</td><td>36409</td></tr><tr><td>102</td><td>2021-01-26 05:01:57</td><td>23848</td></tr><tr><td>135</td><td>2021-02-15 15:30:41</td><td>19877</td></tr><tr><td>207</td><td>2021-05-01 03:28:19</td><td>21244</td></tr><tr><td>314</td><td>2021-04-10 00:02:53</td><td>14947</td></tr><tr><td>487</td><td>2022-10-10 12:26:44</td><td>31018</td></tr><tr><td>61</td><td>2022-02-03 21:33:22</td><td>41764</td></tr><tr><td>200</td><td>2020-01-09 10:17:59</td><td>44322</td></tr><tr><td>338</td><td>2020-03-05 23:19:30</td><td>40655</td></tr><tr><td>359</td><td>2021-12-21 19:28:17</td><td>10251</td></tr><tr><td>385</td><td>2022-11-18 05:13:56</td><td>11775</td></tr><tr><td>410</td><td>2020-10-21 08:01:36</td><td>38826</td></tr><tr><td>463</td><td>2022-09-25 11:59:05</td><td>34435</td></tr><tr><td>494</td><td>2022-10-29 19:38:26</td><td>20864</td></tr><tr><td>136</td><td>2020-05-04 01:48:18</td><td>48770</td></tr><tr><td>157</td><td>2020-11-12 18:58:37</td><td>48048</td></tr><tr><td>192</td><td>2021-09-25 10:50:26</td><td>24439</td></tr><tr><td>213</td><td>2020-05-01 14:53:51</td><td>20370</td></tr><tr><td>443</td><td>2021-02-20 06:26:58</td><td>49074</td></tr><tr><td>471</td><td>2021-05-16 12:17:37</td><td>16219</td></tr><tr><td>496</td><td>2022-10-18 23:58:59</td><td>10579</td></tr><tr><td>243</td><td>2021-01-20 19:53:29</td><td>15368</td></tr><tr><td>39</td><td>2022-04-23 12:15:52</td><td>9266</td></tr><tr><td>77</td><td>2020-06-30 03:15:17</td><td>15362</td></tr><tr><td>193</td><td>2020-10-30 05:41:26</td><td>8622</td></tr><tr><td>194</td><td>2021-06-23 18:58:49</td><td>15043</td></tr><tr><td>195</td><td>2020-12-05 12:42:01</td><td>7805</td></tr><tr><td>424</td><td>2021-03-16 20:11:00</td><td>1515</td></tr><tr><td>138</td><td>2020-01-04 13:39:46</td><td>46376</td></tr><tr><td>161</td><td>2021-04-30 08:51:44</td><td>49845</td></tr><tr><td>178</td><td>2022-05-25 09:48:30</td><td>44516</td></tr><tr><td>215</td><td>2020-12-17 17:01:10</td><td>17453</td></tr><tr><td>26</td><td>2021-03-31 22:20:48</td><td>37099</td></tr><tr><td>364</td><td>2020-09-07 12:13:56</td><td>5734</td></tr><tr><td>387</td><td>2022-08-25 23:04:54</td><td>24137</td></tr><tr><td>416</td><td>2022-01-30 23:45:06</td><td>47384</td></tr><tr><td>471</td><td>2020-09-13 21:28:41</td><td>30832</td></tr><tr><td>25</td><td>2021-04-17 02:26:34</td><td>27726</td></tr><tr><td>53</td><td>2020-06-01 07:29:27</td><td>6154</td></tr><tr><td>283</td><td>2021-05-21 07:51:47</td><td>17861</td></tr><tr><td>352</td><td>2021-09-20 07:59:32</td><td>8694</td></tr><tr><td>498</td><td>2022-10-12 11:28:38</td><td>4057</td></tr><tr><td>61</td><td>2021-08-13 02:44:57</td><td>42845</td></tr><tr><td>225</td><td>2021-01-12 15:49:52</td><td>49519</td></tr><tr><td>430</td><td>2021-01-17 20:13:41</td><td>27689</td></tr><tr><td>15</td><td>2020-10-27 22:23:36</td><td>3552</td></tr><tr><td>154</td><td>2021-10-26 11:15:43</td><td>39919</td></tr><tr><td>176</td><td>2022-11-20 12:50:44</td><td>31574</td></tr><tr><td>184</td><td>2021-03-21 12:34:06</td><td>20688</td></tr><tr><td>208</td><td>2021-10-31 10:45:45</td><td>12680</td></tr><tr><td>239</td><td>2022-02-16 12:14:02</td><td>30839</td></tr><tr><td>325</td><td>2021-09-13 11:32:04</td><td>42371</td></tr><tr><td>375</td><td>2022-01-27 17:03:56</td><td>34888</td></tr><tr><td>425</td><td>2022-06-12 20:25:47</td><td>11139</td></tr><tr><td>9</td><td>2022-02-06 03:08:42</td><td>27062</td></tr><tr><td>297</td><td>2020-11-23 03:41:14</td><td>9474</td></tr><tr><td>301</td><td>2022-05-25 19:10:29</td><td>16201</td></tr><tr><td>422</td><td>2022-07-21 19:08:22</td><td>9839</td></tr><tr><td>457</td><td>2020-05-30 10:25:00</td><td>4513</td></tr><tr><td>114</td><td>2021-03-27 07:56:43</td><td>2247</td></tr><tr><td>218</td><td>2021-05-26 01:26:09</td><td>1103</td></tr><tr><td>394</td><td>2020-06-17 16:07:37</td><td>3147</td></tr><tr><td>493</td><td>2021-06-13 12:40:45</td><td>43397</td></tr><tr><td>88</td><td>2022-02-26 05:33:48</td><td>11089</td></tr><tr><td>168</td><td>2020-11-18 21:54:16</td><td>2391</td></tr><tr><td>229</td><td>2022-12-14 19:04:22</td><td>15712</td></tr><tr><td>334</td><td>2020-11-26 15:21:41</td><td>16456</td></tr><tr><td>378</td><td>2020-02-07 07:48:13</td><td>32934</td></tr><tr><td>397</td><td>2021-07-03 05:13:25</td><td>36976</td></tr><tr><td>472</td><td>2021-07-02 06:22:29</td><td>25255</td></tr><tr><td>94</td><td>2022-08-02 04:05:49</td><td>7936</td></tr><tr><td>104</td><td>2022-07-29 08:35:55</td><td>6810</td></tr><tr><td>155</td><td>2020-07-06 04:57:37</td><td>2488</td></tr><tr><td>164</td><td>2021-03-09 22:23:47</td><td>49925</td></tr><tr><td>198</td><td>2022-10-06 14:01:25</td><td>24417</td></tr><tr><td>418</td><td>2021-05-17 04:40:57</td><td>35147</td></tr><tr><td>475</td><td>2020-01-04 12:54:02</td><td>39103</td></tr><tr><td>90</td><td>2022-04-20 13:25:28</td><td>47449</td></tr><tr><td>93</td><td>2020-05-10 17:22:27</td><td>15050</td></tr><tr><td>281</td><td>2021-05-04 04:45:37</td><td>2270</td></tr><tr><td>356</td><td>2022-08-25 21:45:48</td><td>47822</td></tr><tr><td>359</td><td>2021-09-07 03:33:53</td><td>46932</td></tr><tr><td>28</td><td>2020-09-22 00:06:21</td><td>42096</td></tr><tr><td>124</td><td>2021-12-01 03:27:23</td><td>3827</td></tr><tr><td>132</td><td>2020-09-16 15:45:57</td><td>7517</td></tr><tr><td>166</td><td>2020-06-20 12:58:05</td><td>20036</td></tr><tr><td>209</td><td>2022-04-24 02:27:59</td><td>3161</td></tr><tr><td>210</td><td>2020-03-20 15:59:30</td><td>46882</td></tr><tr><td>336</td><td>2021-04-04 04:06:59</td><td>15277</td></tr><tr><td>389</td><td>2022-07-10 01:54:03</td><td>4246</td></tr><tr><td>422</td><td>2020-07-01 19:51:24</td><td>35164</td></tr><tr><td>187</td><td>2021-08-07 19:57:23</td><td>1676</td></tr><tr><td>246</td><td>2020-12-21 20:56:12</td><td>40536</td></tr><tr><td>263</td><td>2021-12-23 04:08:22</td><td>26241</td></tr><tr><td>329</td><td>2022-03-15 16:19:29</td><td>48261</td></tr><tr><td>331</td><td>2020-01-03 23:39:49</td><td>33956</td></tr><tr><td>191</td><td>2020-12-28 06:10:29</td><td>12047</td></tr><tr><td>239</td><td>2020-05-24 00:44:26</td><td>42002</td></tr><tr><td>338</td><td>2022-12-05 07:08:08</td><td>42769</td></tr><tr><td>356</td><td>2020-12-30 11:39:37</td><td>41460</td></tr><tr><td>483</td><td>2022-03-22 07:42:03</td><td>20242</td></tr><tr><td>152</td><td>2021-02-23 02:41:45</td><td>23459</td></tr><tr><td>266</td><td>2020-07-07 23:04:03</td><td>48490</td></tr><tr><td>295</td><td>2021-11-19 03:32:06</td><td>32914</td></tr><tr><td>375</td><td>2021-12-13 12:58:53</td><td>4278</td></tr><tr><td>411</td><td>2021-07-02 08:29:00</td><td>22372</td></tr></tbody></table></div>"
      ]
     },
     "metadata": {
      "application/vnd.databricks.v1+output": {
       "addedWidgets": {},
       "aggData": [],
       "aggError": "",
       "aggOverflow": false,
       "aggSchema": [],
       "aggSeriesLimitReached": false,
       "aggType": "",
       "arguments": {},
       "columnCustomDisplayInfos": {},
       "data": [
        [
         24,
         "2020-03-29 14:58:04",
         45898
        ],
        [
         118,
         "2022-03-05 05:04:34",
         15145
        ],
        [
         131,
         "2020-08-12 20:40:56",
         38154
        ],
        [
         150,
         "2021-02-07 06:09:52",
         28025
        ],
        [
         152,
         "2020-02-03 02:04:44",
         7843
        ],
        [
         164,
         "2021-10-17 15:02:42",
         49756
        ],
        [
         166,
         "2021-02-25 15:52:30",
         35460
        ],
        [
         472,
         "2020-02-15 23:08:06",
         10609
        ],
        [
         485,
         "2022-04-05 18:21:15",
         39123
        ],
        [
         66,
         "2021-04-11 10:14:12",
         31512
        ],
        [
         68,
         "2021-01-22 03:09:18",
         10485
        ],
        [
         141,
         "2020-06-13 11:54:03",
         22840
        ],
        [
         170,
         "2020-02-17 09:12:00",
         4467
        ],
        [
         195,
         "2022-05-24 15:48:58",
         21041
        ],
        [
         363,
         "2020-08-09 08:30:00",
         41502
        ],
        [
         419,
         "2020-07-27 21:08:11",
         40633
        ],
        [
         460,
         "2022-11-22 11:27:17",
         22176
        ],
        [
         96,
         "2022-04-13 05:04:14",
         13749
        ],
        [
         104,
         "2021-04-10 12:14:44",
         26298
        ],
        [
         273,
         "2021-02-24 01:56:15",
         6162
        ],
        [
         304,
         "2022-11-15 15:38:25",
         46479
        ],
        [
         342,
         "2022-03-31 18:43:11",
         26050
        ],
        [
         430,
         "2020-12-19 13:18:00",
         10661
        ],
        [
         57,
         "2020-05-10 23:57:38",
         1580
        ],
        [
         66,
         "2021-07-06 11:25:49",
         20885
        ],
        [
         127,
         "2020-07-30 13:49:48",
         29493
        ],
        [
         270,
         "2020-02-23 17:26:05",
         6985
        ],
        [
         328,
         "2022-09-10 07:16:59",
         35972
        ],
        [
         346,
         "2020-09-28 07:24:11",
         35133
        ],
        [
         365,
         "2022-02-24 09:19:54",
         3641
        ],
        [
         421,
         "2021-01-04 00:41:18",
         4441
        ],
        [
         68,
         "2022-07-02 21:45:30",
         27314
        ],
        [
         143,
         "2021-12-20 05:28:51",
         8760
        ],
        [
         158,
         "2022-08-06 03:06:40",
         30748
        ],
        [
         169,
         "2022-07-19 06:50:57",
         7533
        ],
        [
         173,
         "2022-03-05 13:56:36",
         37659
        ],
        [
         257,
         "2021-11-22 22:57:48",
         4872
        ],
        [
         365,
         "2022-02-28 09:30:22",
         15679
        ],
        [
         443,
         "2022-03-17 17:14:21",
         17120
        ],
        [
         445,
         "2020-12-15 00:44:02",
         20597
        ],
        [
         495,
         "2022-11-12 17:34:33",
         31038
        ],
        [
         63,
         "2020-06-07 09:12:16",
         29266
        ],
        [
         114,
         "2022-09-15 17:50:56",
         20946
        ],
        [
         143,
         "2022-01-24 10:31:41",
         46815
        ],
        [
         245,
         "2021-06-20 22:36:39",
         26720
        ],
        [
         384,
         "2020-11-17 02:02:20",
         48306
        ],
        [
         406,
         "2020-05-10 11:45:30",
         33643
        ],
        [
         121,
         "2020-11-02 08:49:13",
         9313
        ],
        [
         201,
         "2020-07-24 09:21:28",
         43305
        ],
        [
         297,
         "2020-03-03 23:05:42",
         11255
        ],
        [
         339,
         "2022-05-19 21:49:01",
         31946
        ],
        [
         493,
         "2022-07-27 13:31:31",
         17317
        ],
        [
         98,
         "2020-12-11 01:03:22",
         48179
        ],
        [
         152,
         "2020-06-19 03:15:44",
         37585
        ],
        [
         191,
         "2021-02-06 02:34:03",
         30411
        ],
        [
         234,
         "2021-07-12 11:36:21",
         28955
        ],
        [
         283,
         "2022-11-26 15:57:49",
         41715
        ],
        [
         292,
         "2021-09-13 13:16:55",
         14515
        ],
        [
         87,
         "2020-10-02 21:53:49",
         22128
        ],
        [
         88,
         "2020-07-12 10:42:24",
         32721
        ],
        [
         144,
         "2022-03-08 04:47:57",
         30145
        ],
        [
         203,
         "2022-07-19 18:07:29",
         35720
        ],
        [
         296,
         "2020-05-11 03:14:02",
         37042
        ],
        [
         286,
         "2021-12-14 10:14:08",
         25737
        ],
        [
         460,
         "2020-04-04 06:15:52",
         20264
        ],
        [
         482,
         "2021-08-12 06:35:12",
         16326
        ],
        [
         169,
         "2021-04-12 17:09:24",
         17459
        ],
        [
         477,
         "2020-10-29 07:57:26",
         35787
        ],
        [
         199,
         "2022-07-15 04:10:43",
         31259
        ],
        [
         229,
         "2021-09-02 16:36:43",
         32679
        ],
        [
         285,
         "2022-12-16 08:28:26",
         44332
        ],
        [
         316,
         "2020-07-02 21:53:45",
         2431
        ],
        [
         348,
         "2022-01-03 23:37:15",
         28978
        ],
        [
         374,
         "2020-08-08 23:07:39",
         23665
        ],
        [
         476,
         "2022-03-14 09:03:43",
         35699
        ],
        [
         481,
         "2020-02-10 19:32:17",
         47524
        ],
        [
         54,
         "2020-11-04 23:59:10",
         12116
        ],
        [
         146,
         "2021-06-11 03:09:52",
         5247
        ],
        [
         183,
         "2021-05-24 19:36:15",
         43238
        ],
        [
         196,
         "2022-05-14 05:12:29",
         35526
        ],
        [
         265,
         "2020-01-18 01:29:19",
         2293
        ],
        [
         409,
         "2020-03-07 04:02:46",
         49286
        ],
        [
         450,
         "2020-03-22 08:59:57",
         43862
        ],
        [
         122,
         "2021-04-21 16:38:09",
         6388
        ],
        [
         169,
         "2021-06-20 03:16:59",
         30535
        ],
        [
         190,
         "2021-11-26 10:23:00",
         25716
        ],
        [
         336,
         "2020-11-03 19:30:39",
         17987
        ],
        [
         375,
         "2021-06-01 11:39:46",
         20727
        ],
        [
         465,
         "2021-11-03 08:15:33",
         8842
        ],
        [
         483,
         "2022-06-29 04:11:24",
         18347
        ],
        [
         87,
         "2021-03-05 11:49:42",
         40691
        ],
        [
         127,
         "2020-08-11 21:00:54",
         39959
        ],
        [
         199,
         "2020-01-16 01:06:20",
         21681
        ],
        [
         203,
         "2020-03-14 21:28:51",
         12761
        ],
        [
         3,
         "2021-01-07 17:03:03",
         5189
        ],
        [
         222,
         "2021-01-13 20:36:54",
         46077
        ],
        [
         398,
         "2022-12-30 05:00:35",
         30491
        ],
        [
         45,
         "2021-06-01 11:15:13",
         34217
        ],
        [
         187,
         "2022-08-04 11:51:11",
         26377
        ],
        [
         233,
         "2020-10-11 21:38:04",
         49910
        ],
        [
         243,
         "2021-08-14 21:00:46",
         48712
        ],
        [
         259,
         "2020-09-01 15:03:49",
         18684
        ],
        [
         349,
         "2022-08-24 03:00:09",
         29455
        ],
        [
         420,
         "2022-03-11 02:30:03",
         36021
        ],
        [
         467,
         "2022-05-18 12:39:12",
         46595
        ],
        [
         143,
         "2022-03-16 18:16:21",
         36084
        ],
        [
         206,
         "2020-08-11 21:23:47",
         30696
        ],
        [
         493,
         "2022-06-10 06:30:46",
         15941
        ],
        [
         18,
         "2022-01-28 17:25:30",
         48211
        ],
        [
         32,
         "2020-03-19 20:25:58",
         2726
        ],
        [
         128,
         "2020-02-06 10:58:54",
         34975
        ],
        [
         178,
         "2020-04-09 08:28:22",
         30549
        ],
        [
         208,
         "2020-08-08 10:00:11",
         9052
        ],
        [
         487,
         "2022-06-05 08:41:37",
         33984
        ],
        [
         49,
         "2020-01-28 07:58:53",
         1014
        ],
        [
         62,
         "2021-01-25 09:46:09",
         4816
        ],
        [
         359,
         "2020-04-09 23:36:28",
         42614
        ],
        [
         437,
         "2022-05-17 19:52:10",
         43110
        ],
        [
         9,
         "2022-04-02 10:43:46",
         30029
        ],
        [
         19,
         "2021-06-22 06:50:11",
         48539
        ],
        [
         224,
         "2022-04-19 07:45:53",
         33129
        ],
        [
         144,
         "2021-06-27 03:29:34",
         38766
        ],
        [
         156,
         "2021-06-26 00:33:53",
         31496
        ],
        [
         315,
         "2020-03-16 14:31:14",
         21056
        ],
        [
         440,
         "2021-12-24 06:08:32",
         27452
        ],
        [
         19,
         "2022-04-21 07:37:29",
         5028
        ],
        [
         171,
         "2020-07-23 12:09:31",
         8062
        ],
        [
         223,
         "2022-08-17 21:27:26",
         43706
        ],
        [
         292,
         "2022-06-06 17:56:42",
         10911
        ],
        [
         58,
         "2022-03-10 12:39:12",
         44266
        ],
        [
         340,
         "2020-01-30 12:09:33",
         40716
        ],
        [
         474,
         "2021-11-03 02:46:57",
         32907
        ],
        [
         475,
         "2021-08-09 08:34:18",
         20089
        ],
        [
         19,
         "2022-09-29 03:10:08",
         43329
        ],
        [
         61,
         "2022-11-16 01:41:44",
         27232
        ],
        [
         206,
         "2020-01-12 20:20:45",
         29580
        ],
        [
         249,
         "2021-03-08 10:20:44",
         41773
        ],
        [
         342,
         "2022-09-06 00:12:25",
         21867
        ],
        [
         396,
         "2020-01-04 23:01:40",
         1131
        ],
        [
         458,
         "2021-08-17 03:17:54",
         19946
        ],
        [
         479,
         "2020-02-08 13:40:20",
         4157
        ],
        [
         251,
         "2021-07-27 11:29:32",
         49283
        ],
        [
         337,
         "2020-07-29 21:34:30",
         5562
        ],
        [
         51,
         "2020-11-27 02:34:01",
         44112
        ],
        [
         65,
         "2022-09-30 14:23:26",
         28981
        ],
        [
         135,
         "2020-09-01 09:21:01",
         5872
        ],
        [
         206,
         "2022-06-01 17:48:25",
         4040
        ],
        [
         296,
         "2022-07-04 04:33:31",
         5974
        ],
        [
         334,
         "2020-02-07 13:04:36",
         2777
        ],
        [
         2,
         "2022-07-07 04:11:23",
         7163
        ],
        [
         80,
         "2020-02-29 18:25:18",
         10367
        ],
        [
         114,
         "2020-02-26 11:46:29",
         40189
        ],
        [
         171,
         "2022-05-08 09:27:35",
         9736
        ],
        [
         193,
         "2021-06-05 04:04:25",
         10537
        ],
        [
         288,
         "2020-10-06 10:05:25",
         22686
        ],
        [
         304,
         "2020-11-19 13:35:24",
         42178
        ],
        [
         448,
         "2021-06-12 21:46:54",
         16561
        ],
        [
         225,
         "2022-06-01 15:15:24",
         38529
        ],
        [
         274,
         "2022-10-31 08:27:09",
         4386
        ],
        [
         493,
         "2022-04-30 09:02:56",
         14342
        ],
        [
         45,
         "2022-05-07 03:05:16",
         15492
        ],
        [
         60,
         "2020-01-20 06:22:56",
         37496
        ],
        [
         78,
         "2020-10-01 14:28:50",
         1214
        ],
        [
         121,
         "2022-10-27 17:31:26",
         14332
        ],
        [
         183,
         "2021-11-16 06:27:30",
         34521
        ],
        [
         288,
         "2022-05-03 22:58:12",
         22241
        ],
        [
         440,
         "2020-12-25 23:30:41",
         20445
        ],
        [
         30,
         "2021-09-23 05:50:01",
         29877
        ],
        [
         31,
         "2021-02-12 15:25:13",
         18604
        ],
        [
         44,
         "2020-02-07 01:45:12",
         17490
        ],
        [
         332,
         "2022-08-11 02:54:38",
         29915
        ],
        [
         409,
         "2022-07-03 09:57:21",
         6919
        ],
        [
         109,
         "2021-11-05 04:31:37",
         36244
        ],
        [
         233,
         "2021-07-23 19:26:52",
         32043
        ],
        [
         247,
         "2022-10-01 18:14:03",
         12488
        ],
        [
         393,
         "2021-11-01 01:53:01",
         5181
        ],
        [
         132,
         "2020-02-18 20:16:45",
         37046
        ],
        [
         244,
         "2022-09-29 19:48:11",
         16424
        ],
        [
         280,
         "2022-07-09 09:07:01",
         9994
        ],
        [
         17,
         "2021-02-03 05:00:44",
         28599
        ],
        [
         178,
         "2021-02-21 04:37:12",
         4092
        ],
        [
         213,
         "2020-03-02 05:28:54",
         32116
        ],
        [
         481,
         "2022-01-28 16:10:12",
         13433
        ],
        [
         125,
         "2022-04-18 23:36:50",
         12309
        ],
        [
         148,
         "2022-08-08 08:18:38",
         35743
        ],
        [
         185,
         "2022-06-18 00:54:00",
         32147
        ],
        [
         449,
         "2020-04-24 13:41:58",
         43780
        ],
        [
         103,
         "2021-05-15 13:03:45",
         31488
        ],
        [
         131,
         "2022-12-20 22:55:05",
         44651
        ],
        [
         209,
         "2021-10-21 07:47:44",
         45319
        ],
        [
         211,
         "2022-11-27 10:01:26",
         46288
        ],
        [
         305,
         "2021-12-21 03:25:45",
         44492
        ],
        [
         418,
         "2021-06-10 07:51:07",
         27891
        ],
        [
         461,
         "2020-04-10 18:00:46",
         20075
        ],
        [
         472,
         "2022-01-14 16:59:33",
         37354
        ],
        [
         6,
         "2020-02-01 08:32:51",
         30243
        ],
        [
         133,
         "2020-02-17 16:11:37",
         36222
        ],
        [
         305,
         "2021-05-09 03:31:51",
         8670
        ],
        [
         396,
         "2021-06-16 00:58:44",
         28354
        ],
        [
         448,
         "2022-04-04 05:32:48",
         25836
        ],
        [
         50,
         "2020-09-03 11:40:39",
         26548
        ],
        [
         56,
         "2020-02-27 18:48:27",
         34990
        ],
        [
         120,
         "2021-04-30 04:00:45",
         21048
        ],
        [
         306,
         "2021-04-24 22:26:17",
         23072
        ],
        [
         362,
         "2020-12-21 14:38:04",
         30093
        ],
        [
         386,
         "2020-12-24 07:03:43",
         30037
        ],
        [
         449,
         "2022-06-27 08:57:31",
         44667
        ],
        [
         34,
         "2022-05-21 05:10:25",
         29344
        ],
        [
         197,
         "2020-01-27 05:39:16",
         20916
        ],
        [
         412,
         "2021-06-08 21:47:17",
         25837
        ],
        [
         453,
         "2021-12-24 01:48:26",
         30664
        ],
        [
         6,
         "2022-09-22 07:13:15",
         22672
        ],
        [
         119,
         "2020-07-22 15:43:14",
         6379
        ],
        [
         381,
         "2021-05-23 07:33:08",
         36000
        ],
        [
         96,
         "2022-09-06 05:06:29",
         28072
        ],
        [
         145,
         "2020-02-15 22:56:11",
         32735
        ],
        [
         160,
         "2021-07-04 06:25:46",
         24743
        ],
        [
         276,
         "2021-01-03 00:46:26",
         22924
        ],
        [
         382,
         "2022-11-06 00:08:29",
         2099
        ],
        [
         402,
         "2020-07-22 12:48:38",
         6661
        ],
        [
         31,
         "2022-01-25 03:46:24",
         32117
        ],
        [
         101,
         "2021-11-22 03:29:48",
         21604
        ],
        [
         48,
         "2020-07-13 09:05:31",
         43714
        ],
        [
         120,
         "2020-11-10 10:17:37",
         20513
        ],
        [
         229,
         "2022-06-30 10:50:28",
         13703
        ],
        [
         417,
         "2022-01-30 14:55:38",
         9509
        ],
        [
         432,
         "2022-05-15 16:09:24",
         36149
        ],
        [
         472,
         "2022-03-23 06:52:10",
         48121
        ],
        [
         178,
         "2020-11-24 04:35:00",
         36195
        ],
        [
         307,
         "2020-06-08 23:48:27",
         18528
        ],
        [
         308,
         "2020-12-23 18:12:42",
         4611
        ],
        [
         448,
         "2021-12-14 10:36:20",
         46763
        ],
        [
         166,
         "2021-09-17 15:45:11",
         7744
        ],
        [
         295,
         "2020-08-12 18:39:30",
         38892
        ],
        [
         333,
         "2021-01-25 00:47:24",
         13969
        ],
        [
         250,
         "2020-03-23 02:21:20",
         41944
        ],
        [
         338,
         "2020-10-01 11:17:43",
         19111
        ],
        [
         400,
         "2020-03-02 22:35:59",
         12068
        ],
        [
         13,
         "2021-03-10 09:30:41",
         46773
        ],
        [
         85,
         "2020-09-15 03:10:06",
         29395
        ],
        [
         89,
         "2021-02-19 16:04:00",
         34976
        ],
        [
         147,
         "2022-02-26 11:40:27",
         44597
        ],
        [
         148,
         "2021-12-30 23:46:49",
         6672
        ],
        [
         189,
         "2020-04-12 08:30:07",
         30298
        ],
        [
         265,
         "2021-09-22 17:30:33",
         31982
        ],
        [
         291,
         "2022-08-05 06:46:09",
         22743
        ],
        [
         346,
         "2020-09-18 23:39:29",
         24016
        ],
        [
         358,
         "2020-09-02 11:40:47",
         24628
        ],
        [
         406,
         "2022-08-01 12:03:28",
         11217
        ],
        [
         1,
         "2021-10-31 02:37:40",
         33873
        ],
        [
         6,
         "2021-11-23 14:31:54",
         33987
        ],
        [
         96,
         "2021-01-02 04:56:31",
         48961
        ],
        [
         267,
         "2021-11-21 04:11:19",
         22795
        ],
        [
         285,
         "2021-10-09 20:50:22",
         46742
        ],
        [
         317,
         "2020-04-12 06:21:00",
         11784
        ],
        [
         496,
         "2020-11-22 20:00:53",
         47462
        ],
        [
         170,
         "2021-11-07 12:02:47",
         2236
        ],
        [
         206,
         "2020-06-11 10:57:01",
         10149
        ],
        [
         242,
         "2020-10-10 19:47:25",
         37983
        ],
        [
         244,
         "2020-05-24 16:19:36",
         44771
        ],
        [
         283,
         "2022-10-03 04:00:52",
         19977
        ],
        [
         421,
         "2020-04-26 09:30:11",
         11389
        ],
        [
         29,
         "2022-04-18 20:51:05",
         19117
        ],
        [
         97,
         "2021-11-02 08:33:50",
         13690
        ],
        [
         107,
         "2022-11-20 20:12:01",
         21647
        ],
        [
         244,
         "2022-05-12 15:22:38",
         40923
        ],
        [
         263,
         "2020-04-23 05:42:10",
         48939
        ],
        [
         322,
         "2020-12-14 15:01:39",
         48206
        ],
        [
         391,
         "2020-12-27 21:04:08",
         9075
        ],
        [
         223,
         "2021-07-21 04:10:51",
         38880
        ],
        [
         228,
         "2022-03-22 07:18:24",
         36271
        ],
        [
         229,
         "2020-10-01 15:41:23",
         22038
        ],
        [
         280,
         "2022-05-16 13:23:39",
         22540
        ],
        [
         290,
         "2021-06-14 22:36:06",
         47773
        ],
        [
         363,
         "2022-12-02 15:06:59",
         49005
        ],
        [
         6,
         "2022-02-03 16:36:25",
         19714
        ],
        [
         220,
         "2022-03-12 10:20:19",
         23870
        ],
        [
         300,
         "2022-02-26 14:55:53",
         40971
        ],
        [
         336,
         "2022-09-17 00:45:50",
         40494
        ],
        [
         471,
         "2020-08-18 00:08:42",
         9374
        ],
        [
         82,
         "2022-01-20 01:13:17",
         26642
        ],
        [
         204,
         "2021-06-21 19:39:37",
         45151
        ],
        [
         241,
         "2022-02-16 12:40:15",
         49114
        ],
        [
         250,
         "2020-04-27 23:05:08",
         7540
        ],
        [
         453,
         "2020-03-08 07:28:45",
         14883
        ],
        [
         43,
         "2021-11-13 12:44:55",
         4316
        ],
        [
         130,
         "2022-04-03 08:14:29",
         23292
        ],
        [
         194,
         "2022-12-07 13:09:27",
         11613
        ],
        [
         296,
         "2020-11-09 08:40:29",
         19031
        ],
        [
         304,
         "2022-11-14 18:24:55",
         45769
        ],
        [
         308,
         "2022-08-12 05:36:46",
         11694
        ],
        [
         230,
         "2021-12-09 02:56:34",
         40971
        ],
        [
         238,
         "2021-05-16 09:09:51",
         18089
        ],
        [
         259,
         "2022-04-17 12:22:04",
         37880
        ],
        [
         436,
         "2021-03-10 04:38:49",
         30247
        ],
        [
         478,
         "2020-09-14 08:54:28",
         27489
        ],
        [
         30,
         "2022-03-27 09:49:31",
         17548
        ],
        [
         98,
         "2020-06-04 04:08:59",
         35612
        ],
        [
         185,
         "2020-11-05 05:17:28",
         43223
        ],
        [
         188,
         "2022-01-26 17:10:39",
         8555
        ],
        [
         211,
         "2020-01-16 16:38:21",
         14853
        ],
        [
         359,
         "2022-07-30 09:44:28",
         24333
        ],
        [
         391,
         "2020-12-21 07:36:05",
         26362
        ],
        [
         467,
         "2022-01-27 07:00:21",
         10671
        ],
        [
         222,
         "2021-06-09 00:02:12",
         5516
        ],
        [
         243,
         "2020-04-04 07:36:43",
         41863
        ],
        [
         262,
         "2022-07-18 07:56:12",
         48355
        ],
        [
         262,
         "2022-12-05 13:12:25",
         48208
        ],
        [
         323,
         "2021-10-13 17:30:10",
         45849
        ],
        [
         418,
         "2020-02-09 13:17:42",
         6648
        ],
        [
         460,
         "2022-12-16 19:27:32",
         40908
        ],
        [
         124,
         "2022-02-23 12:11:08",
         44154
        ],
        [
         258,
         "2020-11-05 22:52:24",
         27549
        ],
        [
         362,
         "2020-12-19 05:30:13",
         34387
        ],
        [
         401,
         "2020-09-27 16:55:57",
         12562
        ],
        [
         433,
         "2020-08-31 01:47:49",
         18312
        ],
        [
         66,
         "2021-06-22 21:21:39",
         7911
        ],
        [
         119,
         "2020-07-31 03:51:10",
         6424
        ],
        [
         237,
         "2020-05-27 22:44:40",
         40230
        ],
        [
         254,
         "2020-09-16 01:02:23",
         6425
        ],
        [
         381,
         "2022-02-06 14:25:07",
         19983
        ],
        [
         430,
         "2020-11-22 00:01:48",
         25331
        ],
        [
         12,
         "2020-03-10 09:32:44",
         49350
        ],
        [
         55,
         "2020-01-01 08:14:50",
         13002
        ],
        [
         63,
         "2022-12-30 04:02:31",
         44579
        ],
        [
         91,
         "2022-04-05 16:54:48",
         21058
        ],
        [
         290,
         "2021-09-18 13:58:56",
         8942
        ],
        [
         328,
         "2021-11-29 10:45:40",
         27920
        ],
        [
         360,
         "2020-05-29 22:37:31",
         38443
        ],
        [
         167,
         "2022-03-09 20:19:19",
         8619
        ],
        [
         209,
         "2022-06-20 04:13:25",
         29081
        ],
        [
         249,
         "2021-11-17 16:52:34",
         4620
        ],
        [
         356,
         "2021-01-04 13:44:45",
         27706
        ],
        [
         359,
         "2022-09-06 22:23:14",
         37130
        ],
        [
         25,
         "2020-05-25 15:40:13",
         37971
        ],
        [
         302,
         "2021-04-02 20:43:52",
         30715
        ],
        [
         335,
         "2022-10-28 23:39:06",
         2274
        ],
        [
         368,
         "2021-03-15 05:35:45",
         39121
        ],
        [
         31,
         "2021-11-27 23:35:55",
         29835
        ],
        [
         54,
         "2020-04-14 02:21:11",
         39806
        ],
        [
         199,
         "2021-07-31 19:02:48",
         7673
        ],
        [
         315,
         "2022-05-02 19:24:27",
         40250
        ],
        [
         338,
         "2022-04-27 15:16:29",
         29775
        ],
        [
         345,
         "2022-05-15 19:47:20",
         3794
        ],
        [
         346,
         "2022-07-25 07:03:04",
         42508
        ],
        [
         494,
         "2021-03-14 21:58:26",
         46963
        ],
        [
         72,
         "2021-04-14 22:09:13",
         23877
        ],
        [
         92,
         "2021-07-05 19:56:12",
         12619
        ],
        [
         235,
         "2020-04-11 14:23:07",
         5078
        ],
        [
         245,
         "2022-04-14 08:10:19",
         27674
        ],
        [
         50,
         "2020-12-14 07:57:33",
         8924
        ],
        [
         194,
         "2020-04-22 08:01:39",
         38516
        ],
        [
         389,
         "2022-01-02 19:39:50",
         16617
        ],
        [
         400,
         "2020-05-28 18:12:43",
         27542
        ],
        [
         471,
         "2020-09-14 15:55:35",
         48228
        ],
        [
         145,
         "2022-02-10 23:12:54",
         5774
        ],
        [
         216,
         "2020-07-28 13:23:59",
         40796
        ],
        [
         340,
         "2021-04-10 06:36:45",
         42754
        ],
        [
         465,
         "2020-03-13 05:57:11",
         16264
        ],
        [
         480,
         "2020-04-05 02:00:45",
         28396
        ],
        [
         196,
         "2022-06-28 13:31:10",
         10174
        ],
        [
         263,
         "2020-03-27 21:48:49",
         40042
        ],
        [
         429,
         "2022-08-14 11:07:27",
         12138
        ],
        [
         432,
         "2021-12-23 20:34:42",
         47634
        ],
        [
         264,
         "2022-01-16 18:02:17",
         12465
        ],
        [
         264,
         "2022-05-24 04:32:14",
         19137
        ],
        [
         371,
         "2021-12-02 13:06:26",
         25770
        ],
        [
         133,
         "2021-12-06 16:53:59",
         23547
        ],
        [
         392,
         "2021-05-16 02:20:00",
         36167
        ],
        [
         446,
         "2020-03-17 05:35:39",
         5662
        ],
        [
         492,
         "2021-08-02 17:23:40",
         19146
        ],
        [
         19,
         "2020-09-03 12:02:10",
         40837
        ],
        [
         154,
         "2021-10-12 19:34:26",
         16029
        ],
        [
         305,
         "2022-01-04 21:34:54",
         28360
        ],
        [
         397,
         "2021-08-20 11:01:49",
         45937
        ],
        [
         70,
         "2021-02-08 22:07:53",
         5117
        ],
        [
         75,
         "2021-12-01 04:38:13",
         41612
        ],
        [
         151,
         "2022-02-13 00:26:44",
         22182
        ],
        [
         169,
         "2020-08-09 16:34:42",
         26160
        ],
        [
         243,
         "2022-09-27 08:03:34",
         18632
        ],
        [
         320,
         "2020-11-08 06:57:23",
         41149
        ],
        [
         405,
         "2021-09-06 02:26:17",
         5121
        ],
        [
         14,
         "2021-01-03 17:04:11",
         42398
        ],
        [
         16,
         "2021-01-09 23:15:49",
         13289
        ],
        [
         23,
         "2022-10-27 04:38:07",
         5443
        ],
        [
         23,
         "2022-11-01 18:49:01",
         48441
        ],
        [
         25,
         "2020-09-12 21:30:29",
         12029
        ],
        [
         69,
         "2020-05-22 09:09:31",
         19505
        ],
        [
         107,
         "2022-03-24 10:43:04",
         35932
        ],
        [
         132,
         "2020-09-23 16:34:39",
         31266
        ],
        [
         265,
         "2020-07-29 13:37:13",
         27281
        ],
        [
         359,
         "2020-12-21 19:24:12",
         40077
        ],
        [
         492,
         "2020-01-31 22:21:24",
         32748
        ],
        [
         48,
         "2020-09-13 03:40:43",
         7320
        ],
        [
         91,
         "2021-10-14 05:51:23",
         20255
        ],
        [
         215,
         "2021-01-29 14:51:13",
         12000
        ],
        [
         221,
         "2020-10-03 23:58:13",
         19356
        ],
        [
         272,
         "2020-07-03 03:00:18",
         30608
        ],
        [
         277,
         "2020-07-16 11:45:39",
         39514
        ],
        [
         287,
         "2022-02-20 09:49:57",
         17756
        ],
        [
         434,
         "2022-01-29 22:50:54",
         35906
        ],
        [
         444,
         "2022-06-02 10:14:46",
         45058
        ],
        [
         447,
         "2021-08-15 07:49:09",
         2278
        ],
        [
         49,
         "2020-06-01 13:20:57",
         3997
        ],
        [
         457,
         "2021-07-05 19:31:07",
         10894
        ],
        [
         469,
         "2022-03-02 19:50:53",
         25304
        ],
        [
         473,
         "2022-06-18 13:26:24",
         47036
        ],
        [
         484,
         "2021-03-02 05:44:40",
         11320
        ],
        [
         62,
         "2021-01-27 12:05:52",
         17385
        ],
        [
         132,
         "2020-04-03 03:18:21",
         1915
        ],
        [
         262,
         "2020-02-09 09:43:48",
         14480
        ],
        [
         174,
         "2020-05-08 18:22:22",
         16426
        ],
        [
         288,
         "2022-09-17 20:05:05",
         30990
        ],
        [
         344,
         "2021-05-17 14:31:48",
         15137
        ],
        [
         344,
         "2022-03-13 14:28:14",
         30233
        ],
        [
         421,
         "2020-04-07 00:33:25",
         2791
        ],
        [
         19,
         "2021-05-08 12:00:37",
         2401
        ],
        [
         109,
         "2020-02-13 02:56:26",
         39152
        ],
        [
         124,
         "2021-05-29 00:34:12",
         20165
        ],
        [
         247,
         "2020-10-10 14:07:43",
         14431
        ],
        [
         250,
         "2021-04-26 12:15:23",
         36825
        ],
        [
         412,
         "2021-06-27 02:33:32",
         32180
        ],
        [
         96,
         "2021-03-31 23:59:34",
         27042
        ],
        [
         102,
         "2020-03-11 22:20:28",
         19745
        ],
        [
         321,
         "2021-04-21 15:14:31",
         42860
        ],
        [
         323,
         "2022-01-22 22:54:18",
         1745
        ],
        [
         400,
         "2021-08-13 12:02:03",
         19534
        ],
        [
         452,
         "2021-04-04 04:42:27",
         47064
        ],
        [
         458,
         "2022-11-27 16:43:56",
         22330
        ],
        [
         32,
         "2021-04-30 15:58:51",
         9035
        ],
        [
         250,
         "2021-07-17 17:33:02",
         19738
        ],
        [
         282,
         "2022-03-10 08:39:24",
         12713
        ],
        [
         287,
         "2020-02-21 01:25:18",
         49926
        ],
        [
         343,
         "2021-05-10 05:28:01",
         38074
        ],
        [
         419,
         "2021-08-22 15:20:34",
         42669
        ],
        [
         495,
         "2020-09-28 09:34:33",
         22572
        ],
        [
         278,
         "2021-03-16 04:32:30",
         9972
        ],
        [
         433,
         "2021-05-02 01:32:36",
         15368
        ],
        [
         187,
         "2021-11-16 10:02:41",
         7349
        ],
        [
         274,
         "2020-12-13 12:22:19",
         21690
        ],
        [
         436,
         "2022-12-13 15:00:07",
         46283
        ],
        [
         454,
         "2021-08-05 01:51:51",
         16777
        ],
        [
         458,
         "2021-09-03 19:37:57",
         22568
        ],
        [
         64,
         "2021-06-15 20:35:16",
         36734
        ],
        [
         95,
         "2021-10-23 19:27:09",
         10801
        ],
        [
         165,
         "2020-11-08 23:32:32",
         16092
        ],
        [
         487,
         "2022-10-31 21:07:17",
         21827
        ],
        [
         178,
         "2022-04-29 22:08:35",
         33566
        ],
        [
         315,
         "2022-07-04 00:03:27",
         1590
        ],
        [
         316,
         "2022-01-09 01:23:44",
         9263
        ],
        [
         386,
         "2022-05-22 21:36:30",
         36892
        ],
        [
         475,
         "2020-02-08 01:35:09",
         27090
        ],
        [
         494,
         "2020-10-30 23:29:25",
         8393
        ],
        [
         20,
         "2020-12-29 13:29:18",
         32721
        ],
        [
         89,
         "2020-11-21 13:44:26",
         26256
        ],
        [
         91,
         "2020-01-13 11:27:17",
         7316
        ],
        [
         81,
         "2021-08-05 13:04:25",
         35400
        ],
        [
         193,
         "2022-06-09 23:09:35",
         37355
        ],
        [
         253,
         "2022-04-02 23:48:35",
         13667
        ],
        [
         305,
         "2022-01-26 08:32:01",
         42804
        ],
        [
         307,
         "2020-10-27 13:07:05",
         45636
        ],
        [
         312,
         "2020-06-04 10:24:08",
         40538
        ],
        [
         484,
         "2020-04-28 07:09:39",
         37231
        ],
        [
         17,
         "2020-01-28 17:13:00",
         38901
        ],
        [
         48,
         "2021-06-03 12:48:54",
         23832
        ],
        [
         137,
         "2022-10-10 15:57:03",
         5653
        ],
        [
         164,
         "2022-12-05 01:01:25",
         49668
        ],
        [
         365,
         "2021-08-23 22:55:24",
         5423
        ],
        [
         458,
         "2020-06-09 15:21:25",
         14083
        ],
        [
         169,
         "2020-05-24 15:25:19",
         33759
        ],
        [
         196,
         "2020-01-27 02:34:18",
         43053
        ],
        [
         207,
         "2020-09-02 21:51:15",
         37592
        ],
        [
         342,
         "2022-04-20 13:51:41",
         27346
        ],
        [
         436,
         "2021-12-01 09:40:09",
         5110
        ],
        [
         495,
         "2022-03-11 03:55:26",
         28331
        ],
        [
         62,
         "2022-02-16 05:19:16",
         30239
        ],
        [
         240,
         "2022-08-07 18:42:34",
         11758
        ],
        [
         280,
         "2020-01-25 00:05:57",
         4007
        ],
        [
         312,
         "2022-07-27 02:58:34",
         19609
        ],
        [
         254,
         "2022-04-16 18:21:34",
         40339
        ],
        [
         322,
         "2022-08-22 01:35:56",
         23607
        ],
        [
         331,
         "2021-07-12 01:13:54",
         42520
        ],
        [
         334,
         "2020-05-21 18:56:50",
         10689
        ],
        [
         82,
         "2020-06-26 14:36:51",
         9396
        ],
        [
         193,
         "2021-12-20 08:33:43",
         30882
        ],
        [
         230,
         "2020-07-03 22:01:17",
         45808
        ],
        [
         254,
         "2022-08-30 07:29:05",
         33920
        ],
        [
         323,
         "2022-04-15 03:58:29",
         21555
        ],
        [
         352,
         "2022-04-29 08:41:38",
         29376
        ],
        [
         443,
         "2021-10-22 20:45:03",
         2333
        ],
        [
         27,
         "2022-02-21 20:09:15",
         46635
        ],
        [
         111,
         "2021-11-29 17:47:22",
         12144
        ],
        [
         140,
         "2022-02-22 14:42:32",
         42176
        ],
        [
         183,
         "2022-12-21 04:01:06",
         38396
        ],
        [
         289,
         "2020-09-03 17:53:57",
         8808
        ],
        [
         470,
         "2021-03-06 01:48:51",
         29618
        ],
        [
         49,
         "2020-05-07 09:59:51",
         10597
        ],
        [
         293,
         "2021-05-15 04:16:19",
         6788
        ],
        [
         332,
         "2020-06-11 02:20:50",
         35923
        ],
        [
         483,
         "2021-01-05 13:05:35",
         42875
        ],
        [
         498,
         "2021-05-20 04:43:58",
         4432
        ],
        [
         182,
         "2022-10-23 05:52:15",
         15590
        ],
        [
         360,
         "2021-06-05 17:29:19",
         7651
        ],
        [
         430,
         "2022-10-03 02:43:23",
         32649
        ],
        [
         207,
         "2022-01-29 08:16:36",
         31213
        ],
        [
         192,
         "2022-10-03 10:00:45",
         20788
        ],
        [
         274,
         "2020-06-01 03:08:39",
         3144
        ],
        [
         404,
         "2021-04-09 07:13:56",
         3446
        ],
        [
         477,
         "2020-01-04 21:55:23",
         35119
        ],
        [
         204,
         "2022-12-13 17:49:53",
         13060
        ],
        [
         240,
         "2022-05-23 13:44:11",
         12260
        ],
        [
         290,
         "2021-06-19 01:51:25",
         22554
        ],
        [
         335,
         "2020-10-13 10:41:36",
         26013
        ],
        [
         347,
         "2022-06-04 01:07:58",
         5867
        ],
        [
         451,
         "2020-05-29 11:24:25",
         25157
        ],
        [
         462,
         "2021-11-24 23:36:12",
         17893
        ],
        [
         27,
         "2022-05-21 11:18:46",
         48521
        ],
        [
         136,
         "2021-11-18 00:42:29",
         34769
        ],
        [
         338,
         "2022-03-06 01:41:38",
         40354
        ],
        [
         353,
         "2020-01-20 21:17:36",
         25354
        ],
        [
         439,
         "2021-06-14 06:27:38",
         41747
        ],
        [
         468,
         "2020-03-31 23:00:13",
         33974
        ],
        [
         119,
         "2022-02-14 15:22:03",
         16361
        ],
        [
         301,
         "2021-04-08 08:04:34",
         45707
        ],
        [
         357,
         "2021-04-25 21:04:00",
         23336
        ],
        [
         453,
         "2020-07-21 22:55:22",
         27263
        ],
        [
         64,
         "2020-11-18 18:18:55",
         43477
        ],
        [
         77,
         "2022-02-16 21:03:09",
         22654
        ],
        [
         212,
         "2020-06-04 10:03:25",
         11609
        ],
        [
         281,
         "2022-09-20 19:25:08",
         21436
        ],
        [
         324,
         "2022-11-26 03:24:21",
         23823
        ],
        [
         338,
         "2022-04-20 13:30:50",
         23925
        ],
        [
         360,
         "2021-09-18 04:18:38",
         32715
        ],
        [
         419,
         "2022-01-10 00:28:28",
         37243
        ],
        [
         79,
         "2022-03-20 14:10:49",
         21744
        ],
        [
         202,
         "2020-04-03 09:49:15",
         20154
        ],
        [
         294,
         "2022-08-08 11:21:44",
         47146
        ],
        [
         366,
         "2021-01-24 21:33:09",
         10409
        ],
        [
         214,
         "2021-09-08 05:57:54",
         36183
        ],
        [
         374,
         "2021-09-06 10:20:12",
         15318
        ],
        [
         419,
         "2020-03-19 08:38:43",
         30203
        ],
        [
         422,
         "2022-04-17 13:56:18",
         27078
        ],
        [
         453,
         "2022-08-19 00:46:48",
         16904
        ],
        [
         491,
         "2022-07-23 19:20:40",
         35301
        ],
        [
         123,
         "2021-01-13 16:52:36",
         8643
        ],
        [
         243,
         "2021-11-01 11:16:49",
         23601
        ],
        [
         421,
         "2021-07-10 09:18:47",
         18551
        ],
        [
         491,
         "2021-08-28 18:19:31",
         5454
        ],
        [
         5,
         "2020-04-03 12:22:52",
         4481
        ],
        [
         6,
         "2021-03-30 17:05:39",
         48237
        ],
        [
         21,
         "2021-03-06 20:48:06",
         36693
        ],
        [
         69,
         "2021-07-02 11:51:39",
         8144
        ],
        [
         266,
         "2022-04-20 05:55:09",
         3060
        ],
        [
         70,
         "2020-02-23 03:53:07",
         37112
        ],
        [
         110,
         "2021-10-18 15:46:55",
         9904
        ],
        [
         134,
         "2021-08-17 21:58:41",
         2169
        ],
        [
         500,
         "2021-05-28 18:42:27",
         3663
        ],
        [
         237,
         "2022-11-07 23:16:52",
         13188
        ],
        [
         249,
         "2021-05-09 09:14:43",
         38451
        ],
        [
         274,
         "2022-09-23 21:11:10",
         19758
        ],
        [
         295,
         "2022-07-19 17:49:13",
         23451
        ],
        [
         345,
         "2021-01-12 15:03:19",
         28161
        ],
        [
         357,
         "2020-01-15 07:26:13",
         15089
        ],
        [
         434,
         "2020-04-01 09:32:46",
         45607
        ],
        [
         2,
         "2021-05-06 10:46:17",
         21093
        ],
        [
         148,
         "2020-07-30 06:38:07",
         4194
        ],
        [
         211,
         "2022-10-21 05:12:47",
         18737
        ],
        [
         212,
         "2022-08-30 23:42:41",
         48078
        ],
        [
         232,
         "2022-07-08 00:18:56",
         34981
        ],
        [
         350,
         "2022-02-11 17:24:41",
         30743
        ],
        [
         392,
         "2021-09-08 19:25:26",
         25037
        ],
        [
         392,
         "2022-08-03 08:29:26",
         25093
        ],
        [
         419,
         "2022-11-11 01:50:41",
         27901
        ],
        [
         433,
         "2022-08-31 09:20:30",
         12984
        ],
        [
         78,
         "2022-08-24 21:22:12",
         26619
        ],
        [
         82,
         "2022-09-30 22:52:46",
         37606
        ],
        [
         154,
         "2020-03-13 20:42:45",
         18804
        ],
        [
         177,
         "2020-12-23 04:20:28",
         2091
        ],
        [
         295,
         "2021-02-28 23:10:07",
         20581
        ],
        [
         401,
         "2021-05-14 18:55:16",
         23209
        ],
        [
         182,
         "2020-11-19 02:43:27",
         31323
        ],
        [
         253,
         "2020-07-12 04:51:28",
         34042
        ],
        [
         297,
         "2021-11-28 22:43:01",
         27638
        ],
        [
         340,
         "2022-09-06 13:55:11",
         38010
        ],
        [
         367,
         "2020-09-28 11:59:41",
         29788
        ],
        [
         440,
         "2021-07-04 10:35:27",
         16368
        ],
        [
         460,
         "2021-08-05 12:04:56",
         2163
        ],
        [
         92,
         "2022-03-14 14:52:06",
         40578
        ],
        [
         194,
         "2020-11-21 08:21:02",
         22465
        ],
        [
         264,
         "2020-11-17 09:46:17",
         22236
        ],
        [
         474,
         "2022-10-04 03:45:51",
         18833
        ],
        [
         238,
         "2020-10-19 09:44:55",
         42226
        ],
        [
         318,
         "2020-11-07 11:48:41",
         13079
        ],
        [
         377,
         "2022-01-28 07:26:05",
         34514
        ],
        [
         382,
         "2022-11-13 05:29:37",
         43487
        ],
        [
         58,
         "2020-06-15 01:01:21",
         16512
        ],
        [
         221,
         "2020-06-02 05:28:31",
         40251
        ],
        [
         256,
         "2022-08-01 20:01:56",
         35738
        ],
        [
         264,
         "2020-12-03 22:29:59",
         18260
        ],
        [
         297,
         "2021-05-25 02:03:56",
         38355
        ],
        [
         370,
         "2022-10-05 17:11:55",
         22801
        ],
        [
         11,
         "2021-02-02 01:35:34",
         40028
        ],
        [
         30,
         "2022-12-26 08:09:43",
         20405
        ],
        [
         31,
         "2022-03-31 14:03:50",
         28389
        ],
        [
         467,
         "2021-01-29 06:30:43",
         20194
        ],
        [
         487,
         "2020-03-13 03:00:19",
         6495
        ],
        [
         235,
         "2020-07-26 05:50:06",
         16489
        ],
        [
         377,
         "2020-09-14 23:56:58",
         28947
        ],
        [
         383,
         "2021-01-14 08:49:15",
         34764
        ],
        [
         385,
         "2020-09-19 14:47:13",
         12493
        ],
        [
         49,
         "2021-02-24 11:46:27",
         42239
        ],
        [
         75,
         "2021-09-28 08:47:34",
         7121
        ],
        [
         183,
         "2020-04-21 22:54:05",
         37598
        ],
        [
         408,
         "2020-10-20 05:29:37",
         31903
        ],
        [
         493,
         "2020-05-25 11:34:59",
         41695
        ],
        [
         11,
         "2022-10-17 20:24:01",
         38290
        ],
        [
         61,
         "2022-03-24 21:40:00",
         46081
        ],
        [
         164,
         "2020-11-13 22:40:51",
         18227
        ],
        [
         281,
         "2021-07-12 19:44:18",
         1650
        ],
        [
         303,
         "2021-04-05 20:33:51",
         31615
        ],
        [
         326,
         "2021-11-19 00:32:11",
         33883
        ],
        [
         161,
         "2020-05-04 19:51:55",
         35393
        ],
        [
         229,
         "2020-10-12 09:24:24",
         9388
        ],
        [
         285,
         "2020-04-11 00:00:05",
         27934
        ],
        [
         436,
         "2021-10-30 14:38:09",
         19995
        ],
        [
         135,
         "2022-09-22 10:59:02",
         14757
        ],
        [
         189,
         "2020-12-09 16:05:18",
         38556
        ],
        [
         365,
         "2021-02-24 22:32:09",
         41365
        ],
        [
         399,
         "2020-03-17 08:24:14",
         28192
        ],
        [
         447,
         "2022-04-09 15:36:09",
         39212
        ],
        [
         461,
         "2020-10-01 01:29:24",
         14288
        ],
        [
         172,
         "2021-06-18 01:06:03",
         28113
        ],
        [
         277,
         "2022-10-29 03:27:20",
         16068
        ],
        [
         444,
         "2021-07-25 03:11:00",
         46632
        ],
        [
         446,
         "2020-09-18 17:28:56",
         42158
        ],
        [
         447,
         "2021-07-17 22:46:42",
         2707
        ],
        [
         173,
         "2021-09-13 19:47:02",
         33172
        ],
        [
         204,
         "2021-10-08 05:57:35",
         6875
        ],
        [
         261,
         "2021-12-23 22:54:28",
         17621
        ],
        [
         398,
         "2020-07-30 00:52:33",
         28349
        ],
        [
         420,
         "2020-07-07 13:17:11",
         31938
        ],
        [
         24,
         "2021-07-21 14:33:35",
         37101
        ],
        [
         57,
         "2021-09-09 06:05:26",
         41662
        ],
        [
         82,
         "2020-04-10 03:27:53",
         49356
        ],
        [
         85,
         "2020-11-01 16:43:49",
         27622
        ],
        [
         169,
         "2021-08-03 08:18:32",
         10159
        ],
        [
         213,
         "2020-11-10 22:51:26",
         6004
        ],
        [
         488,
         "2020-05-25 16:40:31",
         46427
        ],
        [
         285,
         "2022-04-21 05:57:03",
         15037
        ],
        [
         425,
         "2022-03-16 10:42:08",
         30039
        ],
        [
         2,
         "2021-01-20 06:50:33",
         41092
        ],
        [
         2,
         "2022-03-17 13:15:31",
         18719
        ],
        [
         148,
         "2020-02-23 07:28:39",
         30238
        ],
        [
         152,
         "2020-11-27 14:19:09",
         36474
        ],
        [
         293,
         "2022-12-02 18:47:55",
         46352
        ],
        [
         352,
         "2020-09-28 19:12:58",
         14899
        ],
        [
         96,
         "2022-09-23 13:21:22",
         2445
        ],
        [
         132,
         "2021-07-06 01:16:15",
         41519
        ],
        [
         165,
         "2020-09-02 03:17:38",
         27133
        ],
        [
         239,
         "2021-03-31 07:36:18",
         7249
        ],
        [
         281,
         "2020-08-22 00:05:39",
         41025
        ],
        [
         320,
         "2020-05-29 11:02:02",
         18813
        ],
        [
         494,
         "2021-09-02 05:54:03",
         25531
        ],
        [
         498,
         "2020-05-06 00:38:29",
         26515
        ],
        [
         196,
         "2022-08-12 13:56:53",
         45048
        ],
        [
         270,
         "2020-12-28 23:58:53",
         6221
        ],
        [
         283,
         "2022-11-29 10:17:52",
         28025
        ],
        [
         343,
         "2020-06-16 22:58:05",
         16464
        ],
        [
         222,
         "2022-06-11 19:55:54",
         24950
        ],
        [
         441,
         "2020-11-18 20:08:57",
         26863
        ],
        [
         10,
         "2022-03-25 19:10:07",
         34327
        ],
        [
         36,
         "2020-08-10 02:44:18",
         26172
        ],
        [
         121,
         "2021-01-30 13:34:58",
         17815
        ],
        [
         134,
         "2022-01-08 08:12:23",
         31854
        ],
        [
         154,
         "2022-09-27 11:51:06",
         5770
        ],
        [
         177,
         "2022-03-06 14:54:37",
         48513
        ],
        [
         190,
         "2022-09-30 00:53:16",
         21830
        ],
        [
         214,
         "2021-05-09 19:00:54",
         3685
        ],
        [
         244,
         "2021-06-14 09:22:57",
         9005
        ],
        [
         31,
         "2020-03-04 14:24:54",
         14652
        ],
        [
         94,
         "2022-09-11 14:49:34",
         47167
        ],
        [
         113,
         "2022-04-08 06:16:31",
         37596
        ],
        [
         141,
         "2022-07-31 18:48:24",
         1352
        ],
        [
         278,
         "2021-04-29 06:42:22",
         12970
        ],
        [
         291,
         "2020-07-21 18:51:06",
         11311
        ],
        [
         333,
         "2022-08-17 00:31:38",
         27923
        ],
        [
         334,
         "2020-03-26 14:34:57",
         8273
        ],
        [
         447,
         "2020-07-16 23:57:39",
         44699
        ],
        [
         461,
         "2020-04-25 05:27:30",
         48362
        ],
        [
         391,
         "2021-05-30 18:03:04",
         26466
        ],
        [
         409,
         "2020-02-02 07:47:59",
         17212
        ],
        [
         47,
         "2022-12-04 07:24:10",
         12172
        ],
        [
         119,
         "2020-12-03 17:47:41",
         20266
        ],
        [
         357,
         "2020-06-24 20:39:32",
         10764
        ],
        [
         365,
         "2020-09-27 04:42:58",
         45374
        ],
        [
         406,
         "2021-12-06 18:52:00",
         46605
        ],
        [
         18,
         "2020-08-22 18:06:20",
         46209
        ],
        [
         50,
         "2020-10-18 15:10:09",
         4143
        ],
        [
         135,
         "2020-11-06 02:36:58",
         34676
        ],
        [
         187,
         "2021-09-14 12:10:32",
         23041
        ],
        [
         435,
         "2020-08-20 22:45:22",
         17978
        ],
        [
         444,
         "2020-10-04 22:02:20",
         27651
        ],
        [
         28,
         "2020-09-24 03:03:26",
         24907
        ],
        [
         234,
         "2022-10-16 13:37:44",
         48135
        ],
        [
         272,
         "2022-07-23 23:38:51",
         6938
        ],
        [
         336,
         "2020-01-01 05:24:41",
         16965
        ],
        [
         492,
         "2022-03-27 19:32:54",
         35159
        ],
        [
         111,
         "2020-11-06 04:34:14",
         3135
        ],
        [
         129,
         "2021-06-04 05:18:26",
         23522
        ],
        [
         149,
         "2022-09-20 10:07:05",
         48685
        ],
        [
         317,
         "2022-02-23 10:49:28",
         38444
        ],
        [
         445,
         "2022-07-14 21:20:24",
         25144
        ],
        [
         461,
         "2022-04-18 12:35:30",
         43759
        ],
        [
         484,
         "2021-08-25 19:08:20",
         42486
        ],
        [
         87,
         "2022-03-16 22:43:00",
         35922
        ],
        [
         243,
         "2020-02-25 20:55:41",
         3672
        ],
        [
         7,
         "2021-06-05 04:25:56",
         16685
        ],
        [
         47,
         "2022-04-17 19:15:52",
         2341
        ],
        [
         153,
         "2020-03-28 04:58:18",
         4215
        ],
        [
         355,
         "2020-08-13 01:05:18",
         2243
        ],
        [
         404,
         "2021-05-18 03:28:42",
         8084
        ],
        [
         264,
         "2022-08-15 09:37:53",
         20730
        ],
        [
         281,
         "2022-01-24 08:19:39",
         22265
        ],
        [
         413,
         "2020-03-26 01:47:36",
         20663
        ],
        [
         266,
         "2021-10-02 17:46:14",
         15838
        ],
        [
         330,
         "2020-11-15 12:16:14",
         2774
        ],
        [
         31,
         "2021-03-13 00:39:51",
         7761
        ],
        [
         72,
         "2020-12-31 09:20:04",
         1389
        ],
        [
         362,
         "2020-07-20 04:33:27",
         33327
        ],
        [
         377,
         "2021-11-18 04:50:49",
         44513
        ],
        [
         59,
         "2022-07-25 13:09:29",
         28109
        ],
        [
         175,
         "2022-08-26 17:00:58",
         16495
        ],
        [
         262,
         "2021-07-25 12:09:00",
         6754
        ],
        [
         297,
         "2020-11-12 01:39:42",
         4465
        ],
        [
         446,
         "2022-08-24 08:23:20",
         42544
        ],
        [
         29,
         "2022-11-11 00:07:03",
         27646
        ],
        [
         212,
         "2020-03-05 22:04:59",
         20772
        ],
        [
         309,
         "2021-08-24 17:15:40",
         11453
        ],
        [
         437,
         "2020-07-19 13:50:34",
         1783
        ],
        [
         43,
         "2021-11-04 10:35:28",
         22209
        ],
        [
         55,
         "2022-11-19 07:27:49",
         33018
        ],
        [
         130,
         "2020-03-13 15:12:56",
         17291
        ],
        [
         286,
         "2020-09-09 04:15:17",
         23886
        ],
        [
         447,
         "2020-06-17 12:46:19",
         2988
        ],
        [
         214,
         "2021-12-08 10:07:14",
         4134
        ],
        [
         365,
         "2020-04-11 07:54:17",
         1634
        ],
        [
         418,
         "2020-07-18 15:49:18",
         10177
        ],
        [
         191,
         "2021-04-13 16:33:06",
         11173
        ],
        [
         356,
         "2021-02-27 18:22:12",
         24633
        ],
        [
         362,
         "2022-11-19 20:07:15",
         8904
        ],
        [
         478,
         "2022-03-26 22:14:01",
         10776
        ],
        [
         487,
         "2022-12-29 12:18:37",
         46297
        ],
        [
         65,
         "2022-01-25 09:26:43",
         45706
        ],
        [
         123,
         "2022-05-04 07:45:14",
         19732
        ],
        [
         159,
         "2020-09-08 09:05:52",
         16664
        ],
        [
         191,
         "2020-05-28 01:32:32",
         42927
        ],
        [
         193,
         "2020-05-17 11:02:12",
         32617
        ],
        [
         329,
         "2022-05-06 02:44:30",
         11629
        ],
        [
         351,
         "2020-04-27 18:34:08",
         19200
        ],
        [
         484,
         "2020-12-08 06:14:43",
         41873
        ],
        [
         67,
         "2021-09-15 09:26:05",
         47962
        ],
        [
         349,
         "2020-06-27 06:49:18",
         17444
        ],
        [
         408,
         "2021-04-06 12:35:47",
         41631
        ],
        [
         93,
         "2020-12-19 17:20:05",
         31225
        ],
        [
         153,
         "2020-07-09 14:12:36",
         11175
        ],
        [
         232,
         "2021-12-19 13:43:48",
         20020
        ],
        [
         265,
         "2020-12-07 20:39:45",
         47748
        ],
        [
         359,
         "2021-03-08 13:16:39",
         30708
        ],
        [
         370,
         "2021-12-05 08:44:51",
         37757
        ],
        [
         470,
         "2022-10-15 21:28:30",
         15129
        ],
        [
         367,
         "2020-01-06 07:37:37",
         14046
        ],
        [
         142,
         "2021-09-14 10:32:06",
         24815
        ],
        [
         239,
         "2020-11-25 12:20:33",
         10468
        ],
        [
         311,
         "2020-08-28 23:08:38",
         28736
        ],
        [
         381,
         "2020-05-04 21:15:58",
         23077
        ],
        [
         70,
         "2020-02-14 06:21:11",
         18273
        ],
        [
         98,
         "2021-01-03 10:54:44",
         26668
        ],
        [
         286,
         "2020-07-13 13:28:22",
         32281
        ],
        [
         437,
         "2022-02-04 02:58:25",
         22873
        ],
        [
         71,
         "2022-03-03 11:07:44",
         31557
        ],
        [
         134,
         "2022-06-16 23:43:37",
         23136
        ],
        [
         137,
         "2021-07-10 16:57:01",
         23406
        ],
        [
         152,
         "2022-09-06 10:18:46",
         35603
        ],
        [
         298,
         "2020-09-18 21:52:25",
         18986
        ],
        [
         343,
         "2022-05-21 05:51:24",
         44040
        ],
        [
         445,
         "2021-03-07 21:56:40",
         38649
        ],
        [
         448,
         "2021-02-28 05:58:51",
         47054
        ],
        [
         289,
         "2022-03-19 02:24:16",
         30253
        ],
        [
         485,
         "2021-04-04 02:10:49",
         43671
        ],
        [
         190,
         "2022-10-27 15:04:56",
         17819
        ],
        [
         225,
         "2021-04-19 09:06:08",
         32951
        ],
        [
         392,
         "2021-05-28 06:16:42",
         30140
        ],
        [
         320,
         "2022-10-14 22:53:08",
         6912
        ],
        [
         463,
         "2020-05-23 08:44:26",
         32176
        ],
        [
         475,
         "2021-06-13 01:42:28",
         46236
        ],
        [
         62,
         "2022-12-16 08:57:45",
         6545
        ],
        [
         77,
         "2021-04-19 19:39:33",
         20338
        ],
        [
         140,
         "2021-11-10 19:14:53",
         38798
        ],
        [
         169,
         "2021-07-28 06:58:30",
         35161
        ],
        [
         197,
         "2020-06-02 20:05:14",
         24619
        ],
        [
         324,
         "2020-07-28 20:01:11",
         15730
        ],
        [
         462,
         "2021-03-11 19:30:21",
         3385
        ],
        [
         29,
         "2022-11-15 00:52:44",
         16492
        ],
        [
         125,
         "2021-08-11 01:23:06",
         31427
        ],
        [
         135,
         "2021-11-13 12:02:37",
         39933
        ],
        [
         164,
         "2021-10-10 17:01:31",
         45757
        ],
        [
         209,
         "2022-05-21 21:22:39",
         26623
        ],
        [
         304,
         "2021-05-13 19:51:27",
         26660
        ],
        [
         383,
         "2022-03-03 01:46:20",
         2445
        ],
        [
         161,
         "2020-10-10 21:02:39",
         15468
        ],
        [
         328,
         "2021-08-01 06:43:01",
         18144
        ],
        [
         20,
         "2022-04-25 08:04:25",
         11656
        ],
        [
         57,
         "2022-11-03 11:22:05",
         49306
        ],
        [
         111,
         "2021-05-21 19:03:13",
         45601
        ],
        [
         187,
         "2020-11-15 21:52:15",
         33487
        ],
        [
         199,
         "2020-11-16 22:09:21",
         5330
        ],
        [
         208,
         "2020-08-02 05:10:08",
         10853
        ],
        [
         346,
         "2022-02-22 02:31:07",
         37469
        ],
        [
         434,
         "2021-12-09 18:02:16",
         37022
        ],
        [
         459,
         "2020-07-09 21:53:41",
         47807
        ],
        [
         474,
         "2021-07-25 06:03:16",
         19320
        ],
        [
         37,
         "2020-08-13 14:35:13",
         38845
        ],
        [
         108,
         "2020-02-08 13:28:53",
         38431
        ],
        [
         128,
         "2020-06-17 14:22:01",
         27687
        ],
        [
         164,
         "2022-10-25 20:01:19",
         2730
        ],
        [
         247,
         "2020-04-10 18:35:19",
         20096
        ],
        [
         275,
         "2022-02-27 02:53:07",
         26510
        ],
        [
         456,
         "2020-08-26 05:31:21",
         30141
        ],
        [
         41,
         "2020-03-24 21:46:40",
         1949
        ],
        [
         68,
         "2020-02-25 11:54:40",
         18762
        ],
        [
         125,
         "2021-04-15 00:38:28",
         32900
        ],
        [
         164,
         "2021-07-31 12:05:47",
         1728
        ],
        [
         183,
         "2020-09-20 15:03:50",
         26671
        ],
        [
         195,
         "2022-06-20 03:24:28",
         35207
        ],
        [
         246,
         "2022-02-01 15:19:30",
         2796
        ],
        [
         60,
         "2020-09-12 18:02:21",
         28694
        ],
        [
         105,
         "2021-09-30 19:37:53",
         23650
        ],
        [
         208,
         "2020-04-29 17:17:07",
         6585
        ],
        [
         358,
         "2022-01-28 04:46:26",
         5305
        ],
        [
         411,
         "2021-04-16 17:17:02",
         4360
        ],
        [
         59,
         "2022-11-26 23:24:35",
         33203
        ],
        [
         161,
         "2022-09-16 04:59:30",
         39724
        ],
        [
         213,
         "2020-07-25 15:58:31",
         7830
        ],
        [
         292,
         "2020-04-25 06:30:36",
         31880
        ],
        [
         335,
         "2020-02-02 07:36:13",
         47241
        ],
        [
         346,
         "2020-12-19 07:29:36",
         30368
        ],
        [
         386,
         "2020-07-27 08:06:34",
         45965
        ],
        [
         386,
         "2021-06-13 15:36:08",
         12443
        ],
        [
         205,
         "2020-11-10 22:04:53",
         25134
        ],
        [
         211,
         "2022-10-20 14:59:53",
         16787
        ],
        [
         314,
         "2021-01-18 03:27:56",
         19399
        ],
        [
         482,
         "2021-08-12 05:07:12",
         30849
        ],
        [
         496,
         "2021-02-06 07:05:24",
         3831
        ],
        [
         84,
         "2020-05-23 03:50:47",
         18071
        ],
        [
         167,
         "2020-07-26 05:45:26",
         32694
        ],
        [
         219,
         "2020-06-13 23:22:44",
         3193
        ],
        [
         354,
         "2022-04-25 17:00:42",
         42364
        ],
        [
         406,
         "2022-05-31 04:30:27",
         4840
        ],
        [
         496,
         "2021-03-08 20:34:35",
         7988
        ],
        [
         11,
         "2020-03-29 20:17:01",
         24672
        ],
        [
         113,
         "2021-08-07 22:01:41",
         45029
        ],
        [
         207,
         "2021-02-10 13:15:33",
         36788
        ],
        [
         283,
         "2020-05-02 15:26:52",
         48221
        ],
        [
         27,
         "2021-12-14 06:55:00",
         41235
        ],
        [
         186,
         "2021-04-17 06:22:54",
         33292
        ],
        [
         228,
         "2021-07-04 13:27:35",
         36314
        ],
        [
         228,
         "2021-09-16 06:42:06",
         13154
        ],
        [
         383,
         "2020-05-08 12:04:34",
         18791
        ],
        [
         478,
         "2021-12-05 02:20:31",
         43102
        ],
        [
         9,
         "2022-11-22 16:35:02",
         5518
        ],
        [
         243,
         "2020-11-14 10:44:04",
         33189
        ],
        [
         314,
         "2020-10-13 20:09:12",
         38930
        ],
        [
         17,
         "2020-03-19 22:31:51",
         30661
        ],
        [
         291,
         "2020-08-02 20:19:15",
         8458
        ],
        [
         368,
         "2021-10-14 03:45:21",
         9455
        ],
        [
         371,
         "2021-12-09 02:32:24",
         31180
        ],
        [
         50,
         "2020-02-15 15:20:22",
         37207
        ],
        [
         245,
         "2022-06-29 18:53:50",
         27049
        ],
        [
         320,
         "2021-07-10 01:49:06",
         12318
        ],
        [
         386,
         "2022-02-28 10:46:57",
         34959
        ],
        [
         388,
         "2020-06-24 11:15:28",
         38935
        ],
        [
         77,
         "2022-01-25 05:01:38",
         3780
        ],
        [
         322,
         "2022-10-21 06:34:51",
         40298
        ],
        [
         348,
         "2020-02-02 04:14:01",
         4029
        ],
        [
         72,
         "2022-08-25 00:04:17",
         32644
        ],
        [
         88,
         "2022-10-22 12:30:13",
         11920
        ],
        [
         149,
         "2021-02-11 14:30:11",
         19733
        ],
        [
         198,
         "2021-10-11 05:14:10",
         24876
        ],
        [
         224,
         "2020-06-19 16:17:18",
         18646
        ],
        [
         254,
         "2022-01-22 09:16:36",
         39954
        ],
        [
         276,
         "2020-05-23 09:37:56",
         11055
        ],
        [
         451,
         "2020-04-01 07:20:28",
         36409
        ],
        [
         102,
         "2021-01-26 05:01:57",
         23848
        ],
        [
         135,
         "2021-02-15 15:30:41",
         19877
        ],
        [
         207,
         "2021-05-01 03:28:19",
         21244
        ],
        [
         314,
         "2021-04-10 00:02:53",
         14947
        ],
        [
         487,
         "2022-10-10 12:26:44",
         31018
        ],
        [
         61,
         "2022-02-03 21:33:22",
         41764
        ],
        [
         200,
         "2020-01-09 10:17:59",
         44322
        ],
        [
         338,
         "2020-03-05 23:19:30",
         40655
        ],
        [
         359,
         "2021-12-21 19:28:17",
         10251
        ],
        [
         385,
         "2022-11-18 05:13:56",
         11775
        ],
        [
         410,
         "2020-10-21 08:01:36",
         38826
        ],
        [
         463,
         "2022-09-25 11:59:05",
         34435
        ],
        [
         494,
         "2022-10-29 19:38:26",
         20864
        ],
        [
         136,
         "2020-05-04 01:48:18",
         48770
        ],
        [
         157,
         "2020-11-12 18:58:37",
         48048
        ],
        [
         192,
         "2021-09-25 10:50:26",
         24439
        ],
        [
         213,
         "2020-05-01 14:53:51",
         20370
        ],
        [
         443,
         "2021-02-20 06:26:58",
         49074
        ],
        [
         471,
         "2021-05-16 12:17:37",
         16219
        ],
        [
         496,
         "2022-10-18 23:58:59",
         10579
        ],
        [
         243,
         "2021-01-20 19:53:29",
         15368
        ],
        [
         39,
         "2022-04-23 12:15:52",
         9266
        ],
        [
         77,
         "2020-06-30 03:15:17",
         15362
        ],
        [
         193,
         "2020-10-30 05:41:26",
         8622
        ],
        [
         194,
         "2021-06-23 18:58:49",
         15043
        ],
        [
         195,
         "2020-12-05 12:42:01",
         7805
        ],
        [
         424,
         "2021-03-16 20:11:00",
         1515
        ],
        [
         138,
         "2020-01-04 13:39:46",
         46376
        ],
        [
         161,
         "2021-04-30 08:51:44",
         49845
        ],
        [
         178,
         "2022-05-25 09:48:30",
         44516
        ],
        [
         215,
         "2020-12-17 17:01:10",
         17453
        ],
        [
         26,
         "2021-03-31 22:20:48",
         37099
        ],
        [
         364,
         "2020-09-07 12:13:56",
         5734
        ],
        [
         387,
         "2022-08-25 23:04:54",
         24137
        ],
        [
         416,
         "2022-01-30 23:45:06",
         47384
        ],
        [
         471,
         "2020-09-13 21:28:41",
         30832
        ],
        [
         25,
         "2021-04-17 02:26:34",
         27726
        ],
        [
         53,
         "2020-06-01 07:29:27",
         6154
        ],
        [
         283,
         "2021-05-21 07:51:47",
         17861
        ],
        [
         352,
         "2021-09-20 07:59:32",
         8694
        ],
        [
         498,
         "2022-10-12 11:28:38",
         4057
        ],
        [
         61,
         "2021-08-13 02:44:57",
         42845
        ],
        [
         225,
         "2021-01-12 15:49:52",
         49519
        ],
        [
         430,
         "2021-01-17 20:13:41",
         27689
        ],
        [
         15,
         "2020-10-27 22:23:36",
         3552
        ],
        [
         154,
         "2021-10-26 11:15:43",
         39919
        ],
        [
         176,
         "2022-11-20 12:50:44",
         31574
        ],
        [
         184,
         "2021-03-21 12:34:06",
         20688
        ],
        [
         208,
         "2021-10-31 10:45:45",
         12680
        ],
        [
         239,
         "2022-02-16 12:14:02",
         30839
        ],
        [
         325,
         "2021-09-13 11:32:04",
         42371
        ],
        [
         375,
         "2022-01-27 17:03:56",
         34888
        ],
        [
         425,
         "2022-06-12 20:25:47",
         11139
        ],
        [
         9,
         "2022-02-06 03:08:42",
         27062
        ],
        [
         297,
         "2020-11-23 03:41:14",
         9474
        ],
        [
         301,
         "2022-05-25 19:10:29",
         16201
        ],
        [
         422,
         "2022-07-21 19:08:22",
         9839
        ],
        [
         457,
         "2020-05-30 10:25:00",
         4513
        ],
        [
         114,
         "2021-03-27 07:56:43",
         2247
        ],
        [
         218,
         "2021-05-26 01:26:09",
         1103
        ],
        [
         394,
         "2020-06-17 16:07:37",
         3147
        ],
        [
         493,
         "2021-06-13 12:40:45",
         43397
        ],
        [
         88,
         "2022-02-26 05:33:48",
         11089
        ],
        [
         168,
         "2020-11-18 21:54:16",
         2391
        ],
        [
         229,
         "2022-12-14 19:04:22",
         15712
        ],
        [
         334,
         "2020-11-26 15:21:41",
         16456
        ],
        [
         378,
         "2020-02-07 07:48:13",
         32934
        ],
        [
         397,
         "2021-07-03 05:13:25",
         36976
        ],
        [
         472,
         "2021-07-02 06:22:29",
         25255
        ],
        [
         94,
         "2022-08-02 04:05:49",
         7936
        ],
        [
         104,
         "2022-07-29 08:35:55",
         6810
        ],
        [
         155,
         "2020-07-06 04:57:37",
         2488
        ],
        [
         164,
         "2021-03-09 22:23:47",
         49925
        ],
        [
         198,
         "2022-10-06 14:01:25",
         24417
        ],
        [
         418,
         "2021-05-17 04:40:57",
         35147
        ],
        [
         475,
         "2020-01-04 12:54:02",
         39103
        ],
        [
         90,
         "2022-04-20 13:25:28",
         47449
        ],
        [
         93,
         "2020-05-10 17:22:27",
         15050
        ],
        [
         281,
         "2021-05-04 04:45:37",
         2270
        ],
        [
         356,
         "2022-08-25 21:45:48",
         47822
        ],
        [
         359,
         "2021-09-07 03:33:53",
         46932
        ],
        [
         28,
         "2020-09-22 00:06:21",
         42096
        ],
        [
         124,
         "2021-12-01 03:27:23",
         3827
        ],
        [
         132,
         "2020-09-16 15:45:57",
         7517
        ],
        [
         166,
         "2020-06-20 12:58:05",
         20036
        ],
        [
         209,
         "2022-04-24 02:27:59",
         3161
        ],
        [
         210,
         "2020-03-20 15:59:30",
         46882
        ],
        [
         336,
         "2021-04-04 04:06:59",
         15277
        ],
        [
         389,
         "2022-07-10 01:54:03",
         4246
        ],
        [
         422,
         "2020-07-01 19:51:24",
         35164
        ],
        [
         187,
         "2021-08-07 19:57:23",
         1676
        ],
        [
         246,
         "2020-12-21 20:56:12",
         40536
        ],
        [
         263,
         "2021-12-23 04:08:22",
         26241
        ],
        [
         329,
         "2022-03-15 16:19:29",
         48261
        ],
        [
         331,
         "2020-01-03 23:39:49",
         33956
        ],
        [
         191,
         "2020-12-28 06:10:29",
         12047
        ],
        [
         239,
         "2020-05-24 00:44:26",
         42002
        ],
        [
         338,
         "2022-12-05 07:08:08",
         42769
        ],
        [
         356,
         "2020-12-30 11:39:37",
         41460
        ],
        [
         483,
         "2022-03-22 07:42:03",
         20242
        ],
        [
         152,
         "2021-02-23 02:41:45",
         23459
        ],
        [
         266,
         "2020-07-07 23:04:03",
         48490
        ],
        [
         295,
         "2021-11-19 03:32:06",
         32914
        ],
        [
         375,
         "2021-12-13 12:58:53",
         4278
        ],
        [
         411,
         "2021-07-02 08:29:00",
         22372
        ]
       ],
       "datasetInfos": [],
       "dbfsResultPath": null,
       "isJsonSchema": true,
       "metadata": {},
       "overflow": false,
       "plotOptions": {
        "customPlotOptions": {},
        "displayType": "table",
        "pivotAggregation": null,
        "pivotColumns": null,
        "xColumns": null,
        "yColumns": null
       },
       "removedWidgets": [],
       "schema": [
        {
         "metadata": "{}",
         "name": "customer_id",
         "type": "\"long\""
        },
        {
         "metadata": "{}",
         "name": "updt_ts",
         "type": "\"string\""
        },
        {
         "metadata": "{}",
         "name": "latest_balance",
         "type": "\"long\""
        }
       ],
       "type": "table"
      }
     },
     "output_type": "display_data"
    }
   ],
   "source": [
    "# Create a Gold table for customer balance over time\n",
    "customer_balance = silver_df.groupBy(\"customer_id\", \"updt_ts\").agg(\n",
    "    last(\"initial_balance\").alias(\"latest_balance\")\n",
    ")\n",
    "\n",
    "# Save the customer balance data to Gold layer\n",
    "customer_balance.write.format(\"delta\").mode(\"overwrite\").save(\"/mnt/gold/customer_balance\")\n",
    "\n",
    "display(customer_balance)"
   ]
  },
  {
   "cell_type": "code",
   "execution_count": 0,
   "metadata": {
    "application/vnd.databricks.v1+cell": {
     "cellMetadata": {
      "byteLimit": 2048000,
      "rowLimit": 10000
     },
     "inputWidgets": {},
     "nuid": "99aead24-12c6-4eb6-8e5d-b75ceac038b8",
     "showTitle": false,
     "title": ""
    }
   },
   "outputs": [
    {
     "output_type": "display_data",
     "data": {
      "text/html": [
       "<style scoped>\n",
       "  .table-result-container {\n",
       "    max-height: 300px;\n",
       "    overflow: auto;\n",
       "  }\n",
       "  table, th, td {\n",
       "    border: 1px solid black;\n",
       "    border-collapse: collapse;\n",
       "  }\n",
       "  th, td {\n",
       "    padding: 5px;\n",
       "  }\n",
       "  th {\n",
       "    text-align: left;\n",
       "  }\n",
       "</style><div class='table-result-container'><table class='table-result'><thead style='background-color: white'><tr><th>customer_id</th><th>total_scheduled_payments</th></tr></thead><tbody><tr><td>26</td><td>5568</td></tr><tr><td>29</td><td>11080</td></tr><tr><td>474</td><td>8178</td></tr><tr><td>65</td><td>11422</td></tr><tr><td>191</td><td>23250</td></tr><tr><td>418</td><td>22951</td></tr><tr><td>222</td><td>13582</td></tr><tr><td>270</td><td>10968</td></tr><tr><td>293</td><td>8144</td></tr><tr><td>243</td><td>39825</td></tr><tr><td>278</td><td>14811</td></tr><tr><td>367</td><td>18528</td></tr><tr><td>19</td><td>25922</td></tr><tr><td>54</td><td>13523</td></tr><tr><td>296</td><td>9866</td></tr><tr><td>277</td><td>2243</td></tr><tr><td>287</td><td>4027</td></tr><tr><td>348</td><td>15467</td></tr><tr><td>113</td><td>14351</td></tr><tr><td>155</td><td>2976</td></tr><tr><td>167</td><td>17267</td></tr><tr><td>385</td><td>12323</td></tr><tr><td>237</td><td>10565</td></tr><tr><td>241</td><td>7199</td></tr><tr><td>347</td><td>32</td></tr><tr><td>198</td><td>9213</td></tr><tr><td>330</td><td>2950</td></tr><tr><td>130</td><td>3996</td></tr><tr><td>196</td><td>15148</td></tr><tr><td>487</td><td>29741</td></tr><tr><td>7</td><td>2677</td></tr><tr><td>77</td><td>15893</td></tr><tr><td>34</td><td>7932</td></tr><tr><td>184</td><td>9467</td></tr><tr><td>463</td><td>4000</td></tr><tr><td>188</td><td>1495</td></tr><tr><td>399</td><td>1328</td></tr><tr><td>202</td><td>1008</td></tr><tr><td>228</td><td>7202</td></tr><tr><td>274</td><td>21648</td></tr><tr><td>262</td><td>8770</td></tr><tr><td>325</td><td>8986</td></tr><tr><td>406</td><td>25863</td></tr><tr><td>50</td><td>20234</td></tr><tr><td>94</td><td>14194</td></tr><tr><td>149</td><td>14866</td></tr><tr><td>421</td><td>24815</td></tr><tr><td>264</td><td>24126</td></tr><tr><td>229</td><td>22546</td></tr><tr><td>110</td><td>2618</td></tr><tr><td>190</td><td>19207</td></tr><tr><td>275</td><td>7721</td></tr><tr><td>343</td><td>10142</td></tr><tr><td>439</td><td>2646</td></tr><tr><td>57</td><td>9592</td></tr><tr><td>136</td><td>2304</td></tr><tr><td>144</td><td>3109</td></tr><tr><td>388</td><td>9750</td></tr><tr><td>412</td><td>6643</td></tr><tr><td>417</td><td>7652</td></tr><tr><td>32</td><td>5381</td></tr><tr><td>43</td><td>9472</td></tr><tr><td>420</td><td>8235</td></tr><tr><td>84</td><td>9395</td></tr><tr><td>378</td><td>8868</td></tr><tr><td>212</td><td>7675</td></tr><tr><td>31</td><td>36078</td></tr><tr><td>119</td><td>15864</td></tr><tr><td>326</td><td>8487</td></tr><tr><td>386</td><td>20366</td></tr><tr><td>450</td><td>2356</td></tr><tr><td>39</td><td>432</td></tr><tr><td>98</td><td>14903</td></tr><tr><td>187</td><td>25855</td></tr><tr><td>496</td><td>19338</td></tr><tr><td>201</td><td>4775</td></tr><tr><td>232</td><td>8653</td></tr><tr><td>402</td><td>2471</td></tr><tr><td>203</td><td>9628</td></tr><tr><td>145</td><td>9376</td></tr><tr><td>488</td><td>2761</td></tr><tr><td>25</td><td>19179</td></tr><tr><td>157</td><td>3917</td></tr><tr><td>124</td><td>5796</td></tr><tr><td>363</td><td>15539</td></tr><tr><td>95</td><td>4485</td></tr><tr><td>413</td><td>7335</td></tr><tr><td>71</td><td>8395</td></tr><tr><td>143</td><td>15382</td></tr><tr><td>370</td><td>10634</td></tr><tr><td>161</td><td>13468</td></tr><tr><td>193</td><td>21306</td></tr><tr><td>365</td><td>26770</td></tr><tr><td>443</td><td>17333</td></tr><tr><td>6</td><td>21078</td></tr><tr><td>68</td><td>18793</td></tr><tr><td>342</td><td>14885</td></tr><tr><td>72</td><td>10353</td></tr><tr><td>87</td><td>12004</td></tr><tr><td>215</td><td>13241</td></tr><tr><td>58</td><td>9629</td></tr><tr><td>258</td><td>3722</td></tr><tr><td>320</td><td>14722</td></tr><tr><td>107</td><td>5943</td></tr><tr><td>221</td><td>4016</td></tr><tr><td>266</td><td>15410</td></tr><tr><td>424</td><td>3348</td></tr><tr><td>9</td><td>18682</td></tr><tr><td>316</td><td>9612</td></tr><tr><td>27</td><td>11578</td></tr><tr><td>63</td><td>8128</td></tr><tr><td>158</td><td>4780</td></tr><tr><td>389</td><td>15845</td></tr><tr><td>397</td><td>12580</td></tr><tr><td>447</td><td>10877</td></tr><tr><td>51</td><td>6438</td></tr><tr><td>56</td><td>1761</td></tr><tr><td>178</td><td>29628</td></tr><tr><td>353</td><td>1439</td></tr><tr><td>234</td><td>15308</td></tr><tr><td>239</td><td>24652</td></tr><tr><td>150</td><td>5626</td></tr><tr><td>146</td><td>2493</td></tr><tr><td>346</td><td>24543</td></tr><tr><td>446</td><td>5832</td></tr><tr><td>459</td><td>6678</td></tr><tr><td>174</td><td>6654</td></tr><tr><td>17</td><td>12366</td></tr><tr><td>79</td><td>2961</td></tr><tr><td>170</td><td>16675</td></tr><tr><td>209</td><td>11517</td></tr><tr><td>103</td><td>9134</td></tr><tr><td>253</td><td>6940</td></tr><tr><td>276</td><td>12394</td></tr><tr><td>246</td><td>8357</td></tr><tr><td>242</td><td>9357</td></tr><tr><td>430</td><td>26265</td></tr><tr><td>453</td><td>25751</td></tr><tr><td>41</td><td>5034</td></tr><tr><td>28</td><td>10749</td></tr><tr><td>88</td><td>14046</td></tr><tr><td>208</td><td>22379</td></tr><tr><td>257</td><td>6887</td></tr><tr><td>384</td><td>5773</td></tr><tr><td>405</td><td>9192</td></tr><tr><td>138</td><td>2681</td></tr><tr><td>207</td><td>21473</td></tr><tr><td>498</td><td>23529</td></tr><tr><td>235</td><td>9748</td></tr><tr><td>304</td><td>24218</td></tr><tr><td>307</td><td>10066</td></tr><tr><td>462</td><td>6461</td></tr><tr><td>114</td><td>18980</td></tr><tr><td>434</td><td>21600</td></tr><tr><td>5</td><td>816</td></tr><tr><td>1</td><td>901</td></tr><tr><td>404</td><td>16120</td></tr><tr><td>153</td><td>14115</td></tr><tr><td>96</td><td>18748</td></tr><tr><td>250</td><td>21733</td></tr><tr><td>377</td><td>9775</td></tr><tr><td>328</td><td>18447</td></tr><tr><td>185</td><td>10043</td></tr><tr><td>349</td><td>6971</td></tr><tr><td>375</td><td>20466</td></tr><tr><td>104</td><td>7413</td></tr><tr><td>219</td><td>8124</td></tr><tr><td>368</td><td>7370</td></tr><tr><td>214</td><td>8584</td></tr><tr><td>449</td><td>8979</td></tr><tr><td>461</td><td>13188</td></tr><tr><td>419</td><td>22143</td></tr><tr><td>10</td><td>4045</td></tr><tr><td>120</td><td>8738</td></tr><tr><td>485</td><td>3351</td></tr><tr><td>500</td><td>8212</td></tr><tr><td>89</td><td>7617</td></tr><tr><td>364</td><td>1087</td></tr><tr><td>452</td><td>8657</td></tr><tr><td>356</td><td>13917</td></tr><tr><td>128</td><td>6379</td></tr><tr><td>197</td><td>13184</td></tr><tr><td>85</td><td>11569</td></tr><tr><td>111</td><td>4878</td></tr><tr><td>332</td><td>12265</td></tr><tr><td>301</td><td>11900</td></tr><tr><td>411</td><td>7538</td></tr><tr><td>177</td><td>12148</td></tr><tr><td>460</td><td>19962</td></tr><tr><td>306</td><td>1247</td></tr><tr><td>441</td><td>4087</td></tr><tr><td>448</td><td>23093</td></tr><tr><td>48</td><td>17055</td></tr><tr><td>67</td><td>2444</td></tr><tr><td>224</td><td>3745</td></tr><tr><td>142</td><td>1576</td></tr><tr><td>168</td><td>6494</td></tr><tr><td>254</td><td>27673</td></tr><tr><td>324</td><td>11031</td></tr><tr><td>481</td><td>13582</td></tr><tr><td>247</td><td>9482</td></tr><tr><td>467</td><td>21457</td></tr><tr><td>105</td><td>6381</td></tr><tr><td>131</td><td>10915</td></tr><tr><td>318</td><td>9396</td></tr><tr><td>294</td><td>1198</td></tr><tr><td>451</td><td>4977</td></tr><tr><td>108</td><td>5706</td></tr><tr><td>218</td><td>2239</td></tr><tr><td>333</td><td>3948</td></tr><tr><td>339</td><td>8618</td></tr><tr><td>44</td><td>6274</td></tr><tr><td>132</td><td>14832</td></tr><tr><td>309</td><td>7186</td></tr><tr><td>392</td><td>30997</td></tr><tr><td>471</td><td>19278</td></tr><tr><td>123</td><td>2691</td></tr><tr><td>127</td><td>5932</td></tr><tr><td>345</td><td>10739</td></tr><tr><td>210</td><td>2055</td></tr><tr><td>205</td><td>6124</td></tr><tr><td>225</td><td>10753</td></tr><tr><td>323</td><td>19979</td></tr><tr><td>352</td><td>6700</td></tr><tr><td>220</td><td>1447</td></tr><tr><td>249</td><td>11232</td></tr><tr><td>381</td><td>20076</td></tr><tr><td>383</td><td>17462</td></tr><tr><td>61</td><td>29292</td></tr><tr><td>303</td><td>4018</td></tr><tr><td>192</td><td>3188</td></tr><tr><td>213</td><td>27466</td></tr><tr><td>337</td><td>6532</td></tr><tr><td>440</td><td>16972</td></tr><tr><td>454</td><td>8929</td></tr><tr><td>473</td><td>8739</td></tr><tr><td>156</td><td>8377</td></tr><tr><td>429</td><td>6379</td></tr><tr><td>160</td><td>6109</td></tr><tr><td>283</td><td>30214</td></tr><tr><td>3</td><td>159</td></tr><tr><td>435</td><td>907</td></tr><tr><td>206</td><td>17630</td></tr><tr><td>382</td><td>14633</td></tr><tr><td>478</td><td>17378</td></tr><tr><td>482</td><td>10758</td></tr><tr><td>37</td><td>8308</td></tr><tr><td>101</td><td>5078</td></tr><tr><td>292</td><td>16141</td></tr><tr><td>362</td><td>9808</td></tr><tr><td>491</td><td>11830</td></tr><tr><td>12</td><td>4301</td></tr><tr><td>200</td><td>5388</td></tr><tr><td>295</td><td>17535</td></tr><tr><td>355</td><td>3090</td></tr><tr><td>141</td><td>9721</td></tr><tr><td>288</td><td>13568</td></tr><tr><td>55</td><td>7675</td></tr><tr><td>280</td><td>14859</td></tr><tr><td>322</td><td>12421</td></tr><tr><td>492</td><td>23281</td></tr><tr><td>62</td><td>10137</td></tr><tr><td>182</td><td>7190</td></tr><tr><td>334</td><td>21371</td></tr><tr><td>186</td><td>7690</td></tr><tr><td>331</td><td>6241</td></tr><tr><td>171</td><td>11518</td></tr><tr><td>480</td><td>3396</td></tr><tr><td>11</td><td>9288</td></tr><tr><td>49</td><td>20325</td></tr><tr><td>290</td><td>12799</td></tr><tr><td>437</td><td>21500</td></tr><tr><td>371</td><td>16049</td></tr><tr><td>166</td><td>6017</td></tr><tr><td>468</td><td>3474</td></tr><tr><td>80</td><td>7818</td></tr><tr><td>321</td><td>1467</td></tr><tr><td>400</td><td>19584</td></tr><tr><td>199</td><td>12520</td></tr><tr><td>477</td><td>6045</td></tr><tr><td>2</td><td>23912</td></tr><tr><td>465</td><td>10443</td></tr><tr><td>66</td><td>15040</td></tr><tr><td>154</td><td>27916</td></tr><tr><td>265</td><td>12774</td></tr><tr><td>432</td><td>4365</td></tr><tr><td>244</td><td>14255</td></tr><tr><td>344</td><td>7692</td></tr><tr><td>433</td><td>5121</td></tr><tr><td>164</td><td>37655</td></tr><tr><td>176</td><td>4165</td></tr><tr><td>360</td><td>22372</td></tr><tr><td>495</td><td>24708</td></tr><tr><td>134</td><td>18424</td></tr><tr><td>245</td><td>10111</td></tr><tr><td>329</td><td>9463</td></tr><tr><td>359</td><td>44436</td></tr><tr><td>422</td><td>9055</td></tr><tr><td>102</td><td>3991</td></tr><tr><td>175</td><td>2478</td></tr><tr><td>233</td><td>7182</td></tr><tr><td>92</td><td>5159</td></tr><tr><td>230</td><td>9148</td></tr><tr><td>391</td><td>4225</td></tr><tr><td>308</td><td>14079</td></tr><tr><td>118</td><td>3912</td></tr><tr><td>13</td><td>3898</td></tr><tr><td>272</td><td>16646</td></tr><tr><td>305</td><td>20349</td></tr><tr><td>36</td><td>6058</td></tr><tr><td>75</td><td>14493</td></tr><tr><td>302</td><td>3745</td></tr><tr><td>172</td><td>4426</td></tr><tr><td>78</td><td>1314</td></tr><tr><td>314</td><td>19481</td></tr><tr><td>408</td><td>10168</td></tr><tr><td>18</td><td>13820</td></tr><tr><td>125</td><td>8100</td></tr><tr><td>140</td><td>10323</td></tr><tr><td>298</td><td>3989</td></tr><tr><td>410</td><td>4466</td></tr><tr><td>289</td><td>12160</td></tr><tr><td>69</td><td>10114</td></tr><tr><td>475</td><td>25278</td></tr><tr><td>14</td><td>9203</td></tr><tr><td>374</td><td>9353</td></tr><tr><td>216</td><td>6907</td></tr><tr><td>286</td><td>14510</td></tr><tr><td>137</td><td>14185</td></tr><tr><td>173</td><td>12402</td></tr><tr><td>194</td><td>24805</td></tr><tr><td>21</td><td>86</td></tr><tr><td>135</td><td>22324</td></tr><tr><td>238</td><td>4287</td></tr><tr><td>59</td><td>9330</td></tr><tr><td>122</td><td>2142</td></tr><tr><td>129</td><td>7662</td></tr><tr><td>335</td><td>19363</td></tr><tr><td>393</td><td>3082</td></tr><tr><td>493</td><td>16091</td></tr><tr><td>15</td><td>6768</td></tr><tr><td>81</td><td>630</td></tr><tr><td>165</td><td>9768</td></tr><tr><td>223</td><td>12096</td></tr><tr><td>315</td><td>21416</td></tr><tr><td>195</td><td>20126</td></tr><tr><td>436</td><td>17561</td></tr><tr><td>82</td><td>25316</td></tr><tr><td>350</td><td>7681</td></tr><tr><td>472</td><td>16716</td></tr><tr><td>97</td><td>5617</td></tr><tr><td>133</td><td>10878</td></tr><tr><td>351</td><td>5195</td></tr><tr><td>470</td><td>2005</td></tr><tr><td>30</td><td>21224</td></tr><tr><td>151</td><td>508</td></tr><tr><td>401</td><td>5542</td></tr><tr><td>90</td><td>7352</td></tr><tr><td>159</td><td>1106</td></tr><tr><td>256</td><td>1813</td></tr><tr><td>457</td><td>6452</td></tr><tr><td>312</td><td>11235</td></tr><tr><td>338</td><td>17653</td></tr><tr><td>425</td><td>13632</td></tr><tr><td>445</td><td>15144</td></tr><tr><td>297</td><td>23241</td></tr><tr><td>23</td><td>10556</td></tr><tr><td>291</td><td>19287</td></tr><tr><td>121</td><td>6005</td></tr><tr><td>358</td><td>8599</td></tr><tr><td>409</td><td>18894</td></tr><tr><td>494</td><td>18700</td></tr><tr><td>20</td><td>5828</td></tr><tr><td>70</td><td>21086</td></tr><tr><td>479</td><td>4127</td></tr><tr><td>300</td><td>3287</td></tr><tr><td>444</td><td>18197</td></tr><tr><td>387</td><td>4</td></tr><tr><td>109</td><td>7395</td></tr><tr><td>354</td><td>8525</td></tr><tr><td>483</td><td>19411</td></tr><tr><td>476</td><td>1908</td></tr><tr><td>60</td><td>3103</td></tr><tr><td>189</td><td>16344</td></tr><tr><td>311</td><td>1279</td></tr><tr><td>93</td><td>12806</td></tr><tr><td>204</td><td>19224</td></tr><tr><td>251</td><td>1674</td></tr><tr><td>259</td><td>6034</td></tr><tr><td>366</td><td>9484</td></tr><tr><td>282</td><td>1225</td></tr><tr><td>285</td><td>23237</td></tr><tr><td>147</td><td>2735</td></tr><tr><td>183</td><td>28928</td></tr><tr><td>240</td><td>3080</td></tr><tr><td>263</td><td>15763</td></tr><tr><td>396</td><td>14530</td></tr><tr><td>16</td><td>7231</td></tr><tr><td>64</td><td>13194</td></tr><tr><td>281</td><td>32411</td></tr><tr><td>336</td><td>12811</td></tr><tr><td>91</td><td>15397</td></tr><tr><td>152</td><td>14495</td></tr><tr><td>267</td><td>9184</td></tr><tr><td>317</td><td>7249</td></tr><tr><td>357</td><td>8604</td></tr><tr><td>416</td><td>3203</td></tr><tr><td>261</td><td>8749</td></tr><tr><td>398</td><td>12654</td></tr><tr><td>45</td><td>4619</td></tr><tr><td>47</td><td>16560</td></tr><tr><td>53</td><td>6065</td></tr><tr><td>148</td><td>20196</td></tr><tr><td>394</td><td>5425</td></tr><tr><td>484</td><td>21857</td></tr><tr><td>169</td><td>36202</td></tr><tr><td>273</td><td>1812</td></tr><tr><td>24</td><td>10712</td></tr><tr><td>340</td><td>24250</td></tr><tr><td>456</td><td>4768</td></tr><tr><td>458</td><td>23188</td></tr><tr><td>211</td><td>29089</td></tr><tr><td>469</td><td>8619</td></tr></tbody></table></div>"
      ]
     },
     "metadata": {
      "application/vnd.databricks.v1+output": {
       "addedWidgets": {},
       "aggData": [],
       "aggError": "",
       "aggOverflow": false,
       "aggSchema": [],
       "aggSeriesLimitReached": false,
       "aggType": "",
       "arguments": {},
       "columnCustomDisplayInfos": {},
       "data": [
        [
         26,
         5568
        ],
        [
         29,
         11080
        ],
        [
         474,
         8178
        ],
        [
         65,
         11422
        ],
        [
         191,
         23250
        ],
        [
         418,
         22951
        ],
        [
         222,
         13582
        ],
        [
         270,
         10968
        ],
        [
         293,
         8144
        ],
        [
         243,
         39825
        ],
        [
         278,
         14811
        ],
        [
         367,
         18528
        ],
        [
         19,
         25922
        ],
        [
         54,
         13523
        ],
        [
         296,
         9866
        ],
        [
         277,
         2243
        ],
        [
         287,
         4027
        ],
        [
         348,
         15467
        ],
        [
         113,
         14351
        ],
        [
         155,
         2976
        ],
        [
         167,
         17267
        ],
        [
         385,
         12323
        ],
        [
         237,
         10565
        ],
        [
         241,
         7199
        ],
        [
         347,
         32
        ],
        [
         198,
         9213
        ],
        [
         330,
         2950
        ],
        [
         130,
         3996
        ],
        [
         196,
         15148
        ],
        [
         487,
         29741
        ],
        [
         7,
         2677
        ],
        [
         77,
         15893
        ],
        [
         34,
         7932
        ],
        [
         184,
         9467
        ],
        [
         463,
         4000
        ],
        [
         188,
         1495
        ],
        [
         399,
         1328
        ],
        [
         202,
         1008
        ],
        [
         228,
         7202
        ],
        [
         274,
         21648
        ],
        [
         262,
         8770
        ],
        [
         325,
         8986
        ],
        [
         406,
         25863
        ],
        [
         50,
         20234
        ],
        [
         94,
         14194
        ],
        [
         149,
         14866
        ],
        [
         421,
         24815
        ],
        [
         264,
         24126
        ],
        [
         229,
         22546
        ],
        [
         110,
         2618
        ],
        [
         190,
         19207
        ],
        [
         275,
         7721
        ],
        [
         343,
         10142
        ],
        [
         439,
         2646
        ],
        [
         57,
         9592
        ],
        [
         136,
         2304
        ],
        [
         144,
         3109
        ],
        [
         388,
         9750
        ],
        [
         412,
         6643
        ],
        [
         417,
         7652
        ],
        [
         32,
         5381
        ],
        [
         43,
         9472
        ],
        [
         420,
         8235
        ],
        [
         84,
         9395
        ],
        [
         378,
         8868
        ],
        [
         212,
         7675
        ],
        [
         31,
         36078
        ],
        [
         119,
         15864
        ],
        [
         326,
         8487
        ],
        [
         386,
         20366
        ],
        [
         450,
         2356
        ],
        [
         39,
         432
        ],
        [
         98,
         14903
        ],
        [
         187,
         25855
        ],
        [
         496,
         19338
        ],
        [
         201,
         4775
        ],
        [
         232,
         8653
        ],
        [
         402,
         2471
        ],
        [
         203,
         9628
        ],
        [
         145,
         9376
        ],
        [
         488,
         2761
        ],
        [
         25,
         19179
        ],
        [
         157,
         3917
        ],
        [
         124,
         5796
        ],
        [
         363,
         15539
        ],
        [
         95,
         4485
        ],
        [
         413,
         7335
        ],
        [
         71,
         8395
        ],
        [
         143,
         15382
        ],
        [
         370,
         10634
        ],
        [
         161,
         13468
        ],
        [
         193,
         21306
        ],
        [
         365,
         26770
        ],
        [
         443,
         17333
        ],
        [
         6,
         21078
        ],
        [
         68,
         18793
        ],
        [
         342,
         14885
        ],
        [
         72,
         10353
        ],
        [
         87,
         12004
        ],
        [
         215,
         13241
        ],
        [
         58,
         9629
        ],
        [
         258,
         3722
        ],
        [
         320,
         14722
        ],
        [
         107,
         5943
        ],
        [
         221,
         4016
        ],
        [
         266,
         15410
        ],
        [
         424,
         3348
        ],
        [
         9,
         18682
        ],
        [
         316,
         9612
        ],
        [
         27,
         11578
        ],
        [
         63,
         8128
        ],
        [
         158,
         4780
        ],
        [
         389,
         15845
        ],
        [
         397,
         12580
        ],
        [
         447,
         10877
        ],
        [
         51,
         6438
        ],
        [
         56,
         1761
        ],
        [
         178,
         29628
        ],
        [
         353,
         1439
        ],
        [
         234,
         15308
        ],
        [
         239,
         24652
        ],
        [
         150,
         5626
        ],
        [
         146,
         2493
        ],
        [
         346,
         24543
        ],
        [
         446,
         5832
        ],
        [
         459,
         6678
        ],
        [
         174,
         6654
        ],
        [
         17,
         12366
        ],
        [
         79,
         2961
        ],
        [
         170,
         16675
        ],
        [
         209,
         11517
        ],
        [
         103,
         9134
        ],
        [
         253,
         6940
        ],
        [
         276,
         12394
        ],
        [
         246,
         8357
        ],
        [
         242,
         9357
        ],
        [
         430,
         26265
        ],
        [
         453,
         25751
        ],
        [
         41,
         5034
        ],
        [
         28,
         10749
        ],
        [
         88,
         14046
        ],
        [
         208,
         22379
        ],
        [
         257,
         6887
        ],
        [
         384,
         5773
        ],
        [
         405,
         9192
        ],
        [
         138,
         2681
        ],
        [
         207,
         21473
        ],
        [
         498,
         23529
        ],
        [
         235,
         9748
        ],
        [
         304,
         24218
        ],
        [
         307,
         10066
        ],
        [
         462,
         6461
        ],
        [
         114,
         18980
        ],
        [
         434,
         21600
        ],
        [
         5,
         816
        ],
        [
         1,
         901
        ],
        [
         404,
         16120
        ],
        [
         153,
         14115
        ],
        [
         96,
         18748
        ],
        [
         250,
         21733
        ],
        [
         377,
         9775
        ],
        [
         328,
         18447
        ],
        [
         185,
         10043
        ],
        [
         349,
         6971
        ],
        [
         375,
         20466
        ],
        [
         104,
         7413
        ],
        [
         219,
         8124
        ],
        [
         368,
         7370
        ],
        [
         214,
         8584
        ],
        [
         449,
         8979
        ],
        [
         461,
         13188
        ],
        [
         419,
         22143
        ],
        [
         10,
         4045
        ],
        [
         120,
         8738
        ],
        [
         485,
         3351
        ],
        [
         500,
         8212
        ],
        [
         89,
         7617
        ],
        [
         364,
         1087
        ],
        [
         452,
         8657
        ],
        [
         356,
         13917
        ],
        [
         128,
         6379
        ],
        [
         197,
         13184
        ],
        [
         85,
         11569
        ],
        [
         111,
         4878
        ],
        [
         332,
         12265
        ],
        [
         301,
         11900
        ],
        [
         411,
         7538
        ],
        [
         177,
         12148
        ],
        [
         460,
         19962
        ],
        [
         306,
         1247
        ],
        [
         441,
         4087
        ],
        [
         448,
         23093
        ],
        [
         48,
         17055
        ],
        [
         67,
         2444
        ],
        [
         224,
         3745
        ],
        [
         142,
         1576
        ],
        [
         168,
         6494
        ],
        [
         254,
         27673
        ],
        [
         324,
         11031
        ],
        [
         481,
         13582
        ],
        [
         247,
         9482
        ],
        [
         467,
         21457
        ],
        [
         105,
         6381
        ],
        [
         131,
         10915
        ],
        [
         318,
         9396
        ],
        [
         294,
         1198
        ],
        [
         451,
         4977
        ],
        [
         108,
         5706
        ],
        [
         218,
         2239
        ],
        [
         333,
         3948
        ],
        [
         339,
         8618
        ],
        [
         44,
         6274
        ],
        [
         132,
         14832
        ],
        [
         309,
         7186
        ],
        [
         392,
         30997
        ],
        [
         471,
         19278
        ],
        [
         123,
         2691
        ],
        [
         127,
         5932
        ],
        [
         345,
         10739
        ],
        [
         210,
         2055
        ],
        [
         205,
         6124
        ],
        [
         225,
         10753
        ],
        [
         323,
         19979
        ],
        [
         352,
         6700
        ],
        [
         220,
         1447
        ],
        [
         249,
         11232
        ],
        [
         381,
         20076
        ],
        [
         383,
         17462
        ],
        [
         61,
         29292
        ],
        [
         303,
         4018
        ],
        [
         192,
         3188
        ],
        [
         213,
         27466
        ],
        [
         337,
         6532
        ],
        [
         440,
         16972
        ],
        [
         454,
         8929
        ],
        [
         473,
         8739
        ],
        [
         156,
         8377
        ],
        [
         429,
         6379
        ],
        [
         160,
         6109
        ],
        [
         283,
         30214
        ],
        [
         3,
         159
        ],
        [
         435,
         907
        ],
        [
         206,
         17630
        ],
        [
         382,
         14633
        ],
        [
         478,
         17378
        ],
        [
         482,
         10758
        ],
        [
         37,
         8308
        ],
        [
         101,
         5078
        ],
        [
         292,
         16141
        ],
        [
         362,
         9808
        ],
        [
         491,
         11830
        ],
        [
         12,
         4301
        ],
        [
         200,
         5388
        ],
        [
         295,
         17535
        ],
        [
         355,
         3090
        ],
        [
         141,
         9721
        ],
        [
         288,
         13568
        ],
        [
         55,
         7675
        ],
        [
         280,
         14859
        ],
        [
         322,
         12421
        ],
        [
         492,
         23281
        ],
        [
         62,
         10137
        ],
        [
         182,
         7190
        ],
        [
         334,
         21371
        ],
        [
         186,
         7690
        ],
        [
         331,
         6241
        ],
        [
         171,
         11518
        ],
        [
         480,
         3396
        ],
        [
         11,
         9288
        ],
        [
         49,
         20325
        ],
        [
         290,
         12799
        ],
        [
         437,
         21500
        ],
        [
         371,
         16049
        ],
        [
         166,
         6017
        ],
        [
         468,
         3474
        ],
        [
         80,
         7818
        ],
        [
         321,
         1467
        ],
        [
         400,
         19584
        ],
        [
         199,
         12520
        ],
        [
         477,
         6045
        ],
        [
         2,
         23912
        ],
        [
         465,
         10443
        ],
        [
         66,
         15040
        ],
        [
         154,
         27916
        ],
        [
         265,
         12774
        ],
        [
         432,
         4365
        ],
        [
         244,
         14255
        ],
        [
         344,
         7692
        ],
        [
         433,
         5121
        ],
        [
         164,
         37655
        ],
        [
         176,
         4165
        ],
        [
         360,
         22372
        ],
        [
         495,
         24708
        ],
        [
         134,
         18424
        ],
        [
         245,
         10111
        ],
        [
         329,
         9463
        ],
        [
         359,
         44436
        ],
        [
         422,
         9055
        ],
        [
         102,
         3991
        ],
        [
         175,
         2478
        ],
        [
         233,
         7182
        ],
        [
         92,
         5159
        ],
        [
         230,
         9148
        ],
        [
         391,
         4225
        ],
        [
         308,
         14079
        ],
        [
         118,
         3912
        ],
        [
         13,
         3898
        ],
        [
         272,
         16646
        ],
        [
         305,
         20349
        ],
        [
         36,
         6058
        ],
        [
         75,
         14493
        ],
        [
         302,
         3745
        ],
        [
         172,
         4426
        ],
        [
         78,
         1314
        ],
        [
         314,
         19481
        ],
        [
         408,
         10168
        ],
        [
         18,
         13820
        ],
        [
         125,
         8100
        ],
        [
         140,
         10323
        ],
        [
         298,
         3989
        ],
        [
         410,
         4466
        ],
        [
         289,
         12160
        ],
        [
         69,
         10114
        ],
        [
         475,
         25278
        ],
        [
         14,
         9203
        ],
        [
         374,
         9353
        ],
        [
         216,
         6907
        ],
        [
         286,
         14510
        ],
        [
         137,
         14185
        ],
        [
         173,
         12402
        ],
        [
         194,
         24805
        ],
        [
         21,
         86
        ],
        [
         135,
         22324
        ],
        [
         238,
         4287
        ],
        [
         59,
         9330
        ],
        [
         122,
         2142
        ],
        [
         129,
         7662
        ],
        [
         335,
         19363
        ],
        [
         393,
         3082
        ],
        [
         493,
         16091
        ],
        [
         15,
         6768
        ],
        [
         81,
         630
        ],
        [
         165,
         9768
        ],
        [
         223,
         12096
        ],
        [
         315,
         21416
        ],
        [
         195,
         20126
        ],
        [
         436,
         17561
        ],
        [
         82,
         25316
        ],
        [
         350,
         7681
        ],
        [
         472,
         16716
        ],
        [
         97,
         5617
        ],
        [
         133,
         10878
        ],
        [
         351,
         5195
        ],
        [
         470,
         2005
        ],
        [
         30,
         21224
        ],
        [
         151,
         508
        ],
        [
         401,
         5542
        ],
        [
         90,
         7352
        ],
        [
         159,
         1106
        ],
        [
         256,
         1813
        ],
        [
         457,
         6452
        ],
        [
         312,
         11235
        ],
        [
         338,
         17653
        ],
        [
         425,
         13632
        ],
        [
         445,
         15144
        ],
        [
         297,
         23241
        ],
        [
         23,
         10556
        ],
        [
         291,
         19287
        ],
        [
         121,
         6005
        ],
        [
         358,
         8599
        ],
        [
         409,
         18894
        ],
        [
         494,
         18700
        ],
        [
         20,
         5828
        ],
        [
         70,
         21086
        ],
        [
         479,
         4127
        ],
        [
         300,
         3287
        ],
        [
         444,
         18197
        ],
        [
         387,
         4
        ],
        [
         109,
         7395
        ],
        [
         354,
         8525
        ],
        [
         483,
         19411
        ],
        [
         476,
         1908
        ],
        [
         60,
         3103
        ],
        [
         189,
         16344
        ],
        [
         311,
         1279
        ],
        [
         93,
         12806
        ],
        [
         204,
         19224
        ],
        [
         251,
         1674
        ],
        [
         259,
         6034
        ],
        [
         366,
         9484
        ],
        [
         282,
         1225
        ],
        [
         285,
         23237
        ],
        [
         147,
         2735
        ],
        [
         183,
         28928
        ],
        [
         240,
         3080
        ],
        [
         263,
         15763
        ],
        [
         396,
         14530
        ],
        [
         16,
         7231
        ],
        [
         64,
         13194
        ],
        [
         281,
         32411
        ],
        [
         336,
         12811
        ],
        [
         91,
         15397
        ],
        [
         152,
         14495
        ],
        [
         267,
         9184
        ],
        [
         317,
         7249
        ],
        [
         357,
         8604
        ],
        [
         416,
         3203
        ],
        [
         261,
         8749
        ],
        [
         398,
         12654
        ],
        [
         45,
         4619
        ],
        [
         47,
         16560
        ],
        [
         53,
         6065
        ],
        [
         148,
         20196
        ],
        [
         394,
         5425
        ],
        [
         484,
         21857
        ],
        [
         169,
         36202
        ],
        [
         273,
         1812
        ],
        [
         24,
         10712
        ],
        [
         340,
         24250
        ],
        [
         456,
         4768
        ],
        [
         458,
         23188
        ],
        [
         211,
         29089
        ],
        [
         469,
         8619
        ]
       ],
       "datasetInfos": [],
       "dbfsResultPath": null,
       "isJsonSchema": true,
       "metadata": {},
       "overflow": false,
       "plotOptions": {
        "customPlotOptions": {},
        "displayType": "table",
        "pivotAggregation": null,
        "pivotColumns": null,
        "xColumns": null,
        "yColumns": null
       },
       "removedWidgets": [],
       "schema": [
        {
         "metadata": "{}",
         "name": "customer_id",
         "type": "\"long\""
        },
        {
         "metadata": "{}",
         "name": "total_scheduled_payments",
         "type": "\"long\""
        }
       ],
       "type": "table"
      }
     },
     "output_type": "display_data"
    }
   ],
   "source": [
    "# Create a Gold table for scheduled payments summary\n",
    "scheduled_payment_summary = silver_df.groupBy(\"customer_id\").agg(\n",
    "    sum(\"scheduled_payment\").alias(\"total_scheduled_payments\")\n",
    ")\n",
    "\n",
    "# Save the scheduled payment summary to Gold layer\n",
    "scheduled_payment_summary.write.format(\"delta\").mode(\"overwrite\").save(\"/mnt/gold/scheduled_payment_summary\")\n",
    "display(scheduled_payment_summary)"
   ]
  }
 ],
 "metadata": {
  "application/vnd.databricks.v1+notebook": {
   "dashboards": [],
   "environmentMetadata": null,
   "language": "python",
   "notebookMetadata": {
    "pythonIndentUnit": 4
   },
   "notebookName": "checking_account",
   "widgets": {}
  }
 },
 "nbformat": 4,
 "nbformat_minor": 0
}
